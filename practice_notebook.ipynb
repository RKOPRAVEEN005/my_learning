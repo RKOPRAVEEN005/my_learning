{
 "cells": [
  {
   "cell_type": "code",
   "execution_count": 1,
   "id": "b0b37d29-8e37-4280-8444-566d0c459985",
   "metadata": {},
   "outputs": [
    {
     "name": "stdout",
     "output_type": "stream",
     "text": [
      "()\n"
     ]
    }
   ],
   "source": [
    "empty_tuple = ()\n",
    "print(empty_tuple)"
   ]
  },
  {
   "cell_type": "markdown",
   "id": "5690e4ea-03a0-464b-8807-5737a374a651",
   "metadata": {},
   "source": [
    "sample_dictionary"
   ]
  },
  {
   "cell_type": "code",
   "execution_count": 12,
   "id": "f3135c9c-ecbc-497f-9776-d76e5b999c10",
   "metadata": {},
   "outputs": [
    {
     "name": "stdout",
     "output_type": "stream",
     "text": [
      "{'key': 'value'}\n"
     ]
    }
   ],
   "source": [
    "sample_dictionary={'key':'value'}\n",
    "print(sample_dictionary)"
   ]
  },
  {
   "cell_type": "code",
   "execution_count": 11,
   "id": "620b85ce-930e-4d02-82de-266063de112b",
   "metadata": {},
   "outputs": [
    {
     "name": "stdout",
     "output_type": "stream",
     "text": [
      "{}\n"
     ]
    }
   ],
   "source": [
    "empty_dictionary = {}\n",
    "print(empty_dictionary)\n",
    "\n"
   ]
  },
  {
   "cell_type": "code",
   "execution_count": 47,
   "id": "096e6177-b143-4bc1-8292-83accb054e83",
   "metadata": {},
   "outputs": [
    {
     "name": "stdout",
     "output_type": "stream",
     "text": [
      "1\n",
      "2\n",
      "34\n",
      "5\n",
      "2\n",
      "9009\n"
     ]
    }
   ],
   "source": [
    "empty_tuple1=(1,2,34,5)\n",
    "empty_tuple2=(2,9009)\n",
    "for i in empty_tuple1:\n",
    "    print(i)\n",
    "for e in empty_tuple2:\n",
    "   print(e)\n"
   ]
  },
  {
   "cell_type": "code",
   "execution_count": null,
   "id": "a096e710-90b1-42fa-8c8e-f5875d2fcc87",
   "metadata": {},
   "outputs": [],
   "source": []
  },
  {
   "cell_type": "markdown",
   "id": "6806e284-1e0a-4b94-9a12-63e50b4cdf76",
   "metadata": {},
   "source": [
    "example_dictionary"
   ]
  },
  {
   "cell_type": "code",
   "execution_count": null,
   "id": "6e95295e-040f-40a1-ac64-df61424b4623",
   "metadata": {},
   "outputs": [],
   "source": []
  },
  {
   "cell_type": "code",
   "execution_count": null,
   "id": "0492de87-3193-4327-a10f-375805460ee7",
   "metadata": {},
   "outputs": [],
   "source": [
    "get keys and value"
   ]
  },
  {
   "cell_type": "code",
   "execution_count": 26,
   "id": "58d3fce9-293c-497d-bb9f-c0e568a78feb",
   "metadata": {},
   "outputs": [
    {
     "name": "stdout",
     "output_type": "stream",
     "text": [
      "dict_keys(['name', 'qualification', 'year'])\n"
     ]
    }
   ],
   "source": [
    "print(example_dictionary.keys())"
   ]
  },
  {
   "cell_type": "code",
   "execution_count": 27,
   "id": "61397e29-0cd2-4a7d-b0dd-07d768832d93",
   "metadata": {},
   "outputs": [
    {
     "name": "stdout",
     "output_type": "stream",
     "text": [
      "dict_values([['praveen'], 'msc', '2024'])\n"
     ]
    }
   ],
   "source": [
    "print(example_dictionary.values())"
   ]
  },
  {
   "cell_type": "code",
   "execution_count": null,
   "id": "8efb0847-e765-4abe-8dfc-7f90eb59a656",
   "metadata": {},
   "outputs": [],
   "source": []
  },
  {
   "cell_type": "markdown",
   "id": "a006fb32-5cb5-4922-99da-455514eaad6a",
   "metadata": {},
   "source": [
    "add key value"
   ]
  },
  {
   "cell_type": "code",
   "execution_count": 16,
   "id": "bd1cae9f-5374-4a1f-9431-d26033837154",
   "metadata": {},
   "outputs": [
    {
     "name": "stdout",
     "output_type": "stream",
     "text": [
      "{'key1': 'value1', 'key2': 'value2', 'key3': 'value3'}\n"
     ]
    }
   ],
   "source": [
    "my_dictionary={'key1':'value1','key2':'value2'}\n",
    "my_dictionary['key3']='value3'\n",
    "print(my_dictionary)"
   ]
  },
  {
   "cell_type": "code",
   "execution_count": null,
   "id": "fa5f4f35-bf75-4880-b9c7-7adf956d9590",
   "metadata": {},
   "outputs": [],
   "source": []
  },
  {
   "cell_type": "code",
   "execution_count": null,
   "id": "4d11bc9b-ebe6-432d-bead-6b2ef6162695",
   "metadata": {},
   "outputs": [],
   "source": [
    "option 2"
   ]
  },
  {
   "cell_type": "code",
   "execution_count": 19,
   "id": "734693c0-347e-4053-9731-d6cc49b047f4",
   "metadata": {},
   "outputs": [
    {
     "name": "stdout",
     "output_type": "stream",
     "text": [
      "{'name1': 'praveen', 'name2': 'saran', 'name3': 'mari'}\n"
     ]
    }
   ],
   "source": [
    "my_dictionary={'name1':'praveen','name2':'saran'}\n",
    "my_dictionary.update({'name3':'mari'})\n",
    "print(my_dictionary)\n",
    "                      "
   ]
  },
  {
   "cell_type": "code",
   "execution_count": null,
   "id": "99e64168-d84c-4564-9bde-59668db369a5",
   "metadata": {},
   "outputs": [],
   "source": [
    "can we  add duplicate key in dictionary? no but value changes"
   ]
  },
  {
   "cell_type": "code",
   "execution_count": 35,
   "id": "6f991c93-83ed-44e3-9314-6df13e704659",
   "metadata": {},
   "outputs": [
    {
     "name": "stdout",
     "output_type": "stream",
     "text": [
      "{'key1': 'value2', 'key2': 'value2'}\n"
     ]
    }
   ],
   "source": [
    "my_dictionary={'key1':'value1','key2':'value2'}\n",
    "my_dictionary['key1']='value2'\n",
    "print(my_dictionary)"
   ]
  },
  {
   "cell_type": "code",
   "execution_count": 37,
   "id": "fb2b170f-5965-47f4-a879-4f45af606d82",
   "metadata": {},
   "outputs": [
    {
     "name": "stdout",
     "output_type": "stream",
     "text": [
      "{'key2': 'value2', 'key3': 'value3'}\n"
     ]
    }
   ],
   "source": [
    "my_dict={'key1':'value1','key2':'value2','key3':'value3'}\n",
    "del my_dict['key1']\n",
    "print(my_dict)"
   ]
  },
  {
   "cell_type": "markdown",
   "id": "ef6930b8-f01e-47e3-83c8-82a621b1b2ee",
   "metadata": {},
   "source": [
    "mutable"
   ]
  },
  {
   "cell_type": "code",
   "execution_count": 45,
   "id": "e41507e6-fdd1-40b5-ab6b-5685b5042613",
   "metadata": {},
   "outputs": [
    {
     "name": "stdout",
     "output_type": "stream",
     "text": [
      "{'key1': 'new value', 'key2': 'value2'}\n"
     ]
    }
   ],
   "source": [
    "my_dict = {'key1':'value1','key2':'value2'}\n",
    "my_dict['key1']='new value'\n",
    "print(my_dict)"
   ]
  },
  {
   "cell_type": "code",
   "execution_count": null,
   "id": "4af5fa79-766e-43be-843d-4fd4e92418a9",
   "metadata": {},
   "outputs": [],
   "source": [
    "itrable or not itrable"
   ]
  },
  {
   "cell_type": "code",
   "execution_count": 54,
   "id": "eb4a5741-ebc1-44b5-bd14-1be03fdefc2f",
   "metadata": {},
   "outputs": [
    {
     "name": "stdout",
     "output_type": "stream",
     "text": [
      "key1\n",
      "key2\n"
     ]
    }
   ],
   "source": [
    "my_dictionary={'key1':'value1','key2':'value2'}\n",
    "for i in my_dictionary:\n",
    " print(i)\n"
   ]
  },
  {
   "cell_type": "code",
   "execution_count": null,
   "id": "6f3649bd-4074-4dcc-9063-3aa9eb481883",
   "metadata": {},
   "outputs": [],
   "source": [
    "ordered"
   ]
  },
  {
   "cell_type": "code",
   "execution_count": 289,
   "id": "afd3dc3c-2ba9-4f58-8e22-5636c62e668c",
   "metadata": {},
   "outputs": [
    {
     "name": "stdout",
     "output_type": "stream",
     "text": [
      "{'key1': 'value1', 'key2': 'value2', 'key3': 'value3'}\n"
     ]
    }
   ],
   "source": [
    "my_dict={'key1':'value1','key2': 'value2','key3':'value3'}\n",
    "my_dict['key3']='value3'\n",
    "print(my_dict)"
   ]
  },
  {
   "cell_type": "code",
   "execution_count": null,
   "id": "772f557d-ba68-4e50-82b5-5fbca9a8b29e",
   "metadata": {},
   "outputs": [],
   "source": []
  },
  {
   "cell_type": "code",
   "execution_count": null,
   "id": "0cf717b8-2f08-4ca1-bacd-7d634cc5af9f",
   "metadata": {},
   "outputs": [],
   "source": []
  },
  {
   "cell_type": "markdown",
   "id": "87c8b069-faee-4d74-a2ba-9d2a93672a1c",
   "metadata": {},
   "source": [
    "empty tuple"
   ]
  },
  {
   "cell_type": "code",
   "execution_count": 65,
   "id": "8fba6c98-bd3a-4079-af35-0231ff2d261f",
   "metadata": {},
   "outputs": [
    {
     "name": "stdout",
     "output_type": "stream",
     "text": [
      "()\n"
     ]
    }
   ],
   "source": [
    "empty_tuple=()\n",
    "print(empty_tuple)\n"
   ]
  },
  {
   "cell_type": "code",
   "execution_count": null,
   "id": "7ea7d7d1-db9d-45ae-b444-8db3c0ab24ec",
   "metadata": {},
   "outputs": [],
   "source": [
    "immutaple"
   ]
  },
  {
   "cell_type": "code",
   "execution_count": 71,
   "id": "e21b4f9e-66b0-496f-af62-2c5f006fb1a5",
   "metadata": {},
   "outputs": [
    {
     "ename": "TypeError",
     "evalue": "'tuple' object does not support item assignment",
     "output_type": "error",
     "traceback": [
      "\u001b[1;31m---------------------------------------------------------------------------\u001b[0m",
      "\u001b[1;31mTypeError\u001b[0m                                 Traceback (most recent call last)",
      "Cell \u001b[1;32mIn[71], line 2\u001b[0m\n\u001b[0;32m      1\u001b[0m my_tuple\u001b[38;5;241m=\u001b[39m(\u001b[38;5;241m1\u001b[39m,\u001b[38;5;241m2\u001b[39m,\u001b[38;5;241m3\u001b[39m,\u001b[38;5;241m4\u001b[39m,\u001b[38;5;241m5\u001b[39m,\u001b[38;5;241m6\u001b[39m)\n\u001b[1;32m----> 2\u001b[0m \u001b[43mmy_tuple\u001b[49m\u001b[43m[\u001b[49m\u001b[38;5;241;43m2\u001b[39;49m\u001b[43m]\u001b[49m\u001b[38;5;241m=\u001b[39m\u001b[38;5;241m5\u001b[39m\n\u001b[0;32m      3\u001b[0m \u001b[38;5;28mprint\u001b[39m(my_tuple)\n",
      "\u001b[1;31mTypeError\u001b[0m: 'tuple' object does not support item assignment"
     ]
    }
   ],
   "source": [
    "my_tuple=(1,2,3,4,5,6)\n",
    "my_tuple[2]=5\n",
    "print(my_tuple)"
   ]
  },
  {
   "cell_type": "code",
   "execution_count": null,
   "id": "f6c17628-ade6-41ec-a748-9d002cb54547",
   "metadata": {},
   "outputs": [],
   "source": [
    "iterable"
   ]
  },
  {
   "cell_type": "code",
   "execution_count": 69,
   "id": "8d1b941d-91b0-4696-809d-ad3b35a04b09",
   "metadata": {},
   "outputs": [
    {
     "name": "stdout",
     "output_type": "stream",
     "text": [
      "1\n",
      "2\n",
      "3\n",
      "4\n",
      "5\n"
     ]
    }
   ],
   "source": [
    "my_tuple=(1,2,3,4,5)\n",
    "for i in my_tuple:\n",
    "    print(i)"
   ]
  },
  {
   "cell_type": "code",
   "execution_count": null,
   "id": "5ffb3652-bbd3-4c68-9d74-a0442d3e16e5",
   "metadata": {},
   "outputs": [],
   "source": [
    "ordered"
   ]
  },
  {
   "cell_type": "code",
   "execution_count": 85,
   "id": "42a72961-7cbf-477d-847a-648f49f8f216",
   "metadata": {},
   "outputs": [
    {
     "name": "stdout",
     "output_type": "stream",
     "text": [
      "(1, 2, 3, 4, 5, 6, 907, 1)\n"
     ]
    }
   ],
   "source": [
    "my_tuple = (1,2,3,4,5)\n",
    "new_tuple = my_tuple +(6,907,1)\n",
    "print(new_tuple)\n"
   ]
  },
  {
   "cell_type": "code",
   "execution_count": 88,
   "id": "07c87a20-b2d7-4394-8b59-9325b9a6fc0c",
   "metadata": {},
   "outputs": [
    {
     "ename": "TypeError",
     "evalue": "'tuple' object doesn't support item deletion",
     "output_type": "error",
     "traceback": [
      "\u001b[1;31m---------------------------------------------------------------------------\u001b[0m",
      "\u001b[1;31mTypeError\u001b[0m                                 Traceback (most recent call last)",
      "Cell \u001b[1;32mIn[88], line 2\u001b[0m\n\u001b[0;32m      1\u001b[0m my_tuple\u001b[38;5;241m=\u001b[39m(\u001b[38;5;241m1\u001b[39m,\u001b[38;5;241m2\u001b[39m,\u001b[38;5;241m3\u001b[39m,\u001b[38;5;241m4\u001b[39m,)\n\u001b[1;32m----> 2\u001b[0m \u001b[38;5;28;01mdel\u001b[39;00m \u001b[43mmy_tuple\u001b[49m\u001b[43m[\u001b[49m\u001b[38;5;241;43m3\u001b[39;49m\u001b[43m]\u001b[49m\n\u001b[0;32m      3\u001b[0m \u001b[38;5;28mprint\u001b[39m(my_tuple)\n",
      "\u001b[1;31mTypeError\u001b[0m: 'tuple' object doesn't support item deletion"
     ]
    }
   ],
   "source": [
    "my_tuple=(1,2,3,4,)\n",
    "del my_tuple[3]\n",
    "print(my_tuple)\n"
   ]
  },
  {
   "cell_type": "code",
   "execution_count": 96,
   "id": "231c2036-fd86-46b5-8e7d-cec59f533994",
   "metadata": {},
   "outputs": [
    {
     "ename": "SyntaxError",
     "evalue": "invalid syntax (1024164854.py, line 3)",
     "output_type": "error",
     "traceback": [
      "\u001b[1;36m  Cell \u001b[1;32mIn[96], line 3\u001b[1;36m\u001b[0m\n\u001b[1;33m    print(del my_tuple)\u001b[0m\n\u001b[1;37m          ^\u001b[0m\n\u001b[1;31mSyntaxError\u001b[0m\u001b[1;31m:\u001b[0m invalid syntax\n"
     ]
    }
   ],
   "source": [
    "my_tuple=(1,2,3,4,5)\n",
    "del my_tuple\n",
    "print( my_tuple)"
   ]
  },
  {
   "cell_type": "code",
   "execution_count": null,
   "id": "26134da7-4d86-4472-9ea4-bc3f153b227e",
   "metadata": {},
   "outputs": [],
   "source": []
  },
  {
   "cell_type": "code",
   "execution_count": null,
   "id": "f5e80d3f-52ef-40ba-bbcf-cf7cac2ff8a3",
   "metadata": {},
   "outputs": [],
   "source": []
  },
  {
   "cell_type": "code",
   "execution_count": 101,
   "id": "5e07ffc8-c9b4-415e-97bd-3aa65fbf341e",
   "metadata": {},
   "outputs": [
    {
     "ename": "TypeError",
     "evalue": "'tuple' object does not support item assignment",
     "output_type": "error",
     "traceback": [
      "\u001b[1;31m---------------------------------------------------------------------------\u001b[0m",
      "\u001b[1;31mTypeError\u001b[0m                                 Traceback (most recent call last)",
      "Cell \u001b[1;32mIn[101], line 2\u001b[0m\n\u001b[0;32m      1\u001b[0m var_4\u001b[38;5;241m=\u001b[39m \u001b[38;5;241m1\u001b[39m,\u001b[38;5;241m2\u001b[39m,\u001b[38;5;241m3\u001b[39m,\u001b[38;5;241m4\u001b[39m,\u001b[38;5;241m5\u001b[39m,\u001b[38;5;241m6\u001b[39m\n\u001b[1;32m----> 2\u001b[0m \u001b[43mvar_4\u001b[49m\u001b[43m[\u001b[49m\u001b[38;5;241;43m2\u001b[39;49m\u001b[43m]\u001b[49m\u001b[38;5;241m=\u001b[39m\u001b[38;5;241m8\u001b[39m\n\u001b[0;32m      3\u001b[0m \u001b[38;5;28mprint\u001b[39m(var_4)\n",
      "\u001b[1;31mTypeError\u001b[0m: 'tuple' object does not support item assignment"
     ]
    }
   ],
   "source": [
    "var_4= 1,2,3,4,5,6\n",
    "var_4[2]=8\n",
    "print(var_4)"
   ]
  },
  {
   "cell_type": "code",
   "execution_count": 103,
   "id": "da82ff68-479b-484e-855d-02c28c302f35",
   "metadata": {},
   "outputs": [
    {
     "ename": "TypeError",
     "evalue": "'tuple' object does not support item assignment",
     "output_type": "error",
     "traceback": [
      "\u001b[1;31m---------------------------------------------------------------------------\u001b[0m",
      "\u001b[1;31mTypeError\u001b[0m                                 Traceback (most recent call last)",
      "Cell \u001b[1;32mIn[103], line 2\u001b[0m\n\u001b[0;32m      1\u001b[0m sample_tuple\u001b[38;5;241m=\u001b[39m(\u001b[38;5;241m1\u001b[39m,\u001b[38;5;241m2\u001b[39m,\u001b[38;5;241m3\u001b[39m,\u001b[38;5;241m4\u001b[39m,\u001b[38;5;241m5\u001b[39m)\n\u001b[1;32m----> 2\u001b[0m \u001b[43msample_tuple\u001b[49m\u001b[43m[\u001b[49m\u001b[38;5;241;43m1\u001b[39;49m\u001b[43m]\u001b[49m\u001b[38;5;241m=\u001b[39m\u001b[38;5;241m12\u001b[39m\n\u001b[0;32m      3\u001b[0m \u001b[38;5;28mprint\u001b[39m(saple_tuple)\n",
      "\u001b[1;31mTypeError\u001b[0m: 'tuple' object does not support item assignment"
     ]
    }
   ],
   "source": [
    "sample_tuple=(1,2,3,4,5)\n",
    "sample_tuple[1]=12\n",
    "print(saple_tuple)"
   ]
  },
  {
   "cell_type": "code",
   "execution_count": null,
   "id": "cd86c9ef-2247-4458-9d80-48d1bef016f6",
   "metadata": {},
   "outputs": [],
   "source": []
  },
  {
   "cell_type": "code",
   "execution_count": 119,
   "id": "5b4f88f0-0bfc-4c63-8796-ee8f47c4efda",
   "metadata": {},
   "outputs": [
    {
     "ename": "SyntaxError",
     "evalue": "invalid syntax (3291334414.py, line 1)",
     "output_type": "error",
     "traceback": [
      "\u001b[1;36m  Cell \u001b[1;32mIn[119], line 1\u001b[1;36m\u001b[0m\n\u001b[1;33m    numb_gen=(numb $2 for numb in range (5))\u001b[0m\n\u001b[1;37m                   ^\u001b[0m\n\u001b[1;31mSyntaxError\u001b[0m\u001b[1;31m:\u001b[0m invalid syntax\n"
     ]
    }
   ],
   "source": [
    "numb_gen=(numb 2 for numb in range (5))\n",
    "for num in numb_gen:\n",
    "    print(num)"
   ]
  },
  {
   "cell_type": "markdown",
   "id": "038d7837-acf9-4b22-9486-7f5d2cc79ed1",
   "metadata": {},
   "source": [
    "#"
   ]
  },
  {
   "cell_type": "code",
   "execution_count": null,
   "id": "1af828f4-a590-420b-86f3-149490af722c",
   "metadata": {},
   "outputs": [],
   "source": []
  },
  {
   "cell_type": "code",
   "execution_count": 288,
   "id": "a5b6d2c2-8f49-4612-a91c-a72debb01e6c",
   "metadata": {},
   "outputs": [
    {
     "name": "stdout",
     "output_type": "stream",
     "text": [
      "{'name': ['praveen'], 'qualification': 'msc', 'year': '2024'}\n",
      "<class 'dict'>\n"
     ]
    }
   ],
   "source": [
    "my_dictionary={'key1':'value1','key2':'value'}\n",
    "my_dictionary['key1']='new_value'\n",
    "print(example_dictionary)\n",
    "print(type(my_dictionary))"
   ]
  },
  {
   "cell_type": "code",
   "execution_count": null,
   "id": "d0fdeafa-30f0-461d-a1ff-e3b9bf05dfdb",
   "metadata": {},
   "outputs": [],
   "source": []
  },
  {
   "cell_type": "markdown",
   "id": "6d1b4b46-b16f-419b-bcd3-e2872d4c2ae5",
   "metadata": {},
   "source": [
    "var_1=10\n",
    "print(var_1[2])"
   ]
  },
  {
   "cell_type": "code",
   "execution_count": 25,
   "id": "bc1d720b-cf97-40f7-9e65-bf5cb157a03e",
   "metadata": {},
   "outputs": [
    {
     "ename": "SyntaxError",
     "evalue": "invalid syntax (2297621274.py, line 3)",
     "output_type": "error",
     "traceback": [
      "\u001b[1;36m  Cell \u001b[1;32mIn[25], line 3\u001b[1;36m\u001b[0m\n\u001b[1;33m    resulte=(a-b-=a+b)\u001b[0m\n\u001b[1;37m                ^\u001b[0m\n\u001b[1;31mSyntaxError\u001b[0m\u001b[1;31m:\u001b[0m invalid syntax\n"
     ]
    }
   ],
   "source": [
    "\n",
    "print(resulte)"
   ]
  },
  {
   "cell_type": "code",
   "execution_count": null,
   "id": "7d4d2ae7-8c8c-4d79-a1c7-3f1914ab77ea",
   "metadata": {},
   "outputs": [],
   "source": []
  },
  {
   "cell_type": "code",
   "execution_count": 1,
   "id": "da846cee-4c0d-43ed-b6bb-de2c7e0084c1",
   "metadata": {},
   "outputs": [
    {
     "ename": "NameError",
     "evalue": "name 'c' is not defined",
     "output_type": "error",
     "traceback": [
      "\u001b[1;31m---------------------------------------------------------------------------\u001b[0m",
      "\u001b[1;31mNameError\u001b[0m                                 Traceback (most recent call last)",
      "Cell \u001b[1;32mIn[1], line 1\u001b[0m\n\u001b[1;32m----> 1\u001b[0m \u001b[43mc\u001b[49m                 \n",
      "\u001b[1;31mNameError\u001b[0m: name 'c' is not defined"
     ]
    }
   ],
   "source": [
    "c                 "
   ]
  },
  {
   "cell_type": "code",
   "execution_count": null,
   "id": "9ee4eb37",
   "metadata": {},
   "outputs": [],
   "source": []
  },
  {
   "cell_type": "code",
   "execution_count": 90,
   "id": "7e251548-3323-48ba-9991-9df8148ae1ab",
   "metadata": {},
   "outputs": [
    {
     "ename": "SyntaxError",
     "evalue": "invalid syntax (570979664.py, line 1)",
     "output_type": "error",
     "traceback": [
      "\u001b[1;36m  Cell \u001b[1;32mIn[90], line 1\u001b[1;36m\u001b[0m\n\u001b[1;33m    print(type(<>))\u001b[0m\n\u001b[1;37m               ^\u001b[0m\n\u001b[1;31mSyntaxError\u001b[0m\u001b[1;31m:\u001b[0m invalid syntax\n"
     ]
    }
   ],
   "source": [
    "\n",
    "\n"
   ]
  },
  {
   "cell_type": "code",
   "execution_count": null,
   "id": "510f31c5-d384-4252-bada-0b289f486918",
   "metadata": {},
   "outputs": [],
   "source": [
    "string immutable"
   ]
  },
  {
   "cell_type": "code",
   "execution_count": null,
   "id": "97242154-93d5-48d3-bbe1-651a7a6830ee",
   "metadata": {},
   "outputs": [],
   "source": []
  },
  {
   "cell_type": "code",
   "execution_count": 94,
   "id": "471bf23a-832a-4502-a852-0011035a1162",
   "metadata": {},
   "outputs": [
    {
     "ename": "TypeError",
     "evalue": "'str' object does not support item assignment",
     "output_type": "error",
     "traceback": [
      "\u001b[1;31m---------------------------------------------------------------------------\u001b[0m",
      "\u001b[1;31mTypeError\u001b[0m                                 Traceback (most recent call last)",
      "Cell \u001b[1;32mIn[94], line 2\u001b[0m\n\u001b[0;32m      1\u001b[0m name_list\u001b[38;5;241m=\u001b[39m\u001b[38;5;124m'\u001b[39m\u001b[38;5;124mq\u001b[39m\u001b[38;5;124m'\u001b[39m\n\u001b[1;32m----> 2\u001b[0m \u001b[43mname_list\u001b[49m\u001b[43m[\u001b[49m\u001b[38;5;241;43m0\u001b[39;49m\u001b[43m]\u001b[49m\u001b[38;5;241m=\u001b[39m\u001b[38;5;124m'\u001b[39m\u001b[38;5;124ma\u001b[39m\u001b[38;5;124m'\u001b[39m\n\u001b[0;32m      3\u001b[0m \u001b[38;5;28mprint\u001b[39m(name_list)\n",
      "\u001b[1;31mTypeError\u001b[0m: 'str' object does not support item assignment"
     ]
    }
   ],
   "source": [
    "name_list='q'\n",
    "name_list[0]='a'\n",
    "print(name_list)"
   ]
  },
  {
   "cell_type": "code",
   "execution_count": null,
   "id": "e836658a-6f88-468d-9517-53a397924a22",
   "metadata": {},
   "outputs": [],
   "source": [
    "iterable"
   ]
  },
  {
   "cell_type": "code",
   "execution_count": null,
   "id": "ee0a2167-f957-4c26-89ed-87becdb26b3b",
   "metadata": {},
   "outputs": [],
   "source": []
  },
  {
   "cell_type": "code",
   "execution_count": 137,
   "id": "8345589b-c4e7-4d72-aed8-f9fc9da6844b",
   "metadata": {},
   "outputs": [
    {
     "name": "stdout",
     "output_type": "stream",
     "text": [
      "{'name': 'praveen', 'rollnum': 'iva', 'class': 'msc'}\n"
     ]
    }
   ],
   "source": [
    "# dictionaray\n",
    "my_dictionary={'name':'praveen','rollnum':'p2021','class':'msc'}\n",
    "my_dictionary['rollnum']='iva'\n",
    "print(my_dictionary)\n"
   ]
  },
  {
   "cell_type": "code",
   "execution_count": 147,
   "id": "a9e07922-a98e-48a2-a7af-bd889c82bd4e",
   "metadata": {},
   "outputs": [
    {
     "name": "stdout",
     "output_type": "stream",
     "text": [
      "Praveen\n"
     ]
    }
   ],
   "source": [
    "print('PraveeN'. capitalize())"
   ]
  },
  {
   "cell_type": "code",
   "execution_count": 164,
   "id": "ee4cde6c-6e4a-4136-8096-fccb0779ecb0",
   "metadata": {},
   "outputs": [
    {
     "name": "stdout",
     "output_type": "stream",
     "text": [
      "pra7 mscmscmscmscmscmscmscmscmscmscmsc\n"
     ]
    }
   ],
   "source": [
    "print('pra7'*1,'msc'*11 "
   ]
  },
  {
   "cell_type": "code",
   "execution_count": 62,
   "id": "13919c4a-3d4b-465a-a4a0-04abb4aab4cb",
   "metadata": {},
   "outputs": [
    {
     "name": "stdout",
     "output_type": "stream",
     "text": [
      "name\n",
      "qualification\n",
      "print\n"
     ]
    }
   ],
   "source": [
    "example_dictionary={'name':'praveen','qualification':'msc','print':'total'}\n",
    "for i in example_dictionary:\n",
    " print(i)"
   ]
  },
  {
   "cell_type": "code",
   "execution_count": 72,
   "id": "3e8ca1ad-e532-4c62-bd94-3909cda748e6",
   "metadata": {},
   "outputs": [
    {
     "name": "stdout",
     "output_type": "stream",
     "text": [
      "dict_keys(['name', 'qualification', 'print'])\n"
     ]
    }
   ],
   "source": [
    "print  (example_dictionary.keys())"
   ]
  },
  {
   "cell_type": "code",
   "execution_count": 106,
   "id": "7511ed75-cca8-4c74-ae33-8ae24c3b9218",
   "metadata": {},
   "outputs": [
    {
     "name": "stdout",
     "output_type": "stream",
     "text": [
      "{'qualification': 'msc', 'print': 'total', 'rollnum': 'p202190'}\n"
     ]
    }
   ],
   "source": [
    "my_dict={'name':'praveen','qualification':'msc','print':'total'}\n",
    "del my_dict['name']\n",
    "my_dict.update({'rollnum':'p202190'})\n",
    "print(my_dict)"
   ]
  },
  {
   "cell_type": "code",
   "execution_count": 126,
   "id": "4ed51b71-e326-4ffb-b429-2e5138e04c89",
   "metadata": {},
   "outputs": [
    {
     "name": "stdout",
     "output_type": "stream",
     "text": [
      "new_tuple\n"
     ]
    }
   ],
   "source": [
    "my_tuple=(1,2,0,4,5)\n",
    "new_tuple=my_tuple+(3,)\n",
    "del new_tuple\n",
    "print('new_tuple')"
   ]
  },
  {
   "cell_type": "code",
   "execution_count": null,
   "id": "08becc35-c066-44ef-8fe6-8a2c1bebb723",
   "metadata": {},
   "outputs": [],
   "source": [
    "/"
   ]
  },
  {
   "cell_type": "code",
   "execution_count": 22,
   "id": "56d034c5-0d2d-42b8-98c5-c3874fee827d",
   "metadata": {},
   "outputs": [
    {
     "name": "stdout",
     "output_type": "stream",
     "text": [
      "3.5714285714285716\n"
     ]
    }
   ],
   "source": [
    "a=25\n",
    "b=7\n",
    "c=a/b\n",
    "print(c)"
   ]
  },
  {
   "cell_type": "code",
   "execution_count": null,
   "id": "66f86926-9686-4ac7-b991-cc655106105c",
   "metadata": {},
   "outputs": [],
   "source": []
  },
  {
   "cell_type": "code",
   "execution_count": null,
   "id": "9ab276f1-4398-4d0f-9eb7-ad9a4226238e",
   "metadata": {},
   "outputs": [],
   "source": [
    "%"
   ]
  },
  {
   "cell_type": "code",
   "execution_count": 19,
   "id": "1158dd5a-cb80-4fa8-baee-f618741547f6",
   "metadata": {},
   "outputs": [
    {
     "name": "stdout",
     "output_type": "stream",
     "text": [
      "7.0\n"
     ]
    }
   ],
   "source": [
    "a=25\n",
    "b=7\n",
    "c=b%c\n",
    "print(c)"
   ]
  },
  {
   "cell_type": "code",
   "execution_count": 52,
   "id": "566141a0-56eb-4227-9a07-170d9f0b2ce8",
   "metadata": {},
   "outputs": [
    {
     "name": "stdout",
     "output_type": "stream",
     "text": [
      "1538401\n"
     ]
    }
   ],
   "source": [
    "a=4853\n",
    "b=317\n",
    "c=a*b\n",
    "print(c)"
   ]
  },
  {
   "cell_type": "code",
   "execution_count": 91,
   "id": "18901171-6d88-4078-b980-537a4699011c",
   "metadata": {},
   "outputs": [
    {
     "name": "stdout",
     "output_type": "stream",
     "text": [
      "8\n"
     ]
    }
   ],
   "source": [
    "a=2\n",
    "i=3\n",
    "a**=i\n",
    "print(a)"
   ]
  },
  {
   "cell_type": "code",
   "execution_count": 18,
   "id": "d5d7fc8c-f717-425e-98fc-c7aa2d31ef04",
   "metadata": {},
   "outputs": [
    {
     "name": "stdout",
     "output_type": "stream",
     "text": [
      "-120\n"
     ]
    }
   ],
   "source": [
    "a=300\n",
    "b=420\n",
    "a-=b\n",
    "print(a)"
   ]
  },
  {
   "cell_type": "code",
   "execution_count": 53,
   "id": "551713c6-890b-4c4b-a290-99199449bc63",
   "metadata": {},
   "outputs": [
    {
     "name": "stdout",
     "output_type": "stream",
     "text": [
      "302\n",
      "202\n"
     ]
    }
   ],
   "source": [
    "a=302\n",
    "b=202\n",
    "print(a)\n",
    "print(b)"
   ]
  },
  {
   "cell_type": "markdown",
   "id": "dc449167-b6ff-4d98-9f2a-1d0e6ccfff0f",
   "metadata": {},
   "source": [
    "# map"
   ]
  },
  {
   "cell_type": "code",
   "execution_count": 19,
   "id": "aed285a4-689a-4135-acc7-062a3d889724",
   "metadata": {},
   "outputs": [
    {
     "name": "stdout",
     "output_type": "stream",
     "text": [
      "[0, 3, 6, 9, 12, 15, 18, 21, 24, 27, 30, 33]\n"
     ]
    }
   ],
   "source": [
    "temp_list=[i for i in range(12)]\n",
    "numbers_list=list(map(lambda x:x*3,temp_list))\n",
    "print(numbers_list)"
   ]
  },
  {
   "cell_type": "markdown",
   "id": "f9647aa6-3890-4f5f-bb07-be1ae5d78b3e",
   "metadata": {},
   "source": [
    "# zip"
   ]
  },
  {
   "cell_type": "code",
   "execution_count": 80,
   "id": "a545cec9-8d94-4bde-9a0d-8cd97afa791e",
   "metadata": {},
   "outputs": [
    {
     "name": "stdout",
     "output_type": "stream",
     "text": [
      "saran mani\n",
      "siva mani\n",
      "thil siva\n",
      "dive c\n"
     ]
    }
   ],
   "source": [
    "temp_list1=['mani','mani','siva','c']\n",
    "temp_list2=['saran','siva','thil','dive']\n",
    "for item1,item2 in zip(temp_list2,temp_list1,):\n",
    "    print(item1,item2)"
   ]
  },
  {
   "cell_type": "code",
   "execution_count": 85,
   "id": "9dde3858-592d-4c5a-b79d-08ea6a5a808f",
   "metadata": {},
   "outputs": [
    {
     "data": {
      "text/plain": [
       "'ravi:tharan'"
      ]
     },
     "execution_count": 85,
     "metadata": {},
     "output_type": "execute_result"
    }
   ],
   "source": [
    "tepm_list=['ravi','tharan']\n",
    "':'.join(tepm_list)\n"
   ]
  },
  {
   "cell_type": "code",
   "execution_count": 86,
   "id": "b2b4289b-79ef-408b-85bb-6249a54d9b29",
   "metadata": {},
   "outputs": [
    {
     "name": "stdout",
     "output_type": "stream",
     "text": [
      "siva 0\n",
      "mani 1\n",
      "arun 2\n"
     ]
    }
   ],
   "source": [
    "temp_list=['siva','mani','arun']\n",
    "for index,item in enumerate(temp_list):\n",
    "    print(item,index)"
   ]
  },
  {
   "cell_type": "code",
   "execution_count": null,
   "id": "63dbe65e-da3a-4d0b-a2ee-874251bf59d3",
   "metadata": {},
   "outputs": [],
   "source": []
  },
  {
   "cell_type": "code",
   "execution_count": 1,
   "id": "d044a69e-128e-49fe-a5dc-9e11560f8be3",
   "metadata": {},
   "outputs": [
    {
     "name": "stdout",
     "output_type": "stream",
     "text": [
      "hllo,world\n"
     ]
    }
   ],
   "source": [
    "print(\"hllo,world\")"
   ]
  },
  {
   "cell_type": "code",
   "execution_count": 6,
   "id": "cb33fbce-a196-4bec-8fbb-5e91b7527ff1",
   "metadata": {},
   "outputs": [
    {
     "name": "stdout",
     "output_type": "stream",
     "text": [
      "4\n",
      "140721753551752\n"
     ]
    }
   ],
   "source": [
    "var_1=4\n",
    "print(var_1)\n",
    "print(id(var_1))\n",
    "a"
   ]
  },
  {
   "cell_type": "code",
   "execution_count": 6,
   "id": "3d8d8c3d-6f93-4cf2-9544-67ad1622fe6e",
   "metadata": {},
   "outputs": [
    {
     "name": "stdout",
     "output_type": "stream",
     "text": [
      "{'key1': ('praveen',), 'key2': 'value2'}\n"
     ]
    }
   ],
   "source": [
    "empty_list={'key1':'value','key2':'value2','key4':'value3'}\n",
    "\n",
    "empty_list['key1']=('praveen',)\n",
    "del empty_list['key4']\n",
    "print(empty_list)\n",
    "\n",
    "\n",
    "\n"
   ]
  },
  {
   "cell_type": "code",
   "execution_count": 20,
   "id": "9a8335ff-d76f-4638-9556-646a391f639a",
   "metadata": {},
   "outputs": [
    {
     "name": "stdout",
     "output_type": "stream",
     "text": [
      "i 1\n",
      "new K\n",
      "new P\n",
      "new R\n",
      "new A\n",
      "new V\n",
      "new E\n",
      "new E\n",
      "new N\n",
      "i 2\n",
      "new K\n",
      "new P\n",
      "new R\n",
      "new A\n",
      "new V\n",
      "new E\n",
      "new E\n",
      "new N\n",
      "i 3\n",
      "new K\n",
      "new P\n",
      "new R\n",
      "new A\n",
      "new V\n",
      "new E\n",
      "new E\n",
      "new N\n",
      "i 4\n",
      "new K\n",
      "new P\n",
      "new R\n",
      "new A\n",
      "new V\n",
      "new E\n",
      "new E\n",
      "new N\n",
      "i 5\n",
      "new K\n",
      "new P\n",
      "new R\n",
      "new A\n",
      "new V\n",
      "new E\n",
      "new E\n",
      "new N\n",
      "i 6\n",
      "new K\n",
      "new P\n",
      "new R\n",
      "new A\n",
      "new V\n",
      "new E\n",
      "new E\n",
      "new N\n"
     ]
    }
   ],
   "source": [
    "list_example1=[1,2,3,4,5,6]\n",
    "list_example2=['K','P','R','A','V','E','E','N']\n",
    "for i in list_example1:\n",
    "  print('i',i)\n",
    "  for new in list_example2:\n",
    "      print('new',new)"
   ]
  },
  {
   "cell_type": "code",
   "execution_count": 2,
   "id": "7e4e3dd8-4112-4cd7-b756-5d2d118b812e",
   "metadata": {},
   "outputs": [
    {
     "name": "stdout",
     "output_type": "stream",
     "text": [
      "<class 'set'>\n"
     ]
    }
   ],
   "source": [
    "sample_list=set()\n",
    "print(type(sample_list))\n"
   ]
  },
  {
   "cell_type": "code",
   "execution_count": 5,
   "id": "0cbee8b7-0693-4751-837b-37fb269174d9",
   "metadata": {},
   "outputs": [
    {
     "name": "stdout",
     "output_type": "stream",
     "text": [
      "{1, 2, 3, 4, 5, 6, 7}\n"
     ]
    }
   ],
   "source": [
    "empty_list={1,2,3,4,6,6,7,7,5}\n",
    "print(empty_list)"
   ]
  },
  {
   "cell_type": "code",
   "execution_count": 21,
   "id": "0ecb7c3e-4546-4adb-ab65-b20b3bce7666",
   "metadata": {},
   "outputs": [
    {
     "name": "stdout",
     "output_type": "stream",
     "text": [
      "{1, 2, 3, 4, 5, 6, 7}\n"
     ]
    }
   ],
   "source": [
    "remove duplicate list number \n",
    "list_set=[1,2,3,4,5,6,7,5,8]\n",
    "unique_item=set(empty_list)\n",
    "print(unique_item)"
   ]
  },
  {
   "cell_type": "code",
   "execution_count": 24,
   "id": "9dd3237c-9797-409d-8dfc-a80c590a4b64",
   "metadata": {},
   "outputs": [
    {
     "name": "stdout",
     "output_type": "stream",
     "text": [
      "[1, 2, 3, 4, '59']\n"
     ]
    }
   ],
   "source": [
    "empty_set=[1,2,3,4,5]\n",
    "empty_set[4]='59'\n",
    "print(empty_set)\n"
   ]
  },
  {
   "cell_type": "code",
   "execution_count": 74,
   "id": "6bb6faa2-942e-49db-929e-168d6f3127e9",
   "metadata": {},
   "outputs": [
    {
     "name": "stdout",
     "output_type": "stream",
     "text": [
      "0 ajay\n",
      "1 arun\n",
      "2 praveen\n",
      "3 kalai\n",
      "4 mani\n"
     ]
    }
   ],
   "source": [
    "sample_list=['praveen','praveen','arun','mani','mani','ajay','arun','kalai']\n",
    "unique_item=set(sample_list)\n",
    "for index,item in enumerate(unique_item):\n",
    "   print(index,item)"
   ]
  },
  {
   "cell_type": "code",
   "execution_count": 26,
   "id": "16dbbba2-9240-4699-9453-1cabb98fda94",
   "metadata": {},
   "outputs": [
    {
     "name": "stdout",
     "output_type": "stream",
     "text": [
      "return type: <class 'type'>\n",
      "[(1, 'ready'), (2, 'go'), (3, 'run'), (4, 'fast')]\n",
      "[(24, 'high'), (25, 'ka')]\n"
     ]
    }
   ],
   "source": [
    "list1=['ready','go','run','fast']\n",
    "mini2=('high','ka')\n",
    "object1=enumerate(list1)\n",
    "object2=(mini2)\n",
    "print(\"return type:\",type(object))\n",
    "print(list(enumerate(list1,1)))\n",
    "print(list(enumerate(mini2,24)))\n"
   ]
  },
  {
   "cell_type": "code",
   "execution_count": 55,
   "id": "3f33464f-152d-4be6-af3b-8c99205cc099",
   "metadata": {},
   "outputs": [
    {
     "name": "stdout",
     "output_type": "stream",
     "text": [
      "(0, 'ready')\n",
      "(1, 'go')\n",
      "(2, 'run')\n",
      "(3, 'fast')\n",
      "ready 100\n",
      "go 101\n",
      "run 102\n",
      "fast 103\n"
     ]
    }
   ],
   "source": [
    "list1=['ready','go','run','fast']\n",
    "for ele in enumerate (list1):\n",
    " print(ele)\n",
    "#\n",
    "list1=['ready','go','run','fast']\n",
    "for count,ele  in enumerate(list1,100):\n",
    "    print(ele,count)"
   ]
  },
  {
   "cell_type": "code",
   "execution_count": null,
   "id": "6c736165-c475-47b8-813a-3e9763d62a82",
   "metadata": {},
   "outputs": [],
   "source": []
  },
  {
   "cell_type": "code",
   "execution_count": 58,
   "id": "e04c1562-11f2-4ed6-b3bb-d94a98641278",
   "metadata": {},
   "outputs": [
    {
     "name": "stdout",
     "output_type": "stream",
     "text": [
      "123.0\n"
     ]
    }
   ],
   "source": [
    "number=float(123)\n",
    "print(number)"
   ]
  },
  {
   "cell_type": "code",
   "execution_count": 61,
   "id": "13467df9-7724-4aa9-8435-ba3837dac00a",
   "metadata": {},
   "outputs": [
    {
     "name": "stdout",
     "output_type": "stream",
     "text": [
      "set()\n"
     ]
    }
   ],
   "source": [
    "empty_set=(1,2,3,4,5,6)\n",
    "print(set())"
   ]
  },
  {
   "cell_type": "code",
   "execution_count": 74,
   "id": "419c295c-a0ec-43b9-a5fe-8b4388fa0a1f",
   "metadata": {},
   "outputs": [
    {
     "ename": "IndentationError",
     "evalue": "unexpected indent (3300543784.py, line 3)",
     "output_type": "error",
     "traceback": [
      "\u001b[1;36m  Cell \u001b[1;32mIn[74], line 3\u001b[1;36m\u001b[0m\n\u001b[1;33m    print (i)\u001b[0m\n\u001b[1;37m    ^\u001b[0m\n\u001b[1;31mIndentationError\u001b[0m\u001b[1;31m:\u001b[0m unexpected indent\n"
     ]
    }
   ],
   "source": [
    "empty_set={1,2,3,4,5,6,7,8}\n",
    "i =(empty_set)\n",
    " print (i)"
   ]
  },
  {
   "cell_type": "code",
   "execution_count": 3,
   "id": "08a6f666-3171-4392-88d3-36f7ce6ca3c5",
   "metadata": {},
   "outputs": [
    {
     "name": "stdout",
     "output_type": "stream",
     "text": [
      "(1.2, 3.4, 6.5)\n"
     ]
    }
   ],
   "source": [
    "flot_number=(1.2,3.4,6.5)\n",
    "print(flot_number"
   ]
  },
  {
   "cell_type": "code",
   "execution_count": 23,
   "id": "61fc25eb-6c53-4128-aecd-9259b38d1455",
   "metadata": {},
   "outputs": [
    {
     "name": "stdout",
     "output_type": "stream",
     "text": [
      "2838562065792\n",
      "2838539815424\n",
      "id is same \n"
     ]
    }
   ],
   "source": [
    "a=[1,2,3,4,5,6]\n",
    "print(id(a))\n",
    "b=[1,2,3,4,5,6]\n",
    "print(id(b))\n",
    "if a is\n",
    "\n",
    "not b:\n",
    "    print('id is same ')\n",
    "else:\n",
    "    print('id is not same')\n",
    "    "
   ]
  },
  {
   "cell_type": "code",
   "execution_count": 30,
   "id": "27267e8a-7bf6-4eab-a68d-e786940efd0d",
   "metadata": {},
   "outputs": [
    {
     "name": "stdout",
     "output_type": "stream",
     "text": [
      "0.25\n"
     ]
    }
   ],
   "source": [
    "a=10\n",
    "b=40\n",
    "c=a/?-b\n",
    "print(c)"
   ]
  },
  {
   "cell_type": "code",
   "execution_count": null,
   "id": "21b4cede-7092-4f77-963f-e24dc32aea4f",
   "metadata": {},
   "outputs": [],
   "source": []
  }
 ],
 "metadata": {
  "kernelspec": {
   "display_name": "Python 3 (ipykernel)",
   "language": "python",
   "name": "python3"
  },
  "language_info": {
   "codemirror_mode": {
    "name": "ipython",
    "version": 3
   },
   "file_extension": ".py",
   "mimetype": "text/x-python",
   "name": "python",
   "nbconvert_exporter": "python",
   "pygments_lexer": "ipython3",
   "version": "3.11.2"
  }
 },
 "nbformat": 4,
 "nbformat_minor": 5
}
