{
 "cells": [
  {
   "cell_type": "code",
   "execution_count": 1,
   "id": "b0b37d29-8e37-4280-8444-566d0c459985",
   "metadata": {},
   "outputs": [
    {
     "name": "stdout",
     "output_type": "stream",
     "text": [
      "()\n"
     ]
    }
   ],
   "source": [
    "empty_tuple = ()\n",
    "print(empty_tuple)"
   ]
  },
  {
   "cell_type": "markdown",
   "id": "5690e4ea-03a0-464b-8807-5737a374a651",
   "metadata": {},
   "source": [
    "sample_dictionary"
   ]
  },
  {
   "cell_type": "code",
   "execution_count": 12,
   "id": "f3135c9c-ecbc-497f-9776-d76e5b999c10",
   "metadata": {},
   "outputs": [
    {
     "name": "stdout",
     "output_type": "stream",
     "text": [
      "{'key': 'value'}\n"
     ]
    }
   ],
   "source": [
    "sample_dictionary={'key':'value'}\n",
    "print(sample_dictionary)"
   ]
  },
  {
   "cell_type": "code",
   "execution_count": 11,
   "id": "620b85ce-930e-4d02-82de-266063de112b",
   "metadata": {},
   "outputs": [
    {
     "name": "stdout",
     "output_type": "stream",
     "text": [
      "{}\n"
     ]
    }
   ],
   "source": [
    "empty_dictionary = {}\n",
    "print(empty_dictionary)\n",
    "\n"
   ]
  },
  {
   "cell_type": "code",
   "execution_count": 47,
   "id": "096e6177-b143-4bc1-8292-83accb054e83",
   "metadata": {},
   "outputs": [
    {
     "name": "stdout",
     "output_type": "stream",
     "text": [
      "1\n",
      "2\n",
      "34\n",
      "5\n",
      "2\n",
      "9009\n"
     ]
    }
   ],
   "source": [
    "empty_tuple1=(1,2,34,5)\n",
    "empty_tuple2=(2,9009)\n",
    "for i in empty_tuple1:\n",
    "    print(i)\n",
    "for e in empty_tuple2:\n",
    "   print(e)\n"
   ]
  },
  {
   "cell_type": "code",
   "execution_count": null,
   "id": "a096e710-90b1-42fa-8c8e-f5875d2fcc87",
   "metadata": {},
   "outputs": [],
   "source": []
  },
  {
   "cell_type": "markdown",
   "id": "6806e284-1e0a-4b94-9a12-63e50b4cdf76",
   "metadata": {},
   "source": [
    "example_dictionary"
   ]
  },
  {
   "cell_type": "code",
   "execution_count": null,
   "id": "6e95295e-040f-40a1-ac64-df61424b4623",
   "metadata": {},
   "outputs": [],
   "source": []
  },
  {
   "cell_type": "code",
   "execution_count": null,
   "id": "0492de87-3193-4327-a10f-375805460ee7",
   "metadata": {},
   "outputs": [],
   "source": [
    "get keys and value"
   ]
  },
  {
   "cell_type": "code",
   "execution_count": 26,
   "id": "58d3fce9-293c-497d-bb9f-c0e568a78feb",
   "metadata": {},
   "outputs": [
    {
     "name": "stdout",
     "output_type": "stream",
     "text": [
      "dict_keys(['name', 'qualification', 'year'])\n"
     ]
    }
   ],
   "source": [
    "print(example_dictionary.keys())"
   ]
  },
  {
   "cell_type": "code",
   "execution_count": 27,
   "id": "61397e29-0cd2-4a7d-b0dd-07d768832d93",
   "metadata": {},
   "outputs": [
    {
     "name": "stdout",
     "output_type": "stream",
     "text": [
      "dict_values([['praveen'], 'msc', '2024'])\n"
     ]
    }
   ],
   "source": [
    "print(example_dictionary.values())"
   ]
  },
  {
   "cell_type": "code",
   "execution_count": null,
   "id": "8efb0847-e765-4abe-8dfc-7f90eb59a656",
   "metadata": {},
   "outputs": [],
   "source": []
  },
  {
   "cell_type": "markdown",
   "id": "a006fb32-5cb5-4922-99da-455514eaad6a",
   "metadata": {},
   "source": [
    "add key value"
   ]
  },
  {
   "cell_type": "code",
   "execution_count": 16,
   "id": "bd1cae9f-5374-4a1f-9431-d26033837154",
   "metadata": {},
   "outputs": [
    {
     "name": "stdout",
     "output_type": "stream",
     "text": [
      "{'key1': 'value1', 'key2': 'value2', 'key3': 'value3'}\n"
     ]
    }
   ],
   "source": [
    "my_dictionary={'key1':'value1','key2':'value2'}\n",
    "my_dictionary['key3']='value3'\n",
    "print(my_dictionary)"
   ]
  },
  {
   "cell_type": "code",
   "execution_count": null,
   "id": "fa5f4f35-bf75-4880-b9c7-7adf956d9590",
   "metadata": {},
   "outputs": [],
   "source": []
  },
  {
   "cell_type": "code",
   "execution_count": null,
   "id": "4d11bc9b-ebe6-432d-bead-6b2ef6162695",
   "metadata": {},
   "outputs": [],
   "source": [
    "option 2"
   ]
  },
  {
   "cell_type": "code",
   "execution_count": 19,
   "id": "734693c0-347e-4053-9731-d6cc49b047f4",
   "metadata": {},
   "outputs": [
    {
     "name": "stdout",
     "output_type": "stream",
     "text": [
      "{'name1': 'praveen', 'name2': 'saran', 'name3': 'mari'}\n"
     ]
    }
   ],
   "source": [
    "my_dictionary={'name1':'praveen','name2':'saran'}\n",
    "my_dictionary.update({'name3':'mari'})\n",
    "print(my_dictionary)\n",
    "                      "
   ]
  },
  {
   "cell_type": "code",
   "execution_count": null,
   "id": "99e64168-d84c-4564-9bde-59668db369a5",
   "metadata": {},
   "outputs": [],
   "source": [
    "can we  add duplicate key in dictionary? no but value changes"
   ]
  },
  {
   "cell_type": "code",
   "execution_count": 35,
   "id": "6f991c93-83ed-44e3-9314-6df13e704659",
   "metadata": {},
   "outputs": [
    {
     "name": "stdout",
     "output_type": "stream",
     "text": [
      "{'key1': 'value2', 'key2': 'value2'}\n"
     ]
    }
   ],
   "source": [
    "my_dictionary={'key1':'value1','key2':'value2'}\n",
    "my_dictionary['key1']='value2'\n",
    "print(my_dictionary)"
   ]
  },
  {
   "cell_type": "code",
   "execution_count": 37,
   "id": "fb2b170f-5965-47f4-a879-4f45af606d82",
   "metadata": {},
   "outputs": [
    {
     "name": "stdout",
     "output_type": "stream",
     "text": [
      "{'key2': 'value2', 'key3': 'value3'}\n"
     ]
    }
   ],
   "source": [
    "my_dict={'key1':'value1','key2':'value2','key3':'value3'}\n",
    "del my_dict['key1']\n",
    "print(my_dict)"
   ]
  },
  {
   "cell_type": "markdown",
   "id": "ef6930b8-f01e-47e3-83c8-82a621b1b2ee",
   "metadata": {},
   "source": [
    "mutable"
   ]
  },
  {
   "cell_type": "code",
   "execution_count": 45,
   "id": "e41507e6-fdd1-40b5-ab6b-5685b5042613",
   "metadata": {},
   "outputs": [
    {
     "name": "stdout",
     "output_type": "stream",
     "text": [
      "{'key1': 'new value', 'key2': 'value2'}\n"
     ]
    }
   ],
   "source": [
    "my_dict = {'key1':'value1','key2':'value2'}\n",
    "my_dict['key1']='new value'\n",
    "print(my_dict)"
   ]
  },
  {
   "cell_type": "code",
   "execution_count": null,
   "id": "4af5fa79-766e-43be-843d-4fd4e92418a9",
   "metadata": {},
   "outputs": [],
   "source": [
    "itrable or not itrable"
   ]
  },
  {
   "cell_type": "code",
   "execution_count": 54,
   "id": "eb4a5741-ebc1-44b5-bd14-1be03fdefc2f",
   "metadata": {},
   "outputs": [
    {
     "name": "stdout",
     "output_type": "stream",
     "text": [
      "key1\n",
      "key2\n"
     ]
    }
   ],
   "source": [
    "my_dictionary={'key1':'value1','key2':'value2'}\n",
    "for i in my_dictionary:\n",
    " print(i)\n"
   ]
  },
  {
   "cell_type": "code",
   "execution_count": null,
   "id": "6f3649bd-4074-4dcc-9063-3aa9eb481883",
   "metadata": {},
   "outputs": [],
   "source": [
    "ordered"
   ]
  },
  {
   "cell_type": "code",
   "execution_count": 289,
   "id": "afd3dc3c-2ba9-4f58-8e22-5636c62e668c",
   "metadata": {},
   "outputs": [
    {
     "name": "stdout",
     "output_type": "stream",
     "text": [
      "{'key1': 'value1', 'key2': 'value2', 'key3': 'value3'}\n"
     ]
    }
   ],
   "source": [
    "my_dict={'key1':'value1','key2': 'value2','key3':'value3'}\n",
    "my_dict['key3']='value3'\n",
    "print(my_dict)"
   ]
  },
  {
   "cell_type": "code",
   "execution_count": null,
   "id": "772f557d-ba68-4e50-82b5-5fbca9a8b29e",
   "metadata": {},
   "outputs": [],
   "source": []
  },
  {
   "cell_type": "code",
   "execution_count": null,
   "id": "0cf717b8-2f08-4ca1-bacd-7d634cc5af9f",
   "metadata": {},
   "outputs": [],
   "source": []
  },
  {
   "cell_type": "markdown",
   "id": "87c8b069-faee-4d74-a2ba-9d2a93672a1c",
   "metadata": {},
   "source": [
    "empty tuple"
   ]
  },
  {
   "cell_type": "code",
   "execution_count": 15,
   "id": "8fba6c98-bd3a-4079-af35-0231ff2d261f",
   "metadata": {},
   "outputs": [
    {
     "ename": "TypeError",
     "evalue": "set expected at most 1 argument, got 4",
     "output_type": "error",
     "traceback": [
      "\u001b[1;31m---------------------------------------------------------------------------\u001b[0m",
      "\u001b[1;31mTypeError\u001b[0m                                 Traceback (most recent call last)",
      "Cell \u001b[1;32mIn[15], line 1\u001b[0m\n\u001b[1;32m----> 1\u001b[0m empty_tuple\u001b[38;5;241m=\u001b[39m\u001b[38;5;28;43mset\u001b[39;49m\u001b[43m(\u001b[49m\u001b[38;5;241;43m1\u001b[39;49m\u001b[43m,\u001b[49m\u001b[38;5;241;43m2\u001b[39;49m\u001b[43m,\u001b[49m\u001b[38;5;241;43m3\u001b[39;49m\u001b[43m,\u001b[49m\u001b[38;5;241;43m4\u001b[39;49m\u001b[43m)\u001b[49m\n\u001b[0;32m      2\u001b[0m \u001b[38;5;28mprint\u001b[39m(\u001b[38;5;28mtype\u001b[39m(empty_tuple))\n\u001b[0;32m      3\u001b[0m \u001b[38;5;28mprint\u001b[39m(empty_tuple)\n",
      "\u001b[1;31mTypeError\u001b[0m: set expected at most 1 argument, got 4"
     ]
    }
   ],
   "source": [
    "empty_tuple=(1,2,3,4)\n",
    "print(type(empty_tuple))\n",
    "print(empty_tuple)\n",
    "\n"
   ]
  },
  {
   "cell_type": "code",
   "execution_count": null,
   "id": "7ea7d7d1-db9d-45ae-b444-8db3c0ab24ec",
   "metadata": {},
   "outputs": [],
   "source": [
    "immutaple"
   ]
  },
  {
   "cell_type": "code",
   "execution_count": 71,
   "id": "e21b4f9e-66b0-496f-af62-2c5f006fb1a5",
   "metadata": {},
   "outputs": [
    {
     "ename": "TypeError",
     "evalue": "'tuple' object does not support item assignment",
     "output_type": "error",
     "traceback": [
      "\u001b[1;31m---------------------------------------------------------------------------\u001b[0m",
      "\u001b[1;31mTypeError\u001b[0m                                 Traceback (most recent call last)",
      "Cell \u001b[1;32mIn[71], line 2\u001b[0m\n\u001b[0;32m      1\u001b[0m my_tuple\u001b[38;5;241m=\u001b[39m(\u001b[38;5;241m1\u001b[39m,\u001b[38;5;241m2\u001b[39m,\u001b[38;5;241m3\u001b[39m,\u001b[38;5;241m4\u001b[39m,\u001b[38;5;241m5\u001b[39m,\u001b[38;5;241m6\u001b[39m)\n\u001b[1;32m----> 2\u001b[0m \u001b[43mmy_tuple\u001b[49m\u001b[43m[\u001b[49m\u001b[38;5;241;43m2\u001b[39;49m\u001b[43m]\u001b[49m\u001b[38;5;241m=\u001b[39m\u001b[38;5;241m5\u001b[39m\n\u001b[0;32m      3\u001b[0m \u001b[38;5;28mprint\u001b[39m(my_tuple)\n",
      "\u001b[1;31mTypeError\u001b[0m: 'tuple' object does not support item assignment"
     ]
    }
   ],
   "source": [
    "my_tuple=(1,2,3,4,5,6)\n",
    "my_tuple[2]=5\n",
    "print(my_tuple)"
   ]
  },
  {
   "cell_type": "code",
   "execution_count": null,
   "id": "f6c17628-ade6-41ec-a748-9d002cb54547",
   "metadata": {},
   "outputs": [],
   "source": [
    "iterable"
   ]
  },
  {
   "cell_type": "code",
   "execution_count": 69,
   "id": "8d1b941d-91b0-4696-809d-ad3b35a04b09",
   "metadata": {},
   "outputs": [
    {
     "name": "stdout",
     "output_type": "stream",
     "text": [
      "1\n",
      "2\n",
      "3\n",
      "4\n",
      "5\n"
     ]
    }
   ],
   "source": [
    "my_tuple=(1,2,3,4,5)\n",
    "for i in my_tuple:\n",
    "    print(i)"
   ]
  },
  {
   "cell_type": "code",
   "execution_count": null,
   "id": "5ffb3652-bbd3-4c68-9d74-a0442d3e16e5",
   "metadata": {},
   "outputs": [],
   "source": [
    "ordered"
   ]
  },
  {
   "cell_type": "code",
   "execution_count": 85,
   "id": "42a72961-7cbf-477d-847a-648f49f8f216",
   "metadata": {},
   "outputs": [
    {
     "name": "stdout",
     "output_type": "stream",
     "text": [
      "(1, 2, 3, 4, 5, 6, 907, 1)\n"
     ]
    }
   ],
   "source": [
    "my_tuple = (1,2,3,4,5)\n",
    "new_tuple = my_tuple +(6,907,1)\n",
    "print(new_tuple)\n"
   ]
  },
  {
   "cell_type": "code",
   "execution_count": 88,
   "id": "07c87a20-b2d7-4394-8b59-9325b9a6fc0c",
   "metadata": {},
   "outputs": [
    {
     "ename": "TypeError",
     "evalue": "'tuple' object doesn't support item deletion",
     "output_type": "error",
     "traceback": [
      "\u001b[1;31m---------------------------------------------------------------------------\u001b[0m",
      "\u001b[1;31mTypeError\u001b[0m                                 Traceback (most recent call last)",
      "Cell \u001b[1;32mIn[88], line 2\u001b[0m\n\u001b[0;32m      1\u001b[0m my_tuple\u001b[38;5;241m=\u001b[39m(\u001b[38;5;241m1\u001b[39m,\u001b[38;5;241m2\u001b[39m,\u001b[38;5;241m3\u001b[39m,\u001b[38;5;241m4\u001b[39m,)\n\u001b[1;32m----> 2\u001b[0m \u001b[38;5;28;01mdel\u001b[39;00m \u001b[43mmy_tuple\u001b[49m\u001b[43m[\u001b[49m\u001b[38;5;241;43m3\u001b[39;49m\u001b[43m]\u001b[49m\n\u001b[0;32m      3\u001b[0m \u001b[38;5;28mprint\u001b[39m(my_tuple)\n",
      "\u001b[1;31mTypeError\u001b[0m: 'tuple' object doesn't support item deletion"
     ]
    }
   ],
   "source": [
    "my_tuple=(1,2,3,4,)\n",
    "del my_tuple[3]\n",
    "print(my_tuple)\n"
   ]
  },
  {
   "cell_type": "code",
   "execution_count": 96,
   "id": "231c2036-fd86-46b5-8e7d-cec59f533994",
   "metadata": {},
   "outputs": [
    {
     "ename": "SyntaxError",
     "evalue": "invalid syntax (1024164854.py, line 3)",
     "output_type": "error",
     "traceback": [
      "\u001b[1;36m  Cell \u001b[1;32mIn[96], line 3\u001b[1;36m\u001b[0m\n\u001b[1;33m    print(del my_tuple)\u001b[0m\n\u001b[1;37m          ^\u001b[0m\n\u001b[1;31mSyntaxError\u001b[0m\u001b[1;31m:\u001b[0m invalid syntax\n"
     ]
    }
   ],
   "source": [
    "my_tuple=(1,2,3,4,5)\n",
    "del my_tuple\n",
    "print( my_tuple)"
   ]
  },
  {
   "cell_type": "code",
   "execution_count": null,
   "id": "26134da7-4d86-4472-9ea4-bc3f153b227e",
   "metadata": {},
   "outputs": [],
   "source": []
  },
  {
   "cell_type": "code",
   "execution_count": null,
   "id": "f5e80d3f-52ef-40ba-bbcf-cf7cac2ff8a3",
   "metadata": {},
   "outputs": [],
   "source": []
  },
  {
   "cell_type": "code",
   "execution_count": 101,
   "id": "5e07ffc8-c9b4-415e-97bd-3aa65fbf341e",
   "metadata": {},
   "outputs": [
    {
     "ename": "TypeError",
     "evalue": "'tuple' object does not support item assignment",
     "output_type": "error",
     "traceback": [
      "\u001b[1;31m---------------------------------------------------------------------------\u001b[0m",
      "\u001b[1;31mTypeError\u001b[0m                                 Traceback (most recent call last)",
      "Cell \u001b[1;32mIn[101], line 2\u001b[0m\n\u001b[0;32m      1\u001b[0m var_4\u001b[38;5;241m=\u001b[39m \u001b[38;5;241m1\u001b[39m,\u001b[38;5;241m2\u001b[39m,\u001b[38;5;241m3\u001b[39m,\u001b[38;5;241m4\u001b[39m,\u001b[38;5;241m5\u001b[39m,\u001b[38;5;241m6\u001b[39m\n\u001b[1;32m----> 2\u001b[0m \u001b[43mvar_4\u001b[49m\u001b[43m[\u001b[49m\u001b[38;5;241;43m2\u001b[39;49m\u001b[43m]\u001b[49m\u001b[38;5;241m=\u001b[39m\u001b[38;5;241m8\u001b[39m\n\u001b[0;32m      3\u001b[0m \u001b[38;5;28mprint\u001b[39m(var_4)\n",
      "\u001b[1;31mTypeError\u001b[0m: 'tuple' object does not support item assignment"
     ]
    }
   ],
   "source": [
    "var_4= 1,2,3,4,5,6\n",
    "var_4[2]=8\n",
    "print(var_4)"
   ]
  },
  {
   "cell_type": "code",
   "execution_count": 103,
   "id": "da82ff68-479b-484e-855d-02c28c302f35",
   "metadata": {},
   "outputs": [
    {
     "ename": "TypeError",
     "evalue": "'tuple' object does not support item assignment",
     "output_type": "error",
     "traceback": [
      "\u001b[1;31m---------------------------------------------------------------------------\u001b[0m",
      "\u001b[1;31mTypeError\u001b[0m                                 Traceback (most recent call last)",
      "Cell \u001b[1;32mIn[103], line 2\u001b[0m\n\u001b[0;32m      1\u001b[0m sample_tuple\u001b[38;5;241m=\u001b[39m(\u001b[38;5;241m1\u001b[39m,\u001b[38;5;241m2\u001b[39m,\u001b[38;5;241m3\u001b[39m,\u001b[38;5;241m4\u001b[39m,\u001b[38;5;241m5\u001b[39m)\n\u001b[1;32m----> 2\u001b[0m \u001b[43msample_tuple\u001b[49m\u001b[43m[\u001b[49m\u001b[38;5;241;43m1\u001b[39;49m\u001b[43m]\u001b[49m\u001b[38;5;241m=\u001b[39m\u001b[38;5;241m12\u001b[39m\n\u001b[0;32m      3\u001b[0m \u001b[38;5;28mprint\u001b[39m(saple_tuple)\n",
      "\u001b[1;31mTypeError\u001b[0m: 'tuple' object does not support item assignment"
     ]
    }
   ],
   "source": [
    "sample_tuple=(1,2,3,4,5)\n",
    "sample_tuple[1]=12\n",
    "print(saple_tuple)"
   ]
  },
  {
   "cell_type": "code",
   "execution_count": null,
   "id": "cd86c9ef-2247-4458-9d80-48d1bef016f6",
   "metadata": {},
   "outputs": [],
   "source": []
  },
  {
   "cell_type": "code",
   "execution_count": 119,
   "id": "5b4f88f0-0bfc-4c63-8796-ee8f47c4efda",
   "metadata": {},
   "outputs": [
    {
     "ename": "SyntaxError",
     "evalue": "invalid syntax (3291334414.py, line 1)",
     "output_type": "error",
     "traceback": [
      "\u001b[1;36m  Cell \u001b[1;32mIn[119], line 1\u001b[1;36m\u001b[0m\n\u001b[1;33m    numb_gen=(numb $2 for numb in range (5))\u001b[0m\n\u001b[1;37m                   ^\u001b[0m\n\u001b[1;31mSyntaxError\u001b[0m\u001b[1;31m:\u001b[0m invalid syntax\n"
     ]
    }
   ],
   "source": [
    "numb_gen=(numb 2 for numb in range (5))\n",
    "for num in numb_gen:\n",
    "    print(num)"
   ]
  },
  {
   "cell_type": "markdown",
   "id": "038d7837-acf9-4b22-9486-7f5d2cc79ed1",
   "metadata": {},
   "source": [
    "#"
   ]
  },
  {
   "cell_type": "code",
   "execution_count": null,
   "id": "1af828f4-a590-420b-86f3-149490af722c",
   "metadata": {},
   "outputs": [],
   "source": []
  },
  {
   "cell_type": "code",
   "execution_count": 288,
   "id": "a5b6d2c2-8f49-4612-a91c-a72debb01e6c",
   "metadata": {},
   "outputs": [
    {
     "name": "stdout",
     "output_type": "stream",
     "text": [
      "{'name': ['praveen'], 'qualification': 'msc', 'year': '2024'}\n",
      "<class 'dict'>\n"
     ]
    }
   ],
   "source": [
    "my_dictionary={'key1':'value1','key2':'value'}\n",
    "my_dictionary['key1']='new_value'\n",
    "print(example_dictionary)\n",
    "print(type(my_dictionary))"
   ]
  },
  {
   "cell_type": "code",
   "execution_count": null,
   "id": "d0fdeafa-30f0-461d-a1ff-e3b9bf05dfdb",
   "metadata": {},
   "outputs": [],
   "source": []
  },
  {
   "cell_type": "markdown",
   "id": "6d1b4b46-b16f-419b-bcd3-e2872d4c2ae5",
   "metadata": {},
   "source": [
    "var_1=10\n",
    "print(var_1[2])"
   ]
  },
  {
   "cell_type": "code",
   "execution_count": 25,
   "id": "bc1d720b-cf97-40f7-9e65-bf5cb157a03e",
   "metadata": {},
   "outputs": [
    {
     "ename": "SyntaxError",
     "evalue": "invalid syntax (2297621274.py, line 3)",
     "output_type": "error",
     "traceback": [
      "\u001b[1;36m  Cell \u001b[1;32mIn[25], line 3\u001b[1;36m\u001b[0m\n\u001b[1;33m    resulte=(a-b-=a+b)\u001b[0m\n\u001b[1;37m                ^\u001b[0m\n\u001b[1;31mSyntaxError\u001b[0m\u001b[1;31m:\u001b[0m invalid syntax\n"
     ]
    }
   ],
   "source": [
    "\n",
    "print(resulte)"
   ]
  },
  {
   "cell_type": "code",
   "execution_count": null,
   "id": "7d4d2ae7-8c8c-4d79-a1c7-3f1914ab77ea",
   "metadata": {},
   "outputs": [],
   "source": []
  },
  {
   "cell_type": "code",
   "execution_count": 1,
   "id": "da846cee-4c0d-43ed-b6bb-de2c7e0084c1",
   "metadata": {},
   "outputs": [
    {
     "ename": "NameError",
     "evalue": "name 'c' is not defined",
     "output_type": "error",
     "traceback": [
      "\u001b[1;31m---------------------------------------------------------------------------\u001b[0m",
      "\u001b[1;31mNameError\u001b[0m                                 Traceback (most recent call last)",
      "Cell \u001b[1;32mIn[1], line 1\u001b[0m\n\u001b[1;32m----> 1\u001b[0m \u001b[43mc\u001b[49m                 \n",
      "\u001b[1;31mNameError\u001b[0m: name 'c' is not defined"
     ]
    }
   ],
   "source": [
    "c                 "
   ]
  },
  {
   "cell_type": "code",
   "execution_count": null,
   "id": "9ee4eb37",
   "metadata": {},
   "outputs": [],
   "source": []
  },
  {
   "cell_type": "code",
   "execution_count": 90,
   "id": "7e251548-3323-48ba-9991-9df8148ae1ab",
   "metadata": {},
   "outputs": [
    {
     "ename": "SyntaxError",
     "evalue": "invalid syntax (570979664.py, line 1)",
     "output_type": "error",
     "traceback": [
      "\u001b[1;36m  Cell \u001b[1;32mIn[90], line 1\u001b[1;36m\u001b[0m\n\u001b[1;33m    print(type(<>))\u001b[0m\n\u001b[1;37m               ^\u001b[0m\n\u001b[1;31mSyntaxError\u001b[0m\u001b[1;31m:\u001b[0m invalid syntax\n"
     ]
    }
   ],
   "source": [
    "\n",
    "\n"
   ]
  },
  {
   "cell_type": "code",
   "execution_count": null,
   "id": "510f31c5-d384-4252-bada-0b289f486918",
   "metadata": {},
   "outputs": [],
   "source": [
    "string immutable"
   ]
  },
  {
   "cell_type": "code",
   "execution_count": null,
   "id": "97242154-93d5-48d3-bbe1-651a7a6830ee",
   "metadata": {},
   "outputs": [],
   "source": []
  },
  {
   "cell_type": "code",
   "execution_count": 94,
   "id": "471bf23a-832a-4502-a852-0011035a1162",
   "metadata": {},
   "outputs": [
    {
     "ename": "TypeError",
     "evalue": "'str' object does not support item assignment",
     "output_type": "error",
     "traceback": [
      "\u001b[1;31m---------------------------------------------------------------------------\u001b[0m",
      "\u001b[1;31mTypeError\u001b[0m                                 Traceback (most recent call last)",
      "Cell \u001b[1;32mIn[94], line 2\u001b[0m\n\u001b[0;32m      1\u001b[0m name_list\u001b[38;5;241m=\u001b[39m\u001b[38;5;124m'\u001b[39m\u001b[38;5;124mq\u001b[39m\u001b[38;5;124m'\u001b[39m\n\u001b[1;32m----> 2\u001b[0m \u001b[43mname_list\u001b[49m\u001b[43m[\u001b[49m\u001b[38;5;241;43m0\u001b[39;49m\u001b[43m]\u001b[49m\u001b[38;5;241m=\u001b[39m\u001b[38;5;124m'\u001b[39m\u001b[38;5;124ma\u001b[39m\u001b[38;5;124m'\u001b[39m\n\u001b[0;32m      3\u001b[0m \u001b[38;5;28mprint\u001b[39m(name_list)\n",
      "\u001b[1;31mTypeError\u001b[0m: 'str' object does not support item assignment"
     ]
    }
   ],
   "source": [
    "name_list='q'\n",
    "name_list[0]='a'\n",
    "print(name_list)"
   ]
  },
  {
   "cell_type": "code",
   "execution_count": null,
   "id": "e836658a-6f88-468d-9517-53a397924a22",
   "metadata": {},
   "outputs": [],
   "source": [
    "iterable"
   ]
  },
  {
   "cell_type": "code",
   "execution_count": null,
   "id": "ee0a2167-f957-4c26-89ed-87becdb26b3b",
   "metadata": {},
   "outputs": [],
   "source": []
  },
  {
   "cell_type": "code",
   "execution_count": 137,
   "id": "8345589b-c4e7-4d72-aed8-f9fc9da6844b",
   "metadata": {},
   "outputs": [
    {
     "name": "stdout",
     "output_type": "stream",
     "text": [
      "{'name': 'praveen', 'rollnum': 'iva', 'class': 'msc'}\n"
     ]
    }
   ],
   "source": [
    "# dictionaray\n",
    "my_dictionary={'name':'praveen','rollnum':'p2021','class':'msc'}\n",
    "my_dictionary['rollnum']='iva'\n",
    "print(my_dictionary)\n"
   ]
  },
  {
   "cell_type": "code",
   "execution_count": 147,
   "id": "a9e07922-a98e-48a2-a7af-bd889c82bd4e",
   "metadata": {},
   "outputs": [
    {
     "name": "stdout",
     "output_type": "stream",
     "text": [
      "Praveen\n"
     ]
    }
   ],
   "source": [
    "print('PraveeN'. capitalize())"
   ]
  },
  {
   "cell_type": "code",
   "execution_count": 164,
   "id": "ee4cde6c-6e4a-4136-8096-fccb0779ecb0",
   "metadata": {},
   "outputs": [
    {
     "name": "stdout",
     "output_type": "stream",
     "text": [
      "pra7 mscmscmscmscmscmscmscmscmscmscmsc\n"
     ]
    }
   ],
   "source": [
    "print('pra7'*1,'msc'*11 "
   ]
  },
  {
   "cell_type": "code",
   "execution_count": 62,
   "id": "13919c4a-3d4b-465a-a4a0-04abb4aab4cb",
   "metadata": {},
   "outputs": [
    {
     "name": "stdout",
     "output_type": "stream",
     "text": [
      "name\n",
      "qualification\n",
      "print\n"
     ]
    }
   ],
   "source": [
    "example_dictionary={'name':'praveen','qualification':'msc','print':'total'}\n",
    "for i in example_dictionary:\n",
    " print(i)"
   ]
  },
  {
   "cell_type": "code",
   "execution_count": 72,
   "id": "3e8ca1ad-e532-4c62-bd94-3909cda748e6",
   "metadata": {},
   "outputs": [
    {
     "name": "stdout",
     "output_type": "stream",
     "text": [
      "dict_keys(['name', 'qualification', 'print'])\n"
     ]
    }
   ],
   "source": [
    "print  (example_dictionary.keys())"
   ]
  },
  {
   "cell_type": "code",
   "execution_count": 106,
   "id": "7511ed75-cca8-4c74-ae33-8ae24c3b9218",
   "metadata": {},
   "outputs": [
    {
     "name": "stdout",
     "output_type": "stream",
     "text": [
      "{'qualification': 'msc', 'print': 'total', 'rollnum': 'p202190'}\n"
     ]
    }
   ],
   "source": [
    "my_dict={'name':'praveen','qualification':'msc','print':'total'}\n",
    "del my_dict['name']\n",
    "my_dict.update({'rollnum':'p202190'})\n",
    "print(my_dict)"
   ]
  },
  {
   "cell_type": "code",
   "execution_count": 126,
   "id": "4ed51b71-e326-4ffb-b429-2e5138e04c89",
   "metadata": {},
   "outputs": [
    {
     "name": "stdout",
     "output_type": "stream",
     "text": [
      "new_tuple\n"
     ]
    }
   ],
   "source": [
    "my_tuple=(1,2,0,4,5)\n",
    "new_tuple=my_tuple+(3,)\n",
    "del new_tuple\n",
    "print('new_tuple')"
   ]
  },
  {
   "cell_type": "code",
   "execution_count": null,
   "id": "08becc35-c066-44ef-8fe6-8a2c1bebb723",
   "metadata": {},
   "outputs": [],
   "source": [
    "/"
   ]
  },
  {
   "cell_type": "code",
   "execution_count": 22,
   "id": "56d034c5-0d2d-42b8-98c5-c3874fee827d",
   "metadata": {},
   "outputs": [
    {
     "name": "stdout",
     "output_type": "stream",
     "text": [
      "3.5714285714285716\n"
     ]
    }
   ],
   "source": [
    "a=25\n",
    "b=7\n",
    "c=a/b\n",
    "print(c)"
   ]
  },
  {
   "cell_type": "code",
   "execution_count": null,
   "id": "66f86926-9686-4ac7-b991-cc655106105c",
   "metadata": {},
   "outputs": [],
   "source": []
  },
  {
   "cell_type": "code",
   "execution_count": null,
   "id": "9ab276f1-4398-4d0f-9eb7-ad9a4226238e",
   "metadata": {},
   "outputs": [],
   "source": [
    "%"
   ]
  },
  {
   "cell_type": "code",
   "execution_count": 19,
   "id": "1158dd5a-cb80-4fa8-baee-f618741547f6",
   "metadata": {},
   "outputs": [
    {
     "name": "stdout",
     "output_type": "stream",
     "text": [
      "7.0\n"
     ]
    }
   ],
   "source": [
    "a=25\n",
    "b=7\n",
    "c=b%c\n",
    "print(c)"
   ]
  },
  {
   "cell_type": "code",
   "execution_count": 52,
   "id": "566141a0-56eb-4227-9a07-170d9f0b2ce8",
   "metadata": {},
   "outputs": [
    {
     "name": "stdout",
     "output_type": "stream",
     "text": [
      "1538401\n"
     ]
    }
   ],
   "source": [
    "a=4853\n",
    "b=317\n",
    "c=a*b\n",
    "print(c)"
   ]
  },
  {
   "cell_type": "code",
   "execution_count": 91,
   "id": "18901171-6d88-4078-b980-537a4699011c",
   "metadata": {},
   "outputs": [
    {
     "name": "stdout",
     "output_type": "stream",
     "text": [
      "8\n"
     ]
    }
   ],
   "source": [
    "a=2\n",
    "i=3\n",
    "a**=i\n",
    "print(a)"
   ]
  },
  {
   "cell_type": "code",
   "execution_count": 18,
   "id": "d5d7fc8c-f717-425e-98fc-c7aa2d31ef04",
   "metadata": {},
   "outputs": [
    {
     "name": "stdout",
     "output_type": "stream",
     "text": [
      "-120\n"
     ]
    }
   ],
   "source": [
    "a=300\n",
    "b=420\n",
    "a-=b\n",
    "print(a)"
   ]
  },
  {
   "cell_type": "code",
   "execution_count": 53,
   "id": "551713c6-890b-4c4b-a290-99199449bc63",
   "metadata": {},
   "outputs": [
    {
     "name": "stdout",
     "output_type": "stream",
     "text": [
      "302\n",
      "202\n"
     ]
    }
   ],
   "source": [
    "a=302\n",
    "b=202\n",
    "print(a)\n",
    "print(b)"
   ]
  },
  {
   "cell_type": "markdown",
   "id": "dc449167-b6ff-4d98-9f2a-1d0e6ccfff0f",
   "metadata": {},
   "source": [
    "# map"
   ]
  },
  {
   "cell_type": "code",
   "execution_count": 19,
   "id": "aed285a4-689a-4135-acc7-062a3d889724",
   "metadata": {},
   "outputs": [
    {
     "name": "stdout",
     "output_type": "stream",
     "text": [
      "[0, 3, 6, 9, 12, 15, 18, 21, 24, 27, 30, 33]\n"
     ]
    }
   ],
   "source": [
    "temp_list=[i for i in range(12)]\n",
    "numbers_list=list(map(lambda x:x*3,temp_list))\n",
    "print(numbers_list)"
   ]
  },
  {
   "cell_type": "markdown",
   "id": "f9647aa6-3890-4f5f-bb07-be1ae5d78b3e",
   "metadata": {},
   "source": [
    "# zip"
   ]
  },
  {
   "cell_type": "code",
   "execution_count": 80,
   "id": "a545cec9-8d94-4bde-9a0d-8cd97afa791e",
   "metadata": {},
   "outputs": [
    {
     "name": "stdout",
     "output_type": "stream",
     "text": [
      "saran mani\n",
      "siva mani\n",
      "thil siva\n",
      "dive c\n"
     ]
    }
   ],
   "source": [
    "temp_list1=['mani','mani','siva','c']\n",
    "temp_list2=['saran','siva','thil','dive']\n",
    "for item1,item2 in zip(temp_list2,temp_list1,):\n",
    "    print(item1,item2)"
   ]
  },
  {
   "cell_type": "code",
   "execution_count": 85,
   "id": "9dde3858-592d-4c5a-b79d-08ea6a5a808f",
   "metadata": {},
   "outputs": [
    {
     "data": {
      "text/plain": [
       "'ravi:tharan'"
      ]
     },
     "execution_count": 85,
     "metadata": {},
     "output_type": "execute_result"
    }
   ],
   "source": [
    "tepm_list=['ravi','tharan']\n",
    "':'.join(tepm_list)\n"
   ]
  },
  {
   "cell_type": "code",
   "execution_count": 86,
   "id": "b2b4289b-79ef-408b-85bb-6249a54d9b29",
   "metadata": {},
   "outputs": [
    {
     "name": "stdout",
     "output_type": "stream",
     "text": [
      "siva 0\n",
      "mani 1\n",
      "arun 2\n"
     ]
    }
   ],
   "source": [
    "temp_list=['siva','mani','arun']\n",
    "for index,item in enumerate(temp_list):\n",
    "    print(item,index)"
   ]
  },
  {
   "cell_type": "code",
   "execution_count": null,
   "id": "63dbe65e-da3a-4d0b-a2ee-874251bf59d3",
   "metadata": {},
   "outputs": [],
   "source": []
  },
  {
   "cell_type": "code",
   "execution_count": 1,
   "id": "d044a69e-128e-49fe-a5dc-9e11560f8be3",
   "metadata": {},
   "outputs": [
    {
     "name": "stdout",
     "output_type": "stream",
     "text": [
      "hllo,world\n"
     ]
    }
   ],
   "source": [
    "print(\"hllo,world\")"
   ]
  },
  {
   "cell_type": "code",
   "execution_count": 6,
   "id": "cb33fbce-a196-4bec-8fbb-5e91b7527ff1",
   "metadata": {},
   "outputs": [
    {
     "name": "stdout",
     "output_type": "stream",
     "text": [
      "4\n",
      "140721753551752\n"
     ]
    }
   ],
   "source": [
    "var_1=4\n",
    "print(var_1)\n",
    "print(id(var_1))\n",
    "a"
   ]
  },
  {
   "cell_type": "code",
   "execution_count": 6,
   "id": "3d8d8c3d-6f93-4cf2-9544-67ad1622fe6e",
   "metadata": {},
   "outputs": [
    {
     "name": "stdout",
     "output_type": "stream",
     "text": [
      "{'key1': ('praveen',), 'key2': 'value2'}\n"
     ]
    }
   ],
   "source": [
    "empty_list={'key1':'value','key2':'value2','key4':'value3'}\n",
    "\n",
    "empty_list['key1']=('praveen',)\n",
    "del empty_list['key4']\n",
    "print(empty_list)\n",
    "\n",
    "\n",
    "\n"
   ]
  },
  {
   "cell_type": "code",
   "execution_count": 20,
   "id": "9a8335ff-d76f-4638-9556-646a391f639a",
   "metadata": {},
   "outputs": [
    {
     "name": "stdout",
     "output_type": "stream",
     "text": [
      "i 1\n",
      "new K\n",
      "new P\n",
      "new R\n",
      "new A\n",
      "new V\n",
      "new E\n",
      "new E\n",
      "new N\n",
      "i 2\n",
      "new K\n",
      "new P\n",
      "new R\n",
      "new A\n",
      "new V\n",
      "new E\n",
      "new E\n",
      "new N\n",
      "i 3\n",
      "new K\n",
      "new P\n",
      "new R\n",
      "new A\n",
      "new V\n",
      "new E\n",
      "new E\n",
      "new N\n",
      "i 4\n",
      "new K\n",
      "new P\n",
      "new R\n",
      "new A\n",
      "new V\n",
      "new E\n",
      "new E\n",
      "new N\n",
      "i 5\n",
      "new K\n",
      "new P\n",
      "new R\n",
      "new A\n",
      "new V\n",
      "new E\n",
      "new E\n",
      "new N\n",
      "i 6\n",
      "new K\n",
      "new P\n",
      "new R\n",
      "new A\n",
      "new V\n",
      "new E\n",
      "new E\n",
      "new N\n"
     ]
    }
   ],
   "source": [
    "list_example1=[1,2,3,4,5,6]\n",
    "list_example2=['K','P','R','A','V','E','E','N']\n",
    "for i in list_example1:\n",
    "  print('i',i)\n",
    "  for new in list_example2:\n",
    "      print('new',new)"
   ]
  },
  {
   "cell_type": "code",
   "execution_count": 2,
   "id": "7e4e3dd8-4112-4cd7-b756-5d2d118b812e",
   "metadata": {},
   "outputs": [
    {
     "name": "stdout",
     "output_type": "stream",
     "text": [
      "<class 'set'>\n"
     ]
    }
   ],
   "source": [
    "sample_list=set()\n",
    "print(type(sample_list))\n"
   ]
  },
  {
   "cell_type": "code",
   "execution_count": 5,
   "id": "0cbee8b7-0693-4751-837b-37fb269174d9",
   "metadata": {},
   "outputs": [
    {
     "name": "stdout",
     "output_type": "stream",
     "text": [
      "{1, 2, 3, 4, 5, 6, 7}\n"
     ]
    }
   ],
   "source": [
    "empty_list={1,2,3,4,6,6,7,7,5}\n",
    "print(empty_list)"
   ]
  },
  {
   "cell_type": "code",
   "execution_count": 21,
   "id": "0ecb7c3e-4546-4adb-ab65-b20b3bce7666",
   "metadata": {},
   "outputs": [
    {
     "name": "stdout",
     "output_type": "stream",
     "text": [
      "{1, 2, 3, 4, 5, 6, 7}\n"
     ]
    }
   ],
   "source": [
    "remove duplicate list number \n",
    "list_set=[1,2,3,4,5,6,7,5,8]\n",
    "unique_item=set(empty_list)\n",
    "print(unique_item)"
   ]
  },
  {
   "cell_type": "code",
   "execution_count": 24,
   "id": "9dd3237c-9797-409d-8dfc-a80c590a4b64",
   "metadata": {},
   "outputs": [
    {
     "name": "stdout",
     "output_type": "stream",
     "text": [
      "[1, 2, 3, 4, '59']\n"
     ]
    }
   ],
   "source": [
    "empty_set=[1,2,3,4,5]\n",
    "empty_set[4]='59'\n",
    "print(empty_set)\n"
   ]
  },
  {
   "cell_type": "code",
   "execution_count": 74,
   "id": "6bb6faa2-942e-49db-929e-168d6f3127e9",
   "metadata": {},
   "outputs": [
    {
     "name": "stdout",
     "output_type": "stream",
     "text": [
      "0 ajay\n",
      "1 arun\n",
      "2 praveen\n",
      "3 kalai\n",
      "4 mani\n"
     ]
    }
   ],
   "source": [
    "sample_list=['praveen','praveen','arun','mani','mani','ajay','arun','kalai']\n",
    "unique_item=set(sample_list)\n",
    "for index,item in enumerate(unique_item):\n",
    "   print(index,item)"
   ]
  },
  {
   "cell_type": "code",
   "execution_count": 26,
   "id": "16dbbba2-9240-4699-9453-1cabb98fda94",
   "metadata": {},
   "outputs": [
    {
     "name": "stdout",
     "output_type": "stream",
     "text": [
      "return type: <class 'type'>\n",
      "[(1, 'ready'), (2, 'go'), (3, 'run'), (4, 'fast')]\n",
      "[(24, 'high'), (25, 'ka')]\n"
     ]
    }
   ],
   "source": [
    "list1=['ready','go','run','fast']\n",
    "mini2=('high','ka')\n",
    "object1=enumerate(list1)\n",
    "object2=(mini2)\n",
    "print(\"return type:\",type(object))\n",
    "print(list(enumerate(list1,1)))\n",
    "print(list(enumerate(mini2,24)))\n"
   ]
  },
  {
   "cell_type": "code",
   "execution_count": 55,
   "id": "3f33464f-152d-4be6-af3b-8c99205cc099",
   "metadata": {},
   "outputs": [
    {
     "name": "stdout",
     "output_type": "stream",
     "text": [
      "(0, 'ready')\n",
      "(1, 'go')\n",
      "(2, 'run')\n",
      "(3, 'fast')\n",
      "ready 100\n",
      "go 101\n",
      "run 102\n",
      "fast 103\n"
     ]
    }
   ],
   "source": [
    "list1=['ready','go','run','fast']\n",
    "for ele in enumerate (list1):\n",
    " print(ele)\n",
    "#\n",
    "list1=['ready','go','run','fast']\n",
    "for count,ele  in enumerate(list1,100):\n",
    "    print(ele,count)"
   ]
  },
  {
   "cell_type": "code",
   "execution_count": null,
   "id": "6c736165-c475-47b8-813a-3e9763d62a82",
   "metadata": {},
   "outputs": [],
   "source": []
  },
  {
   "cell_type": "code",
   "execution_count": 58,
   "id": "e04c1562-11f2-4ed6-b3bb-d94a98641278",
   "metadata": {},
   "outputs": [
    {
     "name": "stdout",
     "output_type": "stream",
     "text": [
      "123.0\n"
     ]
    }
   ],
   "source": [
    "number=float(123)\n",
    "print(number)"
   ]
  },
  {
   "cell_type": "code",
   "execution_count": 61,
   "id": "13467df9-7724-4aa9-8435-ba3837dac00a",
   "metadata": {},
   "outputs": [
    {
     "name": "stdout",
     "output_type": "stream",
     "text": [
      "set()\n"
     ]
    }
   ],
   "source": [
    "empty_set=(1,2,3,4,5,6)\n",
    "print(set())"
   ]
  },
  {
   "cell_type": "code",
   "execution_count": 74,
   "id": "419c295c-a0ec-43b9-a5fe-8b4388fa0a1f",
   "metadata": {},
   "outputs": [
    {
     "ename": "IndentationError",
     "evalue": "unexpected indent (3300543784.py, line 3)",
     "output_type": "error",
     "traceback": [
      "\u001b[1;36m  Cell \u001b[1;32mIn[74], line 3\u001b[1;36m\u001b[0m\n\u001b[1;33m    print (i)\u001b[0m\n\u001b[1;37m    ^\u001b[0m\n\u001b[1;31mIndentationError\u001b[0m\u001b[1;31m:\u001b[0m unexpected indent\n"
     ]
    }
   ],
   "source": [
    "empty_set={1,2,3,4,5,6,7,8}\n",
    "i =(empty_set)\n",
    " print (i)"
   ]
  },
  {
   "cell_type": "code",
   "execution_count": 3,
   "id": "08a6f666-3171-4392-88d3-36f7ce6ca3c5",
   "metadata": {},
   "outputs": [
    {
     "name": "stdout",
     "output_type": "stream",
     "text": [
      "(1.2, 3.4, 6.5)\n"
     ]
    }
   ],
   "source": [
    "flot_number=(1.2,3.4,6.5)\n",
    "print(flot_number"
   ]
  },
  {
   "cell_type": "code",
   "execution_count": 23,
   "id": "61fc25eb-6c53-4128-aecd-9259b38d1455",
   "metadata": {},
   "outputs": [
    {
     "name": "stdout",
     "output_type": "stream",
     "text": [
      "2838562065792\n",
      "2838539815424\n",
      "id is same \n"
     ]
    }
   ],
   "source": [
    "a=[1,2,3,4,5,6]\n",
    "print(id(a))\n",
    "b=[1,2,3,4,5,6]\n",
    "print(id(b))\n",
    "if a is\n",
    "not b:\n",
    "    print('id is same ')\n",
    "else:\n",
    "    print('id is not same')\n",
    "    "
   ]
  },
  {
   "cell_type": "code",
   "execution_count": 1,
   "id": "27267e8a-7bf6-4eab-a68d-e786940efd0d",
   "metadata": {},
   "outputs": [
    {
     "name": "stdout",
     "output_type": "stream",
     "text": [
      "-1\n"
     ]
    }
   ],
   "source": [
    "a=10\n",
    "b=40\n",
    "c=a//-b\n",
    "print(c)"
   ]
  },
  {
   "cell_type": "code",
   "execution_count": 13,
   "id": "21b4cede-7092-4f77-963f-e24dc32aea4f",
   "metadata": {},
   "outputs": [
    {
     "name": "stdout",
     "output_type": "stream",
     "text": [
      "0\n",
      "1\n",
      "2\n",
      "3\n",
      "4\n",
      "5\n",
      "6\n",
      "7\n"
     ]
    }
   ],
   "source": [
    "for numb in range(8):\n",
    "     print(numb)"
   ]
  },
  {
   "cell_type": "code",
   "execution_count": 20,
   "id": "001f434b-e9cf-41b1-8a0f-374bca4f8e3f",
   "metadata": {},
   "outputs": [
    {
     "ename": "SyntaxError",
     "evalue": "invalid syntax (954952023.py, line 5)",
     "output_type": "error",
     "traceback": [
      "\u001b[1;36m  Cell \u001b[1;32mIn[20], line 5\u001b[1;36m\u001b[0m\n\u001b[1;33m    ouput=(a)[for i in range(0,a+1)]:\u001b[0m\n\u001b[1;37m              ^\u001b[0m\n\u001b[1;31mSyntaxError\u001b[0m\u001b[1;31m:\u001b[0m invalid syntax\n"
     ]
    }
   ],
   "source": [
    "a=1\n",
    "b=2\n",
    "c=3\n",
    "d=4\n",
    "ouput=(a)[for i in range(0,a+1)]:\n",
    "print(output)"
   ]
  },
  {
   "cell_type": "code",
   "execution_count": null,
   "id": "7d7f69f1-3418-40b0-9efa-5b80faa1ab17",
   "metadata": {},
   "outputs": [],
   "source": [
    "align"
   ]
  },
  {
   "cell_type": "code",
   "execution_count": 84,
   "id": "dcaad4b2-c203-4fd6-a11b-6fb794eb4f07",
   "metadata": {},
   "outputs": [
    {
     "name": "stdout",
     "output_type": "stream",
     "text": [
      " cricketer    score     place   strikrate \n",
      "dhoni    12       deli       12    \n",
      "virat koli    30    Bengaluru     2     \n",
      "Sharma    34      Jaipur      3     \n",
      "sami    64    himachal Pradesh,    4     \n",
      "jadaja    2     karnataka     65    \n"
     ]
    }
   ],
   "source": [
    "cricketer='dhoni','virat koli','Sharma','sami','jadaja','siraju'\n",
    "score=[  12, 30, 34, 64, 2, 67]\n",
    "place=['deli','Bengaluru','Jaipur','himachal Pradesh,','karnataka']\n",
    "strikrate=[12,2,3,4,65,7]\n",
    "print(f\"{'cricketer':>10}  {'score':^10}{'place':^10}{'strikrate':^10}\")\n",
    "for i in range(0,5):\n",
    " print(\n",
    "    f\"{cricketer[i]:>1}{score[i]:^10}{place[i]:^10}{strikrate[i]:^10}\")\n",
    "\n"
   ]
  },
  {
   "cell_type": "code",
   "execution_count": 77,
   "id": "b2626617-79aa-4d7e-a2a0-a5a952c3fe23",
   "metadata": {},
   "outputs": [
    {
     "name": "stdout",
     "output_type": "stream",
     "text": [
      "32\n",
      "captan\n"
     ]
    }
   ],
   "source": [
    "Ms_dhoni=\"Chennai super kings team captan\"\n",
    "print(len(Ms_dhoni))\n",
    "print(Ms_dhoni[26:32])\n"
   ]
  },
  {
   "cell_type": "code",
   "execution_count": 95,
   "id": "868b5cec-f59f-4c6a-8cb4-c62697896f97",
   "metadata": {},
   "outputs": [
    {
     "name": "stdout",
     "output_type": "stream",
     "text": [
      "2\n",
      "8\n",
      "16\n"
     ]
    }
   ],
   "source": [
    "bin_number=0b10\n",
    "oct_number=0o10\n",
    "hexa_number=0x10\n",
    "\n",
    "print(bin_number)\n",
    "print(oct_number)\n",
    "print(hexa_number)\n"
   ]
  },
  {
   "cell_type": "code",
   "execution_count": 101,
   "id": "8ea72225-a836-4ee7-a7f7-585c8ba2ae24",
   "metadata": {},
   "outputs": [
    {
     "name": "stdout",
     "output_type": "stream",
     "text": [
      "290\n",
      "100100010\n",
      "122\n"
     ]
    }
   ],
   "source": [
    "i=290\n",
    "print(format (i, '0'))\n",
    "print(format (i, 'b'))\n",
    "print(format (i, 'x'))\n",
    "      "
   ]
  },
  {
   "cell_type": "code",
   "execution_count": 12,
   "id": "f202a640-dc65-4708-8e50-6225356b93f1",
   "metadata": {},
   "outputs": [
    {
     "name": "stdout",
     "output_type": "stream",
     "text": [
      "8\n"
     ]
    },
    {
     "ename": "IndexError",
     "evalue": "list index out of range",
     "output_type": "error",
     "traceback": [
      "\u001b[1;31m---------------------------------------------------------------------------\u001b[0m",
      "\u001b[1;31mIndexError\u001b[0m                                Traceback (most recent call last)",
      "Cell \u001b[1;32mIn[12], line 3\u001b[0m\n\u001b[0;32m      1\u001b[0m number\u001b[38;5;241m=\u001b[39m[\u001b[38;5;241m1\u001b[39m,\u001b[38;5;241m2\u001b[39m,\u001b[38;5;241m3\u001b[39m,\u001b[38;5;241m4\u001b[39m,\u001b[38;5;241m5\u001b[39m,[\u001b[38;5;241m2\u001b[39m,\u001b[38;5;241m-\u001b[39m\u001b[38;5;241m23\u001b[39m,\u001b[38;5;241m3\u001b[39m],\u001b[38;5;241m9\u001b[39m,\u001b[38;5;241m85\u001b[39m]\n\u001b[0;32m      2\u001b[0m \u001b[38;5;28mprint\u001b[39m(\u001b[38;5;28mlen\u001b[39m(number))\n\u001b[1;32m----> 3\u001b[0m \u001b[38;5;28mprint\u001b[39m(\u001b[43mnumber\u001b[49m\u001b[43m[\u001b[49m\u001b[38;5;241;43m9\u001b[39;49m\u001b[43m]\u001b[49m)\n",
      "\u001b[1;31mIndexError\u001b[0m: list index out of range"
     ]
    }
   ],
   "source": [
    "number=[1,2,3,4,5,[2,-23,3],9,85]\n",
    "print(len(number))\n",
    "print(number[9])"
   ]
  },
  {
   "cell_type": "code",
   "execution_count": 59,
   "id": "ca110903-1433-4c61-a48e-e0bafea3d821",
   "metadata": {},
   "outputs": [
    {
     "ename": "AttributeError",
     "evalue": "'tuple' object has no attribute 'append'",
     "output_type": "error",
     "traceback": [
      "\u001b[1;31m---------------------------------------------------------------------------\u001b[0m",
      "\u001b[1;31mAttributeError\u001b[0m                            Traceback (most recent call last)",
      "Cell \u001b[1;32mIn[59], line 4\u001b[0m\n\u001b[0;32m      2\u001b[0m score\u001b[38;5;241m=\u001b[39m([\u001b[38;5;241m32.20\u001b[39m],[\u001b[38;5;241m37.3\u001b[39m],[\u001b[38;5;241m37.3\u001b[39m],[\u001b[38;5;241m47\u001b[39m],[\u001b[38;5;241m48\u001b[39m])\n\u001b[0;32m      3\u001b[0m \u001b[38;5;28;01mfor\u001b[39;00m b \u001b[38;5;129;01min\u001b[39;00m  name, score:\n\u001b[1;32m----> 4\u001b[0m    \u001b[43mb\u001b[49m\u001b[38;5;241;43m.\u001b[39;49m\u001b[43mappend\u001b[49m([name,score])\n\u001b[0;32m      5\u001b[0m    \u001b[38;5;28mprint\u001b[39m(b)\n",
      "\u001b[1;31mAttributeError\u001b[0m: 'tuple' object has no attribute 'append'"
     ]
    }
   ],
   "source": [
    "name=(['siva'],['ravi'],['mani'],['kavi'],['ragu'])\n",
    "score=([32.20],[37.3],[37.3],[47],[48])\n",
    "for b in  name, score:\n",
    "   b.append([name,score])\n",
    "   print(b)"
   ]
  },
  {
   "cell_type": "code",
   "execution_count": 106,
   "id": "b0109873-69f4-4622-9ac4-9f3fd49fd35d",
   "metadata": {},
   "outputs": [
    {
     "name": "stdout",
     "output_type": "stream",
     "text": [
      "cerry\n",
      "c-e-r-r-y\n",
      "mango\n",
      "m-a-n-g-o\n",
      "binapple\n",
      "b-i-n-a-p-p-l-e\n",
      "banana\n",
      "b-a-n-a-n-a\n",
      "apple\n",
      "a-p-p-l-e\n"
     ]
    }
   ],
   "source": [
    "my_set ={'apple','banana','mango', 'cerry','binapple'}\n",
    "for i in  my_set:\n",
    " print(i)\n",
    " s =\"-\"\n",
    " x=s.join (i)\n",
    " print(x)"
   ]
  },
  {
   "cell_type": "code",
   "execution_count": 7,
   "id": "b852536d-8f97-4695-a5f7-58f374368816",
   "metadata": {},
   "outputs": [
    {
     "name": "stdout",
     "output_type": "stream",
     "text": [
      "True\n"
     ]
    }
   ],
   "source": [
    "a=54\n",
    "b=73\n",
    "c=a<b\n",
    "print(c)"
   ]
  },
  {
   "cell_type": "code",
   "execution_count": 60,
   "id": "b001fe0f-bf70-4806-95fe-c97269893673",
   "metadata": {},
   "outputs": [
    {
     "name": "stdout",
     "output_type": "stream",
     "text": [
      "140719769758568\n",
      "<class 'bool'>\n",
      "140719769758600\n",
      "<class 'bool'>\n"
     ]
    }
   ],
   "source": [
    "#\n",
    "print(id('1234567890'.isdigit()))\n",
    "print(type('abcd'.isdigit()))\n",
    "print(id('abcdd'.isdigit()))\n",
    "print(type('als'.isalpha()))"
   ]
  },
  {
   "cell_type": "code",
   "execution_count": 61,
   "id": "d1bba3a5-04b8-4fd2-b68c-0f75d4baac91",
   "metadata": {},
   "outputs": [
    {
     "ename": "NameError",
     "evalue": "name 'string' is not defined",
     "output_type": "error",
     "traceback": [
      "\u001b[1;31m---------------------------------------------------------------------------\u001b[0m",
      "\u001b[1;31mNameError\u001b[0m                                 Traceback (most recent call last)",
      "Cell \u001b[1;32mIn[61], line 1\u001b[0m\n\u001b[1;32m----> 1\u001b[0m \u001b[38;5;28mprint\u001b[39m(\u001b[38;5;28many\u001b[39m(s\u001b[38;5;241m.\u001b[39midigit() \u001b[38;5;28;01mfor\u001b[39;00m s \u001b[38;5;129;01min\u001b[39;00m \u001b[43mstring\u001b[49m))\n",
      "\u001b[1;31mNameError\u001b[0m: name 'string' is not defined"
     ]
    }
   ],
   "source": [
    "print(any(s.idigit() for s in string))\n"
   ]
  },
  {
   "cell_type": "code",
   "execution_count": 1,
   "id": "8de0e7e4-60bc-4ae3-9757-2fd803dddff4",
   "metadata": {},
   "outputs": [
    {
     "data": {
      "text/plain": [
       "True"
      ]
     },
     "execution_count": 1,
     "metadata": {},
     "output_type": "execute_result"
    }
   ],
   "source": [
    "import numpy as np\n",
    "power_leval_list=np.array([1000,2000,150,1039,900000,1500])\n",
    "any(power_leval_list >90000)"
   ]
  },
  {
   "cell_type": "code",
   "execution_count": null,
   "id": "be9bb190-1818-41a7-82b0-083f6b69cc44",
   "metadata": {},
   "outputs": [],
   "source": []
  },
  {
   "cell_type": "code",
   "execution_count": null,
   "id": "756e1ef2-ce23-4379-8b78-97df7964127e",
   "metadata": {},
   "outputs": [],
   "source": []
  },
  {
   "cell_type": "code",
   "execution_count": 34,
   "id": "a47fc21e-11d0-42fa-9dd7-a174d1bedf5b",
   "metadata": {},
   "outputs": [
    {
     "name": "stdin",
     "output_type": "stream",
     "text": [
      " \n"
     ]
    },
    {
     "ename": "ValueError",
     "evalue": "invalid literal for int() with base 10: ''",
     "output_type": "error",
     "traceback": [
      "\u001b[1;31m---------------------------------------------------------------------------\u001b[0m",
      "\u001b[1;31mValueError\u001b[0m                                Traceback (most recent call last)",
      "Cell \u001b[1;32mIn[34], line 2\u001b[0m\n\u001b[0;32m      1\u001b[0m \u001b[38;5;28;01mfrom\u001b[39;00m \u001b[38;5;21;01mcollections\u001b[39;00m \u001b[38;5;28;01mimport\u001b[39;00m Counter \n\u001b[1;32m----> 2\u001b[0m numshoes\u001b[38;5;241m=\u001b[39m\u001b[38;5;28;43mint\u001b[39;49m\u001b[43m(\u001b[49m\u001b[38;5;28;43minput\u001b[39;49m\u001b[43m(\u001b[49m\u001b[43m)\u001b[49m\u001b[43m)\u001b[49m\n\u001b[0;32m      3\u001b[0m shoes\u001b[38;5;241m=\u001b[39mCounter(\u001b[38;5;28mmap\u001b[39m(\u001b[38;5;28mint\u001b[39m,\u001b[38;5;28minput\u001b[39m()\u001b[38;5;241m.\u001b[39msplit()))\n\u001b[0;32m      4\u001b[0m numcust\u001b[38;5;241m=\u001b[39m\u001b[38;5;28mint\u001b[39m(\u001b[38;5;28minput\u001b[39m())\n",
      "\u001b[1;31mValueError\u001b[0m: invalid literal for int() with base 10: ''"
     ]
    }
   ],
   "source": [
    "from collections import Counter \n",
    "numshoes=int(input())\n",
    "shoes=Counter(map(int,input().split()))\n",
    "numcust=int(input())\n",
    "income=0\n",
    "for i  in range(numcust):\n",
    "  size,price=map(int,input().split())\n",
    "  if shoes [size]:\n",
    "      shoes[size]-=1\n",
    "      income+=price\n",
    "print(income)\n",
    "\n",
    "\n",
    "\n"
   ]
  },
  {
   "cell_type": "code",
   "execution_count": 59,
   "id": "61f990cc-9e68-47ff-9a0c-6e72cab777da",
   "metadata": {},
   "outputs": [
    {
     "name": "stdin",
     "output_type": "stream",
     "text": [
      " \n"
     ]
    }
   ],
   "source": [
    "a=input().split()"
   ]
  },
  {
   "cell_type": "code",
   "execution_count": 60,
   "id": "93a70053-976b-400c-9e52-3b6e4035e649",
   "metadata": {},
   "outputs": [],
   "source": [
    "from collections import Counter\n"
   ]
  },
  {
   "cell_type": "code",
   "execution_count": 61,
   "id": "306ced3f-6a91-4297-b791-f203add31347",
   "metadata": {},
   "outputs": [
    {
     "ename": "TypeError",
     "evalue": "'int' object is not callable",
     "output_type": "error",
     "traceback": [
      "\u001b[1;31m---------------------------------------------------------------------------\u001b[0m",
      "\u001b[1;31mTypeError\u001b[0m                                 Traceback (most recent call last)",
      "Cell \u001b[1;32mIn[61], line 1\u001b[0m\n\u001b[1;32m----> 1\u001b[0m hoes\u001b[38;5;241m=\u001b[39m\u001b[43mCounter\u001b[49m\u001b[43m(\u001b[49m\u001b[38;5;28;43mmap\u001b[39;49m\u001b[43m(\u001b[49m\u001b[38;5;241;43m5\u001b[39;49m\u001b[43m,\u001b[49m\u001b[38;5;124;43m'\u001b[39;49m\u001b[38;5;124;43m5\u001b[39;49m\u001b[38;5;124;43m'\u001b[39;49m\u001b[38;5;241;43m.\u001b[39;49m\u001b[43msplit\u001b[49m\u001b[43m(\u001b[49m\u001b[43m)\u001b[49m\u001b[43m)\u001b[49m\u001b[43m)\u001b[49m\n",
      "File \u001b[1;32m~\\AppData\\Local\\Programs\\Python\\Python311\\Lib\\collections\\__init__.py:597\u001b[0m, in \u001b[0;36mCounter.__init__\u001b[1;34m(self, iterable, **kwds)\u001b[0m\n\u001b[0;32m    586\u001b[0m \u001b[38;5;250m\u001b[39m\u001b[38;5;124;03m'''Create a new, empty Counter object.  And if given, count elements\u001b[39;00m\n\u001b[0;32m    587\u001b[0m \u001b[38;5;124;03mfrom an input iterable.  Or, initialize the count from another mapping\u001b[39;00m\n\u001b[0;32m    588\u001b[0m \u001b[38;5;124;03mof elements to their counts.\u001b[39;00m\n\u001b[1;32m   (...)\u001b[0m\n\u001b[0;32m    594\u001b[0m \n\u001b[0;32m    595\u001b[0m \u001b[38;5;124;03m'''\u001b[39;00m\n\u001b[0;32m    596\u001b[0m \u001b[38;5;28msuper\u001b[39m()\u001b[38;5;241m.\u001b[39m\u001b[38;5;21m__init__\u001b[39m()\n\u001b[1;32m--> 597\u001b[0m \u001b[38;5;28;43mself\u001b[39;49m\u001b[38;5;241;43m.\u001b[39;49m\u001b[43mupdate\u001b[49m\u001b[43m(\u001b[49m\u001b[43miterable\u001b[49m\u001b[43m,\u001b[49m\u001b[43m \u001b[49m\u001b[38;5;241;43m*\u001b[39;49m\u001b[38;5;241;43m*\u001b[39;49m\u001b[43mkwds\u001b[49m\u001b[43m)\u001b[49m\n",
      "File \u001b[1;32m~\\AppData\\Local\\Programs\\Python\\Python311\\Lib\\collections\\__init__.py:688\u001b[0m, in \u001b[0;36mCounter.update\u001b[1;34m(self, iterable, **kwds)\u001b[0m\n\u001b[0;32m    686\u001b[0m             \u001b[38;5;28msuper\u001b[39m()\u001b[38;5;241m.\u001b[39mupdate(iterable)\n\u001b[0;32m    687\u001b[0m     \u001b[38;5;28;01melse\u001b[39;00m:\n\u001b[1;32m--> 688\u001b[0m         _count_elements(\u001b[38;5;28mself\u001b[39m, iterable)\n\u001b[0;32m    689\u001b[0m \u001b[38;5;28;01mif\u001b[39;00m kwds:\n\u001b[0;32m    690\u001b[0m     \u001b[38;5;28mself\u001b[39m\u001b[38;5;241m.\u001b[39mupdate(kwds)\n",
      "\u001b[1;31mTypeError\u001b[0m: 'int' object is not callable"
     ]
    }
   ],
   "source": [
    "hoes=Counter(map(5,'5'.split()))\n"
   ]
  },
  {
   "cell_type": "code",
   "execution_count": 68,
   "id": "8e1720c0-f896-4a54-8993-b9d479e07067",
   "metadata": {},
   "outputs": [
    {
     "data": {
      "text/plain": [
       "<map at 0x1b70facfca0>"
      ]
     },
     "execution_count": 68,
     "metadata": {},
     "output_type": "execute_result"
    }
   ],
   "source": [
    "map(int, [1,2,3])"
   ]
  },
  {
   "cell_type": "code",
   "execution_count": 71,
   "id": "94594179-3551-4e9a-8b71-45e70c0171a2",
   "metadata": {},
   "outputs": [
    {
     "data": {
      "text/plain": [
       "Counter({1: 1, 2: 1, 3: 1})"
      ]
     },
     "execution_count": 71,
     "metadata": {},
     "output_type": "execute_result"
    }
   ],
   "source": [
    "Counter(map(int,[1,2,3]))"
   ]
  },
  {
   "cell_type": "code",
   "execution_count": 2,
   "id": "fa26af4e-6e65-428b-a932-3687c84f33cf",
   "metadata": {},
   "outputs": [
    {
     "data": {
      "text/plain": [
       "<map at 0x222114ccf70>"
      ]
     },
     "execution_count": 2,
     "metadata": {},
     "output_type": "execute_result"
    }
   ],
   "source": [
    "map(int,[5,6])"
   ]
  },
  {
   "cell_type": "code",
   "execution_count": 25,
   "id": "db13219a-ecf7-4cbb-b6d2-d2baf31dc6f1",
   "metadata": {},
   "outputs": [
    {
     "ename": "NameError",
     "evalue": "name 'Counter' is not defined",
     "output_type": "error",
     "traceback": [
      "\u001b[1;31m---------------------------------------------------------------------------\u001b[0m",
      "\u001b[1;31mNameError\u001b[0m                                 Traceback (most recent call last)",
      "Cell \u001b[1;32mIn[25], line 1\u001b[0m\n\u001b[1;32m----> 1\u001b[0m \u001b[43mCounter\u001b[49m(\u001b[38;5;28mmap\u001b[39m(\u001b[38;5;28mint\u001b[39m,[\u001b[38;5;241m1\u001b[39m,\u001b[38;5;241m2\u001b[39m,\u001b[38;5;241m3\u001b[39m]))\n",
      "\u001b[1;31mNameError\u001b[0m: name 'Counter' is not defined"
     ]
    }
   ],
   "source": [
    "Counter(map(int,[1,2,3]))"
   ]
  },
  {
   "cell_type": "code",
   "execution_count": 41,
   "id": "57da0518-7636-41f0-a147-e63d6d6eec81",
   "metadata": {},
   "outputs": [],
   "source": [
    "\n"
   ]
  },
  {
   "cell_type": "code",
   "execution_count": 77,
   "id": "6d2a18a1-32c7-49a0-9f08-cd5850dd97ce",
   "metadata": {},
   "outputs": [
    {
     "name": "stdout",
     "output_type": "stream",
     "text": [
      "[3, 6, 9, 12, 15, 18, 21, 24]\n"
     ]
    }
   ],
   "source": [
    "praveen_number=[1,2,3,4,5,6,7,8]\n",
    "kalai_number_list=[]\n",
    "siva_number_list=[]\n",
    "for hari_num in praveen_number:\n",
    " kalai_number_list.append (hari_num*3)\n",
    "print(kalai_number_list)\n"
   ]
  },
  {
   "cell_type": "code",
   "execution_count": 128,
   "id": "b999f54b-5a62-491b-b501-6fb0a30f7232",
   "metadata": {
    "scrolled": true
   },
   "outputs": [
    {
     "name": "stdout",
     "output_type": "stream",
     "text": [
      "this is x: 0\n",
      "this is y: 0\n",
      "this is y: 1\n",
      "this is x: 1\n",
      "this is y: 0\n",
      "this is y: 1\n"
     ]
    }
   ],
   "source": [
    "x=1\n",
    "y=1\n",
    "z=2\n",
    "n=3\n",
    "hai=[]\n",
    "  \n",
    "\n",
    "for i in range(x+1):\n",
    " print('this is x:',i)\n",
    " for j in range(y+1):\n",
    "  print('this is y:',j)\n",
    "  "
   ]
  },
  {
   "cell_type": "code",
   "execution_count": 237,
   "id": "5f9da684-b66a-4095-b2ed-3d2908877424",
   "metadata": {},
   "outputs": [],
   "source": [
    "a=[1,2,4,5,3,6,8,9,7]\n",
    "a.sort()\n"
   ]
  },
  {
   "cell_type": "code",
   "execution_count": 218,
   "id": "4c3f9eb7-3897-474e-ae88-9dfb687f632e",
   "metadata": {},
   "outputs": [
    {
     "ename": "TypeError",
     "evalue": "'int' object is not callable",
     "output_type": "error",
     "traceback": [
      "\u001b[1;31m---------------------------------------------------------------------------\u001b[0m",
      "\u001b[1;31mTypeError\u001b[0m                                 Traceback (most recent call last)",
      "Cell \u001b[1;32mIn[218], line 2\u001b[0m\n\u001b[0;32m      1\u001b[0m a\n\u001b[1;32m----> 2\u001b[0m \u001b[38;5;28;43mprint\u001b[39;49m\u001b[43m(\u001b[49m\u001b[43ma\u001b[49m\u001b[43m)\u001b[49m\n",
      "\u001b[1;31mTypeError\u001b[0m: 'int' object is not callable"
     ]
    }
   ],
   "source": [
    "a\n",
    "print(a)"
   ]
  },
  {
   "cell_type": "code",
   "execution_count": 24,
   "id": "498bd19d-1e7f-4250-843b-39dc451cff35",
   "metadata": {},
   "outputs": [
    {
     "ename": "AttributeError",
     "evalue": "'int' object has no attribute 'sort'",
     "output_type": "error",
     "traceback": [
      "\u001b[1;31m---------------------------------------------------------------------------\u001b[0m",
      "\u001b[1;31mAttributeError\u001b[0m                            Traceback (most recent call last)",
      "Cell \u001b[1;32mIn[24], line 4\u001b[0m\n\u001b[0;32m      2\u001b[0m b\u001b[38;5;241m=\u001b[39m[]\n\u001b[0;32m      3\u001b[0m \u001b[38;5;28;01mfor\u001b[39;00m i \u001b[38;5;129;01min\u001b[39;00m a:\n\u001b[1;32m----> 4\u001b[0m  b\u001b[38;5;241m=\u001b[39m[\u001b[43mi\u001b[49m\u001b[38;5;241;43m.\u001b[39;49m\u001b[43msort\u001b[49m()]\n\u001b[0;32m      5\u001b[0m  \u001b[38;5;28mprint\u001b[39m(b)\n",
      "\u001b[1;31mAttributeError\u001b[0m: 'int' object has no attribute 'sort'"
     ]
    }
   ],
   "source": [
    "a=[1,4,3,6,5,8,9,2,7]\n",
    "b=[]\n",
    "for i in a:\n",
    " b=[i.sort()]\n",
    " print(b)"
   ]
  },
  {
   "cell_type": "code",
   "execution_count": 25,
   "id": "5ef6571d-14a3-46ed-984d-94b086d0939c",
   "metadata": {},
   "outputs": [
    {
     "name": "stderr",
     "output_type": "stream",
     "text": [
      "<>:1: SyntaxWarning: 'int' object is not callable; perhaps you missed a comma?\n",
      "<>:1: SyntaxWarning: 'int' object is not callable; perhaps you missed a comma?\n",
      "C:\\Users\\KBRO\\AppData\\Local\\Temp\\ipykernel_2644\\4217450921.py:1: SyntaxWarning: 'int' object is not callable; perhaps you missed a comma?\n",
      "  1()\n"
     ]
    },
    {
     "ename": "TypeError",
     "evalue": "'int' object is not callable",
     "output_type": "error",
     "traceback": [
      "\u001b[1;31m---------------------------------------------------------------------------\u001b[0m",
      "\u001b[1;31mTypeError\u001b[0m                                 Traceback (most recent call last)",
      "Cell \u001b[1;32mIn[25], line 1\u001b[0m\n\u001b[1;32m----> 1\u001b[0m \u001b[38;5;241;43m1\u001b[39;49m\u001b[43m(\u001b[49m\u001b[43m)\u001b[49m\n",
      "\u001b[1;31mTypeError\u001b[0m: 'int' object is not callable"
     ]
    }
   ],
   "source": [
    "1()"
   ]
  },
  {
   "cell_type": "code",
   "execution_count": 26,
   "id": "39e50a0a-ff53-4630-92dc-4deaf1511baf",
   "metadata": {},
   "outputs": [],
   "source": [
    "def a():\n",
    "    pass"
   ]
  },
  {
   "cell_type": "code",
   "execution_count": 27,
   "id": "95ec370a-a3cd-433b-b557-7ae0b8d3280e",
   "metadata": {},
   "outputs": [],
   "source": [
    "a()\n"
   ]
  },
  {
   "cell_type": "code",
   "execution_count": 88,
   "id": "603957ab-9069-4b4a-8494-d97fc5cbb48f",
   "metadata": {},
   "outputs": [
    {
     "ename": "AttributeError",
     "evalue": "'list' object has no attribute 'uniq'",
     "output_type": "error",
     "traceback": [
      "\u001b[1;31m---------------------------------------------------------------------------\u001b[0m",
      "\u001b[1;31mAttributeError\u001b[0m                            Traceback (most recent call last)",
      "Cell \u001b[1;32mIn[88], line 4\u001b[0m\n\u001b[0;32m      2\u001b[0m b\u001b[38;5;241m=\u001b[39m[\u001b[38;5;241m9\u001b[39m,\u001b[38;5;241m3\u001b[39m,\u001b[38;5;241m4\u001b[39m,\u001b[38;5;241m6\u001b[39m,\u001b[38;5;241m7\u001b[39m,]\n\u001b[0;32m      3\u001b[0m a\u001b[38;5;241m.\u001b[39msort(), b\u001b[38;5;241m.\u001b[39msort()\n\u001b[1;32m----> 4\u001b[0m \u001b[43ma\u001b[49m\u001b[38;5;241;43m.\u001b[39;49m\u001b[43muniq\u001b[49m(b)\n\u001b[0;32m      5\u001b[0m \u001b[38;5;28mprint\u001b[39m(a\u001b[38;5;241m+\u001b[39m b)\n",
      "\u001b[1;31mAttributeError\u001b[0m: 'list' object has no attribute 'uniq'"
     ]
    }
   ],
   "source": [
    "a=[1,2,3,5,6,8,]\n",
    "b=[9,3,4,6,7,]\n",
    "a.sort(), b.sort()\n",
    "a.uniq(b)\n",
    "print(a+ b)\n"
   ]
  },
  {
   "cell_type": "code",
   "execution_count": 1,
   "id": "dbaf577a-5a40-401f-a48d-36cf557866d2",
   "metadata": {},
   "outputs": [
    {
     "name": "stdout",
     "output_type": "stream",
     "text": [
      "4710128697246244834921603689\n",
      "65712362363534280139543\n",
      "4710194409608608369201743232\n"
     ]
    }
   ],
   "source": [
    "\n",
    "a=9\n",
    "b=29\n",
    "c=7\n",
    "d=27\n",
    "i=(a**b)\n",
    "print(i)\n",
    "k=(c**d)\n",
    "print(k)\n",
    "print(i+k)\n"
   ]
  },
  {
   "cell_type": "code",
   "execution_count": 18,
   "id": "d751ff8c-fd1e-46ac-b391-4c796e82d32a",
   "metadata": {},
   "outputs": [
    {
     "name": "stdout",
     "output_type": "stream",
     "text": [
      "8\n",
      "0\n"
     ]
    }
   ],
   "source": [
    "#power mode\n",
    "a=2\n",
    "b=3\n",
    "m=8\n",
    "print(a**b)\n",
    "print(a**b%m)"
   ]
  },
  {
   "cell_type": "code",
   "execution_count": 13,
   "id": "21e0c33d-9418-4399-ac95-cb0b96bea04e",
   "metadata": {},
   "outputs": [
    {
     "name": "stdout",
     "output_type": "stream",
     "text": [
      "0.6296296296296297\n",
      "<__main__.myclass object at 0x000002279E5B2790>\n"
     ]
    }
   ],
   "source": [
    "class myclass:\n",
    " def __init__(self,value):\n",
    "     self.attribute=value \n",
    "my_instance= myclass(34/54)\n",
    "print(my_instance.attribute)\n",
    "\n",
    "\n",
    "print(my_instance)\n",
    "  "
   ]
  },
  {
   "cell_type": "code",
   "execution_count": 27,
   "id": "132f5952-8e39-4810-8446-0a23365e97e7",
   "metadata": {},
   "outputs": [
    {
     "name": "stdout",
     "output_type": "stream",
     "text": [
      "5740354900026072187\n"
     ]
    }
   ],
   "source": [
    "text='my name is praveen kalimuthu'\n",
    "hash_value= hash()\n",
    "print(hash_value)"
   ]
  },
  {
   "cell_type": "code",
   "execution_count": 50,
   "id": "cbcb6ea0-dd63-42fb-a0a0-601424a47808",
   "metadata": {
    "scrolled": true
   },
   "outputs": [
    {
     "name": "stdout",
     "output_type": "stream",
     "text": [
      "false  not runing\n"
     ]
    }
   ],
   "source": [
    "a=10\n",
    "b=10\n",
    "\n",
    "if a is not  b :\n",
    " print('20',\n",
    "     'true i am runing ')\n",
    "else:\n",
    " print('false '\n",
    " ,'not runing')"
   ]
  },
  {
   "cell_type": "code",
   "execution_count": null,
   "id": "7e4fa790-f8e4-4687-86ca-08eb4becb40d",
   "metadata": {},
   "outputs": [],
   "source": []
  },
  {
   "cell_type": "code",
   "execution_count": null,
   "id": "7035bb7a-5f7d-4aba-a7aa-418ee4fe717e",
   "metadata": {},
   "outputs": [],
   "source": []
  },
  {
   "cell_type": "code",
   "execution_count": null,
   "id": "85da37d8-669a-4f19-ad81-240f5627f384",
   "metadata": {},
   "outputs": [],
   "source": []
  },
  {
   "cell_type": "code",
   "execution_count": 1,
   "id": "169cb9b9-dc26-484e-8ea0-fe887f774c9a",
   "metadata": {},
   "outputs": [
    {
     "name": "stdout",
     "output_type": "stream",
     "text": [
      "[12, 20, 32, 34, 45, 54]\n"
     ]
    }
   ],
   "source": [
    "def marksort(subject):\n",
    "    for fillslot in range(len(subject)-1, 0, -1):\n",
    "        maxmark = 0\n",
    "        for location in range(1, fillslot + 1):\n",
    "            if subject[location] > subject[maxmark]:\n",
    "                maxmark = location\n",
    "\n",
    "        temp = subject[fillslot]\n",
    "        subject[fillslot] = subject[maxmark]\n",
    "        subject[maxmark] = temp\n",
    "    return subject\n",
    "\n",
    "\n",
    "subject = [20, 45, 32, 54, 12, 34]\n",
    "marksort(subject)\n",
    "print(marksort(subject))"
   ]
  },
  {
   "cell_type": "code",
   "execution_count": null,
   "id": "33bccbcb-269e-414f-922f-10b92a7e94cf",
   "metadata": {},
   "outputs": [],
   "source": []
  },
  {
   "cell_type": "code",
   "execution_count": null,
   "id": "86ac9f2c-9b89-4148-8387-ed621424a148",
   "metadata": {},
   "outputs": [],
   "source": [
    "\n",
    "    "
   ]
  },
  {
   "cell_type": "code",
   "execution_count": 3,
   "id": "81bf6f72-47c4-4329-b679-8956f725d6a1",
   "metadata": {},
   "outputs": [
    {
     "name": "stdout",
     "output_type": "stream",
     "text": [
      "p\n",
      "raveen\n"
     ]
    }
   ],
   "source": [
    "list_name=[\"praveen\"]\n",
    "for i in list_name:\n",
    "    print"
   ]
  },
  {
   "cell_type": "code",
   "execution_count": 11,
   "id": "566c9de2-3309-47d2-85c0-f458d1e6aac3",
   "metadata": {},
   "outputs": [
    {
     "name": "stdout",
     "output_type": "stream",
     "text": [
      "OrderedDict([('one', 1), ('three', 3), ('two', 2)])\n",
      "Key: one - Value: 1\n",
      "Key: three - Value: 3\n",
      "Key: two - Value: 2\n"
     ]
    }
   ],
   "source": [
    "from collections import OrderedDict\n",
    "\n",
    "# Creating an ordered dictionary\n",
    "ordered_dict = OrderedDict()\n",
    "ordered_dict['one']= 1\n",
    "ordered_dict['three'] = 3\n",
    "ordered_dict['two'] = 2\n",
    "print(ordered_dict)\n",
    "\n",
    "# Looping through the ordered dictionary\n",
    "for key, value in ordered_dict.items():\n",
    "    print(f\"Key: {key} - Value: {value}\")"
   ]
  },
  {
   "cell_type": "code",
   "execution_count": 27,
   "id": "c092ceb2-e03d-4fbb-a0fb-80cb5218d721",
   "metadata": {},
   "outputs": [
    {
     "name": "stdout",
     "output_type": "stream",
     "text": [
      "2\n"
     ]
    }
   ],
   "source": [
    "a=5\n",
    "sum=2\n",
    "for i  in  range(1,a,2):\n",
    " sum+= i\n",
    "print(sum)\n"
   ]
  },
  {
   "cell_type": "code",
   "execution_count": null,
   "id": "7f4196bc-cde6-462b-a2a5-7d74c12fe455",
   "metadata": {},
   "outputs": [],
   "source": [
    "\n",
    "    "
   ]
  },
  {
   "cell_type": "code",
   "execution_count": null,
   "id": "5992fd06-a6dd-43b6-9b37-30a8b7616fc9",
   "metadata": {},
   "outputs": [],
   "source": []
  },
  {
   "cell_type": "code",
   "execution_count": 10,
   "id": "3ed2125a-74a4-4350-b036-5cdf050dffce",
   "metadata": {},
   "outputs": [
    {
     "name": "stdout",
     "output_type": "stream",
     "text": [
      "5 x 0 = 0\n",
      "5 x 1 = 5\n",
      "5 x 2 = 10\n",
      "5 x 3 = 15\n",
      "5 x 4 = 20\n",
      "5 x 5 = 25\n",
      "5 x 6 = 30\n",
      "5 x 7 = 35\n",
      "5 x 8 = 40\n",
      "5 x 9 = 45\n",
      "5 x 10 = 50\n"
     ]
    }
   ],
   "source": [
    "number =5\n",
    "\n",
    "# Define the range for the multiplication table (e.g., up to 10)\n",
    "table_range = 10\n",
    "\n",
    "# Using a for loop to iterate and print the multiplication table\n",
    "for i in range(0, table_range + 1):\n",
    "    result = number * i\n",
    "    print(f\"{number} x {i} = {result}\")\n"
   ]
  },
  {
   "cell_type": "code",
   "execution_count": 26,
   "id": "2c4c2ebb-a76e-4bc9-82b9-7b614168070e",
   "metadata": {},
   "outputs": [
    {
     "name": "stdout",
     "output_type": "stream",
     "text": [
      "1 x 13 = 13\n",
      "2 x 13 = 26\n",
      "3 x 13 = 39\n",
      "4 x 13 = 52\n",
      "5 x 13 = 65\n",
      "6 x 13 = 78\n",
      "7 x 13 = 91\n",
      "8 x 13 = 104\n",
      "9 x 13 = 117\n",
      "10 x 13 = 130\n",
      "11 x 13 = 143\n",
      "12 x 13 = 156\n",
      "13 x 13 = 169\n",
      "14 x 13 = 182\n",
      "15 x 13 = 195\n",
      "16 x 13 = 208\n",
      "17 x 13 = 221\n",
      "18 x 13 = 234\n"
     ]
    }
   ],
   "source": [
    "a= 13\n",
    "end=19\n",
    "for i in range(1,end,+1):\n",
    "     result=a * i\n",
    "     print(f\"{i} x {a} = {result}\")\n",
    "    "
   ]
  },
  {
   "cell_type": "code",
   "execution_count": 31,
   "id": "b4fc452c-fd24-4d1e-ad8f-40dc315e9791",
   "metadata": {},
   "outputs": [
    {
     "name": "stdout",
     "output_type": "stream",
     "text": [
      "this is not   majdam palindrom\n"
     ]
    }
   ],
   "source": [
    "given_name ='madam'\n",
    "reverse_name=\"\"\n",
    "\n",
    "for i in given_name:\n",
    "    reverse_name=i+reverse_name\n",
    "    \n",
    "if (given_name==reverse_name):\n",
    "     print(\"this is \",given_name,\"palindrom\")\n",
    "        \n",
    "else:\n",
    "    print(\"this is not  \",given_name,\"palindrom\")\n"
   ]
  },
  {
   "cell_type": "code",
   "execution_count": null,
   "id": "5cc8a6cf-c216-40b0-890e-2ebd867eb5af",
   "metadata": {},
   "outputs": [],
   "source": [
    "pip install rembg"
   ]
  },
  {
   "cell_type": "code",
   "execution_count": null,
   "id": "e700e527-2c12-4301-89c7-1ace5ea45ab6",
   "metadata": {},
   "outputs": [],
   "source": []
  },
  {
   "cell_type": "code",
   "execution_count": 6,
   "id": "93523e85-b344-4322-a95f-5b4564f3f0c3",
   "metadata": {},
   "outputs": [
    {
     "ename": "ImportError",
     "evalue": "cannot import name 'virat' from 'PIL' (C:\\Users\\KBRO\\AppData\\Local\\Programs\\Python\\Python311\\Lib\\site-packages\\PIL\\__init__.py)",
     "output_type": "error",
     "traceback": [
      "\u001b[1;31m---------------------------------------------------------------------------\u001b[0m",
      "\u001b[1;31mImportError\u001b[0m                               Traceback (most recent call last)",
      "Cell \u001b[1;32mIn[6], line 2\u001b[0m\n\u001b[0;32m      1\u001b[0m \u001b[38;5;28;01mfrom\u001b[39;00m \u001b[38;5;21;01mrembg\u001b[39;00m \u001b[38;5;28;01mimport\u001b[39;00m remove\n\u001b[1;32m----> 2\u001b[0m \u001b[38;5;28;01mfrom\u001b[39;00m \u001b[38;5;21;01mPIL\u001b[39;00m \u001b[38;5;28;01mimport\u001b[39;00m virat\n\u001b[0;32m      3\u001b[0m source\u001b[38;5;241m=\u001b[39m\u001b[38;5;124m'\u001b[39m\u001b[38;5;124mvirat.jpg\u001b[39m\u001b[38;5;124m'\u001b[39m\n\u001b[0;32m      4\u001b[0m final \u001b[38;5;241m=\u001b[39m\u001b[38;5;124m'\u001b[39m\u001b[38;5;124mconvert.png\u001b[39m\u001b[38;5;124m'\u001b[39m\n",
      "\u001b[1;31mImportError\u001b[0m: cannot import name 'virat' from 'PIL' (C:\\Users\\KBRO\\AppData\\Local\\Programs\\Python\\Python311\\Lib\\site-packages\\PIL\\__init__.py)"
     ]
    }
   ],
   "source": [
    "from rembg import remove\n",
    "from PIL import image \n",
    "source='virat.jpg'\n",
    "final ='convert.png'\n",
    "X=image.open(source)\n",
    "result=remove(x)\n",
    "result=save(final)\n",
    "print(\"finish\")"
   ]
  },
  {
   "cell_type": "code",
   "execution_count": 1,
   "id": "8ef5028b-2280-405f-87b6-6dc97f0ab94e",
   "metadata": {},
   "outputs": [
    {
     "name": "stdout",
     "output_type": "stream",
     "text": [
      "irukran\n"
     ]
    }
   ],
   "source": [
    "name='narkuri'\n",
    "store=\"\"\n",
    "for i in name:\n",
    "    store=i+store\n",
    "print(store)"
   ]
  },
  {
   "cell_type": "code",
   "execution_count": 13,
   "id": "7355da92-2ae8-44c3-94d3-dcf4427633b2",
   "metadata": {},
   "outputs": [],
   "source": [
    "from rembg import remove\n",
    "\n",
    "with open(\"player.png\", \"rb\") as input_file, open(\"output_image.png\", \"wb\") as output_file:\n",
    "    input_data = input_file.read()\n",
    "    output_data = remove(input_data)\n",
    "    output_file.write(output_data)\n"
   ]
  },
  {
   "cell_type": "code",
   "execution_count": 1,
   "id": "9b22e002-cf85-4789-bfbc-e07d3982a493",
   "metadata": {},
   "outputs": [
    {
     "name": "stdout",
     "output_type": "stream",
     "text": [
      "0 1 1 2 3 5 8 13 21 34 55 89 144 233 377 \n"
     ]
    }
   ],
   "source": [
    "def fib(n):\n",
    "    a,b=0,1\n",
    "    while a<n:\n",
    "        print(a,end=\" \")\n",
    "        a,b=b ,a+b\n",
    "    print()\n",
    "fib(500)"
   ]
  },
  {
   "cell_type": "code",
   "execution_count": 1,
   "id": "da0c53f2-aec6-428e-9bb1-ad49ae7c4217",
   "metadata": {},
   "outputs": [
    {
     "name": "stdout",
     "output_type": "stream",
     "text": [
      "Task Manager Menu\n",
      "1. Add Task\n",
      "2. Edit Task\n",
      "3. Delete Task\n",
      "4. View All Tasks\n",
      "5. Filter Tasks by Priority\n",
      "6. Exit\n"
     ]
    },
    {
     "name": "stdin",
     "output_type": "stream",
     "text": [
      "Enter your choice (1-6):  1\n"
     ]
    },
    {
     "name": "stdout",
     "output_type": "stream",
     "text": [
      "Selected: my name is praveen\n",
      "j\n",
      "Task Manager Menu\n",
      "1. Add Task\n",
      "2. Edit Task\n",
      "3. Delete Task\n",
      "4. View All Tasks\n",
      "5. Filter Tasks by Priority\n",
      "6. Exit\n"
     ]
    },
    {
     "name": "stdin",
     "output_type": "stream",
     "text": [
      "Enter your choice (1-6):  3\n"
     ]
    },
    {
     "name": "stdout",
     "output_type": "stream",
     "text": [
      "Selected: Delete Task\n",
      "Task Manager Menu\n",
      "1. Add Task\n",
      "2. Edit Task\n",
      "3. Delete Task\n",
      "4. View All Tasks\n",
      "5. Filter Tasks by Priority\n",
      "6. Exit\n"
     ]
    },
    {
     "name": "stdin",
     "output_type": "stream",
     "text": [
      "Enter your choice (1-6):  6\n"
     ]
    },
    {
     "name": "stdout",
     "output_type": "stream",
     "text": [
      "Exiting Task Manager. Goodbye!\n"
     ]
    }
   ],
   "source": [
    "class Task:\n",
    "    def __init__(self, id, title, description, priority):\n",
    "        self.id = id\n",
    "        self.title = title\n",
    "        self.description = description\n",
    "        self.priority = priority\n",
    "\n",
    "class TaskManager:\n",
    "    def __init__(self):\n",
    "        self.tasks = []\n",
    "\n",
    "    # Implement other methods here...\n",
    "\n",
    "def display_menu():\n",
    "    print(\"Task Manager Menu\")\n",
    "    print(\"1. Add Task\")\n",
    "    print(\"2. Edit Task\")\n",
    "    print(\"3. Delete Task\")\n",
    "    print(\"4. View All Tasks\")\n",
    "    print(\"5. Filter Tasks by Priority\")\n",
    "    print(\"6. Exit\")\n",
    "\n",
    "def main():\n",
    "    task_manager = TaskManager()\n",
    "\n",
    "    while True:\n",
    "        display_menu()\n",
    "        choice = input(\"Enter your choice (1-6): \")\n",
    "\n",
    "        if choice == \"1\":\n",
    "            print(\"Selected: my name is praveen\")\n",
    "            print(\"j\")\n",
    "            # Call add_task() method\n",
    "        elif choice == \"2\":\n",
    "            print(\"Selected: Edit Task\")\n",
    "            # Call edit_task() method\n",
    "        elif choice == \"3\":\n",
    "            print(\"Selected: Delete Task\")\n",
    "            # Call delete_task() method\n",
    "        elif choice == \"4\":\n",
    "            print(\"Selected: View All Tasks\")\n",
    "            # Call view_all_tasks() method\n",
    "        elif choice == \"5\":\n",
    "            print(\"Selected: Filter Tasks by Priority\")\n",
    "            # Call filter_tasks_by_priority() method\n",
    "        elif choice == \"6\":\n",
    "            print(\"Exiting Task Manager. Goodbye!\")\n",
    "            break\n",
    "        else:\n",
    "            print(\"Invalid choice. Please enter a number between 1 and 6.\")\n",
    "\n",
    "if __name__ == \"__main__\":\n",
    "    main()"
   ]
  },
  {
   "cell_type": "code",
   "execution_count": null,
   "id": "24ac2d51-1efe-4a91-843b-a805d6f1b6ae",
   "metadata": {},
   "outputs": [],
   "source": [
    "import math\n",
    "\n",
    "def add(x, y):\n",
    "    return x + y\n",
    "\n",
    "def subtract(x, y):\n",
    "    return x - y\n",
    "\n",
    "def multiply(x, y):\n",
    "    return x * y\n",
    "\n",
    "def divide(x, y):\n",
    "    if y == 0:\n",
    "        return \"Error: Division by zero!\"\n",
    "    else:\n",
    "        return x / y\n",
    "\n",
    "def square_root(x):\n",
    "    if x < 0:\n",
    "        return \"Error: Cannot compute square root of a negative number!\"\n",
    "    else:\n",
    "        return math.sqrt(x)\n",
    "\n",
    "def power(x, y):\n",
    "    return x ** y\n",
    "\n",
    "def sine(x):\n",
    "    return math.sin(x)\n",
    "\n",
    "def cosine(x):\n",
    "    return math.cos(x)\n",
    "\n",
    "def tangent(x):\n",
    "    return math.tan(x)\n",
    "\n",
    "print(\"Welcome to the Scientific Calculator!\")\n",
    "\n",
    "while True:\n",
    "    print(\"\\nSelect operation:\")\n",
    "    print(\"1. Addition\")\n",
    "    print(\"2. Subtraction\")\n",
    "    print(\"3. Multiplication\")\n",
    "    print(\"4. Division\")\n",
    "    print(\"5. Square Root\")\n",
    "    print(\"6. Exponentiation\")\n",
    "    print(\"7. Sine\")\n",
    "    print(\"8. Cosine\")\n",
    "    print(\"9. Tangent\")\n",
    "    print(\"0. Exit\")\n",
    "\n",
    "    choice = input(\"Enter choice (0-9): \")\n",
    "\n",
    "    if choice == '0':\n",
    "        print(\"Exiting the calculator. Goodbye!\")\n",
    "        break\n",
    "    elif choice in ('1', '2', '3', '4', '6'):\n",
    "        num1 = float(input(\"Enter first number: \"))\n",
    "        num2 = float(input(\"Enter second number: \"))\n",
    "\n",
    "        if choice == '1':\n",
    "            print(\"Result:\", add(num1, num2))\n",
    "        elif choice == '2':\n",
    "            print(\"Result:\", subtract(num1, num2))\n",
    "        elif choice == '3':\n",
    "            print(\"Result:\", multiply(num1, num2))\n",
    "        elif choice == '4':\n",
    "            print(\"Result:\", divide(num1, num2))\n",
    "        elif choice == '6':\n",
    "            print(\"Result:\", power(num1, num2))\n",
    "    elif choice in ('5', '7', '8', '9'):\n",
    "        num = float(input(\"Enter number: \"))\n",
    "\n",
    "        if choice == '5':\n",
    "            print(\"Result:\", square_root(num))\n",
    "        elif choice == '7':\n",
    "            print(\"Result:\", sine(num))\n",
    "        elif choice == '8':\n",
    "            print(\"Result:\", cosine(num))\n",
    "        elif choice == '9':\n",
    "            print(\"Result:\", tangent(num))\n",
    "    else:\n",
    "        print(\"Invalid input. Please enter a number between 0 and 9.\")"
   ]
  },
  {
   "cell_type": "code",
   "execution_count": 5,
   "id": "dafe2c7f-1511-4046-90b4-33bf3e7be017",
   "metadata": {},
   "outputs": [
    {
     "name": "stdout",
     "output_type": "stream",
     "text": [
      "this the result: praveen\n",
      "_muthu\n",
      "phone\n",
      "825993115\n",
      " gmail-prv23@gmail.com\n"
     ]
    }
   ],
   "source": [
    "first_name=\"praveen\\n\"\n",
    "sure_name=\"_muthu\\n\"\n",
    "third_number=\"phone\\n825993115\\n\"\n",
    "gmail=\"gmail-prv23@gmail.com\"\n",
    "answer=(first_name+sure_name)+(third_number)\n",
    "print(\"this the result:\",answer,gmail)"
   ]
  },
  {
   "cell_type": "code",
   "execution_count": 1,
   "id": "1d4215ad-8872-41b4-b987-f85a55f656b1",
   "metadata": {},
   "outputs": [
    {
     "name": "stdout",
     "output_type": "stream",
     "text": [
      "10\n"
     ]
    }
   ],
   "source": [
    "num_1=10\n",
    "num_2=5\n",
    "answer=(num_1)\n",
    "print(answer)"
   ]
  },
  {
   "cell_type": "code",
   "execution_count": 9,
   "id": "0812e923-0c2d-4872-8827-ad12256c7e8f",
   "metadata": {},
   "outputs": [
    {
     "name": "stdout",
     "output_type": "stream",
     "text": [
      "balance 4\n"
     ]
    }
   ],
   "source": [
    "total_cut_pizza=29\n",
    "eaten_pizza=25\n",
    "slaicizing_pizza=total_cut_pizza-eaten_pizza\n",
    "print(\"balance\",slaicizing_pizza)\n"
   ]
  },
  {
   "cell_type": "code",
   "execution_count": 6,
   "id": "5a2630a7-fabc-474b-8738-2356e1b7e680",
   "metadata": {},
   "outputs": [
    {
     "ename": "RecursionError",
     "evalue": "maximum recursion depth exceeded in comparison",
     "output_type": "error",
     "traceback": [
      "\u001b[1;31m---------------------------------------------------------------------------\u001b[0m",
      "\u001b[1;31mRecursionError\u001b[0m                            Traceback (most recent call last)",
      "Cell \u001b[1;32mIn[6], line 7\u001b[0m\n\u001b[0;32m      5\u001b[0m      \u001b[38;5;28;01mreturn\u001b[39;00m n \u001b[38;5;241m*\u001b[39m factorial(n\u001b[38;5;241m-\u001b[39m\u001b[38;5;241m1\u001b[39m)\n\u001b[0;32m      6\u001b[0m number\u001b[38;5;241m=\u001b[39m\u001b[38;5;241m5\u001b[39m\n\u001b[1;32m----> 7\u001b[0m \u001b[38;5;28mprint\u001b[39m(\u001b[38;5;124m\"\u001b[39m\u001b[38;5;124mThe factorial of\u001b[39m\u001b[38;5;124m\"\u001b[39m, number, \u001b[38;5;124m\"\u001b[39m\u001b[38;5;124mis\u001b[39m\u001b[38;5;124m\"\u001b[39m, \u001b[43mfactorial\u001b[49m\u001b[43m(\u001b[49m\u001b[43mnumber\u001b[49m\u001b[43m)\u001b[49m)\n",
      "Cell \u001b[1;32mIn[6], line 5\u001b[0m, in \u001b[0;36mfactorial\u001b[1;34m(n)\u001b[0m\n\u001b[0;32m      3\u001b[0m     \u001b[38;5;28;01mreturn\u001b[39;00m n\n\u001b[0;32m      4\u001b[0m \u001b[38;5;28;01melse\u001b[39;00m:\n\u001b[1;32m----> 5\u001b[0m  \u001b[38;5;28;01mreturn\u001b[39;00m n \u001b[38;5;241m*\u001b[39m \u001b[43mfactorial\u001b[49m\u001b[43m(\u001b[49m\u001b[43mn\u001b[49m\u001b[38;5;241;43m-\u001b[39;49m\u001b[38;5;241;43m1\u001b[39;49m\u001b[43m)\u001b[49m\n",
      "Cell \u001b[1;32mIn[6], line 5\u001b[0m, in \u001b[0;36mfactorial\u001b[1;34m(n)\u001b[0m\n\u001b[0;32m      3\u001b[0m     \u001b[38;5;28;01mreturn\u001b[39;00m n\n\u001b[0;32m      4\u001b[0m \u001b[38;5;28;01melse\u001b[39;00m:\n\u001b[1;32m----> 5\u001b[0m  \u001b[38;5;28;01mreturn\u001b[39;00m n \u001b[38;5;241m*\u001b[39m \u001b[43mfactorial\u001b[49m\u001b[43m(\u001b[49m\u001b[43mn\u001b[49m\u001b[38;5;241;43m-\u001b[39;49m\u001b[38;5;241;43m1\u001b[39;49m\u001b[43m)\u001b[49m\n",
      "    \u001b[1;31m[... skipping similar frames: factorial at line 5 (2968 times)]\u001b[0m\n",
      "Cell \u001b[1;32mIn[6], line 5\u001b[0m, in \u001b[0;36mfactorial\u001b[1;34m(n)\u001b[0m\n\u001b[0;32m      3\u001b[0m     \u001b[38;5;28;01mreturn\u001b[39;00m n\n\u001b[0;32m      4\u001b[0m \u001b[38;5;28;01melse\u001b[39;00m:\n\u001b[1;32m----> 5\u001b[0m  \u001b[38;5;28;01mreturn\u001b[39;00m n \u001b[38;5;241m*\u001b[39m \u001b[43mfactorial\u001b[49m\u001b[43m(\u001b[49m\u001b[43mn\u001b[49m\u001b[38;5;241;43m-\u001b[39;49m\u001b[38;5;241;43m1\u001b[39;49m\u001b[43m)\u001b[49m\n",
      "Cell \u001b[1;32mIn[6], line 2\u001b[0m, in \u001b[0;36mfactorial\u001b[1;34m(n)\u001b[0m\n\u001b[0;32m      1\u001b[0m \u001b[38;5;28;01mdef\u001b[39;00m \u001b[38;5;21mfactorial\u001b[39m (n):\n\u001b[1;32m----> 2\u001b[0m     \u001b[38;5;28;01mif\u001b[39;00m \u001b[43mn\u001b[49m\u001b[38;5;241;43m==\u001b[39;49m\u001b[38;5;241;43m9\u001b[39;49m:\n\u001b[0;32m      3\u001b[0m         \u001b[38;5;28;01mreturn\u001b[39;00m n\n\u001b[0;32m      4\u001b[0m     \u001b[38;5;28;01melse\u001b[39;00m:\n",
      "\u001b[1;31mRecursionError\u001b[0m: maximum recursion depth exceeded in comparison"
     ]
    }
   ],
   "source": [
    "def factorial (n):\n",
    "    if n==9:\n",
    "        return n\n",
    "    else:\n",
    "     return n * factorial(n-1)\n",
    "number=5\n",
    "print(\"The factorial of\", number, \"is\", factorial(number))\n",
    "    "
   ]
  },
  {
   "cell_type": "code",
   "execution_count": null,
   "id": "56f6d016-4c0b-453b-a11f-4712f1fcd8ab",
   "metadata": {},
   "outputs": [],
   "source": [
    "}"
   ]
  },
  {
   "cell_type": "code",
   "execution_count": 3,
   "id": "bdc31093-b0d3-43d5-9374-fbe49b379168",
   "metadata": {},
   "outputs": [
    {
     "name": "stdout",
     "output_type": "stream",
     "text": [
      "4\n"
     ]
    }
   ],
   "source": [
    "for j in range(5):\n",
    "    i=j*2\n",
    "k=[j**3 for  j in range(10)]\n",
    "print(j)"
   ]
  },
  {
   "cell_type": "code",
   "execution_count": 4,
   "id": "d5433432-57f1-49ad-bf0f-45879d188bc3",
   "metadata": {},
   "outputs": [
    {
     "name": "stdout",
     "output_type": "stream",
     "text": [
      "apple an is this\n"
     ]
    }
   ],
   "source": [
    "a=\"this is an apple\"\n",
    "words=a.split()\n",
    "result=\" \".join(reversed(words))\n",
    "print(result)"
   ]
  },
  {
   "cell_type": "code",
   "execution_count": 6,
   "id": "c2a70e44-932e-449e-beee-ad2d36805af3",
   "metadata": {},
   "outputs": [
    {
     "name": "stdout",
     "output_type": "stream",
     "text": [
      "hllo,world\n"
     ]
    }
   ],
   "source": [
    "a=(\"HLLO,WORLD\")\n",
    "print(a.lower())"
   ]
  },
  {
   "cell_type": "code",
   "execution_count": 9,
   "id": "3fa9589f-8075-428e-bfdd-d0aae4aa6d41",
   "metadata": {},
   "outputs": [
    {
     "name": "stdout",
     "output_type": "stream",
     "text": [
      "hello,   world\n"
     ]
    }
   ],
   "source": [
    "a=\"hello,   world\"\n",
    "print(a.strip())"
   ]
  },
  {
   "cell_type": "code",
   "execution_count": 5,
   "id": "220709b9-13f3-4917-9f75-add7a481ef4b",
   "metadata": {},
   "outputs": [
    {
     "name": "stdout",
     "output_type": "stream",
     "text": [
      "[2, 4, 5, 23, 67, 839]\n"
     ]
    },
    {
     "ename": "AttributeError",
     "evalue": "'list' object has no attribute 'slice'",
     "output_type": "error",
     "traceback": [
      "\u001b[1;31m---------------------------------------------------------------------------\u001b[0m",
      "\u001b[1;31mAttributeError\u001b[0m                            Traceback (most recent call last)",
      "Cell \u001b[1;32mIn[5], line 5\u001b[0m\n\u001b[0;32m      3\u001b[0m my_list\u001b[38;5;241m.\u001b[39msort()\n\u001b[0;32m      4\u001b[0m \u001b[38;5;28mprint\u001b[39m(my_list)\n\u001b[1;32m----> 5\u001b[0m \u001b[43mmy_list\u001b[49m\u001b[38;5;241;43m.\u001b[39;49m\u001b[43mslice\u001b[49m()\n",
      "\u001b[1;31mAttributeError\u001b[0m: 'list' object has no attribute 'slice'"
     ]
    }
   ],
   "source": [
    "a=[2,23,4,5,67,839,2,2,5]\n",
    "my_list=list(set(a))\n",
    "my_list.sort()\n",
    "print(my_list)\n",
    "my_list.slice()\n"
   ]
  },
  {
   "cell_type": "code",
   "execution_count": 17,
   "id": "b26a5ec1-8bd0-43c0-bc0d-250feee4f69f",
   "metadata": {},
   "outputs": [],
   "source": []
  },
  {
   "cell_type": "code",
   "execution_count": 8,
   "id": "587fff0a-8ba8-4dee-8567-b19882d89414",
   "metadata": {},
   "outputs": [],
   "source": [
    "def sum_of_even_numbers(numbers):\n",
    "    total=2\n",
    "    for num in numbers:\n",
    "        if num % 2==9:\n",
    "           total +=num\n",
    "    return totals\n"
   ]
  }
 ],
 "metadata": {
  "kernelspec": {
   "display_name": "Python 3 (ipykernel)",
   "language": "python",
   "name": "python3"
  },
  "language_info": {
   "codemirror_mode": {
    "name": "ipython",
    "version": 3
   },
   "file_extension": ".py",
   "mimetype": "text/x-python",
   "name": "python",
   "nbconvert_exporter": "python",
   "pygments_lexer": "ipython3",
   "version": "3.8.2"
  }
 },
 "nbformat": 4,
 "nbformat_minor": 5
}
