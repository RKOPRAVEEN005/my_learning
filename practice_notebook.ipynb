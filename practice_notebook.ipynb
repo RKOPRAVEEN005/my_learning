{
 "cells": [
  {
   "cell_type": "code",
   "execution_count": 2,
   "id": "b0b37d29-8e37-4280-8444-566d0c459985",
   "metadata": {},
   "outputs": [
    {
     "name": "stdout",
     "output_type": "stream",
     "text": [
      "()\n"
     ]
    }
   ],
   "source": [
    "empty_tuple = ()\n",
    "print(empty_tuple)"
   ]
  },
  {
   "cell_type": "code",
   "execution_count": 11,
   "id": "620b85ce-930e-4d02-82de-266063de112b",
   "metadata": {},
   "outputs": [
    {
     "name": "stdout",
     "output_type": "stream",
     "text": [
      "{}\n"
     ]
    }
   ],
   "source": [
    "empty_dictionary = {}\n",
    "print(empty_dictionary)\n",
    "\n"
   ]
  },
  {
   "cell_type": "markdown",
   "id": "5690e4ea-03a0-464b-8807-5737a374a651",
   "metadata": {},
   "source": [
    "sample_dictionary"
   ]
  },
  {
   "cell_type": "code",
   "execution_count": 12,
   "id": "f3135c9c-ecbc-497f-9776-d76e5b999c10",
   "metadata": {},
   "outputs": [
    {
     "name": "stdout",
     "output_type": "stream",
     "text": [
      "{'key': 'value'}\n"
     ]
    }
   ],
   "source": [
    "sample_dictionary={'key':'value'}\n",
    "print(sample_dictionary)"
   ]
  },
  {
   "cell_type": "code",
   "execution_count": null,
   "id": "a096e710-90b1-42fa-8c8e-f5875d2fcc87",
   "metadata": {},
   "outputs": [],
   "source": []
  },
  {
   "cell_type": "markdown",
   "id": "6806e284-1e0a-4b94-9a12-63e50b4cdf76",
   "metadata": {},
   "source": [
    "example_dictionary"
   ]
  },
  {
   "cell_type": "code",
   "execution_count": null,
   "id": "6e95295e-040f-40a1-ac64-df61424b4623",
   "metadata": {},
   "outputs": [],
   "source": []
  },
  {
   "cell_type": "code",
   "execution_count": null,
   "id": "0492de87-3193-4327-a10f-375805460ee7",
   "metadata": {},
   "outputs": [],
   "source": [
    "get keys and value"
   ]
  },
  {
   "cell_type": "code",
   "execution_count": 26,
   "id": "58d3fce9-293c-497d-bb9f-c0e568a78feb",
   "metadata": {},
   "outputs": [
    {
     "name": "stdout",
     "output_type": "stream",
     "text": [
      "dict_keys(['name', 'qualification', 'year'])\n"
     ]
    }
   ],
   "source": [
    "print(example_dictionary.keys())"
   ]
  },
  {
   "cell_type": "code",
   "execution_count": 27,
   "id": "61397e29-0cd2-4a7d-b0dd-07d768832d93",
   "metadata": {},
   "outputs": [
    {
     "name": "stdout",
     "output_type": "stream",
     "text": [
      "dict_values([['praveen'], 'msc', '2024'])\n"
     ]
    }
   ],
   "source": [
    "print(example_dictionary.values())"
   ]
  },
  {
   "cell_type": "code",
   "execution_count": null,
   "id": "8efb0847-e765-4abe-8dfc-7f90eb59a656",
   "metadata": {},
   "outputs": [],
   "source": []
  },
  {
   "cell_type": "markdown",
   "id": "a006fb32-5cb5-4922-99da-455514eaad6a",
   "metadata": {},
   "source": [
    "add key value"
   ]
  },
  {
   "cell_type": "code",
   "execution_count": 16,
   "id": "bd1cae9f-5374-4a1f-9431-d26033837154",
   "metadata": {},
   "outputs": [
    {
     "name": "stdout",
     "output_type": "stream",
     "text": [
      "{'key1': 'value1', 'key2': 'value2', 'key3': 'value3'}\n"
     ]
    }
   ],
   "source": [
    "my_dictionary={'key1':'value1','key2':'value2'}\n",
    "my_dictionary['key3']='value3'\n",
    "print(my_dictionary)"
   ]
  },
  {
   "cell_type": "code",
   "execution_count": null,
   "id": "fa5f4f35-bf75-4880-b9c7-7adf956d9590",
   "metadata": {},
   "outputs": [],
   "source": []
  },
  {
   "cell_type": "code",
   "execution_count": null,
   "id": "4d11bc9b-ebe6-432d-bead-6b2ef6162695",
   "metadata": {},
   "outputs": [],
   "source": [
    "option 2"
   ]
  },
  {
   "cell_type": "code",
   "execution_count": 19,
   "id": "734693c0-347e-4053-9731-d6cc49b047f4",
   "metadata": {},
   "outputs": [
    {
     "name": "stdout",
     "output_type": "stream",
     "text": [
      "{'name1': 'praveen', 'name2': 'saran', 'name3': 'mari'}\n"
     ]
    }
   ],
   "source": [
    "my_dictionary={'name1':'praveen','name2':'saran'}\n",
    "my_dictionary.update({'name3':'mari'})\n",
    "print(my_dictionary)\n",
    "                      "
   ]
  },
  {
   "cell_type": "code",
   "execution_count": null,
   "id": "99e64168-d84c-4564-9bde-59668db369a5",
   "metadata": {},
   "outputs": [],
   "source": [
    "can we  add duplicate key in dictionary? no but value changes"
   ]
  },
  {
   "cell_type": "code",
   "execution_count": 35,
   "id": "6f991c93-83ed-44e3-9314-6df13e704659",
   "metadata": {},
   "outputs": [
    {
     "name": "stdout",
     "output_type": "stream",
     "text": [
      "{'key1': 'value2', 'key2': 'value2'}\n"
     ]
    }
   ],
   "source": [
    "my_dictionary={'key1':'value1','key2':'value2'}\n",
    "my_dictionary['key1']='value2'\n",
    "print(my_dictionary)"
   ]
  },
  {
   "cell_type": "code",
   "execution_count": 37,
   "id": "fb2b170f-5965-47f4-a879-4f45af606d82",
   "metadata": {},
   "outputs": [
    {
     "name": "stdout",
     "output_type": "stream",
     "text": [
      "{'key2': 'value2', 'key3': 'value3'}\n"
     ]
    }
   ],
   "source": [
    "my_dict={'key1':'value1','key2':'value2','key3':'value3'}\n",
    "del my_dict['key1']\n",
    "print(my_dict)"
   ]
  },
  {
   "cell_type": "markdown",
   "id": "ef6930b8-f01e-47e3-83c8-82a621b1b2ee",
   "metadata": {},
   "source": [
    "mutable"
   ]
  },
  {
   "cell_type": "code",
   "execution_count": 45,
   "id": "e41507e6-fdd1-40b5-ab6b-5685b5042613",
   "metadata": {},
   "outputs": [
    {
     "name": "stdout",
     "output_type": "stream",
     "text": [
      "{'key1': 'new value', 'key2': 'value2'}\n"
     ]
    }
   ],
   "source": [
    "my_dict = {'key1':'value1','key2':'value2'}\n",
    "my_dict['key1']='new value'\n",
    "print(my_dict)"
   ]
  },
  {
   "cell_type": "code",
   "execution_count": null,
   "id": "4af5fa79-766e-43be-843d-4fd4e92418a9",
   "metadata": {},
   "outputs": [],
   "source": [
    "itrable or not itrable"
   ]
  },
  {
   "cell_type": "code",
   "execution_count": 54,
   "id": "eb4a5741-ebc1-44b5-bd14-1be03fdefc2f",
   "metadata": {},
   "outputs": [
    {
     "name": "stdout",
     "output_type": "stream",
     "text": [
      "key1\n",
      "key2\n"
     ]
    }
   ],
   "source": [
    "my_dictionary={'key1':'value1','key2':'value2'}\n",
    "for i in my_dictionary:\n",
    " print(i)\n"
   ]
  },
  {
   "cell_type": "code",
   "execution_count": null,
   "id": "6f3649bd-4074-4dcc-9063-3aa9eb481883",
   "metadata": {},
   "outputs": [],
   "source": [
    "ordered"
   ]
  },
  {
   "cell_type": "code",
   "execution_count": 289,
   "id": "afd3dc3c-2ba9-4f58-8e22-5636c62e668c",
   "metadata": {},
   "outputs": [
    {
     "name": "stdout",
     "output_type": "stream",
     "text": [
      "{'key1': 'value1', 'key2': 'value2', 'key3': 'value3'}\n"
     ]
    }
   ],
   "source": [
    "my_dict={'key1':'value1','key2': 'value2','key3':'value3'}\n",
    "my_dict['key3']='value3'\n",
    "print(my_dict)"
   ]
  },
  {
   "cell_type": "code",
   "execution_count": null,
   "id": "772f557d-ba68-4e50-82b5-5fbca9a8b29e",
   "metadata": {},
   "outputs": [],
   "source": []
  },
  {
   "cell_type": "code",
   "execution_count": null,
   "id": "0cf717b8-2f08-4ca1-bacd-7d634cc5af9f",
   "metadata": {},
   "outputs": [],
   "source": []
  },
  {
   "cell_type": "markdown",
   "id": "87c8b069-faee-4d74-a2ba-9d2a93672a1c",
   "metadata": {},
   "source": [
    "empty tuple"
   ]
  },
  {
   "cell_type": "code",
   "execution_count": 65,
   "id": "8fba6c98-bd3a-4079-af35-0231ff2d261f",
   "metadata": {},
   "outputs": [
    {
     "name": "stdout",
     "output_type": "stream",
     "text": [
      "()\n"
     ]
    }
   ],
   "source": [
    "empty_tuple=()\n",
    "print(empty_tuple)\n"
   ]
  },
  {
   "cell_type": "code",
   "execution_count": null,
   "id": "7ea7d7d1-db9d-45ae-b444-8db3c0ab24ec",
   "metadata": {},
   "outputs": [],
   "source": [
    "immutaple"
   ]
  },
  {
   "cell_type": "code",
   "execution_count": 71,
   "id": "e21b4f9e-66b0-496f-af62-2c5f006fb1a5",
   "metadata": {},
   "outputs": [
    {
     "ename": "TypeError",
     "evalue": "'tuple' object does not support item assignment",
     "output_type": "error",
     "traceback": [
      "\u001b[1;31m---------------------------------------------------------------------------\u001b[0m",
      "\u001b[1;31mTypeError\u001b[0m                                 Traceback (most recent call last)",
      "Cell \u001b[1;32mIn[71], line 2\u001b[0m\n\u001b[0;32m      1\u001b[0m my_tuple\u001b[38;5;241m=\u001b[39m(\u001b[38;5;241m1\u001b[39m,\u001b[38;5;241m2\u001b[39m,\u001b[38;5;241m3\u001b[39m,\u001b[38;5;241m4\u001b[39m,\u001b[38;5;241m5\u001b[39m,\u001b[38;5;241m6\u001b[39m)\n\u001b[1;32m----> 2\u001b[0m \u001b[43mmy_tuple\u001b[49m\u001b[43m[\u001b[49m\u001b[38;5;241;43m2\u001b[39;49m\u001b[43m]\u001b[49m\u001b[38;5;241m=\u001b[39m\u001b[38;5;241m5\u001b[39m\n\u001b[0;32m      3\u001b[0m \u001b[38;5;28mprint\u001b[39m(my_tuple)\n",
      "\u001b[1;31mTypeError\u001b[0m: 'tuple' object does not support item assignment"
     ]
    }
   ],
   "source": [
    "my_tuple=(1,2,3,4,5,6)\n",
    "my_tuple[2]=5\n",
    "print(my_tuple)"
   ]
  },
  {
   "cell_type": "code",
   "execution_count": null,
   "id": "f6c17628-ade6-41ec-a748-9d002cb54547",
   "metadata": {},
   "outputs": [],
   "source": [
    "iterable"
   ]
  },
  {
   "cell_type": "code",
   "execution_count": 69,
   "id": "8d1b941d-91b0-4696-809d-ad3b35a04b09",
   "metadata": {},
   "outputs": [
    {
     "name": "stdout",
     "output_type": "stream",
     "text": [
      "1\n",
      "2\n",
      "3\n",
      "4\n",
      "5\n"
     ]
    }
   ],
   "source": [
    "my_tuple=(1,2,3,4,5)\n",
    "for i in my_tuple:\n",
    "    print(i)"
   ]
  },
  {
   "cell_type": "code",
   "execution_count": null,
   "id": "5ffb3652-bbd3-4c68-9d74-a0442d3e16e5",
   "metadata": {},
   "outputs": [],
   "source": [
    "ordered"
   ]
  },
  {
   "cell_type": "code",
   "execution_count": 85,
   "id": "42a72961-7cbf-477d-847a-648f49f8f216",
   "metadata": {},
   "outputs": [
    {
     "name": "stdout",
     "output_type": "stream",
     "text": [
      "(1, 2, 3, 4, 5, 6, 907, 1)\n"
     ]
    }
   ],
   "source": [
    "my_tuple = (1,2,3,4,5)\n",
    "new_tuple = my_tuple +(6,907,1)\n",
    "print(new_tuple)\n"
   ]
  },
  {
   "cell_type": "code",
   "execution_count": 88,
   "id": "07c87a20-b2d7-4394-8b59-9325b9a6fc0c",
   "metadata": {},
   "outputs": [
    {
     "ename": "TypeError",
     "evalue": "'tuple' object doesn't support item deletion",
     "output_type": "error",
     "traceback": [
      "\u001b[1;31m---------------------------------------------------------------------------\u001b[0m",
      "\u001b[1;31mTypeError\u001b[0m                                 Traceback (most recent call last)",
      "Cell \u001b[1;32mIn[88], line 2\u001b[0m\n\u001b[0;32m      1\u001b[0m my_tuple\u001b[38;5;241m=\u001b[39m(\u001b[38;5;241m1\u001b[39m,\u001b[38;5;241m2\u001b[39m,\u001b[38;5;241m3\u001b[39m,\u001b[38;5;241m4\u001b[39m,)\n\u001b[1;32m----> 2\u001b[0m \u001b[38;5;28;01mdel\u001b[39;00m \u001b[43mmy_tuple\u001b[49m\u001b[43m[\u001b[49m\u001b[38;5;241;43m3\u001b[39;49m\u001b[43m]\u001b[49m\n\u001b[0;32m      3\u001b[0m \u001b[38;5;28mprint\u001b[39m(my_tuple)\n",
      "\u001b[1;31mTypeError\u001b[0m: 'tuple' object doesn't support item deletion"
     ]
    }
   ],
   "source": [
    "my_tuple=(1,2,3,4,)\n",
    "del my_tuple[3]\n",
    "print(my_tuple)\n"
   ]
  },
  {
   "cell_type": "code",
   "execution_count": 96,
   "id": "231c2036-fd86-46b5-8e7d-cec59f533994",
   "metadata": {},
   "outputs": [
    {
     "ename": "SyntaxError",
     "evalue": "invalid syntax (1024164854.py, line 3)",
     "output_type": "error",
     "traceback": [
      "\u001b[1;36m  Cell \u001b[1;32mIn[96], line 3\u001b[1;36m\u001b[0m\n\u001b[1;33m    print(del my_tuple)\u001b[0m\n\u001b[1;37m          ^\u001b[0m\n\u001b[1;31mSyntaxError\u001b[0m\u001b[1;31m:\u001b[0m invalid syntax\n"
     ]
    }
   ],
   "source": [
    "my_tuple=(1,2,3,4,5)\n",
    "del my_tuple\n",
    "print( my_tuple)"
   ]
  },
  {
   "cell_type": "code",
   "execution_count": null,
   "id": "26134da7-4d86-4472-9ea4-bc3f153b227e",
   "metadata": {},
   "outputs": [],
   "source": []
  },
  {
   "cell_type": "code",
   "execution_count": null,
   "id": "f5e80d3f-52ef-40ba-bbcf-cf7cac2ff8a3",
   "metadata": {},
   "outputs": [],
   "source": []
  },
  {
   "cell_type": "code",
   "execution_count": 101,
   "id": "5e07ffc8-c9b4-415e-97bd-3aa65fbf341e",
   "metadata": {},
   "outputs": [
    {
     "ename": "TypeError",
     "evalue": "'tuple' object does not support item assignment",
     "output_type": "error",
     "traceback": [
      "\u001b[1;31m---------------------------------------------------------------------------\u001b[0m",
      "\u001b[1;31mTypeError\u001b[0m                                 Traceback (most recent call last)",
      "Cell \u001b[1;32mIn[101], line 2\u001b[0m\n\u001b[0;32m      1\u001b[0m var_4\u001b[38;5;241m=\u001b[39m \u001b[38;5;241m1\u001b[39m,\u001b[38;5;241m2\u001b[39m,\u001b[38;5;241m3\u001b[39m,\u001b[38;5;241m4\u001b[39m,\u001b[38;5;241m5\u001b[39m,\u001b[38;5;241m6\u001b[39m\n\u001b[1;32m----> 2\u001b[0m \u001b[43mvar_4\u001b[49m\u001b[43m[\u001b[49m\u001b[38;5;241;43m2\u001b[39;49m\u001b[43m]\u001b[49m\u001b[38;5;241m=\u001b[39m\u001b[38;5;241m8\u001b[39m\n\u001b[0;32m      3\u001b[0m \u001b[38;5;28mprint\u001b[39m(var_4)\n",
      "\u001b[1;31mTypeError\u001b[0m: 'tuple' object does not support item assignment"
     ]
    }
   ],
   "source": [
    "var_4= 1,2,3,4,5,6\n",
    "var_4[2]=8\n",
    "print(var_4)"
   ]
  },
  {
   "cell_type": "code",
   "execution_count": 103,
   "id": "da82ff68-479b-484e-855d-02c28c302f35",
   "metadata": {},
   "outputs": [
    {
     "ename": "TypeError",
     "evalue": "'tuple' object does not support item assignment",
     "output_type": "error",
     "traceback": [
      "\u001b[1;31m---------------------------------------------------------------------------\u001b[0m",
      "\u001b[1;31mTypeError\u001b[0m                                 Traceback (most recent call last)",
      "Cell \u001b[1;32mIn[103], line 2\u001b[0m\n\u001b[0;32m      1\u001b[0m sample_tuple\u001b[38;5;241m=\u001b[39m(\u001b[38;5;241m1\u001b[39m,\u001b[38;5;241m2\u001b[39m,\u001b[38;5;241m3\u001b[39m,\u001b[38;5;241m4\u001b[39m,\u001b[38;5;241m5\u001b[39m)\n\u001b[1;32m----> 2\u001b[0m \u001b[43msample_tuple\u001b[49m\u001b[43m[\u001b[49m\u001b[38;5;241;43m1\u001b[39;49m\u001b[43m]\u001b[49m\u001b[38;5;241m=\u001b[39m\u001b[38;5;241m12\u001b[39m\n\u001b[0;32m      3\u001b[0m \u001b[38;5;28mprint\u001b[39m(saple_tuple)\n",
      "\u001b[1;31mTypeError\u001b[0m: 'tuple' object does not support item assignment"
     ]
    }
   ],
   "source": [
    "sample_tuple=(1,2,3,4,5)\n",
    "sample_tuple[1]=12\n",
    "print(saple_tuple)"
   ]
  },
  {
   "cell_type": "code",
   "execution_count": null,
   "id": "cd86c9ef-2247-4458-9d80-48d1bef016f6",
   "metadata": {},
   "outputs": [],
   "source": []
  },
  {
   "cell_type": "code",
   "execution_count": 119,
   "id": "5b4f88f0-0bfc-4c63-8796-ee8f47c4efda",
   "metadata": {},
   "outputs": [
    {
     "ename": "SyntaxError",
     "evalue": "invalid syntax (3291334414.py, line 1)",
     "output_type": "error",
     "traceback": [
      "\u001b[1;36m  Cell \u001b[1;32mIn[119], line 1\u001b[1;36m\u001b[0m\n\u001b[1;33m    numb_gen=(numb $2 for numb in range (5))\u001b[0m\n\u001b[1;37m                   ^\u001b[0m\n\u001b[1;31mSyntaxError\u001b[0m\u001b[1;31m:\u001b[0m invalid syntax\n"
     ]
    }
   ],
   "source": [
    "numb_gen=(numb 2 for numb in range (5))\n",
    "for num in numb_gen:\n",
    "    print(num)"
   ]
  },
  {
   "cell_type": "markdown",
   "id": "038d7837-acf9-4b22-9486-7f5d2cc79ed1",
   "metadata": {},
   "source": [
    "#"
   ]
  },
  {
   "cell_type": "code",
   "execution_count": null,
   "id": "1af828f4-a590-420b-86f3-149490af722c",
   "metadata": {},
   "outputs": [],
   "source": []
  },
  {
   "cell_type": "code",
   "execution_count": 288,
   "id": "a5b6d2c2-8f49-4612-a91c-a72debb01e6c",
   "metadata": {},
   "outputs": [
    {
     "name": "stdout",
     "output_type": "stream",
     "text": [
      "{'name': ['praveen'], 'qualification': 'msc', 'year': '2024'}\n",
      "<class 'dict'>\n"
     ]
    }
   ],
   "source": [
    "my_dictionary={'key1':'value1','key2':'value'}\n",
    "my_dictionary['key1']='new_value'\n",
    "print(example_dictionary)\n",
    "print(type(my_dictionary))"
   ]
  },
  {
   "cell_type": "code",
   "execution_count": null,
   "id": "d0fdeafa-30f0-461d-a1ff-e3b9bf05dfdb",
   "metadata": {},
   "outputs": [],
   "source": []
  },
  {
   "cell_type": "code",
   "execution_count": 5,
   "id": "bdb00ee5-8aec-40df-9709-20c23fbe4f05",
   "metadata": {},
   "outputs": [
    {
     "ename": "TypeError",
     "evalue": "'int' object is not subscriptable",
     "output_type": "error",
     "traceback": [
      "\u001b[1;31m---------------------------------------------------------------------------\u001b[0m",
      "\u001b[1;31mTypeError\u001b[0m                                 Traceback (most recent call last)",
      "Cell \u001b[1;32mIn[5], line 2\u001b[0m\n\u001b[0;32m      1\u001b[0m var_1\u001b[38;5;241m=\u001b[39m\u001b[38;5;241m10\u001b[39m\n\u001b[1;32m----> 2\u001b[0m \u001b[38;5;28mprint\u001b[39m(\u001b[43mvar_1\u001b[49m\u001b[43m[\u001b[49m\u001b[38;5;241;43m2\u001b[39;49m\u001b[43m]\u001b[49m)\n",
      "\u001b[1;31mTypeError\u001b[0m: 'int' object is not subscriptable"
     ]
    }
   ],
   "source": [
    "var_1=10\n",
    "print(var_1[2])"
   ]
  },
  {
   "cell_type": "code",
   "execution_count": 25,
   "id": "bc1d720b-cf97-40f7-9e65-bf5cb157a03e",
   "metadata": {},
   "outputs": [
    {
     "ename": "SyntaxError",
     "evalue": "invalid syntax (2297621274.py, line 3)",
     "output_type": "error",
     "traceback": [
      "\u001b[1;36m  Cell \u001b[1;32mIn[25], line 3\u001b[1;36m\u001b[0m\n\u001b[1;33m    resulte=(a-b-=a+b)\u001b[0m\n\u001b[1;37m                ^\u001b[0m\n\u001b[1;31mSyntaxError\u001b[0m\u001b[1;31m:\u001b[0m invalid syntax\n"
     ]
    }
   ],
   "source": [
    "\n",
    "print(resulte)"
   ]
  }
 ],
 "metadata": {
  "kernelspec": {
   "display_name": "Python 3 (ipykernel)",
   "language": "python",
   "name": "python3"
  },
  "language_info": {
   "codemirror_mode": {
    "name": "ipython",
    "version": 3
   },
   "file_extension": ".py",
   "mimetype": "text/x-python",
   "name": "python",
   "nbconvert_exporter": "python",
   "pygments_lexer": "ipython3",
   "version": "3.11.2"
  }
 },
 "nbformat": 4,
 "nbformat_minor": 5
}
