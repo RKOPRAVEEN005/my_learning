{
 "cells": [
  {
   "cell_type": "markdown",
   "id": "b3b6d5e9-1f43-4fa9-a453-1095b4ccdaf2",
   "metadata": {},
   "source": [
    "# how to create empty set"
   ]
  },
  {
   "cell_type": "code",
   "execution_count": 24,
   "id": "18a7d55d-248d-4571-8d78-09e28cd874db",
   "metadata": {},
   "outputs": [
    {
     "name": "stdout",
     "output_type": "stream",
     "text": [
      "<class 'set'>\n"
     ]
    }
   ],
   "source": [
    "Empty_set=set()\n",
    "print(type(Empty_set))"
   ]
  },
  {
   "cell_type": "markdown",
   "id": "ff896290-52b3-4224-8887-9aa441b8c24b",
   "metadata": {},
   "source": [
    "# example set"
   ]
  },
  {
   "cell_type": "code",
   "execution_count": 8,
   "id": "c3fe010b-1f42-4462-bf39-aa50e2572004",
   "metadata": {},
   "outputs": [
    {
     "name": "stdout",
     "output_type": "stream",
     "text": [
      "{1, 2, 3, 4}\n"
     ]
    }
   ],
   "source": [
    "example_set =  {1,2,3,4}\n",
    "print(example_set)"
   ]
  },
  {
   "cell_type": "markdown",
   "id": "dce8b1ef-7611-4c4a-8815-19a86e20e06f",
   "metadata": {},
   "source": [
    "# Duplicate Remove"
   ]
  },
  {
   "cell_type": "code",
   "execution_count": 9,
   "id": "b152da4b-f9f5-49e1-9730-f643a27706c2",
   "metadata": {},
   "outputs": [
    {
     "name": "stdout",
     "output_type": "stream",
     "text": [
      "{1, 2, 3, 4, 5, 6, 7, 8}\n"
     ]
    }
   ],
   "source": [
    "example_set={1,2,3,4,5,6,6,6,7,8}\n",
    "print(example_set)"
   ]
  },
  {
   "cell_type": "markdown",
   "id": "ce1fe39d-2e81-40a9-b745-78cb0beb70d7",
   "metadata": {},
   "source": [
    "# how to remove duplicate list or tuple"
   ]
  },
  {
   "cell_type": "code",
   "execution_count": 11,
   "id": "58c73680-8721-41f7-b95c-838a5fe2cd8d",
   "metadata": {},
   "outputs": [
    {
     "name": "stdout",
     "output_type": "stream",
     "text": [
      "{1, 2, 3, 4, 5, 6, 7, 8, 9}\n"
     ]
    }
   ],
   "source": [
    "list_set=[1,2,3,4,5,6,7,7,8,9]\n",
    "unique_item=set(list_set)\n",
    "print(unique_item)"
   ]
  },
  {
   "cell_type": "markdown",
   "id": "d3d5bbf9-271a-4eee-bccc-faff593faaaf",
   "metadata": {},
   "source": [
    "# mutuable or not?immutable"
   ]
  },
  {
   "cell_type": "code",
   "execution_count": 12,
   "id": "9047de9b-3d2c-4206-9c63-dba225a199dd",
   "metadata": {},
   "outputs": [
    {
     "ename": "TypeError",
     "evalue": "'set' object does not support item assignment",
     "output_type": "error",
     "traceback": [
      "\u001b[1;31m---------------------------------------------------------------------------\u001b[0m",
      "\u001b[1;31mTypeError\u001b[0m                                 Traceback (most recent call last)",
      "Cell \u001b[1;32mIn[12], line 2\u001b[0m\n\u001b[0;32m      1\u001b[0m example_set \u001b[38;5;241m=\u001b[39m {\u001b[38;5;241m1\u001b[39m,\u001b[38;5;241m2\u001b[39m,\u001b[38;5;241m3\u001b[39m,\u001b[38;5;241m4\u001b[39m}\n\u001b[1;32m----> 2\u001b[0m \u001b[43mexample_set\u001b[49m\u001b[43m[\u001b[49m\u001b[38;5;241;43m3\u001b[39;49m\u001b[43m]\u001b[49m \u001b[38;5;241m=\u001b[39m \u001b[38;5;241m14\u001b[39m\n\u001b[0;32m      3\u001b[0m \u001b[38;5;28mprint\u001b[39m(example_set)\n",
      "\u001b[1;31mTypeError\u001b[0m: 'set' object does not support item assignment"
     ]
    }
   ],
   "source": [
    "example_set = {1,2,3,4}\n",
    "example_set[3] = 14\n",
    "print(example_set)"
   ]
  },
  {
   "cell_type": "markdown",
   "id": "9a24c12d-2d19-4886-9687-7d34f497896c",
   "metadata": {},
   "source": [
    "# ordered or unordered?unordered"
   ]
  },
  {
   "cell_type": "code",
   "execution_count": 13,
   "id": "329e96af-f061-40e1-809d-23c424475962",
   "metadata": {},
   "outputs": [
    {
     "ename": "TypeError",
     "evalue": "'set' object is not subscriptable",
     "output_type": "error",
     "traceback": [
      "\u001b[1;31m---------------------------------------------------------------------------\u001b[0m",
      "\u001b[1;31mTypeError\u001b[0m                                 Traceback (most recent call last)",
      "Cell \u001b[1;32mIn[13], line 2\u001b[0m\n\u001b[0;32m      1\u001b[0m example_set \u001b[38;5;241m=\u001b[39m {\u001b[38;5;241m1\u001b[39m,\u001b[38;5;241m2\u001b[39m,\u001b[38;5;241m3\u001b[39m,\u001b[38;5;241m4\u001b[39m}\n\u001b[1;32m----> 2\u001b[0m \u001b[38;5;28mprint\u001b[39m(\u001b[43mexample_set\u001b[49m\u001b[43m[\u001b[49m\u001b[38;5;241;43m1\u001b[39;49m\u001b[43m]\u001b[49m)\n",
      "\u001b[1;31mTypeError\u001b[0m: 'set' object is not subscriptable"
     ]
    }
   ],
   "source": [
    "example_set = {1,2,3,4}\n",
    "print(example_set[1])"
   ]
  },
  {
   "cell_type": "markdown",
   "id": "416d3882-3eb3-4ba2-abd8-7f34272f648c",
   "metadata": {},
   "source": [
    "# iterable or not? non"
   ]
  },
  {
   "cell_type": "code",
   "execution_count": 15,
   "id": "ae4609e9-e3c6-4adf-839f-adda38e1ac98",
   "metadata": {},
   "outputs": [
    {
     "name": "stdout",
     "output_type": "stream",
     "text": [
      "1\n",
      "2\n",
      "3\n",
      "4\n",
      "6\n",
      "8\n",
      "9\n"
     ]
    }
   ],
   "source": [
    "example_set = {1,2,3,4,9,8,6}\n",
    "for i in example_set:\n",
    "    print(i)"
   ]
  },
  {
   "cell_type": "markdown",
   "id": "32118ec2-ee70-4958-b216-9ceaddcb9e73",
   "metadata": {},
   "source": [
    "# Add to add the elements"
   ]
  },
  {
   "cell_type": "code",
   "execution_count": 16,
   "id": "4a2e244b-08d2-431f-b321-adf1693a311a",
   "metadata": {},
   "outputs": [
    {
     "ename": "TypeError",
     "evalue": "set.add() takes exactly one argument (2 given)",
     "output_type": "error",
     "traceback": [
      "\u001b[1;31m---------------------------------------------------------------------------\u001b[0m",
      "\u001b[1;31mTypeError\u001b[0m                                 Traceback (most recent call last)",
      "Cell \u001b[1;32mIn[16], line 2\u001b[0m\n\u001b[0;32m      1\u001b[0m example_set \u001b[38;5;241m=\u001b[39m {\u001b[38;5;241m1\u001b[39m,\u001b[38;5;241m2\u001b[39m,\u001b[38;5;241m3\u001b[39m,\u001b[38;5;241m4\u001b[39m}\n\u001b[1;32m----> 2\u001b[0m \u001b[43mexample_set\u001b[49m\u001b[38;5;241;43m.\u001b[39;49m\u001b[43madd\u001b[49m\u001b[43m(\u001b[49m\u001b[38;5;241;43m5\u001b[39;49m\u001b[43m,\u001b[49m\u001b[38;5;241;43m6\u001b[39;49m\u001b[43m)\u001b[49m\n\u001b[0;32m      3\u001b[0m \u001b[38;5;28mprint\u001b[39m(example_set)\n",
      "\u001b[1;31mTypeError\u001b[0m: set.add() takes exactly one argument (2 given)"
     ]
    }
   ],
   "source": [
    "example_set = {1,2,3,4}\n",
    "example_set.add(5,6)\n",
    "print(example_set)"
   ]
  },
  {
   "cell_type": "code",
   "execution_count": 17,
   "id": "2f0c667b-ac95-483d-889e-8456ffd841af",
   "metadata": {},
   "outputs": [
    {
     "name": "stdout",
     "output_type": "stream",
     "text": [
      "{1, 2, 3, 4, 5}\n"
     ]
    }
   ],
   "source": [
    "example_set = {1,2,3,4}\n",
    "example_set.add(5)\n",
    "print(example_set)"
   ]
  },
  {
   "cell_type": "markdown",
   "id": "e70f1032-58b4-48cd-ac52-14c110cc2e76",
   "metadata": {},
   "source": [
    "# remove the set"
   ]
  },
  {
   "cell_type": "code",
   "execution_count": 20,
   "id": "1001420e-5a32-4ded-824a-6628c7de7b44",
   "metadata": {},
   "outputs": [
    {
     "name": "stdout",
     "output_type": "stream",
     "text": [
      "{1, 2, 3}\n"
     ]
    }
   ],
   "source": [
    "example_set = {1,2,3,4}\n",
    "example_set.remove(4)\n",
    "print(example_set)"
   ]
  },
  {
   "cell_type": "markdown",
   "id": "cc55d30d-556e-4516-a558-27efe3274f15",
   "metadata": {},
   "source": [
    "# intersection"
   ]
  },
  {
   "cell_type": "code",
   "execution_count": 21,
   "id": "03efae27-5154-4e2a-9131-c128c24725cd",
   "metadata": {},
   "outputs": [
    {
     "name": "stdout",
     "output_type": "stream",
     "text": [
      "{1, 2}\n"
     ]
    }
   ],
   "source": [
    "example_set1 = {1,2,3,4}\n",
    "example_set2 = {1,2,5,6}\n",
    "union_set =  example_set1.intersection(example_set2)\n",
    "print(union_set)"
   ]
  },
  {
   "cell_type": "markdown",
   "id": "1a4490ad-8226-42f3-8758-c48e79d5ee21",
   "metadata": {},
   "source": [
    "# union"
   ]
  },
  {
   "cell_type": "code",
   "execution_count": 23,
   "id": "d1aa4d59-bfb7-4cb6-b79a-440f0f661ada",
   "metadata": {},
   "outputs": [
    {
     "name": "stdout",
     "output_type": "stream",
     "text": [
      "{1, 2, 3, 4, 5, 6}\n"
     ]
    }
   ],
   "source": [
    "example_set1 = {1,2,3,4}\n",
    "example_set2 = {1,2,5,6}\n",
    "union_set =  example_set1.union(example_set2)\n",
    "print(union_set)"
   ]
  },
  {
   "cell_type": "markdown",
   "id": "fd7f0b9d-0461-4283-921e-4a3c5fbc0fcb",
   "metadata": {},
   "source": []
  },
  {
   "cell_type": "code",
   "execution_count": null,
   "id": "2df5413a-b30d-4693-80e4-0308b460fac3",
   "metadata": {},
   "outputs": [],
   "source": []
  },
  {
   "cell_type": "code",
   "execution_count": null,
   "id": "d519661b-6073-4448-a6c0-5f66a5733b8a",
   "metadata": {},
   "outputs": [],
   "source": []
  }
 ],
 "metadata": {
  "kernelspec": {
   "display_name": "Python 3 (ipykernel)",
   "language": "python",
   "name": "python3"
  },
  "language_info": {
   "codemirror_mode": {
    "name": "ipython",
    "version": 3
   },
   "file_extension": ".py",
   "mimetype": "text/x-python",
   "name": "python",
   "nbconvert_exporter": "python",
   "pygments_lexer": "ipython3",
   "version": "3.11.2"
  }
 },
 "nbformat": 4,
 "nbformat_minor": 5
}
