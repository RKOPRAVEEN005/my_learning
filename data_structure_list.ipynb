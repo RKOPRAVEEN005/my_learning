{
 "cells": [
  {
   "cell_type": "markdown",
   "id": "53f3c990-41c8-451c-b393-306fc590efd7",
   "metadata": {},
   "source": [
    "# how to create an empty list"
   ]
  },
  {
   "cell_type": "code",
   "execution_count": 1,
   "id": "36b67e57-858d-4cb9-aae9-d603b7fd0a9a",
   "metadata": {},
   "outputs": [
    {
     "name": "stdout",
     "output_type": "stream",
     "text": [
      "[]\n"
     ]
    }
   ],
   "source": [
    "empty_list = []\n",
    "\n",
    "print(empty_list)\n"
   ]
  },
  {
   "cell_type": "markdown",
   "id": "fed6ba86-8d71-4b37-8b74-e3d340d1953d",
   "metadata": {},
   "source": [
    "# how to find of list"
   ]
  },
  {
   "cell_type": "code",
   "execution_count": 19,
   "id": "eddd2151-9fae-4dc2-8fba-acfaeaa46a55",
   "metadata": {},
   "outputs": [
    {
     "name": "stdout",
     "output_type": "stream",
     "text": [
      "<class 'list'>\n"
     ]
    }
   ],
   "source": [
    "sample_list=[]\n",
    "print(type(sample_list))"
   ]
  },
  {
   "cell_type": "markdown",
   "id": "bbc434cd-ff55-4ce3-ab3d-ec07771014a1",
   "metadata": {},
   "source": [
    "# list of numbers"
   ]
  },
  {
   "cell_type": "code",
   "execution_count": 2,
   "id": "83862d9c-ab97-4ae3-a24e-4ff9831bcdc4",
   "metadata": {},
   "outputs": [
    {
     "name": "stdout",
     "output_type": "stream",
     "text": [
      "[1, 2, 3, 4, 5]\n"
     ]
    }
   ],
   "source": [
    "number_list =[1,2,3,4,5]\n",
    "print(number_list)\n"
   ]
  },
  {
   "cell_type": "markdown",
   "id": "da6a5822-7ea3-47a7-afe3-e0cb79a22246",
   "metadata": {},
   "source": [
    "# list of string"
   ]
  },
  {
   "cell_type": "code",
   "execution_count": 3,
   "id": "6ef3598b-481a-4014-b55b-6aa8b5d1589e",
   "metadata": {},
   "outputs": [
    {
     "name": "stdout",
     "output_type": "stream",
     "text": [
      "['praveen', 'kumar']\n"
     ]
    }
   ],
   "source": [
    "name_list=['praveen','kumar']\n",
    "print(name_list)"
   ]
  },
  {
   "cell_type": "markdown",
   "id": "52d92342-cd43-479a-8fc3-183859700345",
   "metadata": {},
   "source": [
    "# list is mutable or immutable? mutable"
   ]
  },
  {
   "cell_type": "code",
   "execution_count": 5,
   "id": "2ccdcf0d-72fa-4bd9-a3d0-4a6ee2a2cd60",
   "metadata": {},
   "outputs": [
    {
     "name": "stdout",
     "output_type": "stream",
     "text": [
      "[1, 3, 3, 4, 5]\n"
     ]
    }
   ],
   "source": [
    "sample_list=[1,2,3,4,5]\n",
    "sample_list [1]= 3\n",
    "#del.sample_list[1]\n",
    "print(sample_list)\n",
    "\n"
   ]
  },
  {
   "cell_type": "markdown",
   "id": "a02de53f-deb8-4678-87ca-bc2ce4048a88",
   "metadata": {},
   "source": [
    "# iterabel or not ? iterable"
   ]
  },
  {
   "cell_type": "code",
   "execution_count": 25,
   "id": "7094fd1a-dc8d-4da4-82a4-05e533d04dab",
   "metadata": {},
   "outputs": [
    {
     "name": "stdout",
     "output_type": "stream",
     "text": [
      "1\n",
      "2\n",
      "3\n",
      "4\n",
      "5\n"
     ]
    }
   ],
   "source": [
    "sample_list= (1,2,3,4,5)\n",
    "for i in sample_list:\n",
    " print(i)\n"
   ]
  },
  {
   "cell_type": "markdown",
   "id": "32a25116-9bc4-447a-a6a9-b9328da85d42",
   "metadata": {},
   "source": [
    "# ordered or unordered?ordered"
   ]
  },
  {
   "cell_type": "code",
   "execution_count": 12,
   "id": "e7de3f80-5bf5-4734-b402-b0a413abf550",
   "metadata": {},
   "outputs": [
    {
     "name": "stdout",
     "output_type": "stream",
     "text": [
      "1\n",
      "2\n",
      "3\n",
      "4\n",
      "5\n"
     ]
    }
   ],
   "source": [
    "\n",
    "for i in sample_list:\n",
    "    print(i)\n"
   ]
  },
  {
   "cell_type": "markdown",
   "id": "1ce998d6-e1dc-425b-b3b6-9de33d6d3b58",
   "metadata": {},
   "source": [
    "# max ,min"
   ]
  },
  {
   "cell_type": "code",
   "execution_count": 37,
   "id": "30f6d960-a1c4-4866-a444-1a75bdaaf365",
   "metadata": {},
   "outputs": [
    {
     "name": "stdout",
     "output_type": "stream",
     "text": [
      "7\n",
      "1\n"
     ]
    }
   ],
   "source": [
    "cricket_score= [7,2,4,6,1]\n",
    "print(max(cricket_score))\n",
    "print(min(cricket_score))\n"
   ]
  },
  {
   "cell_type": "markdown",
   "id": "f8afd09c-5113-440f-a533-d239267be249",
   "metadata": {},
   "source": [
    "# sort(ascending, descending)"
   ]
  },
  {
   "cell_type": "code",
   "execution_count": 2,
   "id": "5d5e6e82-1e76-4a6c-bfff-18f91b6b5529",
   "metadata": {},
   "outputs": [
    {
     "name": "stdout",
     "output_type": "stream",
     "text": [
      "[4, 5, 20, 27, 37, 81]\n"
     ]
    }
   ],
   "source": [
    "cricket_score=[4,5,37,27,81,20]\n",
    "\n",
    "cricket_score.sort()\n",
    "\n",
    "print(cricket_score)"
   ]
  },
  {
   "cell_type": "code",
   "execution_count": 3,
   "id": "6a4b3601-86f6-4fa3-8af2-54c328bc7424",
   "metadata": {},
   "outputs": [
    {
     "name": "stdout",
     "output_type": "stream",
     "text": [
      "[81, 37, 27, 20, 5, 4]\n"
     ]
    }
   ],
   "source": [
    "cricket_score.sort(reverse=True)\n",
    "cricket_score.sort(reverse=True)\n",
    "print(cricket_score)"
   ]
  },
  {
   "cell_type": "markdown",
   "id": "5982da79-a34c-4564-b26a-409ba10f92b3",
   "metadata": {},
   "source": [
    "# concatenate two list"
   ]
  },
  {
   "cell_type": "code",
   "execution_count": 8,
   "id": "ee9ecafe-65a7-49ff-b432-c89f44382818",
   "metadata": {},
   "outputs": [
    {
     "name": "stdout",
     "output_type": "stream",
     "text": [
      "[1, 2, 3, 4, 8, 6, 7, 5, 9, 10]\n"
     ]
    }
   ],
   "source": [
    "\n",
    "sample_list1=[1,2,3,4,8]\n",
    "sample_list2=[6,7,5,9,10]\n",
    "print(sample_list1 + sample_list2)"
   ]
  },
  {
   "cell_type": "code",
   "execution_count": 9,
   "id": "ff7dc2c8-53cb-4050-98fc-abef77360e8c",
   "metadata": {},
   "outputs": [
    {
     "name": "stdout",
     "output_type": "stream",
     "text": [
      "[1, 2, 3, 4, 8, 6, 7, 5, 9, 10]\n"
     ]
    }
   ],
   "source": [
    "sample_list1.extend(sample_list2)\n",
    "print(sample_list1)"
   ]
  },
  {
   "cell_type": "markdown",
   "id": "b8e89589-5e4f-435d-8b7f-596cc9f7de60",
   "metadata": {},
   "source": [
    "# adding element two list"
   ]
  },
  {
   "cell_type": "code",
   "execution_count": 15,
   "id": "36c28b14-0561-4786-b952-e6eb8967bbba",
   "metadata": {},
   "outputs": [
    {
     "name": "stdout",
     "output_type": "stream",
     "text": [
      "['praveen,saran', 'mari']\n"
     ]
    }
   ],
   "source": [
    "name_list=['praveen,saran']\n",
    "name_list.append('mari')\n",
    "print(name_list)"
   ]
  },
  {
   "cell_type": "code",
   "execution_count": 10,
   "id": "d985790a-8f18-4dc0-b547-73c469aa95c5",
   "metadata": {},
   "outputs": [],
   "source": [
    "#how to insret value the list"
   ]
  },
  {
   "cell_type": "code",
   "execution_count": 33,
   "id": "8badc367-e1c3-4152-836a-c6fcd825b7d3",
   "metadata": {},
   "outputs": [
    {
     "name": "stdout",
     "output_type": "stream",
     "text": [
      "['mari', 'praveen', 'saran', 'siva', 'mani']\n",
      "siva\n"
     ]
    }
   ],
   "source": [
    "name_list=['praveen','siva']\n",
    "name_list.insert(0,'mari')\n",
    "name_list.insert(2,'saran')\n",
    "name_list.insert(4,'mani')\n",
    "print(name_list)\n",
    "print(name_list[3])\n"
   ]
  },
  {
   "cell_type": "markdown",
   "id": "5fd201bf-8e9a-4747-a0ba-1b5b79ad2fc3",
   "metadata": {},
   "source": [
    "# lenth of list"
   ]
  },
  {
   "cell_type": "code",
   "execution_count": 64,
   "id": "0abf645d-8e63-4895-86d3-1fc98338273d",
   "metadata": {},
   "outputs": [
    {
     "name": "stdout",
     "output_type": "stream",
     "text": [
      "5\n"
     ]
    }
   ],
   "source": [
    "name_list=['praveem','saran','siva','mari','mk']\n",
    "print(len(name_list))"
   ]
  },
  {
   "cell_type": "markdown",
   "id": "7f4e6a96-95a9-4c5a-8d1e-81b4f590b99f",
   "metadata": {},
   "source": [
    "# slicing"
   ]
  },
  {
   "cell_type": "code",
   "execution_count": 35,
   "id": "c5ef735f-2144-4dac-955f-98027dbe8be8",
   "metadata": {},
   "outputs": [
    {
     "name": "stdout",
     "output_type": "stream",
     "text": [
      "praveen\n",
      "mk\n",
      "mari\n"
     ]
    }
   ],
   "source": [
    "name_list=['praveen','saran','siva','mari','mk']\n",
    "print(name_list[0])\n",
    "print(name_list[4])\n",
    "print(name_list[3])\n"
   ]
  },
  {
   "cell_type": "code",
   "execution_count": 24,
   "id": "5f588a7e-4295-4a53-bf3f-26538c90adac",
   "metadata": {},
   "outputs": [
    {
     "name": "stdout",
     "output_type": "stream",
     "text": [
      "['praveen', 'saran', 'siva']\n"
     ]
    }
   ],
   "source": [
    "print(name_list[0:3])"
   ]
  },
  {
   "cell_type": "code",
   "execution_count": null,
   "id": "6cd5350b-21ef-4ea4-a1aa-2df2c4bf946b",
   "metadata": {},
   "outputs": [],
   "source": [
    "# with no start and end index"
   ]
  },
  {
   "cell_type": "code",
   "execution_count": 39,
   "id": "ecd01704-6cba-4710-91e1-87022cb22981",
   "metadata": {},
   "outputs": [
    {
     "name": "stdout",
     "output_type": "stream",
     "text": [
      "['praveen', 'saran', 'siva']\n"
     ]
    }
   ],
   "source": [
    "print(name_list[:3])"
   ]
  },
  {
   "cell_type": "markdown",
   "id": "dd69dd22-b469-4791-a9b3-07d0520e7ffe",
   "metadata": {},
   "source": [
    "# revase slicing"
   ]
  },
  {
   "cell_type": "code",
   "execution_count": null,
   "id": "47d0d65c-c60b-40d3-b70e-dd26d1af9d16",
   "metadata": {},
   "outputs": [],
   "source": [
    "#fron last 3 element"
   ]
  },
  {
   "cell_type": "code",
   "execution_count": null,
   "id": "91b1f0c4-854d-4c31-8ff2-a2de8261d4b2",
   "metadata": {},
   "outputs": [],
   "source": [
    "name_list=['praveen','saran','siva','mari','mk']"
   ]
  },
  {
   "cell_type": "code",
   "execution_count": 42,
   "id": "b32b594b-f69f-49ea-ba74-f9f01f48fcee",
   "metadata": {},
   "outputs": [
    {
     "name": "stdout",
     "output_type": "stream",
     "text": [
      "['praveen', 'saran']\n"
     ]
    }
   ],
   "source": [
    "print(name_list[:-3])"
   ]
  },
  {
   "cell_type": "code",
   "execution_count": null,
   "id": "2e1142fe-0aab-4f9f-9d7b-9a60316a7b39",
   "metadata": {},
   "outputs": [],
   "source": [
    "# from last 3 element to last 2nd element"
   ]
  },
  {
   "cell_type": "code",
   "execution_count": 100,
   "id": "31d9c4e4-f794-47f3-bc76-13c2a671f2df",
   "metadata": {},
   "outputs": [
    {
     "name": "stdout",
     "output_type": "stream",
     "text": [
      "['siva']\n"
     ]
    }
   ],
   "source": [
    "print(name_list[-3:-2])"
   ]
  },
  {
   "cell_type": "code",
   "execution_count": 27,
   "id": "4a8c5905-1ae4-4971-8d09-1572afd2aadd",
   "metadata": {},
   "outputs": [],
   "source": [
    "# all element with step of 4  --->  start:end:step"
   ]
  },
  {
   "cell_type": "code",
   "execution_count": 102,
   "id": "01b25cb8-5cee-4ea7-a3df-3a2c2ac29b72",
   "metadata": {},
   "outputs": [
    {
     "name": "stdout",
     "output_type": "stream",
     "text": [
      "['praveen', 'mk']\n"
     ]
    }
   ],
   "source": [
    "print(name_list[::4])"
   ]
  },
  {
   "cell_type": "markdown",
   "id": "9b8e958c",
   "metadata": {},
   "source": [
    "# list comprehension\n"
   ]
  },
  {
   "cell_type": "code",
   "execution_count": 12,
   "id": "70d04bac",
   "metadata": {},
   "outputs": [
    {
     "name": "stdout",
     "output_type": "stream",
     "text": [
      "[0, 1, 2, 3, 4, 5, 6, 7, 8, 9]\n"
     ]
    }
   ],
   "source": [
    "my_list=[]\n",
    "for i in range(10):\n",
    "  my_list.append(i)\n",
    "print(my_list)"
   ]
  },
  {
   "cell_type": "code",
   "execution_count": 14,
   "id": "42c459af",
   "metadata": {},
   "outputs": [
    {
     "name": "stdout",
     "output_type": "stream",
     "text": [
      "[0, 1, 2, 3, 4, 5, 6, 7, 8, 9]\n"
     ]
    }
   ],
   "source": [
    "my_list=[i for i in range(10)]\n",
    "print(my_list)"
   ]
  },
  {
   "cell_type": "markdown",
   "id": "ad82c22a",
   "metadata": {},
   "source": [
    "##### Advantages\n",
    "\n",
    " Conciseness, Readability and Performance:\n",
    "List comprehensions are optimized internally in Python and are often faster than using traditional loops with append(). This is because they do not require repeated method calls (like list.append()), which improves execution time."
   ]
  }
 ],
 "metadata": {
  "kernelspec": {
   "display_name": "Python 3 (ipykernel)",
   "language": "python",
   "name": "python3"
  },
  "language_info": {
   "codemirror_mode": {
    "name": "ipython",
    "version": 3
   },
   "file_extension": ".py",
   "mimetype": "text/x-python",
   "name": "python",
   "nbconvert_exporter": "python",
   "pygments_lexer": "ipython3",
   "version": "3.12.5"
  }
 },
 "nbformat": 4,
 "nbformat_minor": 5
}
