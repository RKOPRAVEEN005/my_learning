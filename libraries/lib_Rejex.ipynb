{
 "cells": [
  {
   "cell_type": "markdown",
   "id": "55e8cbfb",
   "metadata": {},
   "source": [
    "## What is the benefit of this library?\n",
    "A RegEx, or Regular Expression, is a sequence of characters that forms a search pattern.\n",
    "\n",
    "## How to install the library?+\n",
    "Pip install regex \n",
    "\n",
    "\n",
    "\n",
    "## How to use the benefit the library?\n",
    "When you have imported the re module, you can start using regular expressions:"
   ]
  },
  {
   "cell_type": "markdown",
   "id": "e42c13eb",
   "metadata": {},
   "source": [
    "## re.split\n",
    "\n",
    "Split Returns a list where the string has been split at each match"
   ]
  },
  {
   "cell_type": "code",
   "execution_count": 9,
   "id": "67a8d919",
   "metadata": {},
   "outputs": [
    {
     "name": "stdout",
     "output_type": "stream",
     "text": [
      "['The', 'rain', 'in', 'Spain']\n"
     ]
    },
    {
     "name": "stderr",
     "output_type": "stream",
     "text": [
      "<>:3: SyntaxWarning: invalid escape sequence '\\s'\n",
      "<>:3: SyntaxWarning: invalid escape sequence '\\s'\n",
      "C:\\Users\\user\\AppData\\Local\\Temp\\ipykernel_17472\\56456276.py:3: SyntaxWarning: invalid escape sequence '\\s'\n",
      "  x=re.split(\"\\s\",txt)\n"
     ]
    }
   ],
   "source": [
    "import re\n",
    "txt = \"The rain in Spain\"\n",
    "x = re.split(\"\\s\",txt)\n",
    "print(x)"
   ]
  },
  {
   "cell_type": "markdown",
   "id": "cdade6c9",
   "metadata": {},
   "source": [
    "## re.sub\n",
    "Sub Replaces one or many matches with a string"
   ]
  },
  {
   "cell_type": "code",
   "execution_count": 11,
   "id": "3a38341b",
   "metadata": {},
   "outputs": [
    {
     "name": "stdout",
     "output_type": "stream",
     "text": [
      "i,am,from,tamilnadu\n"
     ]
    },
    {
     "name": "stderr",
     "output_type": "stream",
     "text": [
      "<>:3: SyntaxWarning: invalid escape sequence '\\s'\n",
      "<>:3: SyntaxWarning: invalid escape sequence '\\s'\n",
      "C:\\Users\\user\\AppData\\Local\\Temp\\ipykernel_17472\\923362192.py:3: SyntaxWarning: invalid escape sequence '\\s'\n",
      "  x = re.sub(\"\\s\", \",\", txt)\n"
     ]
    }
   ],
   "source": [
    "import re\n",
    "txt = \"i am from tamilnadu\"\n",
    "x = re.sub(\"\\s\", \",\", txt)\n",
    "print(x)"
   ]
  },
  {
   "cell_type": "markdown",
   "id": "c2414e82",
   "metadata": {},
   "source": [
    "## re.findall\n",
    "The findall() function returns a list containing all matches."
   ]
  },
  {
   "cell_type": "code",
   "execution_count": 5,
   "id": "148b4a0b",
   "metadata": {},
   "outputs": [
    {
     "name": "stdout",
     "output_type": "stream",
     "text": [
      "['ai', 'ai']\n"
     ]
    }
   ],
   "source": [
    "import re\n",
    "txt = \"The rain in Spain\"\n",
    "x = re.findall(\"ai\", txt)\n",
    "print(x)"
   ]
  },
  {
   "cell_type": "markdown",
   "id": "7a197076",
   "metadata": {},
   "source": [
    "## re.search()\n",
    "\n",
    "The search() function searches the string for a match, and returns a Match object if there is a match."
   ]
  },
  {
   "cell_type": "code",
   "execution_count": 6,
   "id": "fabaac18",
   "metadata": {},
   "outputs": [
    {
     "name": "stdout",
     "output_type": "stream",
     "text": [
      "The first white-space character is located in position: 3\n"
     ]
    },
    {
     "name": "stderr",
     "output_type": "stream",
     "text": [
      "<>:3: SyntaxWarning: invalid escape sequence '\\s'\n",
      "<>:3: SyntaxWarning: invalid escape sequence '\\s'\n",
      "C:\\Users\\user\\AppData\\Local\\Temp\\ipykernel_17472\\4009967224.py:3: SyntaxWarning: invalid escape sequence '\\s'\n",
      "  x = re.search(\"\\s\", txt)\n"
     ]
    }
   ],
   "source": [
    "import re\n",
    "txt = \"The rain in Spain\"\n",
    "x = re.search(\"\\s\", txt)\n",
    "print(\"The first white-space character is located in position:\", x.start())"
   ]
  }
 ],
 "metadata": {
  "kernelspec": {
   "display_name": "Python 3 (ipykernel)",
   "language": "python",
   "name": "python3"
  },
  "language_info": {
   "codemirror_mode": {
    "name": "ipython",
    "version": 3
   },
   "file_extension": ".py",
   "mimetype": "text/x-python",
   "name": "python",
   "nbconvert_exporter": "python",
   "pygments_lexer": "ipython3",
   "version": "3.12.5"
  }
 },
 "nbformat": 4,
 "nbformat_minor": 5
}
