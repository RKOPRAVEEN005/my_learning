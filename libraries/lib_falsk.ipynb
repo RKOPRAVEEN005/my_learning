{
 "cells": [
  {
   "cell_type": "markdown",
   "id": "1dbe2b43",
   "metadata": {},
   "source": [
    "## What is the benefit of this library?\n",
    " Flask is a lightweight backend framework with minimal dependencies.\n",
    "\n",
    "# How to install the library?\n",
    "\n",
    "Pip install flask\n",
    "\n",
    " \n",
    "# How to use the benefit the library?\n",
    "Flask is easy to learn because its simple and intuitive API makes it easy to learn and use for beginners.\n",
    "\n"
   ]
  },
  {
   "cell_type": "markdown",
   "id": "2af3aec7",
   "metadata": {},
   "source": [
    "# Example of the flask aplication"
   ]
  },
  {
   "cell_type": "code",
   "execution_count": 2,
   "id": "942f39bb",
   "metadata": {},
   "outputs": [
    {
     "name": "stdout",
     "output_type": "stream",
     "text": [
      "Requirement already satisfied: flask in c:\\users\\user\\pycharmprojects\\my_learning\\.venv\\lib\\site-packages (3.0.3)\n",
      "Requirement already satisfied: Werkzeug>=3.0.0 in c:\\users\\user\\pycharmprojects\\my_learning\\.venv\\lib\\site-packages (from flask) (3.0.4)\n",
      "Requirement already satisfied: Jinja2>=3.1.2 in c:\\users\\user\\pycharmprojects\\my_learning\\.venv\\lib\\site-packages (from flask) (3.1.4)\n",
      "Requirement already satisfied: itsdangerous>=2.1.2 in c:\\users\\user\\pycharmprojects\\my_learning\\.venv\\lib\\site-packages (from flask) (2.2.0)\n",
      "Requirement already satisfied: click>=8.1.3 in c:\\users\\user\\pycharmprojects\\my_learning\\.venv\\lib\\site-packages (from flask) (8.1.7)\n",
      "Requirement already satisfied: blinker>=1.6.2 in c:\\users\\user\\pycharmprojects\\my_learning\\.venv\\lib\\site-packages (from flask) (1.8.2)\n",
      "Requirement already satisfied: colorama in c:\\users\\user\\pycharmprojects\\my_learning\\.venv\\lib\\site-packages (from click>=8.1.3->flask) (0.4.6)\n",
      "Requirement already satisfied: MarkupSafe>=2.0 in c:\\users\\user\\pycharmprojects\\my_learning\\.venv\\lib\\site-packages (from Jinja2>=3.1.2->flask) (2.1.5)\n",
      "Note: you may need to restart the kernel to use updated packages.\n"
     ]
    },
    {
     "name": "stderr",
     "output_type": "stream",
     "text": [
      "\n",
      "[notice] A new release of pip is available: 23.2.1 -> 24.2\n",
      "[notice] To update, run: python.exe -m pip install --upgrade pip\n"
     ]
    }
   ],
   "source": [
    "pip install flask\n"
   ]
  },
  {
   "cell_type": "code",
   "execution_count": 6,
   "id": "3d1fa93a",
   "metadata": {},
   "outputs": [
    {
     "name": "stdout",
     "output_type": "stream",
     "text": [
      " * Serving Flask app '__main__'\n",
      " * Debug mode: off\n"
     ]
    },
    {
     "name": "stderr",
     "output_type": "stream",
     "text": [
      "WARNING: This is a development server. Do not use it in a production deployment. Use a production WSGI server instead.\n",
      " * Running on http://127.0.0.1:5000\n",
      "Press CTRL+C to quit\n"
     ]
    }
   ],
   "source": [
    "from flask import Flask\n",
    "app = Flask(__name__)\n",
    "@app.route(\"/\")\n",
    "def invite():\n",
    "    return \"welcome our site\"\n",
    "if __name__ == \"__main__\":\n",
    "    app.run()"
   ]
  },
  {
   "cell_type": "markdown",
   "metadata": {},
   "source": [
    "## (__name__)\n",
    "Flask constructor takes the name of current module(__name__) as argument."
   ]
  },
  {
   "cell_type": "code",
   "execution_count": null,
   "id": "7357b5f8",
   "metadata": {},
   "outputs": [],
   "source": [
    "app = Flask(__name__)"
   ]
  },
  {
   "cell_type": "markdown",
   "id": "307c3c21",
   "metadata": {},
   "source": [
    "# route() function \n",
    "\n",
    "The route() function of the Flask class is a decorator, which tells the application which URL should call the associated function."
   ]
  },
  {
   "cell_type": "code",
   "execution_count": null,
   "id": "a1dbc9bc",
   "metadata": {},
   "outputs": [],
   "source": [
    "@app.route('/')"
   ]
  },
  {
   "cell_type": "markdown",
   "id": "d86e7710",
   "metadata": {},
   "source": [
    "#### HTTP Method"
   ]
  },
  {
   "cell_type": "markdown",
   "id": "ebb833e5",
   "metadata": {},
   "source": [
    "## GET\n",
    "Sends data in unencrypted form to the server. Most common method."
   ]
  },
  {
   "cell_type": "code",
   "execution_count": null,
   "id": "5f37875f",
   "metadata": {},
   "outputs": [],
   "source": []
  },
  {
   "cell_type": "markdown",
   "id": "b8c7590e",
   "metadata": {},
   "source": [
    "## HEAD\n",
    "Same as GET, but without response body"
   ]
  },
  {
   "cell_type": "code",
   "execution_count": 7,
   "id": "9c1f1c2f",
   "metadata": {},
   "outputs": [],
   "source": []
  },
  {
   "cell_type": "markdown",
   "id": "de930c28",
   "metadata": {},
   "source": [
    "## POST\n",
    "Used to send HTML form data to server. Data received by POST method is not cached by server."
   ]
  },
  {
   "cell_type": "markdown",
   "id": "6eb04f15",
   "metadata": {},
   "source": [
    "## PUT\n",
    "Replaces current representation of target resource with URL."
   ]
  },
  {
   "cell_type": "markdown",
   "id": "f97b3ba3",
   "metadata": {},
   "source": [
    "## DELETE\n",
    "Deletes the target resource of a given URL"
   ]
  }
 ],
 "metadata": {
  "kernelspec": {
   "display_name": "Python 3 (ipykernel)",
   "language": "python",
   "name": "python3"
  },
  "language_info": {
   "codemirror_mode": {
    "name": "ipython",
    "version": 3
   },
   "file_extension": ".py",
   "mimetype": "text/x-python",
   "name": "python",
   "nbconvert_exporter": "python",
   "pygments_lexer": "ipython3",
   "version": "3.12.5"
  }
 },
 "nbformat": 4,
 "nbformat_minor": 5
}
