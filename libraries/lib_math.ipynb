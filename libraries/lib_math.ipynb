{
 "cells": [
  {
   "cell_type": "markdown",
   "id": "7eeee4ce-f786-4382-8009-eeddbd70dfae",
   "metadata": {},
   "source": [
    "### import math"
   ]
  },
  {
   "cell_type": "code",
   "execution_count": 1,
   "id": "44065be5-0b2b-43a3-8052-4a56cb64fbd6",
   "metadata": {},
   "outputs": [],
   "source": [
    "import math"
   ]
  },
  {
   "cell_type": "code",
   "execution_count": 2,
   "id": "f595f7e8-044b-4ca2-8e93-3a521764b393",
   "metadata": {},
   "outputs": [
    {
     "data": {
      "text/plain": [
       "11"
      ]
     },
     "execution_count": 2,
     "metadata": {},
     "output_type": "execute_result"
    }
   ],
   "source": [
    "math.ceil(10.10)"
   ]
  },
  {
   "cell_type": "code",
   "execution_count": null,
   "id": "48368104-5ffe-43d6-8ba3-204326e2a655",
   "metadata": {},
   "outputs": [],
   "source": []
  }
 ],
 "metadata": {
  "kernelspec": {
   "display_name": "Python 3 (ipykernel)",
   "language": "python",
   "name": "python3"
  },
  "language_info": {
   "codemirror_mode": {
    "name": "ipython",
    "version": 3
   },
   "file_extension": ".py",
   "mimetype": "text/x-python",
   "name": "python",
   "nbconvert_exporter": "python",
   "pygments_lexer": "ipython3",
   "version": "3.11.2"
  }
 },
 "nbformat": 4,
 "nbformat_minor": 5
}
