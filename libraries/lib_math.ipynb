{
 "cells": [
  {
   "cell_type": "markdown",
   "id": "7eeee4ce-f786-4382-8009-eeddbd70dfae",
   "metadata": {},
   "source": [
    "### import math"
   ]
  },
  {
   "cell_type": "code",
   "execution_count": 2,
   "id": "44065be5-0b2b-43a3-8052-4a56cb64fbd6",
   "metadata": {},
   "outputs": [],
   "source": [
    "import math"
   ]
  },
  {
   "cell_type": "code",
   "execution_count": 3,
   "id": "f595f7e8-044b-4ca2-8e93-3a521764b393",
   "metadata": {},
   "outputs": [
    {
     "data": {
      "text/plain": [
       "11"
      ]
     },
     "execution_count": 3,
     "metadata": {},
     "output_type": "execute_result"
    }
   ],
   "source": [
    "math.ceil(10.10)"
   ]
  },
  {
   "cell_type": "markdown",
   "id": "b1416bce",
   "metadata": {},
   "source": [
    " "
   ]
  },
  {
   "cell_type": "code",
   "execution_count": 43,
   "id": "d48346bb-2023-434f-b7f7-e5b7e5fb328d",
   "metadata": {},
   "outputs": [],
   "source": [
    "#"
   ]
  },
  {
   "cell_type": "code",
   "execution_count": 110,
   "id": "696608d6-a662-4e15-93ba-2d199c195c68",
   "metadata": {},
   "outputs": [
    {
     "data": {
      "text/plain": [
       "36"
      ]
     },
     "execution_count": 110,
     "metadata": {},
     "output_type": "execute_result"
    }
   ],
   "source": [
    "math.comb(9,2)"
   ]
  },
  {
   "cell_type": "code",
   "execution_count": null,
   "id": "65c2461e-cd67-453d-98d8-fce0694193e1",
   "metadata": {},
   "outputs": [],
   "source": [
    "#"
   ]
  },
  {
   "cell_type": "code",
   "execution_count": 64,
   "id": "dda1d346-f479-4785-b4d1-d04b1e344d64",
   "metadata": {},
   "outputs": [
    {
     "data": {
      "text/plain": [
       "2.080083823051904"
      ]
     },
     "execution_count": 64,
     "metadata": {},
     "output_type": "execute_result"
    }
   ],
   "source": [
    "math.cbrt(9)"
   ]
  }
 ],
 "metadata": {
  "kernelspec": {
   "display_name": "Python 3 (ipykernel)",
   "language": "python",
   "name": "python3"
  },
  "language_info": {
   "codemirror_mode": {
    "name": "ipython",
    "version": 3
   },
   "file_extension": ".py",
   "mimetype": "text/x-python",
   "name": "python",
   "nbconvert_exporter": "python",
   "pygments_lexer": "ipython3",
   "version": "3.12.5"
  }
 },
 "nbformat": 4,
 "nbformat_minor": 5
}
