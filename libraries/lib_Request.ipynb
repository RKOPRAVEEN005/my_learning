{
 "cells": [
  {
   "cell_type": "markdown",
   "id": "d1ecffaa",
   "metadata": {},
   "source": [
    "## What is the benefit of this library?\n",
    "Requests is an elegant and simple HTTP library for Python, built for human beings\n",
    "\n",
    "## How to install the library?\n",
    "Pip install requests\n",
    "## How to use the benefit the library?\n",
    "Requests allows you to send HTTP/1.1 requests extremely easily. There’s no need to manually add query strings to your URLs, or to form-encode your POST data. Keep-alive and HTTP connection pooling are 100% automatic"
   ]
  },
  {
   "cell_type": "markdown",
   "id": "65f6c6b2",
   "metadata": {},
   "source": [
    "## requests.get\n",
    "A GET request is typically used to retrieve data from a server."
   ]
  },
  {
   "cell_type": "code",
   "execution_count": null,
   "id": "af361ca6",
   "metadata": {
    "vscode": {
     "languageId": "plaintext"
    }
   },
   "outputs": [],
   "source": [
    "response = requests.get('https://jsonplaceholder.typicode.com/posts')"
   ]
  }
 ],
 "metadata": {
  "kernelspec": {
   "display_name": "Python 3 (ipykernel)",
   "language": "python",
   "name": "python3"
  },
  "language_info": {
   "codemirror_mode": {
    "name": "ipython",
    "version": 3
   },
   "file_extension": ".py",
   "mimetype": "text/x-python",
   "name": "python",
   "nbconvert_exporter": "python",
   "pygments_lexer": "ipython3",
   "version": "3.11.2"
  }
 },
 "nbformat": 4,
 "nbformat_minor": 5
}
