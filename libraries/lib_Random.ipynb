{
 "cells": [
  {
   "cell_type": "markdown",
   "id": "4466b389",
   "metadata": {},
   "source": [
    "## What is the benefit of this library?\n",
    "Python Random module generates random numbers in Python. These are pseudo-random numbers means they are not truly random.\n",
    "\n",
    "\n",
    "## How to install the library?\n",
    "Pip install random\n",
    "## How to use the benefit the library?\n",
    "This module can be used to perform random actions such as generating random numbers, printing random a value for a list or string, etc. It is an in-built function in Python.\n"
   ]
  },
  {
   "cell_type": "markdown",
   "id": "a904e88c",
   "metadata": {},
   "source": [
    "## randrange()\n",
    "The randrange() method returns a randomly selected element from the specified range."
   ]
  },
  {
   "cell_type": "code",
   "execution_count": null,
   "metadata": {},
   "outputs": [
    {
     "name": "stdout",
     "output_type": "stream",
     "text": [
      "7\n"
     ]
    }
   ],
   "source": [
    "import random\n",
    "\n",
    "print(random.randrange(3, 9))"
   ]
  }
 ],
 "metadata": {
  "kernelspec": {
   "display_name": "Python 3 (ipykernel)",
   "language": "python",
   "name": "python3"
  },
  "language_info": {
   "codemirror_mode": {
    "name": "ipython",
    "version": 3
   },
   "file_extension": ".py",
   "mimetype": "text/x-python",
   "name": "python",
   "nbconvert_exporter": "python",
   "pygments_lexer": "ipython3",
   "version": "3.12.5"
  }
 },
 "nbformat": 4,
 "nbformat_minor": 5
}
