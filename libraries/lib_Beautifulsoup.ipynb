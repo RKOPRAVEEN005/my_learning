{
 "cells": [
  {
   "cell_type": "markdown",
   "id": "68c0a9a0",
   "metadata": {},
   "source": [
    "## What is the benefit of this library?\n",
    "Beautiful Soup is a Python library for scraping data from HTML and XML files. It transforms complex HTML/XML documents into a Python object tree and provides simple methods to help you navigate, search, and modify the tree:\n",
    "\n",
    "\n",
    "## How to install the library?+\n",
    "   pip install Beautifull Soup\n",
    "\n",
    "\n",
    "\n",
    "## How to use the benefit the library?\n",
    "\n",
    "\n"
   ]
  }
 ],
 "metadata": {
  "kernelspec": {
   "display_name": "Python 3 (ipykernel)",
   "language": "python",
   "name": "python3"
  },
  "language_info": {
   "codemirror_mode": {
    "name": "ipython",
    "version": 3
   },
   "file_extension": ".py",
   "mimetype": "text/x-python",
   "name": "python",
   "nbconvert_exporter": "python",
   "pygments_lexer": "ipython3",
   "version": "3.11.2"
  }
 },
 "nbformat": 4,
 "nbformat_minor": 5
}
