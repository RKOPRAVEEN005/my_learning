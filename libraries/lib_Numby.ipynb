{
 "cells": [
  {
   "cell_type": "markdown",
   "id": "b15e5219",
   "metadata": {},
   "source": [
    "## What is the benefit of this library?\n",
    "NumPy is a Python library used for working with arrays.\n",
    "It also has functions for working in domain of linear algebra, fourier transform, and matrice\n",
    "## How to install the library?\n",
    "Pip install numpy\n",
    "## How to use the benefit the library?\n",
    "NumPy aims to provide an array object that is up to 50x faster than traditional Python lists."
   ]
  }
 ],
 "metadata": {
  "kernelspec": {
   "display_name": "Python 3 (ipykernel)",
   "language": "python",
   "name": "python3"
  },
  "language_info": {
   "codemirror_mode": {
    "name": "ipython",
    "version": 3
   },
   "file_extension": ".py",
   "mimetype": "text/x-python",
   "name": "python",
   "nbconvert_exporter": "python",
   "pygments_lexer": "ipython3",
   "version": "3.11.2"
  }
 },
 "nbformat": 4,
 "nbformat_minor": 5
}
