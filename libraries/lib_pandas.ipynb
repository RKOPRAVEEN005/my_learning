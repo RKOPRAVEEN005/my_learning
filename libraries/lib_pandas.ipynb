{
 "cells": [
  {
   "cell_type": "markdown",
   "id": "17ac5b8e",
   "metadata": {},
   "source": [
    "## What is the benefit of this library?\n",
    "Pandas allows us to analyze big data and make conclusions based on statistical theories.\n",
    "Pandas can clean messy data sets, and make them readable and relevant.\n",
    "Relevant data is very important in data science.\n",
    "## How to install the library?\n",
    "Pip install pandas \n",
    "## How to use the benefit the library?\n",
    "Once we  installed  pandas lib , we can import pandas  to use the application \n",
    "Like:\n",
    "Import pandas \n"
   ]
  },
  {
   "cell_type": "markdown",
   "id": "607ad596",
   "metadata": {},
   "source": [
    "## DataFrame\n",
    "DataFrame is a 2 dimensional data structure, like a 2 dimensional array, or a table with rows and columns.\n"
   ]
  },
  {
   "cell_type": "code",
   "execution_count": 2,
   "id": "047367f2",
   "metadata": {},
   "outputs": [
    {
     "name": "stdout",
     "output_type": "stream",
     "text": [
      "      name   age       city\n",
      "0  praveen  25.0    chennai\n",
      "1    saran  29.0       None\n",
      "2     arun   NaN  bangalore\n"
     ]
    }
   ],
   "source": [
    "import pandas as pd\n",
    "data={ \"name\":[\"praveen\",\"saran\",\"arun\"],\n",
    "    \"age\":[25,29,None],\n",
    "    \"city\":[\"chennai\",None,\"bangalore\"]\n",
    "}\n",
    "df=pd.DataFrame(data)\n",
    "print(df)"
   ]
  },
  {
   "cell_type": "markdown",
   "id": "14590748",
   "metadata": {},
   "source": [
    "## Local Row\n",
    "we can see from the result above, the DataFrame is like a table with rows and columns\n",
    "Pandas use the loc attribute to return one or more specified row(s)"
   ]
  },
  {
   "cell_type": "code",
   "execution_count": 26,
   "id": "16bbdd28",
   "metadata": {},
   "outputs": [
    {
     "name": "stdout",
     "output_type": "stream",
     "text": [
      "   name  age       city\n",
      "2  arun   30  bangalore\n",
      "    name  age       city\n",
      "2   arun   30  bangalore\n",
      "1  saran   29  thanjavur\n"
     ]
    }
   ],
   "source": [
    "import pandas as pd\n",
    "data={ \"name\":[\"praveen\",\"saran\",\"arun\"],\n",
    "    \"age\":[25,29,30],\n",
    "    \"city\":[\"chennai\",\"thanjavur\",\"bangalore\"]\n",
    "}\n",
    "df=pd.DataFrame(data)\n",
    "print(df.loc[[2]])\n",
    "\n",
    "# if we want to search tow 2 data we must use two squer bracate to search the data \n",
    "print(df.loc[[2,1]])\n"
   ]
  },
  {
   "cell_type": "markdown",
   "id": "3af9d9a7",
   "metadata": {},
   "source": [
    "## Named Indexes\n",
    "With the index argument, you can name your own indexes."
   ]
  },
  {
   "cell_type": "code",
   "execution_count": 29,
   "id": "21b6fa35",
   "metadata": {},
   "outputs": [
    {
     "name": "stdout",
     "output_type": "stream",
     "text": [
      "         name  age       city\n",
      "no:1  praveen   25    chennai\n",
      "no:2    saran   29  thanjavur\n",
      "no:3     arun   30  bangalore\n"
     ]
    }
   ],
   "source": [
    "import pandas as pd\n",
    "data={ \"name\":[\"praveen\",\"saran\",\"arun\"],\n",
    "    \"age\":[25,29,30],\n",
    "    \"city\":[\"chennai\",\"thanjavur\",\"bangalore\"]\n",
    "}\n",
    "df=pd.DataFrame(data,index=[\"no:1\",\"no:2\",\"no:3\"])\n",
    "print(df)"
   ]
  },
  {
   "cell_type": "markdown",
   "id": "1d38a540",
   "metadata": {},
   "source": [
    "## Read_csv\n",
    "A simple way to store big data sets is to use CSV files (comma separated files)."
   ]
  },
  {
   "cell_type": "code",
   "execution_count": 37,
   "id": "0345c05b",
   "metadata": {},
   "outputs": [
    {
     "name": "stdout",
     "output_type": "stream",
     "text": [
      "                       Country  Year   Rank  Total  S1: Demographic Pressures  \\\n",
      "0                      Somalia  2023    1st  111.9                       10.0   \n",
      "1                        Yemen  2023    2nd  108.9                        9.6   \n",
      "2                  South Sudan  2023    3rd  108.5                        9.7   \n",
      "3    Congo Democratic Republic  2023    4th  107.2                        9.7   \n",
      "4                        Syria  2023    5th  107.1                        7.4   \n",
      "..                         ...   ...    ...    ...                        ...   \n",
      "174                Switzerland  2023  175th   17.8                        2.4   \n",
      "175                New Zealand  2023  176th   16.7                        1.1   \n",
      "176                    Finland  2023  177th   16.0                        1.7   \n",
      "177                    Iceland  2023  178th   15.7                        1.5   \n",
      "178                     Norway  2023  179th   14.5                        1.4   \n",
      "\n",
      "     S2: Refugees and IDPs  C3: Group Grievance  \\\n",
      "0                      9.0                  8.7   \n",
      "1                      9.6                  8.8   \n",
      "2                     10.0                  8.6   \n",
      "3                      9.8                  9.4   \n",
      "4                      9.1                  9.1   \n",
      "..                     ...                  ...   \n",
      "174                    3.2                  2.1   \n",
      "175                    1.2                  2.0   \n",
      "176                    1.9                  0.3   \n",
      "177                    1.5                  0.5   \n",
      "178                    1.7                  3.1   \n",
      "\n",
      "     E3: Human Flight and Brain Drain  E2: Economic Inequality  E1: Economy  \\\n",
      "0                                 8.6                      9.1          9.5   \n",
      "1                                 6.4                      7.9          9.9   \n",
      "2                                 6.5                      8.6          8.6   \n",
      "3                                 6.4                      8.4          8.1   \n",
      "4                                 8.0                      6.5          9.6   \n",
      "..                                ...                      ...          ...   \n",
      "174                               1.0                      2.4          1.6   \n",
      "175                               1.6                      2.6          2.6   \n",
      "176                               1.5                      1.6          2.7   \n",
      "177                               1.6                      1.5          2.6   \n",
      "178                               0.7                      1.4          1.4   \n",
      "\n",
      "     P1: State Legitimacy  P2: Public Services  P3: Human Rights  \\\n",
      "0                     9.6                  9.8               9.0   \n",
      "1                     9.8                  9.6               9.6   \n",
      "2                     9.8                  9.7               8.7   \n",
      "3                     9.3                  9.3               9.3   \n",
      "4                    10.0                  9.0               9.1   \n",
      "..                    ...                  ...               ...   \n",
      "174                   0.3                  1.6               0.4   \n",
      "175                   0.5                  1.1               0.5   \n",
      "176                   0.4                  1.0               0.5   \n",
      "177                   0.4                  0.9               0.4   \n",
      "178                   0.4                  1.0               0.4   \n",
      "\n",
      "     C1: Security Apparatus  C2: Factionalized Elites  \\\n",
      "0                       9.5                      10.0   \n",
      "1                       8.6                       9.9   \n",
      "2                       9.9                       9.2   \n",
      "3                       8.8                       9.6   \n",
      "4                       9.4                       9.9   \n",
      "..                      ...                       ...   \n",
      "174                     1.4                       1.0   \n",
      "175                     1.6                       1.4   \n",
      "176                     2.0                       1.4   \n",
      "177                     0.4                       1.8   \n",
      "178                     1.4                       1.1   \n",
      "\n",
      "     X1: External Intervention  \n",
      "0                          9.1  \n",
      "1                          9.2  \n",
      "2                          9.2  \n",
      "3                          9.1  \n",
      "4                         10.0  \n",
      "..                         ...  \n",
      "174                        0.4  \n",
      "175                        0.5  \n",
      "176                        1.0  \n",
      "177                        2.6  \n",
      "178                        0.5  \n",
      "\n",
      "[179 rows x 16 columns]\n"
     ]
    }
   ],
   "source": [
    "import pandas as pd\n",
    "df = pd.read_csv(r'C:\\Users\\user\\Downloads\\data.csv')\n",
    "print(df)"
   ]
  },
  {
   "cell_type": "markdown",
   "id": "2a034185",
   "metadata": {},
   "source": [
    "## To_string\n",
    "\n",
    "We want to see full data information  we can use to_string \n"
   ]
  },
  {
   "cell_type": "code",
   "execution_count": 39,
   "id": "35485221",
   "metadata": {},
   "outputs": [
    {
     "name": "stdout",
     "output_type": "stream",
     "text": [
      "<bound method DataFrame.to_string of                        Country  Year   Rank  Total  S1: Demographic Pressures  \\\n",
      "0                      Somalia  2023    1st  111.9                       10.0   \n",
      "1                        Yemen  2023    2nd  108.9                        9.6   \n",
      "2                  South Sudan  2023    3rd  108.5                        9.7   \n",
      "3    Congo Democratic Republic  2023    4th  107.2                        9.7   \n",
      "4                        Syria  2023    5th  107.1                        7.4   \n",
      "..                         ...   ...    ...    ...                        ...   \n",
      "174                Switzerland  2023  175th   17.8                        2.4   \n",
      "175                New Zealand  2023  176th   16.7                        1.1   \n",
      "176                    Finland  2023  177th   16.0                        1.7   \n",
      "177                    Iceland  2023  178th   15.7                        1.5   \n",
      "178                     Norway  2023  179th   14.5                        1.4   \n",
      "\n",
      "     S2: Refugees and IDPs  C3: Group Grievance  \\\n",
      "0                      9.0                  8.7   \n",
      "1                      9.6                  8.8   \n",
      "2                     10.0                  8.6   \n",
      "3                      9.8                  9.4   \n",
      "4                      9.1                  9.1   \n",
      "..                     ...                  ...   \n",
      "174                    3.2                  2.1   \n",
      "175                    1.2                  2.0   \n",
      "176                    1.9                  0.3   \n",
      "177                    1.5                  0.5   \n",
      "178                    1.7                  3.1   \n",
      "\n",
      "     E3: Human Flight and Brain Drain  E2: Economic Inequality  E1: Economy  \\\n",
      "0                                 8.6                      9.1          9.5   \n",
      "1                                 6.4                      7.9          9.9   \n",
      "2                                 6.5                      8.6          8.6   \n",
      "3                                 6.4                      8.4          8.1   \n",
      "4                                 8.0                      6.5          9.6   \n",
      "..                                ...                      ...          ...   \n",
      "174                               1.0                      2.4          1.6   \n",
      "175                               1.6                      2.6          2.6   \n",
      "176                               1.5                      1.6          2.7   \n",
      "177                               1.6                      1.5          2.6   \n",
      "178                               0.7                      1.4          1.4   \n",
      "\n",
      "     P1: State Legitimacy  P2: Public Services  P3: Human Rights  \\\n",
      "0                     9.6                  9.8               9.0   \n",
      "1                     9.8                  9.6               9.6   \n",
      "2                     9.8                  9.7               8.7   \n",
      "3                     9.3                  9.3               9.3   \n",
      "4                    10.0                  9.0               9.1   \n",
      "..                    ...                  ...               ...   \n",
      "174                   0.3                  1.6               0.4   \n",
      "175                   0.5                  1.1               0.5   \n",
      "176                   0.4                  1.0               0.5   \n",
      "177                   0.4                  0.9               0.4   \n",
      "178                   0.4                  1.0               0.4   \n",
      "\n",
      "     C1: Security Apparatus  C2: Factionalized Elites  \\\n",
      "0                       9.5                      10.0   \n",
      "1                       8.6                       9.9   \n",
      "2                       9.9                       9.2   \n",
      "3                       8.8                       9.6   \n",
      "4                       9.4                       9.9   \n",
      "..                      ...                       ...   \n",
      "174                     1.4                       1.0   \n",
      "175                     1.6                       1.4   \n",
      "176                     2.0                       1.4   \n",
      "177                     0.4                       1.8   \n",
      "178                     1.4                       1.1   \n",
      "\n",
      "     X1: External Intervention  \n",
      "0                          9.1  \n",
      "1                          9.2  \n",
      "2                          9.2  \n",
      "3                          9.1  \n",
      "4                         10.0  \n",
      "..                         ...  \n",
      "174                        0.4  \n",
      "175                        0.5  \n",
      "176                        1.0  \n",
      "177                        2.6  \n",
      "178                        0.5  \n",
      "\n",
      "[179 rows x 16 columns]>\n"
     ]
    }
   ],
   "source": [
    "import pandas as pd\n",
    "df = pd.read_csv(r'C:\\Users\\user\\Downloads\\data.csv')\n",
    "print(df.to_string)"
   ]
  },
  {
   "cell_type": "markdown",
   "id": "034ccaae",
   "metadata": {},
   "source": [
    "## Read JSON  ----(Data importing)\n",
    "\n",
    "Big data sets are often stored, or extracted as JSON.\n",
    "\n",
    "JSON is plain text, but has the format of an object, and is well known in the world of programming, including Pandas"
   ]
  },
  {
   "cell_type": "code",
   "execution_count": 43,
   "id": "ddee57bd",
   "metadata": {},
   "outputs": [
    {
     "name": "stdout",
     "output_type": "stream",
     "text": [
      "                         {\n",
      "  \"fear\": \"quiet\"      NaN\n",
      "  \"chest\": -1477429467 NaN\n",
      "  \"how\": false         NaN\n",
      "  \"graph\": false       NaN\n",
      "  \"camp\": 929234312    NaN\n",
      "  \"plural\": \"settle\"   NaN\n",
      "}                      NaN\n"
     ]
    }
   ],
   "source": [
    "import pandas as pd\n",
    "df = pd.read_csv(r'C:\\Users\\user\\Downloads\\sample1.json')\n",
    "print(df)"
   ]
  },
  {
   "cell_type": "markdown",
   "id": "b4ed8f2a",
   "metadata": {},
   "source": [
    "## Concat()       ----(Data importing)\n",
    " function is used to concatenate (stack) DataFrames either row-wise (by default) or column-wise. It doesn't require a common column and is more useful for appending or stacking tables."
   ]
  },
  {
   "cell_type": "code",
   "execution_count": 51,
   "id": "c837eef5",
   "metadata": {},
   "outputs": [
    {
     "name": "stdout",
     "output_type": "stream",
     "text": [
      "      name  age       city\n",
      "0  praveen   25    chennai\n",
      "1    saran   29  thanjavur\n",
      "2     arun   30  bangalore\n",
      "3  praveen   25    chennai\n",
      "4    saran   29  thanjavur\n",
      "5     arun   30  bangalore\n"
     ]
    }
   ],
   "source": [
    "import pandas as pd\n",
    "data1={ \"name\":[\"praveen\",\"saran\",\"arun\"],\n",
    "    \"age\":[25,29,30],\n",
    "    \"city\":[\"chennai\",\"thanjavur\",\"bangalore\"]\n",
    "}\n",
    "df1=pd.DataFrame(data1)\n",
    "data2={ \"name\":[\"praveen\",\"saran\",\"arun\"],\n",
    "    \"age\":[25,29,30],\n",
    "    \"city\":[\"chennai\",\"thanjavur\",\"bangalore\"]\n",
    "}\n",
    "df2=pd.DataFrame(data2)\n",
    "\n",
    "concat_df = pd.concat([df1, df2], ignore_index=True)\n",
    "print(concat_df)\n"
   ]
  },
  {
   "cell_type": "markdown",
   "id": "9c32a0f9",
   "metadata": {},
   "source": [
    "## to_csv()\n",
    "The df.to_csv() function in pandas is used to save a DataFrame to a CSV file. CSV stands for \"Comma-Separated Values,\" and it's a common format for storing tabular data."
   ]
  },
  {
   "cell_type": "code",
   "execution_count": null,
   "id": "dc0d9c6b",
   "metadata": {},
   "outputs": [],
   "source": [
    "to.csv()"
   ]
  },
  {
   "cell_type": "markdown",
   "id": "8caeebd6",
   "metadata": {},
   "source": [
    "## head()      ----(Data Statistic)\n",
    "\n",
    "One of the most used method for getting a quick overview of the DataFrame, is the head() method.\n",
    "\n",
    "The head() method returns the headers and a specified number of rows, starting from the top."
   ]
  },
  {
   "cell_type": "code",
   "execution_count": 59,
   "id": "a591672d",
   "metadata": {},
   "outputs": [
    {
     "name": "stdout",
     "output_type": "stream",
     "text": [
      "   Country  Year Rank  Total  S1: Demographic Pressures  \\\n",
      "0  Somalia  2023  1st  111.9                       10.0   \n",
      "\n",
      "   S2: Refugees and IDPs  C3: Group Grievance  \\\n",
      "0                    9.0                  8.7   \n",
      "\n",
      "   E3: Human Flight and Brain Drain  E2: Economic Inequality  E1: Economy  \\\n",
      "0                               8.6                      9.1          9.5   \n",
      "\n",
      "   P1: State Legitimacy  P2: Public Services  P3: Human Rights  \\\n",
      "0                   9.6                  9.8               9.0   \n",
      "\n",
      "   C1: Security Apparatus  C2: Factionalized Elites  X1: External Intervention  \n",
      "0                     9.5                      10.0                        9.1  \n"
     ]
    }
   ],
   "source": [
    "import pandas as pd\n",
    "df = pd.read_csv(r'C:\\Users\\user\\Downloads\\data.csv')\n",
    "print(df.head(1))"
   ]
  },
  {
   "cell_type": "markdown",
   "id": "ea36245f",
   "metadata": {},
   "source": [
    "## tail()        ----(Data Statistic)\n",
    "here is also a tail() method for viewing the last rows of the DataFrame.\n",
    "\n",
    "The tail() method returns the headers and a specified number of rows, starting from the bottom."
   ]
  },
  {
   "cell_type": "code",
   "execution_count": 64,
   "id": "1a86ca13",
   "metadata": {},
   "outputs": [
    {
     "name": "stdout",
     "output_type": "stream",
     "text": [
      "         Country  Year   Rank  Total  S1: Demographic Pressures  \\\n",
      "173      Denmark  2023  174th   17.9                        2.3   \n",
      "174  Switzerland  2023  175th   17.8                        2.4   \n",
      "175  New Zealand  2023  176th   16.7                        1.1   \n",
      "176      Finland  2023  177th   16.0                        1.7   \n",
      "177      Iceland  2023  178th   15.7                        1.5   \n",
      "178       Norway  2023  179th   14.5                        1.4   \n",
      "\n",
      "     S2: Refugees and IDPs  C3: Group Grievance  \\\n",
      "173                    3.0                  3.1   \n",
      "174                    3.2                  2.1   \n",
      "175                    1.2                  2.0   \n",
      "176                    1.9                  0.3   \n",
      "177                    1.5                  0.5   \n",
      "178                    1.7                  3.1   \n",
      "\n",
      "     E3: Human Flight and Brain Drain  E2: Economic Inequality  E1: Economy  \\\n",
      "173                               1.0                      1.8          1.0   \n",
      "174                               1.0                      2.4          1.6   \n",
      "175                               1.6                      2.6          2.6   \n",
      "176                               1.5                      1.6          2.7   \n",
      "177                               1.6                      1.5          2.6   \n",
      "178                               0.7                      1.4          1.4   \n",
      "\n",
      "     P1: State Legitimacy  P2: Public Services  P3: Human Rights  \\\n",
      "173                   0.3                  1.7               0.6   \n",
      "174                   0.3                  1.6               0.4   \n",
      "175                   0.5                  1.1               0.5   \n",
      "176                   0.4                  1.0               0.5   \n",
      "177                   0.4                  0.9               0.4   \n",
      "178                   0.4                  1.0               0.4   \n",
      "\n",
      "     C1: Security Apparatus  C2: Factionalized Elites  \\\n",
      "173                     1.1                       1.4   \n",
      "174                     1.4                       1.0   \n",
      "175                     1.6                       1.4   \n",
      "176                     2.0                       1.4   \n",
      "177                     0.4                       1.8   \n",
      "178                     1.4                       1.1   \n",
      "\n",
      "     X1: External Intervention  \n",
      "173                        0.6  \n",
      "174                        0.4  \n",
      "175                        0.5  \n",
      "176                        1.0  \n",
      "177                        2.6  \n",
      "178                        0.5  \n"
     ]
    }
   ],
   "source": [
    "import pandas as pd\n",
    "df = pd.read_csv(r'C:\\Users\\user\\Downloads\\data.csv')\n",
    "print(df.tail(6))"
   ]
  },
  {
   "cell_type": "markdown",
   "id": "8f082d72",
   "metadata": {},
   "source": [
    "## dropna()\n",
    "\n",
    "#### Empty Cells\n",
    "Empty cells can potentially give you a wrong result when you analyze data.\n",
    "\n",
    "Dropna usage of pandas in python \n",
    "When we was storing data the in panda data frame, then We got a null value in pandas, so we don't need null value ,then we must remove the null value , so we use dropna () method to remove the null value in pandas"
   ]
  },
  {
   "cell_type": "code",
   "execution_count": 66,
   "id": "5348772f",
   "metadata": {},
   "outputs": [
    {
     "name": "stdout",
     "output_type": "stream",
     "text": [
      "      name   age     city\n",
      "0  praveen  25.0  chennai\n"
     ]
    }
   ],
   "source": [
    "\n",
    "import pandas as pd\n",
    "data={ \"name\":[\"praveen\",\"saran\",\"arun\"],\n",
    "    \"age\":[25,29,None],\n",
    "    \"city\":[\"chennai\",None,\"bangalore\"]\n",
    "}\n",
    "df=pd.DataFrame(data)\n",
    "result=df.dropna()\n",
    "print(result)\n"
   ]
  },
  {
   "cell_type": "markdown",
   "id": "6efd84ab",
   "metadata": {},
   "source": [
    "## fillna()\n",
    "Another way of dealing with empty cells is to insert a new value instead.\n",
    "\n",
    "This way you do not have to delete entire rows just because of some empty cells.\n",
    "\n",
    "The fillna() method allows us to replace empty cells with a value:"
   ]
  },
  {
   "cell_type": "code",
   "execution_count": 102,
   "id": "734f2777",
   "metadata": {},
   "outputs": [
    {
     "name": "stdout",
     "output_type": "stream",
     "text": [
      "      name   age       city\n",
      "0  praveen  25.0    chennai\n",
      "1    saran  29.0         20\n",
      "2     arun  20.0  bangalore\n"
     ]
    }
   ],
   "source": [
    "import pandas as pd\n",
    "data={ \"name\":[\"praveen\",\"saran\",\"arun\"],\n",
    "    \"age\":[25,29,None],\n",
    "    \"city\":[\"chennai\",None,\"bangalore\"]\n",
    "}\n",
    "df=pd.DataFrame(data)\n",
    "df.fillna(20,inplace=True)\n",
    "print(df)\n"
   ]
  },
  {
   "cell_type": "markdown",
   "id": "4690ea7b",
   "metadata": {},
   "source": [
    "## min() and max()\n",
    "\n",
    "some one persion giving the data frame or series to find max and min valaue \n",
    ",so we will use max() and min method to find the value "
   ]
  },
  {
   "cell_type": "code",
   "execution_count": 138,
   "id": "4e87607d",
   "metadata": {},
   "outputs": [
    {
     "name": "stdout",
     "output_type": "stream",
     "text": [
      "min value:\n",
      " a    1\n",
      "b    1\n",
      "c    2\n",
      "dtype: int64 max value:\n",
      " a     9\n",
      "b    23\n",
      "c    34\n",
      "dtype: int64\n",
      "indexmin value:\n",
      " a    0\n",
      "b    7\n",
      "c    6\n",
      "dtype: int64 indexmax value:\n",
      " a    4\n",
      "b    0\n",
      "c    0\n",
      "dtype: int64\n"
     ]
    }
   ],
   "source": [
    "import pandas as pd\n",
    "data={ \"a\":[1,2,3,7,9,3,4,5],\n",
    "       \"b\":[23,3,4,5,7,8,2,1],\n",
    "       \"c\":[34,5,6,7,8,9,2,3]\n",
    "       }\n",
    "df=pd.DataFrame(data)\n",
    "print(\"min value:\\n\",df.min(),\"max value:\\n\",df.max())\n",
    "\n",
    "\n",
    "data={ \"a\":[1,2,3,7,9,3,4,5],\n",
    "       \"b\":[23,3,4,5,7,8,2,1],\n",
    "       \"c\":[34,5,6,7,8,9,2,3]\n",
    "       }\n",
    "df=pd.DataFrame(data)\n",
    "print(\"indexmin value:\\n\",df.idxmin(),\"indexmax value:\\n\",df.idxmax())"
   ]
  },
  {
   "cell_type": "markdown",
   "metadata": {},
   "source": [
    "# join\n",
    "\n",
    "The join() method inserts column(s) from another DataFrame, or Series."
   ]
  },
  {
   "cell_type": "code",
   "execution_count": 5,
   "id": "ed45299d",
   "metadata": {},
   "outputs": [
    {
     "name": "stdout",
     "output_type": "stream",
     "text": [
      "      name  age  qualified\n",
      "0  praveen   25       True\n",
      "1     Mary   40      False\n",
      "2     John   30      False\n"
     ]
    }
   ],
   "source": [
    "import pandas as pd\n",
    "\n",
    "data1 = {\n",
    "  \"name\": [\"praveen\", \"Mary\", \"John\"],\n",
    "  \"age\": [25, 40, 30]\n",
    "}\n",
    "data2 = {\n",
    "  \"qualified\": [True, False, False]\n",
    "}\n",
    "df1 = pd.DataFrame(data1)\n",
    "df2 = pd.DataFrame(data2)\n",
    "\n",
    "newdf = df1.join(df2)\n",
    "print(newdf)"
   ]
  },
  {
   "cell_type": "markdown",
   "id": "321f4734",
   "metadata": {},
   "source": [
    "# append\n",
    "The append() method appends a DataFrame-like object at the end of the current DataFrame.\n",
    "\n",
    "The append() method returns a new DataFrame object, no changes are done with the original DataFrame."
   ]
  },
  {
   "cell_type": "code",
   "execution_count": 13,
   "id": "1ad9d57c",
   "metadata": {},
   "outputs": [
    {
     "ename": "AttributeError",
     "evalue": "'DataFrame' object has no attribute 'append'",
     "output_type": "error",
     "traceback": [
      "\u001b[1;31m---------------------------------------------------------------------------\u001b[0m",
      "\u001b[1;31mAttributeError\u001b[0m                            Traceback (most recent call last)",
      "\u001b[1;32m~\\AppData\\Local\\Temp\\ipykernel_16060\\3032463823.py\u001b[0m in \u001b[0;36m?\u001b[1;34m()\u001b[0m\n\u001b[0;32m     11\u001b[0m   \u001b[1;34m\"qualified\"\u001b[0m\u001b[1;33m:\u001b[0m \u001b[1;33m[\u001b[0m\u001b[1;32mTrue\u001b[0m\u001b[1;33m,\u001b[0m \u001b[1;32mFalse\u001b[0m\u001b[1;33m]\u001b[0m\u001b[1;33m\u001b[0m\u001b[1;33m\u001b[0m\u001b[0m\n\u001b[0;32m     12\u001b[0m \u001b[1;33m}\u001b[0m\u001b[1;33m\u001b[0m\u001b[1;33m\u001b[0m\u001b[0m\n\u001b[0;32m     13\u001b[0m \u001b[0mdf2\u001b[0m \u001b[1;33m=\u001b[0m \u001b[0mpd\u001b[0m\u001b[1;33m.\u001b[0m\u001b[0mDataFrame\u001b[0m\u001b[1;33m(\u001b[0m\u001b[0mdata2\u001b[0m\u001b[1;33m)\u001b[0m\u001b[1;33m\u001b[0m\u001b[1;33m\u001b[0m\u001b[0m\n\u001b[0;32m     14\u001b[0m \u001b[1;33m\u001b[0m\u001b[0m\n\u001b[1;32m---> 15\u001b[1;33m \u001b[0mnewdf\u001b[0m \u001b[1;33m=\u001b[0m \u001b[0mdf1\u001b[0m\u001b[1;33m.\u001b[0m\u001b[0mappend\u001b[0m\u001b[1;33m(\u001b[0m\u001b[0mdf2\u001b[0m\u001b[1;33m)\u001b[0m\u001b[1;33m\u001b[0m\u001b[1;33m\u001b[0m\u001b[0m\n\u001b[0m\u001b[0;32m     16\u001b[0m \u001b[1;33m\u001b[0m\u001b[0m\n\u001b[0;32m     17\u001b[0m \u001b[0mprint\u001b[0m\u001b[1;33m(\u001b[0m\u001b[0mnewdf\u001b[0m\u001b[1;33m)\u001b[0m\u001b[1;33m\u001b[0m\u001b[1;33m\u001b[0m\u001b[0m\n",
      "\u001b[1;32mc:\\Users\\user\\PycharmProjects\\my_learning\\.venv\\Lib\\site-packages\\pandas\\core\\generic.py\u001b[0m in \u001b[0;36m?\u001b[1;34m(self, name)\u001b[0m\n\u001b[0;32m   6295\u001b[0m             \u001b[1;32mand\u001b[0m \u001b[0mname\u001b[0m \u001b[1;32mnot\u001b[0m \u001b[1;32min\u001b[0m \u001b[0mself\u001b[0m\u001b[1;33m.\u001b[0m\u001b[0m_accessors\u001b[0m\u001b[1;33m\u001b[0m\u001b[1;33m\u001b[0m\u001b[0m\n\u001b[0;32m   6296\u001b[0m             \u001b[1;32mand\u001b[0m \u001b[0mself\u001b[0m\u001b[1;33m.\u001b[0m\u001b[0m_info_axis\u001b[0m\u001b[1;33m.\u001b[0m\u001b[0m_can_hold_identifiers_and_holds_name\u001b[0m\u001b[1;33m(\u001b[0m\u001b[0mname\u001b[0m\u001b[1;33m)\u001b[0m\u001b[1;33m\u001b[0m\u001b[1;33m\u001b[0m\u001b[0m\n\u001b[0;32m   6297\u001b[0m         \u001b[1;33m)\u001b[0m\u001b[1;33m:\u001b[0m\u001b[1;33m\u001b[0m\u001b[1;33m\u001b[0m\u001b[0m\n\u001b[0;32m   6298\u001b[0m             \u001b[1;32mreturn\u001b[0m \u001b[0mself\u001b[0m\u001b[1;33m[\u001b[0m\u001b[0mname\u001b[0m\u001b[1;33m]\u001b[0m\u001b[1;33m\u001b[0m\u001b[1;33m\u001b[0m\u001b[0m\n\u001b[1;32m-> 6299\u001b[1;33m         \u001b[1;32mreturn\u001b[0m \u001b[0mobject\u001b[0m\u001b[1;33m.\u001b[0m\u001b[0m__getattribute__\u001b[0m\u001b[1;33m(\u001b[0m\u001b[0mself\u001b[0m\u001b[1;33m,\u001b[0m \u001b[0mname\u001b[0m\u001b[1;33m)\u001b[0m\u001b[1;33m\u001b[0m\u001b[1;33m\u001b[0m\u001b[0m\n\u001b[0m",
      "\u001b[1;31mAttributeError\u001b[0m: 'DataFrame' object has no attribute 'append'"
     ]
    }
   ],
   "source": [
    "import pandas as pd\n",
    "\n",
    "data1 = {\n",
    "  \"age\": [16, 14, 10],\n",
    "  \"qualified\": [True, True, True]\n",
    "}\n",
    "df1 = pd.DataFrame(data1)\n",
    "\n",
    "data2 = {\n",
    "  \"age\": [55, 40],\n",
    "  \"qualified\": [True, False]\n",
    "}\n",
    "df2 = pd.DataFrame(data2)\n",
    "\n",
    "newdf = df1.append(df2)\n",
    "\n",
    "print(newdf)\n"
   ]
  },
  {
   "cell_type": "markdown",
   "id": "960bf9a8",
   "metadata": {},
   "source": [
    "# groupby \n",
    "he groupby() method allows you to group your data and execute functions on these groups."
   ]
  },
  {
   "cell_type": "code",
   "execution_count": 18,
   "id": "7183d317",
   "metadata": {},
   "outputs": [
    {
     "name": "stdout",
     "output_type": "stream",
     "text": [
      "         co2\n",
      "car         \n",
      "Ford   100.5\n",
      "Skoda   97.0\n"
     ]
    }
   ],
   "source": [
    "import pandas as pd\n",
    "\n",
    "data = {\n",
    "  'co2': [95, 90, 99, 104, 105, 94, 99, 104],\n",
    "  'model': ['Citigo', 'Fabia', 'Fiesta', 'Rapid', 'Focus', 'Mondeo', 'Octavia', 'B-Max'],\n",
    "  'car': ['Skoda', 'Skoda', 'Ford', 'Skoda', 'Ford', 'Ford', 'Skoda', 'Ford']\n",
    "}\n",
    "\n",
    "df = pd.DataFrame(data)\n",
    "numeric_df = df.select_dtypes(include=\"number\")\n",
    "\n",
    "print(df.groupby([\"car\"])[numeric_df.columns].mean())"
   ]
  },
  {
   "cell_type": "markdown",
   "id": "1fa8e7e1",
   "metadata": {},
   "source": [
    "# applay\n",
    "The apply() method allows you to apply a function along one of the axis of the DataFrame, default 0, which is the index (row) axis"
   ]
  },
  {
   "cell_type": "code",
   "execution_count": 26,
   "id": "60b58bb1",
   "metadata": {},
   "outputs": [
    {
     "name": "stdout",
     "output_type": "stream",
     "text": [
      "price            192\n",
      "total amount    2102\n",
      "dtype: int64\n"
     ]
    }
   ],
   "source": [
    "import pandas as pd \n",
    "\n",
    "def cal_sum(x):\n",
    "    return x.sum()\n",
    "data={\n",
    "     \"price\" : [12,34,56,90],\n",
    "     \"total amount\" : [234,546,755,567]\n",
    "}\n",
    "df=pd.DataFrame(data)\n",
    "result=df.apply(cal_sum)\n",
    "print(result)"
   ]
  },
  {
   "cell_type": "markdown",
   "id": "77273a2d",
   "metadata": {},
   "source": [
    "# pd.count"
   ]
  },
  {
   "cell_type": "code",
   "execution_count": 9,
   "id": "4fb2464a",
   "metadata": {},
   "outputs": [
    {
     "name": "stdout",
     "output_type": "stream",
     "text": [
      "Duration    6\n",
      "Pulse       8\n",
      "dtype: int64\n"
     ]
    }
   ],
   "source": [
    "import pandas as pd\n",
    "data={ \"Duration\": [50, 40, 7, None, 90,None,70, 20],\n",
    "        \"Pulse\": [109, 140, 110, 125, 138,34,22,115]\n",
    "}\n",
    "df=pd.DataFrame(data)\n",
    "result=df.count()\n",
    "print(result)"
   ]
  }
 ],
 "metadata": {
  "kernelspec": {
   "display_name": "Python 3 (ipykernel)",
   "language": "python",
   "name": "python3"
  },
  "language_info": {
   "codemirror_mode": {
    "name": "ipython",
    "version": 3
   },
   "file_extension": ".py",
   "mimetype": "text/x-python",
   "name": "python",
   "nbconvert_exporter": "python",
   "pygments_lexer": "ipython3",
   "version": "3.12.5"
  }
 },
 "nbformat": 4,
 "nbformat_minor": 5
}
