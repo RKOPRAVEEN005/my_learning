{
 "cells": [
  {
   "cell_type": "code",
   "execution_count": null,
   "id": "f5f179c2-4c5f-4922-8631-0eb62a26c56d",
   "metadata": {},
   "outputs": [],
   "source": [
    "# create an empty dictionary"
   ]
  },
  {
   "cell_type": "code",
   "execution_count": 2,
   "id": "2c22c70a-6730-4e79-a498-93daa3794b4e",
   "metadata": {},
   "outputs": [
    {
     "name": "stdout",
     "output_type": "stream",
     "text": [
      "{}\n"
     ]
    }
   ],
   "source": [
    "empty_dictionary =  {}\n",
    "print(empty_dictionary)"
   ]
  },
  {
   "cell_type": "code",
   "execution_count": null,
   "id": "a8aff20d-f38b-48d9-a0c4-aa67377aa48b",
   "metadata": {},
   "outputs": [],
   "source": [
    "# sample dictionary"
   ]
  },
  {
   "cell_type": "code",
   "execution_count": 7,
   "id": "e38b35ef-fd4f-45c8-9c2a-fc8b5011234c",
   "metadata": {},
   "outputs": [
    {
     "name": "stdout",
     "output_type": "stream",
     "text": [
      "{'key': 'value'}\n"
     ]
    }
   ],
   "source": [
    "sample_dictionary = {'key': 'value'}\n",
    "print(sample_dictionary)"
   ]
  },
  {
   "cell_type": "code",
   "execution_count": 10,
   "id": "10442c04-90e4-42d3-a54b-1a17cfda1d43",
   "metadata": {},
   "outputs": [
    {
     "name": "stdout",
     "output_type": "stream",
     "text": [
      "{'names': ['praveen', 'senthil'], 'qualification': 'msc'}\n"
     ]
    }
   ],
   "source": [
    "example_dictionary = {'names': ['praveen', 'senthil'], 'qualification': 'msc'}\n",
    "print(example_dictionary)"
   ]
  }
 ],
 "metadata": {
  "kernelspec": {
   "display_name": "Python 3 (ipykernel)",
   "language": "python",
   "name": "python3"
  },
  "language_info": {
   "codemirror_mode": {
    "name": "ipython",
    "version": 3
   },
   "file_extension": ".py",
   "mimetype": "text/x-python",
   "name": "python",
   "nbconvert_exporter": "python",
   "pygments_lexer": "ipython3",
   "version": "3.11.2"
  }
 },
 "nbformat": 4,
 "nbformat_minor": 5
}
