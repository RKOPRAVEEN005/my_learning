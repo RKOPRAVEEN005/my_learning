{
 "cells": [
  {
   "cell_type": "markdown",
   "id": "dc23e9d8-c3ad-40ff-8479-871f27500638",
   "metadata": {},
   "source": [
    "create an empty dictionary"
   ]
  },
  {
   "cell_type": "code",
   "execution_count": 2,
   "id": "2c22c70a-6730-4e79-a498-93daa3794b4e",
   "metadata": {},
   "outputs": [
    {
     "name": "stdout",
     "output_type": "stream",
     "text": [
      "{}\n"
     ]
    }
   ],
   "source": [
    "empty_dictionary =  {}\n",
    "print(empty_dictionary)"
   ]
  },
  {
   "cell_type": "markdown",
   "id": "53f56d18-31dc-40f9-ae88-f3fc0e6e14b2",
   "metadata": {},
   "source": [
    "sample dictionary"
   ]
  },
  {
   "cell_type": "code",
   "execution_count": 7,
   "id": "e38b35ef-fd4f-45c8-9c2a-fc8b5011234c",
   "metadata": {},
   "outputs": [
    {
     "name": "stdout",
     "output_type": "stream",
     "text": [
      "{'key': 'value'}\n"
     ]
    }
   ],
   "source": [
    "sample_dictionary = {'key': 'value'}\n",
    "print(sample_dictionary)"
   ]
  },
  {
   "cell_type": "code",
   "execution_count": 10,
   "id": "10442c04-90e4-42d3-a54b-1a17cfda1d43",
   "metadata": {},
   "outputs": [
    {
     "name": "stdout",
     "output_type": "stream",
     "text": [
      "{'names': ['praveen', 'senthil'], 'qualification': 'msc'}\n"
     ]
    }
   ],
   "source": [
    "example_dictionary = {'names': ['praveen', 'senthil'], 'qualification': 'msc'}\n",
    "print(example_dictionary)"
   ]
  },
  {
   "cell_type": "markdown",
   "id": "8ba2cbda-6a12-430e-93a5-d108c5b9659b",
   "metadata": {},
   "source": [
    "Mutable or immutable?"
   ]
  },
  {
   "cell_type": "markdown",
   "id": "17c05a45-ffb3-4e0e-9320-82e01f76e68e",
   "metadata": {},
   "source": [
    "how to get keys and values of dictionary"
   ]
  },
  {
   "cell_type": "code",
   "execution_count": 12,
   "id": "19778502-d4d8-407f-ad50-2489aa122fd9",
   "metadata": {},
   "outputs": [
    {
     "name": "stdout",
     "output_type": "stream",
     "text": [
      "dict_keys(['names', 'qualification'])\n"
     ]
    }
   ],
   "source": [
    "print(example_dictionary.keys())"
   ]
  },
  {
   "cell_type": "code",
   "execution_count": 13,
   "id": "785ace7c-121c-4d90-b005-b2b34bcc305f",
   "metadata": {},
   "outputs": [
    {
     "name": "stdout",
     "output_type": "stream",
     "text": [
      "dict_values([['praveen', 'senthil'], 'msc'])\n"
     ]
    }
   ],
   "source": [
    "print(example_dictionary.values())"
   ]
  }
 ],
 "metadata": {
  "kernelspec": {
   "display_name": "Python 3 (ipykernel)",
   "language": "python",
   "name": "python3"
  },
  "language_info": {
   "codemirror_mode": {
    "name": "ipython",
    "version": 3
   },
   "file_extension": ".py",
   "mimetype": "text/x-python",
   "name": "python",
   "nbconvert_exporter": "python",
   "pygments_lexer": "ipython3",
   "version": "3.11.2"
  }
 },
 "nbformat": 4,
 "nbformat_minor": 5
}
