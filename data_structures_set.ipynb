{
 "cells": [
  {
   "cell_type": "raw",
   "id": "0e10fd52-bcb7-4707-b695-8290a9faa2c9",
   "metadata": {},
   "source": []
  },
  {
   "cell_type": "markdown",
   "id": "b55b6e9c-40ea-4507-bfc1-e5d754e78d83",
   "metadata": {},
   "source": [
    "# how to create empty set"
   ]
  },
  {
   "cell_type": "code",
   "execution_count": 24,
   "id": "a3d02353-b3c6-4b6e-8e0f-188106a9797a",
   "metadata": {},
   "outputs": [
    {
     "name": "stdout",
     "output_type": "stream",
     "text": [
      "<class 'set'>\n"
     ]
    }
   ],
   "source": [
    "empty_set=set()\n",
    "print(type(empty_set))"
   ]
  },
  {
   "cell_type": "markdown",
   "id": "75eab265-6423-4aa8-b0e5-582787da2224",
   "metadata": {},
   "source": [
    "# example set"
   ]
  },
  {
   "cell_type": "code",
   "execution_count": 25,
   "id": "424ee3c5-3b25-458c-bf03-844b8ab1cf20",
   "metadata": {},
   "outputs": [
    {
     "name": "stdout",
     "output_type": "stream",
     "text": [
      "{1, 2, 3, 4, 5}\n"
     ]
    }
   ],
   "source": [
    "example_set={1,2,3,4,5}\n",
    "print(example_set)"
   ]
  },
  {
   "cell_type": "markdown",
   "id": "2c627f2a-3bab-43c7-8610-f16528bd31bc",
   "metadata": {},
   "source": [
    "# duplicate remove"
   ]
  },
  {
   "cell_type": "code",
   "execution_count": 26,
   "id": "b75d741d-35a8-47e6-ab62-7dc25b39751b",
   "metadata": {},
   "outputs": [
    {
     "name": "stdout",
     "output_type": "stream",
     "text": [
      "{1, 2, 3, 4, 5, 6}\n"
     ]
    }
   ],
   "source": [
    "example_set={1,2,3,4,4,5,6,6}\n",
    "print(example_set)"
   ]
  },
  {
   "cell_type": "markdown",
   "id": "1905365c-9736-4d38-84e9-4829840b8e93",
   "metadata": {},
   "source": [
    "# how to remove duplicate in list or tuple"
   ]
  },
  {
   "cell_type": "code",
   "execution_count": 27,
   "id": "0fe41535-4293-4dd7-b214-92f418e02b90",
   "metadata": {},
   "outputs": [
    {
     "name": "stdout",
     "output_type": "stream",
     "text": [
      "{1, 2, 3, 4, 5}\n"
     ]
    }
   ],
   "source": [
    "list_item={1,2,3,3,4,5,5}\n",
    "unique_item=set(list_item)\n",
    "print(unique_item)"
   ]
  },
  {
   "cell_type": "markdown",
   "id": "c47ea8c5-cd09-429f-b5b9-16e3417a089c",
   "metadata": {},
   "source": [
    "# mutable or immutablr ?"
   ]
  },
  {
   "cell_type": "code",
   "execution_count": 30,
   "id": "8de0c012-0b61-4fcc-804c-fb71500606df",
   "metadata": {},
   "outputs": [
    {
     "ename": "TypeError",
     "evalue": "'set' object does not support item assignment",
     "output_type": "error",
     "traceback": [
      "\u001b[1;31m---------------------------------------------------------------------------\u001b[0m",
      "\u001b[1;31mTypeError\u001b[0m                                 Traceback (most recent call last)",
      "Cell \u001b[1;32mIn[30], line 2\u001b[0m\n\u001b[0;32m      1\u001b[0m exampl_set\u001b[38;5;241m=\u001b[39m{\u001b[38;5;241m1\u001b[39m,\u001b[38;5;241m2\u001b[39m,\u001b[38;5;241m3\u001b[39m,\u001b[38;5;241m4\u001b[39m,\u001b[38;5;241m5\u001b[39m,\u001b[38;5;241m6\u001b[39m}\n\u001b[1;32m----> 2\u001b[0m \u001b[43mexample_set\u001b[49m\u001b[43m[\u001b[49m\u001b[38;5;241;43m2\u001b[39;49m\u001b[43m]\u001b[49m\u001b[38;5;241m=\u001b[39m\u001b[38;5;241m10\u001b[39m\n\u001b[0;32m      3\u001b[0m \u001b[38;5;28mprint\u001b[39m(example_set)\n",
      "\u001b[1;31mTypeError\u001b[0m: 'set' object does not support item assignment"
     ]
    }
   ],
   "source": [
    "exampl_set={1,2,3,4,5,6}\n",
    "example_set[2]=10\n",
    "print(example_set)"
   ]
  },
  {
   "cell_type": "markdown",
   "id": "7eb3520c-ab56-40da-a6da-1124a019566f",
   "metadata": {},
   "source": [
    "# ordered or unordered"
   ]
  },
  {
   "cell_type": "code",
   "execution_count": 31,
   "id": "8235a77c-5e36-4078-8425-0acef67c1573",
   "metadata": {},
   "outputs": [
    {
     "ename": "TypeError",
     "evalue": "'set' object is not subscriptable",
     "output_type": "error",
     "traceback": [
      "\u001b[1;31m---------------------------------------------------------------------------\u001b[0m",
      "\u001b[1;31mTypeError\u001b[0m                                 Traceback (most recent call last)",
      "Cell \u001b[1;32mIn[31], line 2\u001b[0m\n\u001b[0;32m      1\u001b[0m example_set\u001b[38;5;241m=\u001b[39m{\u001b[38;5;241m1\u001b[39m,\u001b[38;5;241m2\u001b[39m,\u001b[38;5;241m3\u001b[39m,\u001b[38;5;241m4\u001b[39m,\u001b[38;5;241m5\u001b[39m,\u001b[38;5;241m6\u001b[39m}\n\u001b[1;32m----> 2\u001b[0m \u001b[38;5;28mprint\u001b[39m(\u001b[43mexample_set\u001b[49m\u001b[43m[\u001b[49m\u001b[38;5;241;43m0\u001b[39;49m\u001b[43m]\u001b[49m)\n",
      "\u001b[1;31mTypeError\u001b[0m: 'set' object is not subscriptable"
     ]
    }
   ],
   "source": [
    "example_set={1,2,3,4,5,6}\n",
    "print(example_set[0])"
   ]
  },
  {
   "cell_type": "markdown",
   "id": "861318e0-bf04-4973-b59f-95e58538408c",
   "metadata": {},
   "source": [
    "# iterable or not?  iterable"
   ]
  },
  {
   "cell_type": "code",
   "execution_count": 33,
   "id": "7bec82e9-0b0f-43f0-b6d4-f9455bf8cac6",
   "metadata": {},
   "outputs": [
    {
     "name": "stdout",
     "output_type": "stream",
     "text": [
      "1\n",
      "2\n",
      "3\n",
      "4\n",
      "5\n",
      "6\n"
     ]
    }
   ],
   "source": [
    "example_set={1,2,3,4,5,6}\n",
    "for i in example_set:\n",
    " print(i)"
   ]
  },
  {
   "cell_type": "code",
   "execution_count": null,
   "id": "93c91fab-acf4-4123-a920-86c5c681b722",
   "metadata": {},
   "outputs": [],
   "source": [
    "#  how to add a element to set"
   ]
  },
  {
   "cell_type": "code",
   "execution_count": 41,
   "id": "c5a33192-2952-4c99-849a-6952bbd0fc53",
   "metadata": {},
   "outputs": [
    {
     "name": "stdout",
     "output_type": "stream",
     "text": [
      "{1, 2, 3, 4, 5, 6, 7}\n"
     ]
    }
   ],
   "source": [
    "example_set={1,2,3,4,5,6}\n",
    "example_set.add(7)\n",
    "print(example_set)"
   ]
  },
  {
   "cell_type": "markdown",
   "id": "0491c66d-1e51-4bea-966a-5c888485b505",
   "metadata": {},
   "source": [
    "#  how to remove a  element to set"
   ]
  },
  {
   "cell_type": "code",
   "execution_count": 38,
   "id": "a0519cd5-fe00-4aa7-b84e-9d0de93bacb4",
   "metadata": {},
   "outputs": [
    {
     "name": "stdout",
     "output_type": "stream",
     "text": [
      "{1, 2, 3, 4}\n"
     ]
    }
   ],
   "source": [
    "example_set={1,2,3,4,5,6}\n",
    "example_set.remove(5)\n",
    "example_set.remove(6)\n",
    "print(example_set)"
   ]
  },
  {
   "cell_type": "markdown",
   "id": "9f5f6f2f-a9e5-4987-b771-568ebf0d9a66",
   "metadata": {},
   "source": [
    "# union"
   ]
  },
  {
   "cell_type": "code",
   "execution_count": 43,
   "id": "a71ab5bb-e623-413f-9cb5-3e3737415eed",
   "metadata": {},
   "outputs": [
    {
     "name": "stdout",
     "output_type": "stream",
     "text": [
      "{1, 2, 3, 4, 5, 6, 7, 8}\n"
     ]
    }
   ],
   "source": [
    "example_set1={1,2,3,4,5,6}\n",
    "example_set2={1,2,3,4,7,8}\n",
    "union_set=example_set1.union(example_set2)\n",
    "print(union_set)"
   ]
  },
  {
   "cell_type": "markdown",
   "id": "1f1aff15-c47b-4412-a94c-3303957b592e",
   "metadata": {},
   "source": [
    "# intersection"
   ]
  },
  {
   "cell_type": "code",
   "execution_count": 44,
   "id": "1fae28f8-35b4-4495-b4bb-379614deac0d",
   "metadata": {},
   "outputs": [
    {
     "name": "stdout",
     "output_type": "stream",
     "text": [
      "{1, 2, 3}\n"
     ]
    }
   ],
   "source": [
    "example_set1={1,2,3,5}\n",
    "example_set2={1,2,3,4,6}\n",
    "union_set=example_set1.intersection(example_set2)\n",
    "print(union_set)\n"
   ]
  },
  {
   "cell_type": "markdown",
   "id": "4e768aaf-e8c2-4769-bfbd-7b623aaa5e01",
   "metadata": {},
   "source": [
    "# pop"
   ]
  },
  {
   "cell_type": "code",
   "execution_count": 48,
   "id": "5ca72282-ffea-48ca-a896-33f956c3b74e",
   "metadata": {},
   "outputs": [
    {
     "name": "stdout",
     "output_type": "stream",
     "text": [
      "1\n"
     ]
    }
   ],
   "source": [
    "example_set={1,2,3,4,5}\n",
    "print(example_set.pop())"
   ]
  }
 ],
 "metadata": {
  "kernelspec": {
   "display_name": "Python 3 (ipykernel)",
   "language": "python",
   "name": "python3"
  },
  "language_info": {
   "codemirror_mode": {
    "name": "ipython",
    "version": 3
   },
   "file_extension": ".py",
   "mimetype": "text/x-python",
   "name": "python",
   "nbconvert_exporter": "python",
   "pygments_lexer": "ipython3",
   "version": "3.11.2"
  }
 },
 "nbformat": 4,
 "nbformat_minor": 5
}
