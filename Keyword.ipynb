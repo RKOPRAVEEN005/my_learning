{
 "cells": [
  {
   "cell_type": "markdown",
   "id": "7b5b3451-e9bb-4cea-9561-721feb99ed8c",
   "metadata": {},
   "source": [
    "# and"
   ]
  },
  {
   "cell_type": "code",
   "execution_count": 46,
   "id": "100fcb10-5630-4d07-a82b-b646bf8c00c0",
   "metadata": {},
   "outputs": [
    {
     "name": "stdout",
     "output_type": "stream",
     "text": [
      "you are eligible for a student  discount.\n"
     ]
    }
   ],
   "source": [
    "age=18  \n",
    "is_student =True\n",
    "if age<= 25 and is_student:\n",
    " print(\"you are eligible for a student  discount.\")\n",
    "else:\n",
    " print(\"you are not eligible for a student  discount\")"
   ]
  },
  {
   "cell_type": "markdown",
   "id": "99866a4f-6824-46b2-936a-a7fdea230e1f",
   "metadata": {},
   "source": [
    "# or"
   ]
  },
  {
   "cell_type": "code",
   "execution_count": 106,
   "id": "13689267-efb9-469c-bebc-da0bda18302a",
   "metadata": {},
   "outputs": [
    {
     "name": "stdout",
     "output_type": "stream",
     "text": [
      "it's good day to stay indoor.\n"
     ]
    }
   ],
   "source": [
    "temperature=28\n",
    "is_raining=True\n",
    "if temperature>=30 or is_raining:\n",
    " print(\"it's good day to stay indoor.\")\n",
    "else:\n",
    " print(\"let's good day outside and enjay the day\")"
   ]
  },
  {
   "cell_type": "markdown",
   "id": "61bee7f3-2478-44b6-9474-53c867f5860a",
   "metadata": {},
   "source": [
    "# assert"
   ]
  },
  {
   "cell_type": "code",
   "execution_count": 89,
   "id": "0a899930-8c0c-40c6-97ae-5d6cd502c6e1",
   "metadata": {},
   "outputs": [
    {
     "name": "stdout",
     "output_type": "stream",
     "text": [
      "assertion is successful\n"
     ]
    },
    {
     "ename": "AssertionError",
     "evalue": " c is not equal to 10",
     "output_type": "error",
     "traceback": [
      "\u001b[1;31m---------------------------------------------------------------------------\u001b[0m",
      "\u001b[1;31mAssertionError\u001b[0m                            Traceback (most recent call last)",
      "Cell \u001b[1;32mIn[89], line 6\u001b[0m\n\u001b[0;32m      4\u001b[0m  \u001b[38;5;66;03m# c to c is not equal  ,so assert error\u001b[39;00m\n\u001b[0;32m      5\u001b[0m c\u001b[38;5;241m=\u001b[39m\u001b[38;5;241m5\u001b[39m\n\u001b[1;32m----> 6\u001b[0m \u001b[38;5;28;01massert\u001b[39;00m c\u001b[38;5;241m==\u001b[39m\u001b[38;5;241m10\u001b[39m, \u001b[38;5;124m'\u001b[39m\u001b[38;5;124m c is not equal to 10\u001b[39m\u001b[38;5;124m'\u001b[39m\n\u001b[0;32m      7\u001b[0m \u001b[38;5;28mprint\u001b[39m(c)\n",
      "\u001b[1;31mAssertionError\u001b[0m:  c is not equal to 10"
     ]
    }
   ],
   "source": [
    "a=110\n",
    "assert a==110\n",
    "print('assertion is successful')\n",
    " # c to c is not equal  ,so assert error\n",
    "c=5\n",
    "assert c==10, ' c is not equal to 10'\n",
    "print(c)\n"
   ]
  },
  {
   "cell_type": "markdown",
   "id": "706a946f-48db-4f2d-8975-d1e157fcda9f",
   "metadata": {},
   "source": [
    "# not"
   ]
  },
  {
   "cell_type": "code",
   "execution_count": 113,
   "id": "ac68612c-8844-47ab-9db1-26e6e500e79c",
   "metadata": {},
   "outputs": [
    {
     "name": "stdout",
     "output_type": "stream",
     "text": [
      "iam inside else condition\n"
     ]
    }
   ],
   "source": [
    "flag=True\n",
    "if not flag:\n",
    " print(\"iam inside if condition\")\n",
    "else:\n",
    " print(\"iam inside else condition\")\n",
    "    "
   ]
  },
  {
   "cell_type": "markdown",
   "id": "0a81018d-9310-473d-9a11-9ef6896d1a1d",
   "metadata": {},
   "source": [
    "# break"
   ]
  },
  {
   "cell_type": "code",
   "execution_count": 86,
   "id": "c18e4384-bd1d-4c3b-a898-bc717fd35518",
   "metadata": {},
   "outputs": [
    {
     "name": "stdout",
     "output_type": "stream",
     "text": [
      "praveen\n",
      "saran\n",
      "siva\n",
      "The control is here now\n"
     ]
    }
   ],
   "source": [
    "sample_list=['praveen','saran','siva','mari']\n",
    "for i in sample_list:\n",
    "    print(i)\n",
    "    if i =='siva':\n",
    "     break\n",
    "print('The control is here now')"
   ]
  },
  {
   "cell_type": "markdown",
   "id": "d1166e6c-6aec-4ad3-ab6f-71108a32f166",
   "metadata": {},
   "source": [
    "# continue"
   ]
  },
  {
   "cell_type": "code",
   "execution_count": 78,
   "id": "1700cdff-8b8f-4b01-88e0-c03e2ed844bf",
   "metadata": {},
   "outputs": [
    {
     "name": "stdout",
     "output_type": "stream",
     "text": [
      "praveen\n",
      "ajay\n",
      "siva\n"
     ]
    }
   ],
   "source": [
    "sample_list1=['praveen','saran','ajay','siva']\n",
    "for i in sample_list1:\n",
    "   if i =='saran':\n",
    "     continue\n",
    "   print(i)\n",
    "    \n",
    "    "
   ]
  },
  {
   "cell_type": "code",
   "execution_count": null,
   "id": "56ba83a9-cf22-48ad-bd6e-3a78a8a8b8aa",
   "metadata": {},
   "outputs": [],
   "source": [
    " # same example"
   ]
  },
  {
   "cell_type": "code",
   "execution_count": 75,
   "id": "847799db-7658-482e-b025-a6dc6a300879",
   "metadata": {},
   "outputs": [
    {
     "name": "stdout",
     "output_type": "stream",
     "text": [
      "senthil\n",
      "kumar\n",
      "preetha\n"
     ]
    }
   ],
   "source": [
    "sample_list2 = ['senthil','kumar','praveen', 'preetha']\n",
    "for i in sample_list2:\n",
    "    if i == 'praveen': \n",
    "        continue # continou the loop instead of going below\n",
    "    print(i)"
   ]
  },
  {
   "cell_type": "markdown",
   "id": "340c103f-3774-4725-b77d-c90f6659d0fa",
   "metadata": {},
   "source": [
    "# pass"
   ]
  },
  {
   "cell_type": "code",
   "execution_count": 117,
   "id": "23580b89-e548-4820-a0a9-82859e806c70",
   "metadata": {},
   "outputs": [],
   "source": [
    "class calculator():\n",
    " def add(a,b):\n",
    "   return(a+b)\n",
    " def subsract(a,b):\n",
    "    return(a-b)\n",
    "pass"
   ]
  },
  {
   "cell_type": "markdown",
   "id": "37aec28f-65af-4b7d-9087-2fd22670e42c",
   "metadata": {},
   "source": [
    "# class"
   ]
  },
  {
   "cell_type": "code",
   "execution_count": null,
   "id": "5b4261e1-53fc-4d66-8186-23e26e402f94",
   "metadata": {},
   "outputs": [],
   "source": [
    "#bulueprint for creating objects"
   ]
  },
  {
   "cell_type": "code",
   "execution_count": 139,
   "id": "ca70caee-7a3e-4b58-921f-e37ffb073d5a",
   "metadata": {},
   "outputs": [
    {
     "name": "stdout",
     "output_type": "stream",
     "text": [
      "20.0\n"
     ]
    }
   ],
   "source": [
    "class calculator():\n",
    "    def add(a,b):\n",
    "     return(a+b)\n",
    "    def substract(a,b):\n",
    "     return(a-b)\n",
    "    def multiplicat(a,b):\n",
    "     return(a*b)\n",
    "    def division(a,b):\n",
    "     return(a/b)\n",
    "obj=calculator.division(100,5)\n",
    "print(obj)"
   ]
  },
  {
   "cell_type": "markdown",
   "id": "741faa98-3033-44d6-ac10-66b7b5fdabb8",
   "metadata": {},
   "source": [
    "# def"
   ]
  },
  {
   "cell_type": "code",
   "execution_count": 185,
   "id": "23e173fa-1463-48a3-bf98-decefdcd71c7",
   "metadata": {},
   "outputs": [
    {
     "name": "stdout",
     "output_type": "stream",
     "text": [
      "39\n"
     ]
    }
   ],
   "source": [
    "# functions\n",
    " def add(a,b):\n",
    "  return a+b\n",
    " c=add(19,20)\n",
    " print(c)\n"
   ]
  },
  {
   "cell_type": "markdown",
   "id": "246fcda4-be5b-4274-b6fa-db95bd89320f",
   "metadata": {},
   "source": [
    "# del"
   ]
  },
  {
   "cell_type": "code",
   "execution_count": 211,
   "id": "903cd11f-0b63-4449-b4b3-c0e727d510e5",
   "metadata": {},
   "outputs": [
    {
     "name": "stdout",
     "output_type": "stream",
     "text": [
      "before deletion [1, 2, 3, 4, 6, 7]\n"
     ]
    },
    {
     "ename": "NameError",
     "evalue": "name 'list1' is not defined",
     "output_type": "error",
     "traceback": [
      "\u001b[1;31m---------------------------------------------------------------------------\u001b[0m",
      "\u001b[1;31mNameError\u001b[0m                                 Traceback (most recent call last)",
      "Cell \u001b[1;32mIn[211], line 4\u001b[0m\n\u001b[0;32m      2\u001b[0m \u001b[38;5;28mprint\u001b[39m(\u001b[38;5;124m'\u001b[39m\u001b[38;5;124mbefore deletion\u001b[39m\u001b[38;5;124m'\u001b[39m,list1)\n\u001b[0;32m      3\u001b[0m \u001b[38;5;28;01mdel\u001b[39;00m list1 \n\u001b[1;32m----> 4\u001b[0m \u001b[38;5;28mprint\u001b[39m(\u001b[43mlist1\u001b[49m)\n",
      "\u001b[1;31mNameError\u001b[0m: name 'list1' is not defined"
     ]
    }
   ],
   "source": [
    "list1=[1,2,3,4,6,7]\n",
    "print('before deletion',list1)\n",
    "del list1 \n",
    "print(list1)"
   ]
  },
  {
   "cell_type": "code",
   "execution_count": 228,
   "id": "4f4caed9-c559-42e5-b786-9a944a31abee",
   "metadata": {},
   "outputs": [
    {
     "name": "stdout",
     "output_type": "stream",
     "text": [
      "c is 10\n"
     ]
    }
   ],
   "source": [
    "c=10\n",
    "if c==10:\n",
    " print('c is 10')\n",
    "else:\n",
    " print('c is not 10')"
   ]
  },
  {
   "cell_type": "code",
   "execution_count": 230,
   "id": "3fd8986f-071d-4fc9-8ddc-898583942e12",
   "metadata": {},
   "outputs": [
    {
     "name": "stdout",
     "output_type": "stream",
     "text": [
      "c is not 70\n"
     ]
    }
   ],
   "source": [
    "# same example\n",
    "c=70\n",
    "if c==20:\n",
    " print('c is 70')\n",
    "else:\n",
    " print('c is not 70')\n",
    "       "
   ]
  },
  {
   "cell_type": "markdown",
   "id": "ba0e123a-df20-4c55-b184-2d4f17748491",
   "metadata": {},
   "source": [
    "# elif"
   ]
  },
  {
   "cell_type": "code",
   "execution_count": 241,
   "id": "69acab02-58ea-4ab3-b809-5a0f4a8f7095",
   "metadata": {},
   "outputs": [
    {
     "name": "stdout",
     "output_type": "stream",
     "text": [
      "a is 5\n"
     ]
    }
   ],
   "source": [
    "\n",
    "  a=5\n",
    "  if a==10:\n",
    "     print('a is 10')\n",
    "  elif a==5:\n",
    "    print('a is 5')\n",
    "else:\n",
    "    print( 'a is not 10')"
   ]
  },
  {
   "cell_type": "code",
   "execution_count": 243,
   "id": "16d3cfde-1826-4153-b36e-809163d99d2d",
   "metadata": {},
   "outputs": [
    {
     "name": "stdout",
     "output_type": "stream",
     "text": [
      "can not divide by zero\n"
     ]
    }
   ],
   "source": [
    "# To handle errors\n",
    "a = 0\n",
    "try: \n",
    "    c = 10/a  # example open file here\n",
    "except:\n",
    "    print('can not divide by zero')  # print the error when file is not read successfully\n",
    "finally:\n",
    "    pass  # example close the file once read"
   ]
  },
  {
   "cell_type": "markdown",
   "id": "1f6f29c0-5347-46d8-88da-45883e36439d",
   "metadata": {},
   "source": [
    "# from"
   ]
  },
  {
   "cell_type": "code",
   "execution_count": 260,
   "id": "0ae5a7a0-44e9-4e7e-9881-a43f44efc024",
   "metadata": {},
   "outputs": [
    {
     "name": "stdout",
     "output_type": "stream",
     "text": [
      "affter sleeping iam here\n"
     ]
    }
   ],
   "source": [
    "# with from\n",
    "from time import sleep    # take only sleep function from time.py\n",
    "sleep(5)\n",
    "print('affter sleeping iam here')"
   ]
  },
  {
   "cell_type": "code",
   "execution_count": 264,
   "id": "8454ae50-88c9-49f9-8a9e-526a5d9db11f",
   "metadata": {},
   "outputs": [
    {
     "name": "stdout",
     "output_type": "stream",
     "text": [
      "after sleeping iam here\n"
     ]
    }
   ],
   "source": [
    "# without  from\n",
    "import time                      # take all functions from time.py\n",
    "time.sleep(5)\n",
    "print('after sleeping iam here')"
   ]
  },
  {
   "cell_type": "markdown",
   "id": "bea7daf0-2d9e-4ff8-abe6-e36545235684",
   "metadata": {},
   "source": [
    "# exec"
   ]
  },
  {
   "cell_type": "code",
   "execution_count": 267,
   "id": "27864fb0-eb78-49dc-b8cd-662dcf08de86",
   "metadata": {},
   "outputs": [
    {
     "name": "stdout",
     "output_type": "stream",
     "text": [
      " my name\n"
     ]
    }
   ],
   "source": [
    "# when a python code is a string\n",
    "code_to_execute=\"print (' my name')\"\n",
    "exec(code_to_execute)"
   ]
  },
  {
   "cell_type": "code",
   "execution_count": 298,
   "id": "cf37369e-0073-45fc-bd15-772b8f74f12e",
   "metadata": {},
   "outputs": [
    {
     "name": "stdout",
     "output_type": "stream",
     "text": [
      "18\n"
     ]
    }
   ],
   "source": [
    "a=5\n",
    "def printer():\n",
    "    global a    # Convert a local variable to global variable\n",
    "    a=18\n",
    "printer()\n",
    "print(a)"
   ]
  },
  {
   "cell_type": "code",
   "execution_count": 301,
   "id": "7573cc35-61fd-4d07-b62c-1e0df7b2fcee",
   "metadata": {},
   "outputs": [
    {
     "name": "stdout",
     "output_type": "stream",
     "text": [
      "20\n"
     ]
    }
   ],
   "source": [
    "a=10\n",
    "a=20\n",
    "print(a)"
   ]
  }
 ],
 "metadata": {
  "kernelspec": {
   "display_name": "Python 3 (ipykernel)",
   "language": "python",
   "name": "python3"
  },
  "language_info": {
   "codemirror_mode": {
    "name": "ipython",
    "version": 3
   },
   "file_extension": ".py",
   "mimetype": "text/x-python",
   "name": "python",
   "nbconvert_exporter": "python",
   "pygments_lexer": "ipython3",
   "version": "3.11.2"
  }
 },
 "nbformat": 4,
 "nbformat_minor": 5
}
