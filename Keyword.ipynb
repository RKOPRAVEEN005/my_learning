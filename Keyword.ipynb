{
 "cells": [
  {
   "cell_type": "markdown",
   "id": "7b5b3451-e9bb-4cea-9561-721feb99ed8c",
   "metadata": {},
   "source": [
    "# and"
   ]
  },
  {
   "cell_type": "code",
   "execution_count": 46,
   "id": "100fcb10-5630-4d07-a82b-b646bf8c00c0",
   "metadata": {},
   "outputs": [
    {
     "name": "stdout",
     "output_type": "stream",
     "text": [
      "you are eligible for a student  discount.\n"
     ]
    }
   ],
   "source": [
    "age=18  \n",
    "is_student =True\n",
    "if age<= 25 and is_student:\n",
    " print(\"you are eligible for a student  discount.\")\n",
    "else:\n",
    " print(\"you are not eligible for a student  discount\")"
   ]
  },
  {
   "cell_type": "markdown",
   "id": "99866a4f-6824-46b2-936a-a7fdea230e1f",
   "metadata": {},
   "source": [
    "# or"
   ]
  },
  {
   "cell_type": "code",
   "execution_count": 30,
   "id": "13689267-efb9-469c-bebc-da0bda18302a",
   "metadata": {},
   "outputs": [
    {
     "name": "stdout",
     "output_type": "stream",
     "text": [
      "it's good day to stay indoor.\n"
     ]
    }
   ],
   "source": [
    "temperature=28\n",
    "is_raining= False\n",
    "if temperature<=30 or is_raining:\n",
    " print(\"it's good day to stay indoor.\")\n",
    "else:\n",
    " print(\"let's good day outside and enjay the day\")"
   ]
  },
  {
   "cell_type": "markdown",
   "id": "61bee7f3-2478-44b6-9474-53c867f5860a",
   "metadata": {},
   "source": [
    "# assert"
   ]
  },
  {
   "cell_type": "code",
   "execution_count": 33,
   "id": "0a899930-8c0c-40c6-97ae-5d6cd502c6e1",
   "metadata": {},
   "outputs": [
    {
     "name": "stdout",
     "output_type": "stream",
     "text": [
      "assertion is successful\n"
     ]
    },
    {
     "ename": "AssertionError",
     "evalue": " c is not equal to 10",
     "output_type": "error",
     "traceback": [
      "\u001b[1;31m---------------------------------------------------------------------------\u001b[0m",
      "\u001b[1;31mAssertionError\u001b[0m                            Traceback (most recent call last)",
      "Cell \u001b[1;32mIn[33], line 6\u001b[0m\n\u001b[0;32m      4\u001b[0m  \u001b[38;5;66;03m# c to c is not equal  ,so assert error\u001b[39;00m\n\u001b[0;32m      5\u001b[0m c\u001b[38;5;241m=\u001b[39m\u001b[38;5;241m5\u001b[39m\n\u001b[1;32m----> 6\u001b[0m \u001b[38;5;28;01massert\u001b[39;00m c\u001b[38;5;241m==\u001b[39m\u001b[38;5;241m10\u001b[39m, \u001b[38;5;124m'\u001b[39m\u001b[38;5;124m c is not equal to 10\u001b[39m\u001b[38;5;124m'\u001b[39m\n\u001b[0;32m      7\u001b[0m \u001b[38;5;28mprint\u001b[39m(c)\n",
      "\u001b[1;31mAssertionError\u001b[0m:  c is not equal to 10"
     ]
    }
   ],
   "source": [
    "a=110\n",
    "assert a==110\n",
    "print('assertion is successful')\n",
    " # c to c is not equal  ,so assert error\n",
    "c=5\n",
    "assert c==10, ' c is not equal to 10'\n",
    "print(c)\n"
   ]
  },
  {
   "cell_type": "markdown",
   "id": "706a946f-48db-4f2d-8975-d1e157fcda9f",
   "metadata": {},
   "source": [
    "# not"
   ]
  },
  {
   "cell_type": "code",
   "execution_count": 34,
   "id": "ac68612c-8844-47ab-9db1-26e6e500e79c",
   "metadata": {},
   "outputs": [
    {
     "name": "stdout",
     "output_type": "stream",
     "text": [
      "iam inside if condition\n"
     ]
    }
   ],
   "source": [
    "flag=True\n",
    "if  not flag:\n",
    " print(\"iam inside if condition\")\n",
    "else:\n",
    " print(\"iam inside else condition\")\n",
    "    "
   ]
  },
  {
   "cell_type": "markdown",
   "id": "0a81018d-9310-473d-9a11-9ef6896d1a1d",
   "metadata": {},
   "source": [
    "# break"
   ]
  },
  {
   "cell_type": "code",
   "execution_count": 86,
   "id": "c18e4384-bd1d-4c3b-a898-bc717fd35518",
   "metadata": {},
   "outputs": [
    {
     "name": "stdout",
     "output_type": "stream",
     "text": [
      "praveen\n",
      "saran\n",
      "siva\n",
      "The control is here now\n"
     ]
    }
   ],
   "source": [
    "sample_list=['praveen','saran','siva','mari']\n",
    "for i in sample_list:\n",
    "    print(i)\n",
    "    if i =='siva':\n",
    "     break\n",
    "print('The control is here now')"
   ]
  },
  {
   "cell_type": "markdown",
   "id": "d1166e6c-6aec-4ad3-ab6f-71108a32f166",
   "metadata": {},
   "source": [
    "# continue"
   ]
  },
  {
   "cell_type": "code",
   "execution_count": 78,
   "id": "1700cdff-8b8f-4b01-88e0-c03e2ed844bf",
   "metadata": {},
   "outputs": [
    {
     "name": "stdout",
     "output_type": "stream",
     "text": [
      "praveen\n",
      "ajay\n",
      "siva\n"
     ]
    }
   ],
   "source": [
    "sample_list1=['praveen','saran','ajay','siva']\n",
    "for i in sample_list1:\n",
    "   if i =='saran':\n",
    "     continue\n",
    "   print(i)\n",
    "    \n",
    "    "
   ]
  },
  {
   "cell_type": "code",
   "execution_count": null,
   "id": "56ba83a9-cf22-48ad-bd6e-3a78a8a8b8aa",
   "metadata": {},
   "outputs": [],
   "source": [
    " # same example"
   ]
  },
  {
   "cell_type": "code",
   "execution_count": 27,
   "id": "847799db-7658-482e-b025-a6dc6a300879",
   "metadata": {},
   "outputs": [
    {
     "name": "stdout",
     "output_type": "stream",
     "text": [
      "senthil\n",
      "kumar\n",
      "preetha\n"
     ]
    }
   ],
   "source": [
    "sample_list2 = ['senthil','kumar','praveen', 'preetha']\n",
    "for i in sample_list2:\n",
    "    if i == 'praveen': \n",
    "        continue # continou the loop instead of going below\n",
    "    print(i)"
   ]
  },
  {
   "cell_type": "markdown",
   "id": "340c103f-3774-4725-b77d-c90f6659d0fa",
   "metadata": {},
   "source": [
    "# pass"
   ]
  },
  {
   "cell_type": "code",
   "execution_count": 117,
   "id": "23580b89-e548-4820-a0a9-82859e806c70",
   "metadata": {},
   "outputs": [],
   "source": [
    "class calculator():\n",
    " def add(a,b):\n",
    "   return(a+b)\n",
    " def subsract(a,b):\n",
    "    return(a-b)\n",
    "pass"
   ]
  },
  {
   "cell_type": "markdown",
   "id": "37aec28f-65af-4b7d-9087-2fd22670e42c",
   "metadata": {},
   "source": [
    "# class"
   ]
  },
  {
   "cell_type": "code",
   "execution_count": null,
   "id": "5b4261e1-53fc-4d66-8186-23e26e402f94",
   "metadata": {},
   "outputs": [],
   "source": [
    "#bulueprint for creating objects"
   ]
  },
  {
   "cell_type": "code",
   "execution_count": 19,
   "id": "ca70caee-7a3e-4b58-921f-e37ffb073d5a",
   "metadata": {},
   "outputs": [
    {
     "name": "stdout",
     "output_type": "stream",
     "text": [
      "5.75\n",
      "<class 'float'>\n"
     ]
    }
   ],
   "source": [
    "class calculator():\n",
    "    def add(a,b):\n",
    "     return(a+b)\n",
    "    def substract(a,b):\n",
    "     return(a-b)\n",
    "    def multiplicat(a,b):\n",
    "     return(a*b)\n",
    "    def division(a,b):\n",
    "     return(a/b)\n",
    "obj=calculator.division(23,4)\n",
    "\n",
    "print(obj)\n",
    "print(type(obj))"
   ]
  },
  {
   "cell_type": "markdown",
   "id": "741faa98-3033-44d6-ac10-66b7b5fdabb8",
   "metadata": {},
   "source": [
    "# def"
   ]
  },
  {
   "cell_type": "code",
   "execution_count": 122,
   "id": "23e173fa-1463-48a3-bf98-decefdcd71c7",
   "metadata": {},
   "outputs": [
    {
     "name": "stdout",
     "output_type": "stream",
     "text": [
      "39\n",
      "<class 'int'>\n"
     ]
    }
   ],
   "source": [
    "# functions\n",
    "def add(a,b):\n",
    "   return a+b\n",
    "c=add(19,20)\n",
    "print(c)\n",
    "print(type(c))\n"
   ]
  },
  {
   "cell_type": "markdown",
   "id": "246fcda4-be5b-4274-b6fa-db95bd89320f",
   "metadata": {},
   "source": [
    "# del"
   ]
  },
  {
   "cell_type": "code",
   "execution_count": 211,
   "id": "903cd11f-0b63-4449-b4b3-c0e727d510e5",
   "metadata": {},
   "outputs": [
    {
     "name": "stdout",
     "output_type": "stream",
     "text": [
      "before deletion [1, 2, 3, 4, 6, 7]\n"
     ]
    },
    {
     "ename": "NameError",
     "evalue": "name 'list1' is not defined",
     "output_type": "error",
     "traceback": [
      "\u001b[1;31m---------------------------------------------------------------------------\u001b[0m",
      "\u001b[1;31mNameError\u001b[0m                                 Traceback (most recent call last)",
      "Cell \u001b[1;32mIn[211], line 4\u001b[0m\n\u001b[0;32m      2\u001b[0m \u001b[38;5;28mprint\u001b[39m(\u001b[38;5;124m'\u001b[39m\u001b[38;5;124mbefore deletion\u001b[39m\u001b[38;5;124m'\u001b[39m,list1)\n\u001b[0;32m      3\u001b[0m \u001b[38;5;28;01mdel\u001b[39;00m list1 \n\u001b[1;32m----> 4\u001b[0m \u001b[38;5;28mprint\u001b[39m(\u001b[43mlist1\u001b[49m)\n",
      "\u001b[1;31mNameError\u001b[0m: name 'list1' is not defined"
     ]
    }
   ],
   "source": [
    "list1=[1,2,3,4,6,7]\n",
    "print('before deletion',list1)\n",
    "del list1 \n",
    "print(list1)"
   ]
  },
  {
   "cell_type": "markdown",
   "id": "b4dda145-2bbd-405e-b2e9-f80e4a0411fa",
   "metadata": {},
   "source": [
    "# if"
   ]
  },
  {
   "cell_type": "code",
   "execution_count": 228,
   "id": "4f4caed9-c559-42e5-b786-9a944a31abee",
   "metadata": {},
   "outputs": [
    {
     "name": "stdout",
     "output_type": "stream",
     "text": [
      "c is 10\n"
     ]
    }
   ],
   "source": [
    "c=10\n",
    "if c==10:\n",
    " print('c is 10')\n",
    "else:\n",
    " print('c is not 10')"
   ]
  },
  {
   "cell_type": "code",
   "execution_count": 230,
   "id": "3fd8986f-071d-4fc9-8ddc-898583942e12",
   "metadata": {},
   "outputs": [
    {
     "name": "stdout",
     "output_type": "stream",
     "text": [
      "c is not 70\n"
     ]
    }
   ],
   "source": [
    "# same example\n",
    "c=70\n",
    "if c==20:\n",
    " print('c is 70')\n",
    "else:\n",
    " print('c is not 70')\n",
    "       "
   ]
  },
  {
   "cell_type": "markdown",
   "id": "ba0e123a-df20-4c55-b184-2d4f17748491",
   "metadata": {},
   "source": [
    "# elif"
   ]
  },
  {
   "cell_type": "code",
   "execution_count": 21,
   "id": "69acab02-58ea-4ab3-b809-5a0f4a8f7095",
   "metadata": {},
   "outputs": [
    {
     "name": "stdout",
     "output_type": "stream",
     "text": [
      " a is 10\n"
     ]
    }
   ],
   "source": [
    "\n",
    "  a=10\n",
    "  if a==10:\n",
    "     print(' a is 10')\n",
    "  elif a==9:\n",
    "    print('a is 5')\n",
    "else:\n",
    "    print( 'a is not 10')\n",
    "\n"
   ]
  },
  {
   "cell_type": "code",
   "execution_count": 243,
   "id": "16d3cfde-1826-4153-b36e-809163d99d2d",
   "metadata": {},
   "outputs": [
    {
     "name": "stdout",
     "output_type": "stream",
     "text": [
      "can not divide by zero\n"
     ]
    }
   ],
   "source": [
    "# To handle errors\n",
    "a = 0\n",
    "try: \n",
    "    c = 10/a  # example open file here\n",
    "except:\n",
    "    print('can not divide by zero')  # print the error when file is not read successfully\n",
    "finally:\n",
    "    pass  # example close the file once read"
   ]
  },
  {
   "cell_type": "markdown",
   "id": "1f6f29c0-5347-46d8-88da-45883e36439d",
   "metadata": {},
   "source": [
    "# from"
   ]
  },
  {
   "cell_type": "code",
   "execution_count": 260,
   "id": "0ae5a7a0-44e9-4e7e-9881-a43f44efc024",
   "metadata": {},
   "outputs": [
    {
     "name": "stdout",
     "output_type": "stream",
     "text": [
      "affter sleeping iam here\n"
     ]
    }
   ],
   "source": [
    "# with from\n",
    "from time import sleep    # take only sleep function from time.py\n",
    "sleep(5)\n",
    "print('affter sleeping iam here')"
   ]
  },
  {
   "cell_type": "code",
   "execution_count": 264,
   "id": "8454ae50-88c9-49f9-8a9e-526a5d9db11f",
   "metadata": {},
   "outputs": [
    {
     "name": "stdout",
     "output_type": "stream",
     "text": [
      "after sleeping iam here\n"
     ]
    }
   ],
   "source": [
    "# without  from\n",
    "import time                      # take all functions from time.py\n",
    "time.sleep(5)\n",
    "print('after sleeping iam here')"
   ]
  },
  {
   "cell_type": "markdown",
   "id": "bea7daf0-2d9e-4ff8-abe6-e36545235684",
   "metadata": {},
   "source": [
    "# exec"
   ]
  },
  {
   "cell_type": "code",
   "execution_count": 267,
   "id": "27864fb0-eb78-49dc-b8cd-662dcf08de86",
   "metadata": {},
   "outputs": [
    {
     "name": "stdout",
     "output_type": "stream",
     "text": [
      " my name\n"
     ]
    }
   ],
   "source": [
    "# when a python code is a string\n",
    "code_to_execute=\"print (' my name')\"\n",
    "exec(code_to_execute)"
   ]
  },
  {
   "cell_type": "markdown",
   "id": "2992e263-d65b-4125-9408-674d14e67574",
   "metadata": {},
   "source": [
    "# global"
   ]
  },
  {
   "cell_type": "code",
   "execution_count": 2,
   "id": "cf37369e-0073-45fc-bd15-772b8f74f12e",
   "metadata": {},
   "outputs": [
    {
     "name": "stdout",
     "output_type": "stream",
     "text": [
      "5\n"
     ]
    }
   ],
   "source": [
    "a=5\n",
    "def printer():\n",
    "    global a    # Convert a local variable to global variable\n",
    "    a=18\n",
    "\n",
    "print(a)"
   ]
  },
  {
   "cell_type": "code",
   "execution_count": 301,
   "id": "7573cc35-61fd-4d07-b62c-1e0df7b2fcee",
   "metadata": {},
   "outputs": [
    {
     "name": "stdout",
     "output_type": "stream",
     "text": [
      "20\n"
     ]
    }
   ],
   "source": [
    "a=10\n",
    "a=20\n",
    "print(a)"
   ]
  },
  {
   "cell_type": "markdown",
   "id": "4b062b87-50e9-48ab-99f4-1cf0a0584cdc",
   "metadata": {},
   "source": [
    "# for"
   ]
  },
  {
   "cell_type": "code",
   "execution_count": 15,
   "id": "cd5ce4df-6d6a-47ef-8ecf-a0684647f17d",
   "metadata": {},
   "outputs": [
    {
     "name": "stdout",
     "output_type": "stream",
     "text": [
      "p\n",
      "r\n",
      "a\n",
      "v\n",
      "e\n",
      "e\n",
      "n\n"
     ]
    }
   ],
   "source": [
    "for i in 'praveen':      #  to iterable\n",
    "    print(i)"
   ]
  },
  {
   "cell_type": "markdown",
   "id": "4d0ca0cb-4fb8-4848-9ae4-692bf1a586b9",
   "metadata": {},
   "source": [
    "# import"
   ]
  },
  {
   "cell_type": "code",
   "execution_count": 38,
   "id": "d553ff50-6f8f-44a8-b3ac-3f9a13b406c5",
   "metadata": {},
   "outputs": [],
   "source": [
    "import time # .py\n",
    "from time import sleep # class, function, variable"
   ]
  },
  {
   "cell_type": "markdown",
   "id": "ce117060-53c2-4b95-a90d-9c3395afae1b",
   "metadata": {},
   "source": [
    "# in "
   ]
  },
  {
   "cell_type": "code",
   "execution_count": 391,
   "id": "0d0196a5-fd0d-494c-927c-c10199847abe",
   "metadata": {},
   "outputs": [
    {
     "name": "stdout",
     "output_type": "stream",
     "text": [
      "True\n",
      "False\n",
      "<class 'bool'>\n"
     ]
    }
   ],
   "source": [
    "a= 'saran'\n",
    "b='mari'\n",
    "name_list=['praveen','kumar','ajay','mani','saran']\n",
    "print(a in name_list)\n",
    "print(b in name_list)\n",
    "print(type(a in name_list))"
   ]
  },
  {
   "cell_type": "markdown",
   "id": "7cdf6fb9-cb4b-406c-8bfb-c251e66bfd64",
   "metadata": {},
   "source": [
    "# is"
   ]
  },
  {
   "cell_type": "code",
   "execution_count": 392,
   "id": "f5cf41ea-bd8d-4a0c-b102-52e897d25f4e",
   "metadata": {},
   "outputs": [
    {
     "name": "stdout",
     "output_type": "stream",
     "text": [
      "True\n",
      "1975757662064\n",
      "1975757662064\n",
      "<class 'bool'>\n",
      "True\n"
     ]
    }
   ],
   "source": [
    "a='praveen'\n",
    "b='praveen'\n",
    "z=a\n",
    "print(a is b)\n",
    "print(id(a))\n",
    "print(id(b))\n",
    "print(type(a is b))\n",
    "print(( z is b))"
   ]
  },
  {
   "cell_type": "markdown",
   "id": "1c27998b-6628-4b13-be52-2310c9c6a1a7",
   "metadata": {},
   "source": [
    " #  for immutable object"
   ]
  },
  {
   "cell_type": "code",
   "execution_count": 393,
   "id": "a06256be-07bb-4ba6-93c4-4d5b9fbc0a94",
   "metadata": {},
   "outputs": [
    {
     "name": "stdout",
     "output_type": "stream",
     "text": [
      "True\n",
      "False\n"
     ]
    }
   ],
   "source": [
    "x = [1, 2, 3]\n",
    "y = x  # Both x and y reference the same list object\n",
    "\n",
    "z = [1, 2, 3]  # A new list object with the same values as x\n",
    "\n",
    "print(x is y)  # Output: True, x and y reference the same object\n",
    "print(x is z)  # Output: False, x and z are different objects in memory\n",
    "\n"
   ]
  },
  {
   "cell_type": "code",
   "execution_count": 394,
   "id": "76f2c141-e5fe-4cc1-ac9e-faef5ff70ba7",
   "metadata": {},
   "outputs": [
    {
     "name": "stdout",
     "output_type": "stream",
     "text": [
      "1975768620928\n",
      "1975768620928\n",
      "1975768628544\n"
     ]
    }
   ],
   "source": [
    "print(id(x))\n",
    "print(id(y))\n",
    "print(id(z))"
   ]
  },
  {
   "cell_type": "markdown",
   "id": "a9895006-17ef-4fac-a6d7-2d6a92cd54d0",
   "metadata": {},
   "source": [
    "what is the difference b.w 'is' and ==\n",
    "is - it checks if objects memory address(id) are same or not\n",
    "== - it checks if objects values are same or not"
   ]
  },
  {
   "cell_type": "code",
   "execution_count": 363,
   "id": "78d5c57b-20bd-4052-894c-9c35cde75793",
   "metadata": {},
   "outputs": [
    {
     "name": "stdout",
     "output_type": "stream",
     "text": [
      "True\n"
     ]
    }
   ],
   "source": [
    "print(x==y)"
   ]
  },
  {
   "cell_type": "markdown",
   "id": "19f61578-6a2a-4c9c-954d-c19ca50ae90b",
   "metadata": {},
   "source": [
    "# Lambda"
   ]
  },
  {
   "cell_type": "code",
   "execution_count": 15,
   "id": "5b814b1f-d2de-4478-931a-9ec33266cd86",
   "metadata": {},
   "outputs": [
    {
     "name": "stdout",
     "output_type": "stream",
     "text": [
      "(0, 1, 2, 3, 4, 5, 6, 7, 8, 9)\n"
     ]
    }
   ],
   "source": [
    "# inline labmda\n",
    "\n",
    "\n",
    "result=tuple(map(lambda x: x-1,[1,2,3,4,5,6,7,8,9,10]))\n",
    "print(result)"
   ]
  },
  {
   "cell_type": "markdown",
   "id": "dc6e33d9-c088-4422-966d-cbf48ba4142e",
   "metadata": {},
   "source": [
    "# print "
   ]
  },
  {
   "cell_type": "code",
   "execution_count": 279,
   "id": "c69031e9-11c0-4d1f-8776-c607aa8cfbe6",
   "metadata": {},
   "outputs": [
    {
     "name": "stdout",
     "output_type": "stream",
     "text": [
      "praveen\n"
     ]
    }
   ],
   "source": [
    "print('praveen')"
   ]
  },
  {
   "cell_type": "markdown",
   "id": "6879da45-873b-41c0-aae9-6265fbb313e9",
   "metadata": {},
   "source": [
    "# raise "
   ]
  },
  {
   "cell_type": "code",
   "execution_count": 285,
   "id": "f2e9bcb8-7b75-4ede-85d4-dcd2bf6d44fe",
   "metadata": {},
   "outputs": [
    {
     "ename": "ValueError",
     "evalue": " no output",
     "output_type": "error",
     "traceback": [
      "\u001b[1;31m---------------------------------------------------------------------------\u001b[0m",
      "\u001b[1;31mValueError\u001b[0m                                Traceback (most recent call last)",
      "Cell \u001b[1;32mIn[285], line 1\u001b[0m\n\u001b[1;32m----> 1\u001b[0m \u001b[38;5;28;01mraise\u001b[39;00m \u001b[38;5;167;01mValueError\u001b[39;00m(\u001b[38;5;124m'\u001b[39m\u001b[38;5;124m no output\u001b[39m\u001b[38;5;124m'\u001b[39m)\n",
      "\u001b[1;31mValueError\u001b[0m:  no output"
     ]
    }
   ],
   "source": [
    "raise ValueError(' no output')"
   ]
  },
  {
   "cell_type": "markdown",
   "id": "c39e51d3-33e9-419e-b1ca-2b6a3abe783d",
   "metadata": {},
   "source": [
    "# return"
   ]
  },
  {
   "cell_type": "code",
   "execution_count": 314,
   "id": "7925bbdd-ae63-4f83-aee1-5827419d18fc",
   "metadata": {},
   "outputs": [
    {
     "name": "stdout",
     "output_type": "stream",
     "text": [
      "2\n"
     ]
    }
   ],
   "source": [
    "\n",
    "def addition(a,b):\n",
    "    c=(a+b)\n",
    "    return c\n",
    "\n",
    "print(addition(1,1))"
   ]
  },
  {
   "cell_type": "code",
   "execution_count": 16,
   "id": "a0f744d6-0aa3-4d72-b353-05aed0f770b4",
   "metadata": {},
   "outputs": [
    {
     "name": "stdout",
     "output_type": "stream",
     "text": [
      "welcome hello world\n",
      "welcome hello world\n",
      "welcome hello world\n",
      "welcome hello world\n",
      "welcome hello world\n",
      "welcome hello world\n",
      "welcome hello world\n",
      "welcome hello world\n",
      "welcome hello world\n",
      "welcome hello world\n"
     ]
    }
   ],
   "source": [
    "# global is for variable name\n",
    "# return is for function result(value)\n",
    "\n",
    "# while\n",
    "\n",
    "a=10\n",
    "while a>0:\n",
    "  print('welcome hello world')\n",
    "  a=a-1\n"
   ]
  },
  {
   "cell_type": "markdown",
   "id": "b2354c78-9b3d-49e9-a56f-fae525481bd1",
   "metadata": {},
   "source": [
    "# with"
   ]
  },
  {
   "cell_type": "code",
   "execution_count": 322,
   "id": "1365c842-26d7-49ac-a2c3-3a060d6a78f5",
   "metadata": {},
   "outputs": [
    {
     "ename": "FileNotFoundError",
     "evalue": "[Errno 2] No such file or directory: 'myfile.txt'",
     "output_type": "error",
     "traceback": [
      "\u001b[1;31m---------------------------------------------------------------------------\u001b[0m",
      "\u001b[1;31mFileNotFoundError\u001b[0m                         Traceback (most recent call last)",
      "Cell \u001b[1;32mIn[322], line 2\u001b[0m\n\u001b[0;32m      1\u001b[0m \u001b[38;5;66;03m# Using 'with' to automatically close a file after reading\u001b[39;00m\n\u001b[1;32m----> 2\u001b[0m \u001b[38;5;28;01mwith\u001b[39;00m \u001b[38;5;28;43mopen\u001b[39;49m\u001b[43m(\u001b[49m\u001b[38;5;124;43m\"\u001b[39;49m\u001b[38;5;124;43mmyfile.txt\u001b[39;49m\u001b[38;5;124;43m\"\u001b[39;49m\u001b[43m,\u001b[49m\u001b[43m \u001b[49m\u001b[38;5;124;43m\"\u001b[39;49m\u001b[38;5;124;43mr\u001b[39;49m\u001b[38;5;124;43m\"\u001b[39;49m\u001b[43m)\u001b[49m \u001b[38;5;28;01mas\u001b[39;00m file:\n\u001b[0;32m      3\u001b[0m     content \u001b[38;5;241m=\u001b[39m file\u001b[38;5;241m.\u001b[39mread()\n\u001b[0;32m      4\u001b[0m     \u001b[38;5;66;03m# Perform operations on 'content'\u001b[39;00m\n\u001b[0;32m      5\u001b[0m \n\u001b[0;32m      6\u001b[0m \u001b[38;5;66;03m# 'file' is automatically closed outside the 'with' block\u001b[39;00m\n",
      "File \u001b[1;32m~\\AppData\\Local\\Programs\\Python\\Python311\\Lib\\site-packages\\IPython\\core\\interactiveshell.py:284\u001b[0m, in \u001b[0;36m_modified_open\u001b[1;34m(file, *args, **kwargs)\u001b[0m\n\u001b[0;32m    277\u001b[0m \u001b[38;5;28;01mif\u001b[39;00m file \u001b[38;5;129;01min\u001b[39;00m {\u001b[38;5;241m0\u001b[39m, \u001b[38;5;241m1\u001b[39m, \u001b[38;5;241m2\u001b[39m}:\n\u001b[0;32m    278\u001b[0m     \u001b[38;5;28;01mraise\u001b[39;00m \u001b[38;5;167;01mValueError\u001b[39;00m(\n\u001b[0;32m    279\u001b[0m         \u001b[38;5;124mf\u001b[39m\u001b[38;5;124m\"\u001b[39m\u001b[38;5;124mIPython won\u001b[39m\u001b[38;5;124m'\u001b[39m\u001b[38;5;124mt let you open fd=\u001b[39m\u001b[38;5;132;01m{\u001b[39;00mfile\u001b[38;5;132;01m}\u001b[39;00m\u001b[38;5;124m by default \u001b[39m\u001b[38;5;124m\"\u001b[39m\n\u001b[0;32m    280\u001b[0m         \u001b[38;5;124m\"\u001b[39m\u001b[38;5;124mas it is likely to crash IPython. If you know what you are doing, \u001b[39m\u001b[38;5;124m\"\u001b[39m\n\u001b[0;32m    281\u001b[0m         \u001b[38;5;124m\"\u001b[39m\u001b[38;5;124myou can use builtins\u001b[39m\u001b[38;5;124m'\u001b[39m\u001b[38;5;124m open.\u001b[39m\u001b[38;5;124m\"\u001b[39m\n\u001b[0;32m    282\u001b[0m     )\n\u001b[1;32m--> 284\u001b[0m \u001b[38;5;28;01mreturn\u001b[39;00m \u001b[43mio_open\u001b[49m\u001b[43m(\u001b[49m\u001b[43mfile\u001b[49m\u001b[43m,\u001b[49m\u001b[43m \u001b[49m\u001b[38;5;241;43m*\u001b[39;49m\u001b[43margs\u001b[49m\u001b[43m,\u001b[49m\u001b[43m \u001b[49m\u001b[38;5;241;43m*\u001b[39;49m\u001b[38;5;241;43m*\u001b[39;49m\u001b[43mkwargs\u001b[49m\u001b[43m)\u001b[49m\n",
      "\u001b[1;31mFileNotFoundError\u001b[0m: [Errno 2] No such file or directory: 'myfile.txt'"
     ]
    }
   ],
   "source": [
    "# Using 'with' to automatically close a file after reading\n",
    "with open(\"myfile.txt\", \"r\") as file:\n",
    "    content = file.read()\n",
    "    # Perform operations on 'content'\n",
    "\n",
    "# 'file' is automatically closed outside the 'with' block"
   ]
  },
  {
   "cell_type": "markdown",
   "id": "05c09b14-9509-4dea-825a-c8c540331fcc",
   "metadata": {},
   "source": [
    "# yeild"
   ]
  },
  {
   "cell_type": "code",
   "execution_count": 358,
   "id": "76dc2d8a-182a-4b35-9687-6c63bbc39fc5",
   "metadata": {},
   "outputs": [
    {
     "name": "stdout",
     "output_type": "stream",
     "text": [
      "<class 'generator'>\n"
     ]
    },
    {
     "data": {
      "text/plain": [
       "1"
      ]
     },
     "execution_count": 358,
     "metadata": {},
     "output_type": "execute_result"
    }
   ],
   "source": [
    "list = [1,2,3]\n",
    "def square(list_temp):\n",
    "    for i in list_temp:\n",
    "        \n",
    "        yield i **6\n",
    "        \n",
    "result=square(list)\n",
    "print(type(result))\n",
    "next(result)"
   ]
  },
  {
   "cell_type": "markdown",
   "id": "011bb319",
   "metadata": {},
   "source": [
    "# try,except"
   ]
  },
  {
   "cell_type": "code",
   "execution_count": 17,
   "id": "a6fcb732",
   "metadata": {},
   "outputs": [
    {
     "name": "stdout",
     "output_type": "stream",
     "text": [
      "code error: division by zero\n"
     ]
    }
   ],
   "source": [
    "try:\n",
    "    a=30/0\n",
    "    print(a)\n",
    "except ZeroDivisionError as e:\n",
    "      print(\"code error:\",e)"
   ]
  },
  {
   "cell_type": "code",
   "execution_count": null,
   "id": "c9c801da",
   "metadata": {},
   "outputs": [],
   "source": []
  }
 ],
 "metadata": {
  "kernelspec": {
   "display_name": "Python 3 (ipykernel)",
   "language": "python",
   "name": "python3"
  },
  "language_info": {
   "codemirror_mode": {
    "name": "ipython",
    "version": 3
   },
   "file_extension": ".py",
   "mimetype": "text/x-python",
   "name": "python",
   "nbconvert_exporter": "python",
   "pygments_lexer": "ipython3",
   "version": "3.12.5"
  }
 },
 "nbformat": 4,
 "nbformat_minor": 5
}
