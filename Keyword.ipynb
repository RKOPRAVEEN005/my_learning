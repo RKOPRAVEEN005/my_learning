{
 "cells": [
  {
   "cell_type": "markdown",
   "id": "7b5b3451-e9bb-4cea-9561-721feb99ed8c",
   "metadata": {},
   "source": [
    "# and"
   ]
  },
  {
   "cell_type": "code",
   "execution_count": 46,
   "id": "100fcb10-5630-4d07-a82b-b646bf8c00c0",
   "metadata": {},
   "outputs": [
    {
     "name": "stdout",
     "output_type": "stream",
     "text": [
      "you are eligible for a student  discount.\n"
     ]
    }
   ],
   "source": [
    "age=18  \n",
    "is_student =True\n",
    "if age<= 25 and is_student:\n",
    " print(\"you are eligible for a student  discount.\")\n",
    "else:\n",
    " print(\"you are not eligible for a student  discount\")"
   ]
  },
  {
   "cell_type": "markdown",
   "id": "99866a4f-6824-46b2-936a-a7fdea230e1f",
   "metadata": {},
   "source": [
    "# or"
   ]
  },
  {
   "cell_type": "code",
   "execution_count": 106,
   "id": "13689267-efb9-469c-bebc-da0bda18302a",
   "metadata": {},
   "outputs": [
    {
     "name": "stdout",
     "output_type": "stream",
     "text": [
      "it's good day to stay indoor.\n"
     ]
    }
   ],
   "source": [
    "temperature=28\n",
    "is_raining=True\n",
    "if temperature>=30 or is_raining:\n",
    " print(\"it's good day to stay indoor.\")\n",
    "else:\n",
    " print(\"let's good day outside and enjay the day\")"
   ]
  },
  {
   "cell_type": "markdown",
   "id": "61bee7f3-2478-44b6-9474-53c867f5860a",
   "metadata": {},
   "source": [
    "# assert"
   ]
  },
  {
   "cell_type": "code",
   "execution_count": 89,
   "id": "0a899930-8c0c-40c6-97ae-5d6cd502c6e1",
   "metadata": {},
   "outputs": [
    {
     "name": "stdout",
     "output_type": "stream",
     "text": [
      "assertion is successful\n"
     ]
    },
    {
     "ename": "AssertionError",
     "evalue": " c is not equal to 10",
     "output_type": "error",
     "traceback": [
      "\u001b[1;31m---------------------------------------------------------------------------\u001b[0m",
      "\u001b[1;31mAssertionError\u001b[0m                            Traceback (most recent call last)",
      "Cell \u001b[1;32mIn[89], line 6\u001b[0m\n\u001b[0;32m      4\u001b[0m  \u001b[38;5;66;03m# c to c is not equal  ,so assert error\u001b[39;00m\n\u001b[0;32m      5\u001b[0m c\u001b[38;5;241m=\u001b[39m\u001b[38;5;241m5\u001b[39m\n\u001b[1;32m----> 6\u001b[0m \u001b[38;5;28;01massert\u001b[39;00m c\u001b[38;5;241m==\u001b[39m\u001b[38;5;241m10\u001b[39m, \u001b[38;5;124m'\u001b[39m\u001b[38;5;124m c is not equal to 10\u001b[39m\u001b[38;5;124m'\u001b[39m\n\u001b[0;32m      7\u001b[0m \u001b[38;5;28mprint\u001b[39m(c)\n",
      "\u001b[1;31mAssertionError\u001b[0m:  c is not equal to 10"
     ]
    }
   ],
   "source": [
    "a=110\n",
    "assert a==110\n",
    "print('assertion is successful')\n",
    " # c to c is not equal  ,so assert error\n",
    "c=5\n",
    "assert c==10, ' c is not equal to 10'\n",
    "print(c)\n"
   ]
  },
  {
   "cell_type": "markdown",
   "id": "706a946f-48db-4f2d-8975-d1e157fcda9f",
   "metadata": {},
   "source": [
    "# not"
   ]
  },
  {
   "cell_type": "code",
   "execution_count": 113,
   "id": "ac68612c-8844-47ab-9db1-26e6e500e79c",
   "metadata": {},
   "outputs": [
    {
     "name": "stdout",
     "output_type": "stream",
     "text": [
      "iam inside else condition\n"
     ]
    }
   ],
   "source": [
    "flag=True\n",
    "if not flag:\n",
    " print(\"iam inside if condition\")\n",
    "else:\n",
    " print(\"iam inside else condition\")\n",
    "    "
   ]
  }
 ],
 "metadata": {
  "kernelspec": {
   "display_name": "Python 3 (ipykernel)",
   "language": "python",
   "name": "python3"
  },
  "language_info": {
   "codemirror_mode": {
    "name": "ipython",
    "version": 3
   },
   "file_extension": ".py",
   "mimetype": "text/x-python",
   "name": "python",
   "nbconvert_exporter": "python",
   "pygments_lexer": "ipython3",
   "version": "3.11.2"
  }
 },
 "nbformat": 4,
 "nbformat_minor": 5
}
