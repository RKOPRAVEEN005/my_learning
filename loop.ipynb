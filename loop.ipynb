{
 "cells": [
  {
   "cell_type": "markdown",
   "id": "21ab32d4-7b23-4211-a80b-e316bd166d92",
   "metadata": {},
   "source": [
    "# loop"
   ]
  },
  {
   "cell_type": "markdown",
   "id": "a11dd167-feae-411d-ad66-f7a80e3f27e9",
   "metadata": {},
   "source": [
    "#### for"
   ]
  },
  {
   "cell_type": "code",
   "execution_count": 2,
   "id": "7076fd8e-f357-443f-ba87-22ed4ff3bc00",
   "metadata": {},
   "outputs": [
    {
     "name": "stdout",
     "output_type": "stream",
     "text": [
      "1\n",
      "2\n",
      "3\n",
      "4\n",
      "5\n",
      "6\n"
     ]
    }
   ],
   "source": [
    "sample_list=[1,2,3,4,5,6]\n",
    "for i in sample_list:\n",
    " print(i)"
   ]
  },
  {
   "cell_type": "markdown",
   "id": "9b73c940-61a2-4e75-8a5f-683a1d768885",
   "metadata": {},
   "source": [
    "### while"
   ]
  },
  {
   "cell_type": "code",
   "execution_count": 12,
   "id": "afc9e3e8-ce8b-4d6e-b236-1272631ecdf9",
   "metadata": {},
   "outputs": [
    {
     "name": "stdout",
     "output_type": "stream",
     "text": [
      "in loop\n",
      "in loop\n",
      "in loop\n",
      "in loop\n",
      "in loop\n",
      "in loop\n",
      "in loop\n",
      "in loop\n",
      "in loop\n",
      "in loop\n",
      "in loop\n",
      "in loop\n",
      "in loop\n",
      "in loop\n",
      "in loop\n",
      "in loop\n",
      "in loop\n",
      "in loop\n",
      "in loop\n",
      "in loop\n",
      "in loop\n",
      "in loop\n",
      "in loop\n"
     ]
    }
   ],
   "source": [
    "flag=True\n",
    "var = 1\n",
    "while flag:\n",
    "     if var > 67:\n",
    "         flag= False\n",
    "     else:\n",
    "         print('in loop')\n",
    "         var=var+3\n",
    "\n",
    "         \n",
    "\n",
    "\n"
   ]
  },
  {
   "cell_type": "markdown",
   "id": "97ebad3b-f54d-4315-ad8c-29ae18cf9661",
   "metadata": {},
   "source": [
    "## nested"
   ]
  },
  {
   "cell_type": "markdown",
   "id": "b6aa4822-2012-40f0-93b4-34c1f5487ada",
   "metadata": {},
   "source": [
    "#### loop insaid a loop"
   ]
  },
  {
   "cell_type": "code",
   "execution_count": 12,
   "id": "8090e565-d013-4471-9878-4527ab54106e",
   "metadata": {},
   "outputs": [
    {
     "name": "stdout",
     "output_type": "stream",
     "text": [
      "d 1\n",
      "s 1\n",
      "s 2\n",
      "s 3\n",
      "s 4\n",
      "s 5\n",
      "d 2\n",
      "s 1\n",
      "s 2\n",
      "s 3\n",
      "s 4\n",
      "s 5\n",
      "d 3\n",
      "s 1\n",
      "s 2\n",
      "s 3\n",
      "s 4\n",
      "s 5\n",
      "d 4\n",
      "s 1\n",
      "s 2\n",
      "s 3\n",
      "s 4\n",
      "s 5\n",
      "d 5\n",
      "s 1\n",
      "s 2\n",
      "s 3\n",
      "s 4\n",
      "s 5\n"
     ]
    }
   ],
   "source": [
    "list_example1=[1,2,3,4,5]\n",
    "list_example2=[1,2,3,4,5]\n",
    "for i in list_example1:\n",
    "     print('d',i)\n",
    "     for m in list_example2:\n",
    "      print('s',m)\n"
   ]
  }
 ],
 "metadata": {
  "kernelspec": {
   "display_name": "Python 3 (ipykernel)",
   "language": "python",
   "name": "python3"
  },
  "language_info": {
   "codemirror_mode": {
    "name": "ipython",
    "version": 3
   },
   "file_extension": ".py",
   "mimetype": "text/x-python",
   "name": "python",
   "nbconvert_exporter": "python",
   "pygments_lexer": "ipython3",
   "version": "3.11.2"
  }
 },
 "nbformat": 4,
 "nbformat_minor": 5
}
