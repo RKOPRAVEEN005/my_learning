{
 "cells": [
  {
   "cell_type": "markdown",
   "id": "8f6a033b-a298-42d9-80c3-01f57ab9c821",
   "metadata": {},
   "source": [
    "# how to create empty_set"
   ]
  },
  {
   "cell_type": "code",
   "execution_count": 4,
   "id": "e1b1ccf7-e73c-4e77-944d-b0b5dff61023",
   "metadata": {},
   "outputs": [
    {
     "name": "stdout",
     "output_type": "stream",
     "text": [
      "<class 'set'>\n"
     ]
    }
   ],
   "source": [
    "empty_set=set()\n",
    "print(type(empty_set))"
   ]
  },
  {
   "cell_type": "markdown",
   "id": "9ea3cd9f-e583-487a-a30b-10540fa62c8a",
   "metadata": {},
   "source": [
    "# example set"
   ]
  },
  {
   "cell_type": "code",
   "execution_count": 41,
   "id": "f4ca5247-9d0f-4e6d-af70-4dde70d58f38",
   "metadata": {},
   "outputs": [],
   "source": [
    "example_set={1,2,3,4,5,6}\n",
    "print=(example_set)"
   ]
  },
  {
   "cell_type": "markdown",
   "id": "1216a484-5065-4e81-92d3-e2c17d4fd2e8",
   "metadata": {},
   "source": [
    "# duplicate number  remove"
   ]
  },
  {
   "cell_type": "code",
   "execution_count": 42,
   "id": "3e406639-b111-4f1a-91aa-51dd60044abc",
   "metadata": {},
   "outputs": [],
   "source": [
    "example_set ={1,2,3,4,5,5}\n",
    "print=(example_set)"
   ]
  },
  {
   "cell_type": "code",
   "execution_count": null,
   "id": "bdedbf59-18e6-4ef2-b2c9-73529a9bf65d",
   "metadata": {},
   "outputs": [],
   "source": []
  },
  {
   "cell_type": "code",
   "execution_count": 43,
   "id": "12fcd739-575c-4a9b-8fd6-0df001a095f8",
   "metadata": {},
   "outputs": [
    {
     "ename": "TypeError",
     "evalue": "'set' object is not callable",
     "output_type": "error",
     "traceback": [
      "\u001b[1;31m---------------------------------------------------------------------------\u001b[0m",
      "\u001b[1;31mTypeError\u001b[0m                                 Traceback (most recent call last)",
      "Cell \u001b[1;32mIn[43], line 2\u001b[0m\n\u001b[0;32m      1\u001b[0m example_set \u001b[38;5;241m=\u001b[39m {\u001b[38;5;241m1\u001b[39m,\u001b[38;5;241m1\u001b[39m,\u001b[38;5;241m2\u001b[39m,\u001b[38;5;241m3\u001b[39m,\u001b[38;5;241m3\u001b[39m}\n\u001b[1;32m----> 2\u001b[0m \u001b[38;5;28;43mprint\u001b[39;49m\u001b[43m(\u001b[49m\u001b[43mexample_set\u001b[49m\u001b[43m)\u001b[49m\n",
      "\u001b[1;31mTypeError\u001b[0m: 'set' object is not callable"
     ]
    }
   ],
   "source": [
    "example_set = {1,1,2,3,3}\n",
    "print(example_set)"
   ]
  },
  {
   "cell_type": "code",
   "execution_count": 44,
   "id": "59a0e633-506f-4182-99de-b8debd074c52",
   "metadata": {},
   "outputs": [
    {
     "ename": "TypeError",
     "evalue": "'set' object is not callable",
     "output_type": "error",
     "traceback": [
      "\u001b[1;31m---------------------------------------------------------------------------\u001b[0m",
      "\u001b[1;31mTypeError\u001b[0m                                 Traceback (most recent call last)",
      "Cell \u001b[1;32mIn[44], line 3\u001b[0m\n\u001b[0;32m      1\u001b[0m list_items \u001b[38;5;241m=\u001b[39m [\u001b[38;5;241m1\u001b[39m,\u001b[38;5;241m2\u001b[39m,\u001b[38;5;241m2\u001b[39m,\u001b[38;5;241m3\u001b[39m,\u001b[38;5;241m3\u001b[39m]\n\u001b[0;32m      2\u001b[0m unique_items \u001b[38;5;241m=\u001b[39m \u001b[38;5;28mset\u001b[39m(list_items)\n\u001b[1;32m----> 3\u001b[0m \u001b[38;5;28;43mprint\u001b[39;49m\u001b[43m(\u001b[49m\u001b[43munique_items\u001b[49m\u001b[43m)\u001b[49m\n",
      "\u001b[1;31mTypeError\u001b[0m: 'set' object is not callable"
     ]
    }
   ],
   "source": [
    "list_items = [1,2,2,3,3]\n",
    "unique_items = set(list_items)\n",
    "print(unique_items)"
   ]
  },
  {
   "cell_type": "code",
   "execution_count": null,
   "id": "837b0ce1-9587-46a3-b06f-0ef3122e846b",
   "metadata": {},
   "outputs": [],
   "source": []
  },
  {
   "cell_type": "markdown",
   "id": "851744a6-ddcd-4473-a026-da8e8cfdf1c7",
   "metadata": {},
   "source": [
    "#itarable or not"
   ]
  },
  {
   "cell_type": "raw",
   "id": "65776d2e-9c10-4afa-b63d-0014b15c723d",
   "metadata": {},
   "source": [
    "example_set={1,2,3,4,5,6}\n",
    "for i in example_set:\n",
    "print(i)"
   ]
  }
 ],
 "metadata": {
  "kernelspec": {
   "display_name": "Python 3 (ipykernel)",
   "language": "python",
   "name": "python3"
  },
  "language_info": {
   "codemirror_mode": {
    "name": "ipython",
    "version": 3
   },
   "file_extension": ".py",
   "mimetype": "text/x-python",
   "name": "python",
   "nbconvert_exporter": "python",
   "pygments_lexer": "ipython3",
   "version": "3.11.2"
  }
 },
 "nbformat": 4,
 "nbformat_minor": 5
}
