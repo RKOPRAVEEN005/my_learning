{
 "cells": [
  {
   "cell_type": "markdown",
   "id": "bd9a9acb-562f-454f-a1d9-b658bb117b91",
   "metadata": {},
   "source": [
    "# definition:\n",
    "#### Generator returns an object that can be iterated one value at a time(i.e helps to create iterator). Yielidd helps to remember intermediate results.¶"
   ]
  },
  {
   "cell_type": "code",
   "execution_count": null,
   "id": "1687a249-278f-4fea-8176-2fce920f742d",
   "metadata": {},
   "outputs": [],
   "source": [
    "Advantages of generator"
   ]
  },
  {
   "cell_type": "code",
   "execution_count": null,
   "id": "815212f8-53c2-44b7-a188-d170b69862ae",
   "metadata": {},
   "outputs": [],
   "source": [
    "save memory"
   ]
  },
  {
   "cell_type": "code",
   "execution_count": 26,
   "id": "d769a019-9c65-465e-b1d1-1cd4ad16e8f7",
   "metadata": {},
   "outputs": [
    {
     "name": "stdout",
     "output_type": "stream",
     "text": [
      "<generator object addtion at 0x000001BD9EA89BE0>\n",
      "1\n",
      "2\n",
      "3\n",
      "4\n",
      "5\n"
     ]
    }
   ],
   "source": [
    "def addtion(my_list):\n",
    " for i in my_list:\n",
    "     yield i+1           #  Yield avoids loading the results in memory. Whenver, the generatore function, then it loads the result and returns          \n",
    "my_list=[1,2,3,4,5]\n",
    "result=addtion(my_list)\n",
    "print(result)\n",
    "for j in  my_list:\n",
    "  print(j)"
   ]
  }
 ],
 "metadata": {
  "kernelspec": {
   "display_name": "Python 3 (ipykernel)",
   "language": "python",
   "name": "python3"
  },
  "language_info": {
   "codemirror_mode": {
    "name": "ipython",
    "version": 3
   },
   "file_extension": ".py",
   "mimetype": "text/x-python",
   "name": "python",
   "nbconvert_exporter": "python",
   "pygments_lexer": "ipython3",
   "version": "3.11.2"
  }
 },
 "nbformat": 4,
 "nbformat_minor": 5
}
