{
 "cells": [
  {
   "cell_type": "markdown",
   "id": "e67cc47c-fcff-447c-81cf-be5417708b9d",
   "metadata": {},
   "source": [
    "# filter\n"
   ]
  },
  {
   "cell_type": "markdown",
   "id": "8a735526-aec3-4979-a710-162960f55374",
   "metadata": {},
   "source": [
    "###### why inbuilt functions in python?\n",
    "\n",
    "\n",
    "###### ease the writing of code"
   ]
  },
  {
   "cell_type": "code",
   "execution_count": null,
   "id": "5a22d773-599b-4b31-9c04-1b5ed3b414be",
   "metadata": {},
   "outputs": [],
   "source": []
  },
  {
   "cell_type": "code",
   "execution_count": null,
   "id": "010d1221-2c3a-49e1-8bd8-25f49161ce48",
   "metadata": {},
   "outputs": [],
   "source": [
    "## filter"
   ]
  },
  {
   "cell_type": "code",
   "execution_count": 16,
   "id": "2215fb33-1885-46d3-b482-b99271314214",
   "metadata": {},
   "outputs": [
    {
     "name": "stdout",
     "output_type": "stream",
     "text": [
      "[0, 1, 2, 3, 4, 5, 6, 7, 8, 9, 10, 11]\n"
     ]
    }
   ],
   "source": [
    "temp_list=[i for i in range(12)]\n",
    "print(temp_list)"
   ]
  },
  {
   "cell_type": "code",
   "execution_count": null,
   "id": "1122c868-9ca3-4299-b330-55197101c143",
   "metadata": {},
   "outputs": [],
   "source": [
    "## filter only evan number "
   ]
  },
  {
   "cell_type": "code",
   "execution_count": 24,
   "id": "6894e289-ce4b-42be-aefa-c94f90b361a8",
   "metadata": {},
   "outputs": [
    {
     "name": "stdout",
     "output_type": "stream",
     "text": [
      "[0, 2, 4, 6, 8, 10]\n"
     ]
    }
   ],
   "source": [
    "filtered_result=list(filter(lambda x:x%2==0,temp_list))\n",
    "print(filtered_result)"
   ]
  },
  {
   "cell_type": "markdown",
   "id": "d5cdc085-f085-4aa0-94f2-db96f80a95e8",
   "metadata": {},
   "source": [
    "# map"
   ]
  },
  {
   "cell_type": "markdown",
   "id": "d97ecb44-d6f2-4db9-864c-eeca481d258a",
   "metadata": {},
   "source": [
    "###### takes one value at a time iterable and pass that to lambda function"
   ]
  },
  {
   "cell_type": "code",
   "execution_count": 37,
   "id": "9718bb02-bae7-4bac-987e-4e54815175c1",
   "metadata": {},
   "outputs": [
    {
     "name": "stdout",
     "output_type": "stream",
     "text": [
      "[0, 16, 32, 48, 64, 80, 96, 112, 128, 144, 160, 176, 192, 208, 224, 240]\n"
     ]
    }
   ],
   "source": [
    "temp_list=[i for i in range(16)]\n",
    "filtered_result=list(map(lambda x:x*16, temp_list))\n",
    "print(filtered_result)"
   ]
  },
  {
   "cell_type": "markdown",
   "id": "e35c0a47-6c81-4423-882c-d07bd26d1740",
   "metadata": {},
   "source": [
    "# sorted"
   ]
  },
  {
   "cell_type": "markdown",
   "id": "2f9a7c9b-d7c8-4455-8f7c-8b4f0cbda3dc",
   "metadata": {},
   "source": [
    "###### sorts a list based on key \n",
    "###### alphabetical order use"
   ]
  },
  {
   "cell_type": "code",
   "execution_count": null,
   "id": "3294a4d2-2d5d-49f6-b13a-b7823633f05b",
   "metadata": {},
   "outputs": [],
   "source": [
    "##sort"
   ]
  },
  {
   "cell_type": "code",
   "execution_count": 44,
   "id": "d2672a27-c8f4-4ed9-8607-72dd03718ee0",
   "metadata": {},
   "outputs": [
    {
     "name": "stdout",
     "output_type": "stream",
     "text": [
      "['arun', 'kumar', 'praveen', 'ragu', 'ragul']\n"
     ]
    }
   ],
   "source": [
    "temp_list=['praveen','kumar','ragul','ragu','arun']\n",
    "temp_list.sort()\n",
    "print(temp_list)"
   ]
  },
  {
   "cell_type": "code",
   "execution_count": null,
   "id": "6060ebdc-7b7b-42a1-ac99-d993797a6d29",
   "metadata": {},
   "outputs": [],
   "source": [
    "## sorted "
   ]
  },
  {
   "cell_type": "code",
   "execution_count": 69,
   "id": "a4be563b-83eb-4add-92dc-0785632cba6f",
   "metadata": {},
   "outputs": [
    {
     "name": "stdout",
     "output_type": "stream",
     "text": [
      "['arun', 'saran', 'jeeva', 'praveen', 'nandhakumar']\n"
     ]
    }
   ],
   "source": [
    "temp_list=('praveen','saran','arun','jeeva','nandhakumar')\n",
    "result=sorted(temp_list,key=len)\n",
    "print(result)"
   ]
  },
  {
   "cell_type": "code",
   "execution_count": null,
   "id": "5968d591-fb21-4c48-9db0-e07980661db5",
   "metadata": {},
   "outputs": [],
   "source": [
    "## start with reverse"
   ]
  },
  {
   "cell_type": "code",
   "execution_count": 74,
   "id": "36f4898f-62d3-473c-ac00-1e6b3337743f",
   "metadata": {},
   "outputs": [
    {
     "name": "stdout",
     "output_type": "stream",
     "text": [
      "['nandhakumar', 'praveen', 'saran', 'jeeva', 'arun']\n"
     ]
    }
   ],
   "source": [
    "temple_list=('praveen','saran','arun','jeeva','nandhakumar')\n",
    "result=sorted(temple_list,key=len,reverse=True)\n",
    "print(result)"
   ]
  },
  {
   "cell_type": "markdown",
   "id": "1e6dd6b5-ae04-4350-a18b-ceb9755caa3b",
   "metadata": {},
   "source": [
    "# enumerate"
   ]
  },
  {
   "cell_type": "markdown",
   "id": "b84e4489-e007-4b3f-a8cb-d60f328cfadb",
   "metadata": {},
   "source": [
    "###### to retrun index as well as item from iterable"
   ]
  },
  {
   "cell_type": "code",
   "execution_count": 1,
   "id": "69d72e1b-8fbf-4968-9d46-916ca15ff6ea",
   "metadata": {},
   "outputs": [
    {
     "name": "stdout",
     "output_type": "stream",
     "text": [
      "0 mani\n",
      "1 ravi\n",
      "2 siva\n",
      "3 kumar\n",
      "4 praveen\n",
      "5 k\n"
     ]
    }
   ],
   "source": [
    "temp_list=['mani','ravi','siva','kumar','praveen','k']\n",
    "for index, item in enumerate(temp_list):\n",
    "  print(index,item)"
   ]
  },
  {
   "cell_type": "markdown",
   "id": "b13d34b3-5f9e-4af2-928d-663621c45b51",
   "metadata": {},
   "source": [
    "# zip"
   ]
  },
  {
   "cell_type": "markdown",
   "id": "76dbaf7b-c8c7-49b7-b595-7a67974676d5",
   "metadata": {},
   "source": [
    "###### iterates from more then one iterables"
   ]
  },
  {
   "cell_type": "code",
   "execution_count": 155,
   "id": "ec582d15-838c-49fd-bb5b-3f995d1ffb71",
   "metadata": {},
   "outputs": [
    {
     "name": "stdout",
     "output_type": "stream",
     "text": [
      "Name Praveen\n",
      "Date of birth 01-05-1999\n",
      "Class M.sc\n",
      "Roll number Gh20202123\n"
     ]
    }
   ],
   "source": [
    "temp_list1=['Name','Date of birth','Class','Roll number']\n",
    "temp_list2=['Praveen','01-05-1999','M.sc','Gh20202123']\n",
    "\n",
    "for item1 , item2 in zip(temp_list1,temp_list2):\n",
    "    \n",
    " print(item1,item2)"
   ]
  },
  {
   "cell_type": "markdown",
   "id": "6259f708-5b41-4797-ba52-6128cfc6576d",
   "metadata": {},
   "source": [
    "# join"
   ]
  },
  {
   "cell_type": "markdown",
   "id": "3501b10a-6b1e-4e88-bcba-7fdd044d45e8",
   "metadata": {},
   "source": [
    "joins the items from iterables"
   ]
  },
  {
   "cell_type": "code",
   "execution_count": 165,
   "id": "a45a3533-e99b-41c1-900e-b27250a0a48a",
   "metadata": {},
   "outputs": [
    {
     "data": {
      "text/plain": [
       "'mani@ravi@siva@kumar@praveen@k'"
      ]
     },
     "execution_count": 165,
     "metadata": {},
     "output_type": "execute_result"
    }
   ],
   "source": [
    "tamp_list=['mani','ravi','siva','kumar','praveen']\n",
    "'@'.join(temp_list)"
   ]
  }
 ],
 "metadata": {
  "kernelspec": {
   "display_name": "Python 3 (ipykernel)",
   "language": "python",
   "name": "python3"
  },
  "language_info": {
   "codemirror_mode": {
    "name": "ipython",
    "version": 3
   },
   "file_extension": ".py",
   "mimetype": "text/x-python",
   "name": "python",
   "nbconvert_exporter": "python",
   "pygments_lexer": "ipython3",
   "version": "3.11.2"
  }
 },
 "nbformat": 4,
 "nbformat_minor": 5
}
