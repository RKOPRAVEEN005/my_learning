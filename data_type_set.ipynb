{
 "cells": [
  {
   "cell_type": "markdown",
   "id": "fa91e0ad-5455-4201-838f-c00ecba6c8eb",
   "metadata": {},
   "source": [
    "# Empty set"
   ]
  },
  {
   "cell_type": "code",
   "execution_count": 1,
   "id": "b9bfa741-fadb-4e12-a5de-613f1f1fcadf",
   "metadata": {},
   "outputs": [
    {
     "name": "stdout",
     "output_type": "stream",
     "text": [
      "<class 'set'>\n"
     ]
    }
   ],
   "source": [
    "empty_set=set()\n",
    "print(type(empty_set))"
   ]
  },
  {
   "cell_type": "markdown",
   "id": "04187f36-c7d1-4d32-a966-0a2045be2635",
   "metadata": {},
   "source": [
    "# Example set"
   ]
  },
  {
   "cell_type": "code",
   "execution_count": 2,
   "id": "982b35ff-65bd-4837-a350-bf48e94c7a05",
   "metadata": {},
   "outputs": [
    {
     "name": "stdout",
     "output_type": "stream",
     "text": [
      "{1, 2, 3, 4, 5}\n"
     ]
    }
   ],
   "source": [
    "example_set={1,2,3,4,5}\n",
    "print(example_set)"
   ]
  },
  {
   "cell_type": "markdown",
   "id": "6b3996a7-220a-415c-bbad-eb644489d55b",
   "metadata": {},
   "source": [
    "# duplicate romeve"
   ]
  },
  {
   "cell_type": "code",
   "execution_count": 3,
   "id": "4b254efc-3ffe-43d8-994a-257f90297389",
   "metadata": {},
   "outputs": [
    {
     "name": "stdout",
     "output_type": "stream",
     "text": [
      "{1, 2, 3, 4, 5, 6}\n"
     ]
    }
   ],
   "source": [
    "example_set={1,2,3,4,4,5,6,6}\n",
    "print(example_set)"
   ]
  },
  {
   "cell_type": "markdown",
   "id": "eeb6e011-b7d3-4dbd-9a2d-0d335a610221",
   "metadata": {},
   "source": [
    "# How to duplicate remove the list"
   ]
  },
  {
   "cell_type": "code",
   "execution_count": 4,
   "id": "72c9e60a-d566-41c3-a656-f140dd86ada1",
   "metadata": {},
   "outputs": [
    {
     "name": "stdout",
     "output_type": "stream",
     "text": [
      "{1, 2, 3, 4, 5}\n"
     ]
    }
   ],
   "source": [
    "list_item={1,2,3,3,4,5,5}\n",
    "unique_item=set(list_item)\n",
    "print(unique_item)"
   ]
  },
  {
   "cell_type": "markdown",
   "id": "ace380ee-2d70-4043-afb3-0b59507d2b70",
   "metadata": {},
   "source": [
    "# mutable or not? immutable"
   ]
  },
  {
   "cell_type": "code",
   "execution_count": 5,
   "id": "e9ce0b18-f6c1-4383-8bcb-6f1f969cc708",
   "metadata": {},
   "outputs": [
    {
     "ename": "TypeError",
     "evalue": "'set' object does not support item assignment",
     "output_type": "error",
     "traceback": [
      "\u001b[1;31m---------------------------------------------------------------------------\u001b[0m",
      "\u001b[1;31mTypeError\u001b[0m                                 Traceback (most recent call last)",
      "Cell \u001b[1;32mIn[5], line 2\u001b[0m\n\u001b[0;32m      1\u001b[0m exampl_set\u001b[38;5;241m=\u001b[39m{\u001b[38;5;241m1\u001b[39m,\u001b[38;5;241m2\u001b[39m,\u001b[38;5;241m3\u001b[39m,\u001b[38;5;241m4\u001b[39m,\u001b[38;5;241m5\u001b[39m,\u001b[38;5;241m6\u001b[39m}\n\u001b[1;32m----> 2\u001b[0m \u001b[43mexample_set\u001b[49m\u001b[43m[\u001b[49m\u001b[38;5;241;43m2\u001b[39;49m\u001b[43m]\u001b[49m\u001b[38;5;241m=\u001b[39m\u001b[38;5;241m10\u001b[39m\n\u001b[0;32m      3\u001b[0m \u001b[38;5;28mprint\u001b[39m(example_set)\n",
      "\u001b[1;31mTypeError\u001b[0m: 'set' object does not support item assignment"
     ]
    }
   ],
   "source": [
    "exampl_set={1,2,3,4,5,6}\n",
    "example_set[2]=10\n",
    "print(example_set)"
   ]
  },
  {
   "cell_type": "markdown",
   "id": "12ca7e2f-0b45-42a3-9f90-c81540d88679",
   "metadata": {},
   "source": [
    "# ordered or unordered?unordered"
   ]
  },
  {
   "cell_type": "code",
   "execution_count": 7,
   "id": "35fd8df0-7cc8-4816-8816-23d56980cc0c",
   "metadata": {},
   "outputs": [
    {
     "ename": "TypeError",
     "evalue": "'set' object is not subscriptable",
     "output_type": "error",
     "traceback": [
      "\u001b[1;31m---------------------------------------------------------------------------\u001b[0m",
      "\u001b[1;31mTypeError\u001b[0m                                 Traceback (most recent call last)",
      "Cell \u001b[1;32mIn[7], line 2\u001b[0m\n\u001b[0;32m      1\u001b[0m example_set\u001b[38;5;241m=\u001b[39m{\u001b[38;5;241m1\u001b[39m,\u001b[38;5;241m2\u001b[39m,\u001b[38;5;241m3\u001b[39m,\u001b[38;5;241m4\u001b[39m,\u001b[38;5;241m5\u001b[39m,\u001b[38;5;241m6\u001b[39m}\n\u001b[1;32m----> 2\u001b[0m \u001b[38;5;28mprint\u001b[39m(\u001b[43mexample_set\u001b[49m\u001b[43m[\u001b[49m\u001b[38;5;241;43m0\u001b[39;49m\u001b[43m]\u001b[49m)\n",
      "\u001b[1;31mTypeError\u001b[0m: 'set' object is not subscriptable"
     ]
    }
   ],
   "source": [
    "example_set={1,2,3,4,5,6}\n",
    "print(example_set[0])"
   ]
  },
  {
   "cell_type": "markdown",
   "id": "abcc5b69-74aa-43bf-9af2-0e423d018ca6",
   "metadata": {},
   "source": [
    "# iterable or not?iterable"
   ]
  },
  {
   "cell_type": "code",
   "execution_count": 8,
   "id": "e39ffc55-6cc1-43d8-b60e-489b1a4d0396",
   "metadata": {},
   "outputs": [
    {
     "name": "stdout",
     "output_type": "stream",
     "text": [
      "1\n",
      "2\n",
      "3\n",
      "4\n",
      "5\n",
      "6\n"
     ]
    }
   ],
   "source": [
    "example_set={1,2,3,4,5,6}\n",
    "for i in example_set:\n",
    " print(i)"
   ]
  },
  {
   "cell_type": "markdown",
   "id": "92678f25-305f-4594-aa20-eb3974561a13",
   "metadata": {},
   "source": [
    "# how to add the element in the set"
   ]
  },
  {
   "cell_type": "code",
   "execution_count": 1,
   "id": "cd17b03d-d6fa-4139-bd4f-7976ef3b4882",
   "metadata": {},
   "outputs": [
    {
     "name": "stdout",
     "output_type": "stream",
     "text": [
      "{1, 2, 3, 4, 5, 6, 9}\n"
     ]
    }
   ],
   "source": [
    "example_set={1,2,3,4,5,6}\n",
    "example_set.add(9)\n",
    "print(example_set)"
   ]
  },
  {
   "cell_type": "markdown",
   "id": "7c8d2168-bfde-4bbf-9554-85a9b5f80fcd",
   "metadata": {},
   "source": [
    "# how to remove the element in the set"
   ]
  },
  {
   "cell_type": "code",
   "execution_count": 5,
   "id": "4b9426f3-99bf-404e-9d60-61760efea8c6",
   "metadata": {},
   "outputs": [
    {
     "name": "stdout",
     "output_type": "stream",
     "text": [
      "{1, 2, 3, 4, 5, 8, 9}\n"
     ]
    }
   ],
   "source": [
    "example_set={1,2,3,4,5,6,9,7,8}\n",
    "example_set.remove(7)\n",
    "example_set.remove(6)\n",
    "print(example_set)"
   ]
  },
  {
   "cell_type": "code",
   "execution_count": null,
   "id": "973c29a4-bced-4209-9ca8-36e7f3c469fd",
   "metadata": {},
   "outputs": [],
   "source": []
  },
  {
   "cell_type": "code",
   "execution_count": null,
   "id": "c1c7c6c3-0942-42b6-a93f-33cfeb520f48",
   "metadata": {},
   "outputs": [],
   "source": []
  },
  {
   "cell_type": "markdown",
   "id": "744e1e37-2bfd-4fdc-91d8-1d545cf3b668",
   "metadata": {},
   "source": [
    "# union"
   ]
  },
  {
   "cell_type": "markdown",
   "id": "909669ed-60c6-41da-947a-80946d14087f",
   "metadata": {},
   "source": [
    "example_set1={1,2,3,4,5,6}\n",
    "example_set2={1,2,3,4,7,8}\n",
    "union_set=example_set1.union(example_set2)\n",
    "print(union_set)"
   ]
  },
  {
   "cell_type": "markdown",
   "id": "dea1bb73-5855-4600-8ffb-11541faa4f72",
   "metadata": {},
   "source": [
    "# intersection"
   ]
  },
  {
   "cell_type": "code",
   "execution_count": 1,
   "id": "fe93f7b5-dade-401d-94d3-02d8782fa97c",
   "metadata": {},
   "outputs": [
    {
     "name": "stdout",
     "output_type": "stream",
     "text": [
      "{1, 2, 3}\n"
     ]
    }
   ],
   "source": [
    "example_set1={1,2,3,5}\n",
    "example_set2={1,2,3,4,6}\n",
    "union_set=example_set1.intersection(example_set2)\n",
    "print(union_set)\n"
   ]
  }
 ],
 "metadata": {
  "kernelspec": {
   "display_name": "Python 3 (ipykernel)",
   "language": "python",
   "name": "python3"
  },
  "language_info": {
   "codemirror_mode": {
    "name": "ipython",
    "version": 3
   },
   "file_extension": ".py",
   "mimetype": "text/x-python",
   "name": "python",
   "nbconvert_exporter": "python",
   "pygments_lexer": "ipython3",
   "version": "3.11.2"
  }
 },
 "nbformat": 4,
 "nbformat_minor": 5
}
