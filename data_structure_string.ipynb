{
 "cells": [
  {
   "cell_type": "markdown",
   "id": "c153e23d-29ae-4d04-9483-69cdb5ff0a89",
   "metadata": {},
   "source": [
    "#  how to identify a string"
   ]
  },
  {
   "cell_type": "code",
   "execution_count": 10,
   "id": "04b8954c-df2a-460e-b799-4368033f7cb6",
   "metadata": {},
   "outputs": [
    {
     "name": "stdout",
     "output_type": "stream",
     "text": [
      "<class 'str'>\n"
     ]
    }
   ],
   "source": [
    "var_1='string'\n",
    "print(type(var_1))"
   ]
  },
  {
   "cell_type": "markdown",
   "id": "1e29b864-274c-474c-907a-7718c9180c65",
   "metadata": {},
   "source": [
    " # string is muttable or immutable? immutable"
   ]
  },
  {
   "cell_type": "code",
   "execution_count": 14,
   "id": "3b048446-963c-401c-9455-66bf9b99eee5",
   "metadata": {},
   "outputs": [
    {
     "name": "stdout",
     "output_type": "stream",
     "text": [
      "error from mutable or not? name 'var_1' is not defined\n"
     ]
    }
   ],
   "source": [
    "try:\n",
    "  var_1[1]= 'T'\n",
    "except Exception as error:\n",
    "    print('error from mutable or not? ' + str(error))\n"
   ]
  },
  {
   "cell_type": "markdown",
   "id": "c5e765f1-8f9e-4cb8-90e5-1f9ef1c79ba8",
   "metadata": {},
   "source": [
    "# iterable or not? iterable"
   ]
  },
  {
   "cell_type": "code",
   "execution_count": 18,
   "id": "5ddf95ec-0189-4e36-a586-d45dd2806d5c",
   "metadata": {},
   "outputs": [
    {
     "name": "stdout",
     "output_type": "stream",
     "text": [
      "praveen\n",
      "kali\n",
      "mari\n"
     ]
    }
   ],
   "source": [
    "var_1='praveen','kali','mari'\n",
    "for i in var_1:\n",
    "    print(i)"
   ]
  },
  {
   "cell_type": "markdown",
   "id": "804393ff-2d2a-4fc4-8eea-6c0441505026",
   "metadata": {},
   "source": [
    "# ordered or unordered  ? ordered"
   ]
  },
  {
   "cell_type": "code",
   "execution_count": 2,
   "id": "5abf10e2-3a9e-434c-843b-f468eda939d1",
   "metadata": {},
   "outputs": [
    {
     "name": "stdout",
     "output_type": "stream",
     "text": [
      "p\n",
      "r\n",
      "a\n",
      "v\n",
      "e\n",
      "e\n",
      "n\n"
     ]
    }
   ],
   "source": [
    "var_1='praveen'\n",
    "for i in var_1:\n",
    "    print(i)"
   ]
  },
  {
   "cell_type": "markdown",
   "id": "ce8b365a-320c-44b8-a371-16f73b1bb070",
   "metadata": {},
   "source": [
    "# concatanate tow strings"
   ]
  },
  {
   "cell_type": "code",
   "execution_count": 27,
   "id": "24958967-09fd-4c27-bb91-0324a4779715",
   "metadata": {},
   "outputs": [
    {
     "name": "stdout",
     "output_type": "stream",
     "text": [
      "praveenkumar\n"
     ]
    }
   ],
   "source": [
    "\n",
    "reulut='praveen' +'kumar'\n",
    "print(result)"
   ]
  },
  {
   "cell_type": "markdown",
   "id": "52fd5dff-8604-4501-a438-9c4d0fc19f7a",
   "metadata": {},
   "source": [
    "# multiply with *"
   ]
  },
  {
   "cell_type": "code",
   "execution_count": 19,
   "id": "b279e7a9-9c01-47ce-b059-0c0f3f0040fb",
   "metadata": {},
   "outputs": [
    {
     "name": "stdout",
     "output_type": "stream",
     "text": [
      "hhjhhjhhjhhjhhjhhjhhjhhjhhjhhjhhjhhjhhjhhjhhjhhjhhjhhjhhjhhjhhjhhjhhjhhjhhjhhjhhjhhjhhjhhjhhjhhjhhjhhjhhjhhjhhjhhjhhjhhjhhjhhjhhjhhjhhjhhjhhjhhjhhjhhjhhjhhjhhjhhjhhjhhjhhjhhjhhjhhjhhjhhjhhjhhjhhjhhjhhjhhjhhjhhjhhjhhjhhjhhjhhjhhjhhjhhjhhjhhjhhjhhjhhjhhjhhjhhjhhjhhjhhjhhjhhjhhjhhjhhjhhjhhjhhjhhjhhjhhj\n"
     ]
    }
   ],
   "source": [
    "result='hhj'*100\n",
    "print(result)"
   ]
  },
  {
   "cell_type": "markdown",
   "id": "2be5e763-eae6-4eef-b9ca-0f68b6550511",
   "metadata": {},
   "source": [
    "# Upper, lower, capital method"
   ]
  },
  {
   "cell_type": "code",
   "execution_count": 40,
   "id": "a8600a9f-3325-477e-b494-70f9f5a89b6d",
   "metadata": {},
   "outputs": [
    {
     "name": "stdout",
     "output_type": "stream",
     "text": [
      "PRAVEEN\n",
      "kumar\n",
      "Saran\n"
     ]
    }
   ],
   "source": [
    "print('praveen'.upper())\n",
    "print('KUMAR'.lower())\n",
    "print('saran'.capitalize())"
   ]
  },
  {
   "cell_type": "markdown",
   "id": "bbca52f2-7a3d-408a-962b-374881f8cd2b",
   "metadata": {},
   "source": [
    "# strip white space"
   ]
  },
  {
   "cell_type": "code",
   "execution_count": 3,
   "id": "3883a8f9-bf07-4845-b4f2-331bc29587c2",
   "metadata": {},
   "outputs": [
    {
     "name": "stdout",
     "output_type": "stream",
     "text": [
      "   praveen kalimuthu\n"
     ]
    }
   ],
   "source": [
    "print('   praveen kalimuthu')"
   ]
  },
  {
   "cell_type": "code",
   "execution_count": 1,
   "id": "2a626026-c099-4487-b76f-cb78b8a7d773",
   "metadata": {},
   "outputs": [
    {
     "name": "stdout",
     "output_type": "stream",
     "text": [
      "kumar\n"
     ]
    }
   ],
   "source": [
    "print('  kumar'.strip() )"
   ]
  },
  {
   "cell_type": "code",
   "execution_count": 26,
   "id": "4eabe817-1749-4b87-b771-8a5a4ac52b38",
   "metadata": {},
   "outputs": [
    {
     "name": "stdout",
     "output_type": "stream",
     "text": [
      "['s', 'r', 'n']\n"
     ]
    }
   ],
   "source": [
    "print('saran'.split('a'))"
   ]
  },
  {
   "cell_type": "code",
   "execution_count": 23,
   "id": "3eb59b7a-e93f-4b2c-a067-b51576772897",
   "metadata": {},
   "outputs": [
    {
     "name": "stdout",
     "output_type": "stream",
     "text": [
      "['ra', 'achandhiran']\n",
      "None\n"
     ]
    }
   ],
   "source": [
    "a=('ramachandhiran')\n",
    "c=(print(a.split('m')))\n",
    "print(c)"
   ]
  },
  {
   "cell_type": "code",
   "execution_count": 26,
   "id": "927da07b-8fc9-4e02-98d0-1dd23e678dee",
   "metadata": {},
   "outputs": [
    {
     "ename": "TypeError",
     "evalue": "'str' object cannot be interpreted as an integer",
     "output_type": "error",
     "traceback": [
      "\u001b[1;31m---------------------------------------------------------------------------\u001b[0m",
      "\u001b[1;31mTypeError\u001b[0m                                 Traceback (most recent call last)",
      "Cell \u001b[1;32mIn[26], line 1\u001b[0m\n\u001b[1;32m----> 1\u001b[0m \u001b[38;5;28mprint\u001b[39m(\u001b[43ma\u001b[49m\u001b[38;5;241;43m.\u001b[39;49m\u001b[43msplit\u001b[49m\u001b[43m(\u001b[49m\u001b[38;5;124;43m'\u001b[39;49m\u001b[38;5;124;43mc\u001b[39;49m\u001b[38;5;124;43m'\u001b[39;49m\u001b[43m,\u001b[49m\u001b[38;5;124;43m'\u001b[39;49m\u001b[38;5;124;43mi\u001b[39;49m\u001b[38;5;124;43m'\u001b[39;49m\u001b[43m)\u001b[49m)\n\u001b[0;32m      2\u001b[0m \u001b[38;5;28mprint\u001b[39m(a)\n",
      "\u001b[1;31mTypeError\u001b[0m: 'str' object cannot be interpreted as an integer"
     ]
    }
   ],
   "source": [
    "print(a.split('c','i'))\n",
    "print(a)"
   ]
  }
 ],
 "metadata": {
  "kernelspec": {
   "display_name": "Python 3 (ipykernel)",
   "language": "python",
   "name": "python3"
  },
  "language_info": {
   "codemirror_mode": {
    "name": "ipython",
    "version": 3
   },
   "file_extension": ".py",
   "mimetype": "text/x-python",
   "name": "python",
   "nbconvert_exporter": "python",
   "pygments_lexer": "ipython3",
   "version": "3.11.2"
  }
 },
 "nbformat": 4,
 "nbformat_minor": 5
}
