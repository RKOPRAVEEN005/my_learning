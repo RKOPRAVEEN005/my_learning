{
 "cells": [
  {
   "cell_type": "markdown",
   "id": "40c0d96d-0de5-4cf6-a323-cf7845a2c81e",
   "metadata": {},
   "source": [
    "# Empty set"
   ]
  },
  {
   "cell_type": "code",
   "execution_count": 1,
   "id": "cdaa1710-df44-4dc3-ac5c-a727ee5932b4",
   "metadata": {},
   "outputs": [
    {
     "name": "stdout",
     "output_type": "stream",
     "text": [
      "<class 'set'>\n"
     ]
    }
   ],
   "source": [
    "empty_set=set()\n",
    "print(type(empty_set))"
   ]
  },
  {
   "cell_type": "markdown",
   "id": "340aa5a1-0287-4f05-a27a-408a6ef86ba2",
   "metadata": {},
   "source": [
    "# example set"
   ]
  },
  {
   "cell_type": "code",
   "execution_count": 3,
   "id": "4681348d-859d-461d-8dbe-0f3032e6d6ed",
   "metadata": {},
   "outputs": [
    {
     "name": "stdout",
     "output_type": "stream",
     "text": [
      "{1, 2, 3, 4, 5}\n"
     ]
    }
   ],
   "source": [
    "example_set={1,2,3,4,5}\n",
    "print(example_set)"
   ]
  },
  {
   "cell_type": "markdown",
   "id": "4dcba2b6-2e9e-4b26-a0ab-9743f7ddf4a7",
   "metadata": {},
   "source": [
    "# duplicate remove"
   ]
  },
  {
   "cell_type": "code",
   "execution_count": 4,
   "id": "0a19a5c5-e95f-4140-825b-43d8b1988c2e",
   "metadata": {},
   "outputs": [
    {
     "name": "stdout",
     "output_type": "stream",
     "text": [
      "{1, 2, 3, 4, 5, 6}\n"
     ]
    }
   ],
   "source": [
    "example_set={1,2,3,4,4,5,6,6}\n",
    "print(example_set)"
   ]
  },
  {
   "cell_type": "markdown",
   "id": "f09d50ec-da0d-4694-bad0-9122b9f20c32",
   "metadata": {},
   "source": [
    "# How to duplicate remove the list of set"
   ]
  },
  {
   "cell_type": "code",
   "execution_count": 5,
   "id": "179d67f0-cbee-426c-ab3e-7f19abc466f3",
   "metadata": {},
   "outputs": [
    {
     "name": "stdout",
     "output_type": "stream",
     "text": [
      "{1, 2, 3, 4, 5}\n"
     ]
    }
   ],
   "source": [
    "list_item={1,2,3,3,4,5,5}\n",
    "unique_item=set(list_item)\n",
    "print(unique_item)"
   ]
  },
  {
   "cell_type": "markdown",
   "id": "159c483e-b021-4dad-b5f6-55670cbb76d0",
   "metadata": {},
   "source": [
    "# mutable or not? immutable"
   ]
  },
  {
   "cell_type": "code",
   "execution_count": 6,
   "id": "1fb3f783-db80-4358-894e-20e72269674f",
   "metadata": {},
   "outputs": [
    {
     "ename": "TypeError",
     "evalue": "'set' object does not support item assignment",
     "output_type": "error",
     "traceback": [
      "\u001b[1;31m---------------------------------------------------------------------------\u001b[0m",
      "\u001b[1;31mTypeError\u001b[0m                                 Traceback (most recent call last)",
      "Cell \u001b[1;32mIn[6], line 2\u001b[0m\n\u001b[0;32m      1\u001b[0m exampl_set\u001b[38;5;241m=\u001b[39m{\u001b[38;5;241m1\u001b[39m,\u001b[38;5;241m2\u001b[39m,\u001b[38;5;241m3\u001b[39m,\u001b[38;5;241m4\u001b[39m,\u001b[38;5;241m5\u001b[39m,\u001b[38;5;241m6\u001b[39m}\n\u001b[1;32m----> 2\u001b[0m \u001b[43mexample_set\u001b[49m\u001b[43m[\u001b[49m\u001b[38;5;241;43m2\u001b[39;49m\u001b[43m]\u001b[49m\u001b[38;5;241m=\u001b[39m\u001b[38;5;241m10\u001b[39m\n\u001b[0;32m      3\u001b[0m \u001b[38;5;28mprint\u001b[39m(example_set)\n",
      "\u001b[1;31mTypeError\u001b[0m: 'set' object does not support item assignment"
     ]
    }
   ],
   "source": [
    "exampl_set={1,2,3,4,5,6}\n",
    "example_set[2]=10\n",
    "print(example_set)"
   ]
  },
  {
   "cell_type": "markdown",
   "id": "2bd7207a-309a-4735-9a49-5af220a4b7ed",
   "metadata": {},
   "source": [
    "# order or unordered?unordered"
   ]
  },
  {
   "cell_type": "code",
   "execution_count": 7,
   "id": "5b3dea76-96a7-4691-bdd6-8e0c82bfad01",
   "metadata": {},
   "outputs": [
    {
     "ename": "TypeError",
     "evalue": "'set' object is not subscriptable",
     "output_type": "error",
     "traceback": [
      "\u001b[1;31m---------------------------------------------------------------------------\u001b[0m",
      "\u001b[1;31mTypeError\u001b[0m                                 Traceback (most recent call last)",
      "Cell \u001b[1;32mIn[7], line 2\u001b[0m\n\u001b[0;32m      1\u001b[0m example_set\u001b[38;5;241m=\u001b[39m{\u001b[38;5;241m1\u001b[39m,\u001b[38;5;241m2\u001b[39m,\u001b[38;5;241m3\u001b[39m,\u001b[38;5;241m4\u001b[39m,\u001b[38;5;241m5\u001b[39m,\u001b[38;5;241m6\u001b[39m}\n\u001b[1;32m----> 2\u001b[0m \u001b[38;5;28mprint\u001b[39m(\u001b[43mexample_set\u001b[49m\u001b[43m[\u001b[49m\u001b[38;5;241;43m0\u001b[39;49m\u001b[43m]\u001b[49m)\n",
      "\u001b[1;31mTypeError\u001b[0m: 'set' object is not subscriptable"
     ]
    }
   ],
   "source": [
    "example_set={1,2,3,4,5,6}\n",
    "print(example_set[0])"
   ]
  },
  {
   "cell_type": "markdown",
   "id": "64b85012-4003-451f-a27c-c8db511196da",
   "metadata": {},
   "source": [
    "# itrable or not? "
   ]
  },
  {
   "cell_type": "code",
   "execution_count": 8,
   "id": "8517fa5f-50d4-4b3e-b45e-35ec6ecab582",
   "metadata": {},
   "outputs": [
    {
     "name": "stdout",
     "output_type": "stream",
     "text": [
      "1\n",
      "2\n",
      "3\n",
      "4\n",
      "5\n",
      "6\n"
     ]
    }
   ],
   "source": [
    "example_set={1,2,3,4,5,6}\n",
    "for i in example_set:\n",
    " print(i)"
   ]
  },
  {
   "cell_type": "markdown",
   "id": "0144ed8d-6dee-4399-a70f-f20e6bfc5a4a",
   "metadata": {},
   "source": [
    "# how to add the element in the set"
   ]
  },
  {
   "cell_type": "code",
   "execution_count": 9,
   "id": "4423d305-36f2-4f60-85b0-a8337e931248",
   "metadata": {},
   "outputs": [
    {
     "name": "stdout",
     "output_type": "stream",
     "text": [
      "{1, 2, 3, 4, 5, 6, 7}\n"
     ]
    }
   ],
   "source": [
    "example_set={1,2,3,4,5,6}\n",
    "example_set.add(7)\n",
    "print(example_set)"
   ]
  },
  {
   "cell_type": "markdown",
   "id": "f55e56a4-0822-468f-8614-d9258ec5ea9f",
   "metadata": {},
   "source": [
    "# how to remove the element in the set"
   ]
  },
  {
   "cell_type": "code",
   "execution_count": 10,
   "id": "2b4494d6-3516-4cfe-8b93-d2f939582d23",
   "metadata": {},
   "outputs": [
    {
     "name": "stdout",
     "output_type": "stream",
     "text": [
      "{1, 2, 3, 4}\n"
     ]
    }
   ],
   "source": [
    "example_set={1,2,3,4,5,6}\n",
    "example_set.remove(5)\n",
    "example_set.remove(6)\n",
    "print(example_set)"
   ]
  },
  {
   "cell_type": "markdown",
   "id": "5c8e11ee-745a-457c-bcce-a8d9d65c9384",
   "metadata": {},
   "source": [
    "# union"
   ]
  },
  {
   "cell_type": "code",
   "execution_count": 11,
   "id": "6a52f347-3122-4be2-ac75-edb851aa58cf",
   "metadata": {},
   "outputs": [
    {
     "name": "stdout",
     "output_type": "stream",
     "text": [
      "{1, 2, 3, 4, 5, 6, 7, 8}\n"
     ]
    }
   ],
   "source": [
    "example_set1={1,2,3,4,5,6}\n",
    "example_set2={1,2,3,4,7,8}\n",
    "union_set=example_set1.union(example_set2)\n",
    "print(union_set)"
   ]
  },
  {
   "cell_type": "markdown",
   "id": "f01abfa5-dbf9-41b7-8a86-2712014994eb",
   "metadata": {},
   "source": [
    "# intersection"
   ]
  },
  {
   "cell_type": "code",
   "execution_count": 12,
   "id": "72f1bace-fa9a-428b-9909-f56e51b6e32f",
   "metadata": {},
   "outputs": [
    {
     "name": "stdout",
     "output_type": "stream",
     "text": [
      "{1, 2, 3}\n"
     ]
    }
   ],
   "source": [
    "example_set1={1,2,3,5}\n",
    "example_set2={1,2,3,4,6}\n",
    "union_set=example_set1.intersection(example_set2)\n",
    "print(union_set)\n"
   ]
  },
  {
   "cell_type": "code",
   "execution_count": null,
   "id": "a2bd090f-6e53-454d-bc53-28ebd6694611",
   "metadata": {},
   "outputs": [],
   "source": []
  }
 ],
 "metadata": {
  "kernelspec": {
   "display_name": "Python 3 (ipykernel)",
   "language": "python",
   "name": "python3"
  },
  "language_info": {
   "codemirror_mode": {
    "name": "ipython",
    "version": 3
   },
   "file_extension": ".py",
   "mimetype": "text/x-python",
   "name": "python",
   "nbconvert_exporter": "python",
   "pygments_lexer": "ipython3",
   "version": "3.11.2"
  }
 },
 "nbformat": 4,
 "nbformat_minor": 5
}
