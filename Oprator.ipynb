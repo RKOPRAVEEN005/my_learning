{
 "cells": [
  {
   "cell_type": "markdown",
   "id": "518772ce-02bc-42ab-8ef0-82b21b77fb06",
   "metadata": {},
   "source": [
    "## Types of Operator"
   ]
  },
  {
   "cell_type": "markdown",
   "id": "ceaafda9-ac9b-4b30-b490-5a32d589b895",
   "metadata": {},
   "source": [
    ". Arithmetic Operators \n",
    ". comparison (Relational) Operator\n",
    ". Assignment operator\n",
    ". logical operator\n",
    ". Membership operator\n",
    ". Identy operator"
   ]
  },
  {
   "cell_type": "markdown",
   "id": "ea4701e0-1f87-4d3d-b23f-416ff2c478a1",
   "metadata": {},
   "source": [
    "## Arithmatic Operator"
   ]
  },
  {
   "cell_type": "markdown",
   "id": "f6f34782-f4e7-4fa4-aaca-f254ccc54606",
   "metadata": {},
   "source": [
    "Addition ---> +\n",
    "sum"
   ]
  },
  {
   "cell_type": "code",
   "execution_count": 10,
   "id": "d404b350-826b-44e5-8d95-ed13362d8c52",
   "metadata": {},
   "outputs": [
    {
     "name": "stdout",
     "output_type": "stream",
     "text": [
      "28\n"
     ]
    }
   ],
   "source": [
    "a=10\n",
    "b=18\n",
    "d=(a+b)\n",
    "print(d)"
   ]
  },
  {
   "cell_type": "markdown",
   "id": "1acb8ddc-215d-40e8-8e26-fc9e8279ab04",
   "metadata": {},
   "source": [
    "Substraction -->- difference"
   ]
  },
  {
   "cell_type": "code",
   "execution_count": 1,
   "id": "e33062f2-0170-4d7b-b262-9a661b10b165",
   "metadata": {},
   "outputs": [
    {
     "name": "stdout",
     "output_type": "stream",
     "text": [
      "100\n"
     ]
    }
   ],
   "source": [
    "a=400\n",
    "b=300\n",
    "c=a-b\n",
    "print(c)"
   ]
  },
  {
   "cell_type": "code",
   "execution_count": null,
   "id": "a8d604c1-eaeb-48e0-a3f4-64538bd1be71",
   "metadata": {},
   "outputs": [],
   "source": [
    "Multiplication -- *"
   ]
  },
  {
   "cell_type": "code",
   "execution_count": 300,
   "id": "7fe64624-aab0-43a4-824e-a02324ce6210",
   "metadata": {},
   "outputs": [
    {
     "name": "stdout",
     "output_type": "stream",
     "text": [
      "467138\n"
     ]
    }
   ],
   "source": [
    "a=547\n",
    "b=854\n",
    "c=a*b\n",
    "print(c)"
   ]
  },
  {
   "cell_type": "markdown",
   "id": "4db27685-34b6-4813-8d05-67f1408ccc0d",
   "metadata": {},
   "source": [
    "#### Divistion(normal) ----/"
   ]
  },
  {
   "cell_type": "code",
   "execution_count": 39,
   "id": "50f4daee-f649-457c-bca6-9fab3beb3a23",
   "metadata": {},
   "outputs": [
    {
     "name": "stdout",
     "output_type": "stream",
     "text": [
      "0.3\n"
     ]
    }
   ],
   "source": [
    "a=3  # Gives the quotient value\n",
    "b=10\n",
    "c=a/b \n",
    "print(c)"
   ]
  },
  {
   "cell_type": "markdown",
   "id": "92bcc748-111a-4c2c-a118-8e76ca6b8b80",
   "metadata": {},
   "source": [
    "#### modular Division  ---%"
   ]
  },
  {
   "cell_type": "code",
   "execution_count": 14,
   "id": "67c90795-0c15-4ef6-b39c-9386a23adf50",
   "metadata": {},
   "outputs": [
    {
     "name": "stdout",
     "output_type": "stream",
     "text": [
      "8\n"
     ]
    }
   ],
   "source": [
    "a=10 # give the reminder value\n",
    "b=88\n",
    "c=b % a\n",
    "print(c)"
   ]
  },
  {
   "cell_type": "markdown",
   "id": "97645958-9780-4236-a182-9f2a6e074d2c",
   "metadata": {},
   "source": [
    "#### floor division  ---- //"
   ]
  },
  {
   "cell_type": "code",
   "execution_count": 58,
   "id": "30aab6af-8fe4-43a4-b398-00e2aa9a8020",
   "metadata": {},
   "outputs": [
    {
     "name": "stdout",
     "output_type": "stream",
     "text": [
      "10\n"
     ]
    }
   ],
   "source": [
    "a=16     # Gives the quotient value as integer\n",
    "b=160\n",
    "c= b//a\n",
    "print(c)\n"
   ]
  },
  {
   "cell_type": "markdown",
   "id": "0836e5a8-f19b-4dea-bc09-8f54a133e3fb",
   "metadata": {},
   "source": [
    "#### for division"
   ]
  },
  {
   "cell_type": "code",
   "execution_count": 128,
   "id": "4a870cdf-9d9d-4bf2-b01b-0022c8713424",
   "metadata": {},
   "outputs": [
    {
     "name": "stdout",
     "output_type": "stream",
     "text": [
      "-3\n"
     ]
    }
   ],
   "source": [
    "a=3    # Gives the quotient value as integer\n",
    "b=-8\n",
    "c=b//a\n",
    "print(c)"
   ]
  },
  {
   "cell_type": "markdown",
   "id": "b15d3f8e-f0e9-4ce7-8464-39cdd220de45",
   "metadata": {},
   "source": [
    "####  exponent ----> **"
   ]
  },
  {
   "cell_type": "code",
   "execution_count": 12,
   "id": "89b95457-de85-4c1c-93dd-94cae62bfa89",
   "metadata": {},
   "outputs": [
    {
     "name": "stdout",
     "output_type": "stream",
     "text": [
      "21233664\n"
     ]
    }
   ],
   "source": [
    "a= 4\n",
    "c*=a\n",
    "print(c)"
   ]
  },
  {
   "cell_type": "markdown",
   "id": "65c92ff7-9a7b-4b01-9fae-a9604d7ab33c",
   "metadata": {},
   "source": [
    "### Assingnment Operator"
   ]
  },
  {
   "cell_type": "markdown",
   "id": "d911c166-ab4e-4a69-ae11-90a96e07589c",
   "metadata": {},
   "source": [
    "##### assingnment"
   ]
  },
  {
   "cell_type": "code",
   "execution_count": 110,
   "id": "dcf1601c-87b8-4db3-95b6-74cbe3ccaf2f",
   "metadata": {},
   "outputs": [
    {
     "name": "stdout",
     "output_type": "stream",
     "text": [
      "30\n"
     ]
    }
   ],
   "source": [
    "\n",
    " a=10\n",
    " b=30\n",
    " a=b\n",
    "print(a)\n"
   ]
  },
  {
   "cell_type": "markdown",
   "id": "e6836d11-a192-4e36-afe5-5db7bce6853b",
   "metadata": {},
   "source": [
    "##### add and assign to left"
   ]
  },
  {
   "cell_type": "code",
   "execution_count": 11,
   "id": "3c9c1ea0-8aee-4bfa-a8e3-8d6aa2cd3bdf",
   "metadata": {},
   "outputs": [
    {
     "name": "stdout",
     "output_type": "stream",
     "text": [
      "20\n"
     ]
    }
   ],
   "source": [
    "a=10\n",
    "b=10\n",
    "a+=b\n",
    "print(a)"
   ]
  },
  {
   "cell_type": "code",
   "execution_count": 2,
   "id": "57a062f2-81b5-4c78-ad85-309d9314072c",
   "metadata": {},
   "outputs": [
    {
     "name": "stdout",
     "output_type": "stream",
     "text": [
      "23\n"
     ]
    }
   ],
   "source": [
    "# if + on right side, it is considered as positive value\n",
    "a = 23\n",
    "a = a   # like + 10\n",
    "print(a)"
   ]
  },
  {
   "cell_type": "markdown",
   "id": "6c4fa1b7-1e43-4cd7-8fe7-83dcdbfca9ae",
   "metadata": {},
   "source": [
    "##### substract and assign to left"
   ]
  },
  {
   "cell_type": "code",
   "execution_count": 120,
   "id": "f5d89565-ca42-4211-8137-68b4e3238972",
   "metadata": {},
   "outputs": [
    {
     "name": "stdout",
     "output_type": "stream",
     "text": [
      "-19\n",
      "<class 'int'>\n"
     ]
    }
   ],
   "source": [
    "a=1\n",
    "b=20\n",
    "a-=b\n",
    "print(a)"
   ]
  },
  {
   "cell_type": "markdown",
   "id": "1a959146-e63f-4f6c-bff6-f3e7162f049c",
   "metadata": {},
   "source": [
    "##### multiply and assign to left"
   ]
  },
  {
   "cell_type": "code",
   "execution_count": 123,
   "id": "73fee606-8eba-4201-973a-324bea2841c6",
   "metadata": {},
   "outputs": [
    {
     "name": "stdout",
     "output_type": "stream",
     "text": [
      "300\n"
     ]
    }
   ],
   "source": [
    "a=10\n",
    "b=30\n",
    "a*=b\n",
    "print(a)"
   ]
  },
  {
   "cell_type": "markdown",
   "id": "c3f8c3c2-85b3-4837-89f1-ed8906f1fad0",
   "metadata": {},
   "source": [
    "##### Divide and assign to left"
   ]
  },
  {
   "cell_type": "code",
   "execution_count": 7,
   "id": "a79a6f28-0e86-45af-852d-06c6bc772b2d",
   "metadata": {},
   "outputs": [
    {
     "name": "stdout",
     "output_type": "stream",
     "text": [
      "0.5\n"
     ]
    }
   ],
   "source": [
    "\n",
    "a = 10\n",
    "b = 20\n",
    "a /= b\n",
    "print(a)\n"
   ]
  },
  {
   "cell_type": "markdown",
   "id": "72d4a92d-ca00-4f5f-b2dc-d8af6721a099",
   "metadata": {},
   "source": [
    "##### Modular Divide and assign left"
   ]
  },
  {
   "cell_type": "code",
   "execution_count": 9,
   "id": "b29cda0d-2b28-4292-975c-2e369c7c8940",
   "metadata": {},
   "outputs": [
    {
     "name": "stdout",
     "output_type": "stream",
     "text": [
      "1\n"
     ]
    }
   ],
   "source": [
    "## Modular Divide and assign left\n",
    "a = 11\n",
    "b = 2\n",
    "a %= b\n",
    "print(a)"
   ]
  },
  {
   "cell_type": "markdown",
   "id": "2f25be6e-c7f8-4d26-a65c-ac1bf9def09d",
   "metadata": {},
   "source": [
    "##### floor division  and assign left"
   ]
  },
  {
   "cell_type": "code",
   "execution_count": 126,
   "id": "8402a55a-f5f7-4e26-9855-3cb64cd9ca77",
   "metadata": {},
   "outputs": [
    {
     "name": "stdout",
     "output_type": "stream",
     "text": [
      "0\n"
     ]
    }
   ],
   "source": [
    "a=3\n",
    "b=7\n",
    "a//=b\n",
    "print(a)"
   ]
  },
  {
   "cell_type": "markdown",
   "id": "026ce210-224f-42a1-ad4a-c641b10f98b8",
   "metadata": {},
   "source": [
    "##### exponent and assign left"
   ]
  },
  {
   "cell_type": "code",
   "execution_count": 26,
   "id": "f37f8f90-1584-494f-abb4-a2e90b5ea144",
   "metadata": {},
   "outputs": [
    {
     "name": "stdout",
     "output_type": "stream",
     "text": [
      "7921\n"
     ]
    }
   ],
   "source": [
    "a=89\n",
    "b=2\n",
    "a**=b\n",
    "print(a)"
   ]
  },
  {
   "cell_type": "markdown",
   "id": "d7290869-24d9-47e6-94a5-24d3028610f5",
   "metadata": {},
   "source": [
    "#### Comparision Operator"
   ]
  },
  {
   "cell_type": "markdown",
   "id": "88084394-6327-4873-97fb-d79273ee3ea4",
   "metadata": {},
   "source": [
    "##### To comparision equal value"
   ]
  },
  {
   "cell_type": "code",
   "execution_count": 154,
   "id": "9b40e026-068d-4e21-a57b-915db27f9877",
   "metadata": {},
   "outputs": [
    {
     "name": "stdout",
     "output_type": "stream",
     "text": [
      "True\n"
     ]
    }
   ],
   "source": [
    "a=10\n",
    "b=10\n",
    "print(a==b)\n",
    "\n"
   ]
  },
  {
   "cell_type": "markdown",
   "id": "feeb7c74-1da9-47c7-99a7-66bbf8e33a17",
   "metadata": {},
   "source": [
    "##### To comparision un unqual value"
   ]
  },
  {
   "cell_type": "code",
   "execution_count": 36,
   "id": "2f398fe1-6b6c-485d-b7f2-70e35ee495ce",
   "metadata": {},
   "outputs": [
    {
     "name": "stdout",
     "output_type": "stream",
     "text": [
      "False\n"
     ]
    }
   ],
   "source": [
    "a=10\n",
    "b=10\n",
    "print(a!=b)"
   ]
  },
  {
   "cell_type": "markdown",
   "id": "5a01a977-084f-438c-bb78-32aecb4d8885",
   "metadata": {},
   "source": [
    "##### To check if a is GREATER THAN b"
   ]
  },
  {
   "cell_type": "code",
   "execution_count": 4,
   "id": "05c3a43e-d72d-490a-8f06-a57f0cd7efa1",
   "metadata": {},
   "outputs": [
    {
     "name": "stdout",
     "output_type": "stream",
     "text": [
      "True\n"
     ]
    }
   ],
   "source": [
    "a=10\n",
    "b=20\n",
    "c=a<b\n",
    "print(c)\n",
    "\n"
   ]
  },
  {
   "cell_type": "code",
   "execution_count": 3,
   "id": "bb729ba8-b298-4b4c-9cf4-8ea3c882ed67",
   "metadata": {},
   "outputs": [
    {
     "name": "stdout",
     "output_type": "stream",
     "text": [
      "True\n"
     ]
    }
   ],
   "source": [
    "a=10\n",
    "b=34\n",
    "print(a<b)"
   ]
  },
  {
   "cell_type": "markdown",
   "id": "24ffa08a-c307-46b1-b999-3bb494bef8f5",
   "metadata": {},
   "source": [
    "##### To check if a is LESS THAN b"
   ]
  },
  {
   "cell_type": "code",
   "execution_count": 33,
   "id": "3556295f-af89-40d9-9397-2097eb1ae423",
   "metadata": {},
   "outputs": [
    {
     "name": "stdout",
     "output_type": "stream",
     "text": [
      "False\n"
     ]
    }
   ],
   "source": [
    "a=19\n",
    "b=19\n",
    "print(a>b)"
   ]
  },
  {
   "cell_type": "markdown",
   "id": "f4fbc3db-d664-4c12-8d64-afef0a1376bc",
   "metadata": {},
   "source": [
    "##### To check if a is GREATER THAN or EQUAL b"
   ]
  },
  {
   "cell_type": "code",
   "execution_count": 34,
   "id": "9d248e2e-efea-4240-abd0-5032102ab1ee",
   "metadata": {
    "scrolled": true
   },
   "outputs": [
    {
     "name": "stdout",
     "output_type": "stream",
     "text": [
      "True\n"
     ]
    }
   ],
   "source": [
    "a=11\n",
    "b=12\n",
    "print(a>=b)"
   ]
  },
  {
   "cell_type": "markdown",
   "id": "56fcfd2d-877f-48eb-80da-4bb4bbe4e8bb",
   "metadata": {},
   "source": [
    "To check if a is LESS THAN or EQUAL b"
   ]
  },
  {
   "cell_type": "code",
   "execution_count": 42,
   "id": "e29866cf-e45f-45f6-bd81-445dc4dade9a",
   "metadata": {},
   "outputs": [
    {
     "name": "stdout",
     "output_type": "stream",
     "text": [
      "True\n"
     ]
    }
   ],
   "source": [
    "a=20\n",
    "b=20\n",
    "print(a<=b)"
   ]
  },
  {
   "cell_type": "markdown",
   "id": "14b735e8-c4a7-4a8d-87ba-7ae1af78637c",
   "metadata": {},
   "source": [
    "### Logical Operator"
   ]
  },
  {
   "cell_type": "markdown",
   "id": "5462712d-ea85-4943-aa27-988adceacc5a",
   "metadata": {},
   "source": [
    "###### and"
   ]
  },
  {
   "cell_type": "code",
   "execution_count": 3,
   "id": "396b8d43-2bc0-4103-ba6b-a45bf97c2040",
   "metadata": {},
   "outputs": [
    {
     "name": "stdout",
     "output_type": "stream",
     "text": [
      "True\n"
     ]
    }
   ],
   "source": [
    "a=10\n",
    "b=20\n",
    "if a==10 and b==20:     # To check if more than 1 conditions are TRUE\n",
    "    print('True')\n",
    "else:\n",
    "    print(\"false\")"
   ]
  },
  {
   "cell_type": "code",
   "execution_count": 6,
   "id": "76ada1ce-8532-409c-8063-001de05753e5",
   "metadata": {},
   "outputs": [
    {
     "name": "stdout",
     "output_type": "stream",
     "text": [
      "false\n"
     ]
    }
   ],
   "source": [
    "# exercise  \n",
    "a=20\n",
    "b=40\n",
    "if a == 20 and b==49:\n",
    "    print(\"true\")\n",
    "else:\n",
    "    print(\"false\")\n",
    "    "
   ]
  },
  {
   "cell_type": "markdown",
   "id": "939097cb-0f4b-458b-bd0c-b018bb303ca9",
   "metadata": {},
   "source": [
    "##### Or"
   ]
  },
  {
   "cell_type": "code",
   "execution_count": 196,
   "id": "5cdc5494-dfba-43e8-8702-c123cbe0d3ba",
   "metadata": {},
   "outputs": [
    {
     "name": "stdout",
     "output_type": "stream",
     "text": [
      "True\n"
     ]
    }
   ],
   "source": [
    "a=10\n",
    "b=20\n",
    "if a==10 or b==20:       # To check if any one of the conditions is TRUE\n",
    "    print('True')"
   ]
  },
  {
   "cell_type": "markdown",
   "id": "c0782155-bf7f-4b70-ae95-96b130abe6bb",
   "metadata": {},
   "source": [
    "##### not"
   ]
  },
  {
   "cell_type": "code",
   "execution_count": 228,
   "id": "49df4312-c432-4879-99f8-f5d8f93345d9",
   "metadata": {},
   "outputs": [
    {
     "name": "stdout",
     "output_type": "stream",
     "text": [
      "True\n"
     ]
    }
   ],
   "source": [
    "a=3\n",
    "\n",
    "if not a==34:\n",
    "     print('True')       ## To check if a condition is False, then it is TrUE\n",
    "else:\n",
    "     print('false')"
   ]
  },
  {
   "cell_type": "markdown",
   "id": "5a3e55a7-92c9-4a45-a906-a54b689fc1d6",
   "metadata": {},
   "source": [
    "### Membership Operators"
   ]
  },
  {
   "cell_type": "markdown",
   "id": "4b23abc2-9cb8-46e8-8688-4f61ab5e66af",
   "metadata": {},
   "source": [
    "#### in"
   ]
  },
  {
   "cell_type": "code",
   "execution_count": 8,
   "id": "496593d1-adaf-4c70-867c-fb90b644dfa0",
   "metadata": {},
   "outputs": [
    {
     "name": "stdout",
     "output_type": "stream",
     "text": [
      "2\n"
     ]
    }
   ],
   "source": [
    "a=10\n",
    "if  a in [1,3,5,6]:\n",
    "    print('k')\n",
    "else:\n",
    "    print('2')"
   ]
  },
  {
   "cell_type": "markdown",
   "id": "46310736-2b59-492c-9cd5-edc2b428c092",
   "metadata": {},
   "source": [
    "##### not in"
   ]
  },
  {
   "cell_type": "code",
   "execution_count": 25,
   "id": "15c3b43d-5bd3-423f-8710-4b0296b00cc5",
   "metadata": {},
   "outputs": [
    {
     "name": "stdout",
     "output_type": "stream",
     "text": [
      "2\n"
     ]
    }
   ],
   "source": [
    "a=1\n",
    "if a not in [1,2,3,5]:\n",
    "   print('1')\n",
    "else: \n",
    "  print('2')"
   ]
  },
  {
   "cell_type": "markdown",
   "id": "2c5db4f1-7255-44f0-b10e-7506a4b2db5e",
   "metadata": {},
   "source": [
    "### Identify Operators"
   ]
  },
  {
   "cell_type": "code",
   "execution_count": 9,
   "id": "803e6368-e03a-48ae-ae62-63beb09d5ed0",
   "metadata": {},
   "outputs": [
    {
     "name": "stdout",
     "output_type": "stream",
     "text": [
      "2\n",
      "id is not same\n"
     ]
    }
   ],
   "source": [
    "a=[10,2,4,56,]\n",
    "b=[3,9,50,78,]\n",
    "\n",
    "if a is b:\n",
    "    print('1 ')\n",
    "else:\n",
    "    print('2')\n",
    "    print('id is not same')\n"
   ]
  },
  {
   "cell_type": "code",
   "execution_count": 7,
   "id": "ca648a43-aed7-45d0-abe1-6f8c2a50ecbf",
   "metadata": {},
   "outputs": [
    {
     "name": "stdout",
     "output_type": "stream",
     "text": [
      "1\n"
     ]
    }
   ],
   "source": [
    "a=[1,2,3,4,5]\n",
    "b=[1,2,3,4,6]\n",
    "if a is not b:\n",
    "    print('1')\n",
    "else:\n",
    "    print('2')"
   ]
  },
  {
   "cell_type": "markdown",
   "id": "8b1a7bbd-fd9c-42d1-9d65-ddf5ed413e11",
   "metadata": {},
   "source": [
    "### Precedence Operators"
   ]
  },
  {
   "cell_type": "markdown",
   "id": "5b0d3e6e-27b6-4289-9431-ad3138502a79",
   "metadata": {},
   "source": [
    "###### Precedence order for below table is from highest precedence to lowest precedence\n",
    "\n"
   ]
  },
  {
   "cell_type": "code",
   "execution_count": 40,
   "id": "5a23a344-616b-4d1f-a764-1fcb0ed28969",
   "metadata": {},
   "outputs": [
    {
     "name": "stdout",
     "output_type": "stream",
     "text": [
      "helloworld\n"
     ]
    }
   ],
   "source": [
    "\n",
    "print('hello'>='world')\n",
    "\n",
    "\n",
    "\n",
    "\n",
    "\n"
   ]
  }
 ],
 "metadata": {
  "kernelspec": {
   "display_name": "Python 3 (ipykernel)",
   "language": "python",
   "name": "python3"
  },
  "language_info": {
   "codemirror_mode": {
    "name": "ipython",
    "version": 3
   },
   "file_extension": ".py",
   "mimetype": "text/x-python",
   "name": "python",
   "nbconvert_exporter": "python",
   "pygments_lexer": "ipython3",
   "version": "3.12.5"
  }
 },
 "nbformat": 4,
 "nbformat_minor": 5
}
